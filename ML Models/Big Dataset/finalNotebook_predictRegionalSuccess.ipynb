{
 "cells": [
  {
   "cell_type": "markdown",
   "metadata": {},
   "source": [
    "# Build Model on new DataSet"
   ]
  },
  {
   "cell_type": "code",
   "execution_count": 1,
   "metadata": {
    "collapsed": true
   },
   "outputs": [],
   "source": [
    "import numpy as np\n",
    "import pandas as pd \n",
    "import matplotlib.pyplot as plt\n",
    "%matplotlib inline"
   ]
  },
  {
   "cell_type": "code",
   "execution_count": 263,
   "metadata": {
    "collapsed": true
   },
   "outputs": [],
   "source": [
    "import warnings\n",
    "warnings.filterwarnings('ignore')"
   ]
  },
  {
   "cell_type": "markdown",
   "metadata": {},
   "source": [
    "## I. Cleaning and Preprocessing Data"
   ]
  },
  {
   "cell_type": "code",
   "execution_count": 2,
   "metadata": {
    "scrolled": true
   },
   "outputs": [
    {
     "name": "stdout",
     "output_type": "stream",
     "text": [
      "(1592, 93)\n"
     ]
    },
    {
     "data": {
      "text/html": [
       "<div>\n",
       "<style>\n",
       "    .dataframe thead tr:only-child th {\n",
       "        text-align: right;\n",
       "    }\n",
       "\n",
       "    .dataframe thead th {\n",
       "        text-align: left;\n",
       "    }\n",
       "\n",
       "    .dataframe tbody tr th {\n",
       "        vertical-align: top;\n",
       "    }\n",
       "</style>\n",
       "<table border=\"1\" class=\"dataframe\">\n",
       "  <thead>\n",
       "    <tr style=\"text-align: right;\">\n",
       "      <th></th>\n",
       "      <th>Unnamed: 0</th>\n",
       "      <th>Unnamed: 0.1</th>\n",
       "      <th>Position</th>\n",
       "      <th>Track Name</th>\n",
       "      <th>Artist</th>\n",
       "      <th>Streams</th>\n",
       "      <th>URL</th>\n",
       "      <th>Date</th>\n",
       "      <th>Region</th>\n",
       "      <th>acousticness</th>\n",
       "      <th>...</th>\n",
       "      <th>timbre_all_3</th>\n",
       "      <th>timbre_all_4</th>\n",
       "      <th>timbre_all_5</th>\n",
       "      <th>timbre_all_6</th>\n",
       "      <th>timbre_all_7</th>\n",
       "      <th>timbre_all_8</th>\n",
       "      <th>timbre_all_9</th>\n",
       "      <th>timbre_all_10</th>\n",
       "      <th>timbre_all_11</th>\n",
       "      <th>timbre_all_12</th>\n",
       "    </tr>\n",
       "  </thead>\n",
       "  <tbody>\n",
       "    <tr>\n",
       "      <th>0</th>\n",
       "      <td>0</td>\n",
       "      <td>27320</td>\n",
       "      <td>103</td>\n",
       "      <td>Me Gusta - Remix</td>\n",
       "      <td>Alkilados</td>\n",
       "      <td>1531</td>\n",
       "      <td>https://open.spotify.com/track/7pueb0FHOYlKAJP...</td>\n",
       "      <td>2017-03-30</td>\n",
       "      <td>gt</td>\n",
       "      <td>0.0671</td>\n",
       "      <td>...</td>\n",
       "      <td>[9.469, -154.046, -145.614, -107.148, -89.892,...</td>\n",
       "      <td>[-28.48, -63.445, -84.944, -133.198, -69.415, ...</td>\n",
       "      <td>[57.491, 6.579, 15.005, -19.511, -25.059, -18....</td>\n",
       "      <td>[-50.067, -73.619, -60.84, -47.25, -49.875, -4...</td>\n",
       "      <td>[14.833, 15.024, 24.499, -6.516, -8.199, -0.71...</td>\n",
       "      <td>[5.359, 4.801, 18.949, 21.249, -0.277, -0.328,...</td>\n",
       "      <td>[-27.228, -7.805, -8.304, 40.258, 33.085, 33.6...</td>\n",
       "      <td>[0.973, 2.661, -1.462, 14.984, 18.834, 23.424,...</td>\n",
       "      <td>[-10.64, -9.55, -0.761, 12.993, -7.358, -8.305...</td>\n",
       "      <td>[-7.228, -17.296, -22.295, -10.881, -15.234, -...</td>\n",
       "    </tr>\n",
       "    <tr>\n",
       "      <th>1</th>\n",
       "      <td>1</td>\n",
       "      <td>9386</td>\n",
       "      <td>37</td>\n",
       "      <td>Side To Side</td>\n",
       "      <td>Ariana Grande</td>\n",
       "      <td>1184</td>\n",
       "      <td>https://open.spotify.com/track/4pLwZjInHj3SimI...</td>\n",
       "      <td>2017-01-02</td>\n",
       "      <td>lt</td>\n",
       "      <td>0.0408</td>\n",
       "      <td>...</td>\n",
       "      <td>[9.469, 112.323, 9.7, 65.887, 41.122, 85.356, ...</td>\n",
       "      <td>[-28.48, -106.592, 74.184, 57.284, -187.479, -...</td>\n",
       "      <td>[57.491, 32.225, 19.191, 117.453, 49.711, 85.6...</td>\n",
       "      <td>[-50.067, 59.13, 41.981, 134.899, -17.262, -12...</td>\n",
       "      <td>[14.833, -14.27, -23.128, 7.356, -26.231, -40....</td>\n",
       "      <td>[5.359, -5.607, -56.754, -3.356, 47.938, -19.8...</td>\n",
       "      <td>[-27.228, -10.957, -15.955, 30.643, -7.379, -0...</td>\n",
       "      <td>[0.973, 22.207, 15.478, 23.2, -2.171, -21.529,...</td>\n",
       "      <td>[-10.64, 41.326, -93.342, 11.952, 41.559, 5.65...</td>\n",
       "      <td>[-7.228, -12.727, 15.358, -21.875, -2.807, 4.9...</td>\n",
       "    </tr>\n",
       "    <tr>\n",
       "      <th>2</th>\n",
       "      <td>2</td>\n",
       "      <td>66912</td>\n",
       "      <td>64</td>\n",
       "      <td>Bleed It Out</td>\n",
       "      <td>Linkin Park</td>\n",
       "      <td>1256213</td>\n",
       "      <td>https://open.spotify.com/track/3qmvK8QARSPkFTu...</td>\n",
       "      <td>2017-07-21</td>\n",
       "      <td>global</td>\n",
       "      <td>0.0747</td>\n",
       "      <td>...</td>\n",
       "      <td>[9.469, 63.151, 48.759, 31.726, 60.184, 62.982...</td>\n",
       "      <td>[-28.48, -88.716, 0.539, 34.455, -22.788, 9.36...</td>\n",
       "      <td>[57.491, 52.622, 50.193, 20.511, 28.765, 36.98...</td>\n",
       "      <td>[-50.067, 92.913, -0.076, -37.353, -11.487, -3...</td>\n",
       "      <td>[14.833, 9.734, 6.371, 1.575, 24.376, 29.255, ...</td>\n",
       "      <td>[5.359, 9.137, -7.323, 27.296, -0.841, 43.187,...</td>\n",
       "      <td>[-27.228, 10.681, 3.93, 15.943, 13.14, 5.89, -...</td>\n",
       "      <td>[0.973, -27.245, 10.954, 2.236, -1.93, -2.151,...</td>\n",
       "      <td>[-10.64, -9.127, -21.592, 2.371, -23.49, -20.9...</td>\n",
       "      <td>[-7.228, 10.088, 11.139, -6.284, 5.677, 3.988,...</td>\n",
       "    </tr>\n",
       "    <tr>\n",
       "      <th>3</th>\n",
       "      <td>3</td>\n",
       "      <td>25974</td>\n",
       "      <td>1</td>\n",
       "      <td>Despacito - Remix</td>\n",
       "      <td>Luis Fonsi</td>\n",
       "      <td>504922</td>\n",
       "      <td>https://open.spotify.com/track/5CtI0qwDJkDQGwX...</td>\n",
       "      <td>2017-05-26</td>\n",
       "      <td>br</td>\n",
       "      <td>0.2290</td>\n",
       "      <td>...</td>\n",
       "      <td>[97.607, 61.397, 44.145, 107.329, 99.803, 7.17...</td>\n",
       "      <td>[-310.517, 59.632, 90.762, 50.261, 54.535, 145...</td>\n",
       "      <td>[87.878, 47.105, 78.731, 145.399, 129.718, 106...</td>\n",
       "      <td>[227.047, -39.664, -65.7, -21.95, -18.758, -9....</td>\n",
       "      <td>[68.419, 39.715, 26.9, -7.679, -24.475, -41.45...</td>\n",
       "      <td>[10.427, 10.712, 66.095, -13.804, -8.591, 43.1...</td>\n",
       "      <td>[-29.121, -18.868, -0.496, -8.432, 0.868, -4.9...</td>\n",
       "      <td>[55.849, -11.17, -22.492, 15.199, 15.004, -21....</td>\n",
       "      <td>[-15.943, -6.505, -14.11, -18.788, -11.257, -4...</td>\n",
       "      <td>[7.366, 54.847, 39.465, 44.759, 42.342, 22.446...</td>\n",
       "    </tr>\n",
       "    <tr>\n",
       "      <th>4</th>\n",
       "      <td>4</td>\n",
       "      <td>2535</td>\n",
       "      <td>153</td>\n",
       "      <td>Dubai Shit</td>\n",
       "      <td>Huncho Jack</td>\n",
       "      <td>30015</td>\n",
       "      <td>https://open.spotify.com/track/5TRaIECBIfSkeqk...</td>\n",
       "      <td>2017-12-22</td>\n",
       "      <td>fr</td>\n",
       "      <td>0.0569</td>\n",
       "      <td>...</td>\n",
       "      <td>[47.989, -5.792, 33.818, 56.002, 82.42, 83.832...</td>\n",
       "      <td>[-56.878, -16.571, -28.488, -11.643, -16.119, ...</td>\n",
       "      <td>[135.306, 87.387, 88.055, 104.627, 100.962, 10...</td>\n",
       "      <td>[-23.107, -51.62, -37.607, -34.948, -42.218, -...</td>\n",
       "      <td>[50.826, 16.039, 26.418, 5.967, 20.658, 9.299,...</td>\n",
       "      <td>[-10.056, 19.528, 15.119, -1.994, 2.54, 17.328...</td>\n",
       "      <td>[-10.385, 8.696, 12.326, 11.872, 13.119, 16.88...</td>\n",
       "      <td>[33.954, 6.811, 20.58, 11.461, 7.841, 24.766, ...</td>\n",
       "      <td>[8.548, -11.543, 5.437, -6.115, -7.659, -2.381...</td>\n",
       "      <td>[-45.017, -24.615, -27.227, -23.219, -28.364, ...</td>\n",
       "    </tr>\n",
       "  </tbody>\n",
       "</table>\n",
       "<p>5 rows × 93 columns</p>\n",
       "</div>"
      ],
      "text/plain": [
       "   Unnamed: 0  Unnamed: 0.1  Position         Track Name         Artist  \\\n",
       "0           0         27320       103   Me Gusta - Remix      Alkilados   \n",
       "1           1          9386        37       Side To Side  Ariana Grande   \n",
       "2           2         66912        64       Bleed It Out    Linkin Park   \n",
       "3           3         25974         1  Despacito - Remix     Luis Fonsi   \n",
       "4           4          2535       153         Dubai Shit    Huncho Jack   \n",
       "\n",
       "   Streams                                                URL        Date  \\\n",
       "0     1531  https://open.spotify.com/track/7pueb0FHOYlKAJP...  2017-03-30   \n",
       "1     1184  https://open.spotify.com/track/4pLwZjInHj3SimI...  2017-01-02   \n",
       "2  1256213  https://open.spotify.com/track/3qmvK8QARSPkFTu...  2017-07-21   \n",
       "3   504922  https://open.spotify.com/track/5CtI0qwDJkDQGwX...  2017-05-26   \n",
       "4    30015  https://open.spotify.com/track/5TRaIECBIfSkeqk...  2017-12-22   \n",
       "\n",
       "   Region  acousticness                        ...                          \\\n",
       "0      gt        0.0671                        ...                           \n",
       "1      lt        0.0408                        ...                           \n",
       "2  global        0.0747                        ...                           \n",
       "3      br        0.2290                        ...                           \n",
       "4      fr        0.0569                        ...                           \n",
       "\n",
       "                                        timbre_all_3  \\\n",
       "0  [9.469, -154.046, -145.614, -107.148, -89.892,...   \n",
       "1  [9.469, 112.323, 9.7, 65.887, 41.122, 85.356, ...   \n",
       "2  [9.469, 63.151, 48.759, 31.726, 60.184, 62.982...   \n",
       "3  [97.607, 61.397, 44.145, 107.329, 99.803, 7.17...   \n",
       "4  [47.989, -5.792, 33.818, 56.002, 82.42, 83.832...   \n",
       "\n",
       "                                        timbre_all_4  \\\n",
       "0  [-28.48, -63.445, -84.944, -133.198, -69.415, ...   \n",
       "1  [-28.48, -106.592, 74.184, 57.284, -187.479, -...   \n",
       "2  [-28.48, -88.716, 0.539, 34.455, -22.788, 9.36...   \n",
       "3  [-310.517, 59.632, 90.762, 50.261, 54.535, 145...   \n",
       "4  [-56.878, -16.571, -28.488, -11.643, -16.119, ...   \n",
       "\n",
       "                                        timbre_all_5  \\\n",
       "0  [57.491, 6.579, 15.005, -19.511, -25.059, -18....   \n",
       "1  [57.491, 32.225, 19.191, 117.453, 49.711, 85.6...   \n",
       "2  [57.491, 52.622, 50.193, 20.511, 28.765, 36.98...   \n",
       "3  [87.878, 47.105, 78.731, 145.399, 129.718, 106...   \n",
       "4  [135.306, 87.387, 88.055, 104.627, 100.962, 10...   \n",
       "\n",
       "                                        timbre_all_6  \\\n",
       "0  [-50.067, -73.619, -60.84, -47.25, -49.875, -4...   \n",
       "1  [-50.067, 59.13, 41.981, 134.899, -17.262, -12...   \n",
       "2  [-50.067, 92.913, -0.076, -37.353, -11.487, -3...   \n",
       "3  [227.047, -39.664, -65.7, -21.95, -18.758, -9....   \n",
       "4  [-23.107, -51.62, -37.607, -34.948, -42.218, -...   \n",
       "\n",
       "                                        timbre_all_7  \\\n",
       "0  [14.833, 15.024, 24.499, -6.516, -8.199, -0.71...   \n",
       "1  [14.833, -14.27, -23.128, 7.356, -26.231, -40....   \n",
       "2  [14.833, 9.734, 6.371, 1.575, 24.376, 29.255, ...   \n",
       "3  [68.419, 39.715, 26.9, -7.679, -24.475, -41.45...   \n",
       "4  [50.826, 16.039, 26.418, 5.967, 20.658, 9.299,...   \n",
       "\n",
       "                                        timbre_all_8  \\\n",
       "0  [5.359, 4.801, 18.949, 21.249, -0.277, -0.328,...   \n",
       "1  [5.359, -5.607, -56.754, -3.356, 47.938, -19.8...   \n",
       "2  [5.359, 9.137, -7.323, 27.296, -0.841, 43.187,...   \n",
       "3  [10.427, 10.712, 66.095, -13.804, -8.591, 43.1...   \n",
       "4  [-10.056, 19.528, 15.119, -1.994, 2.54, 17.328...   \n",
       "\n",
       "                                        timbre_all_9  \\\n",
       "0  [-27.228, -7.805, -8.304, 40.258, 33.085, 33.6...   \n",
       "1  [-27.228, -10.957, -15.955, 30.643, -7.379, -0...   \n",
       "2  [-27.228, 10.681, 3.93, 15.943, 13.14, 5.89, -...   \n",
       "3  [-29.121, -18.868, -0.496, -8.432, 0.868, -4.9...   \n",
       "4  [-10.385, 8.696, 12.326, 11.872, 13.119, 16.88...   \n",
       "\n",
       "                                       timbre_all_10  \\\n",
       "0  [0.973, 2.661, -1.462, 14.984, 18.834, 23.424,...   \n",
       "1  [0.973, 22.207, 15.478, 23.2, -2.171, -21.529,...   \n",
       "2  [0.973, -27.245, 10.954, 2.236, -1.93, -2.151,...   \n",
       "3  [55.849, -11.17, -22.492, 15.199, 15.004, -21....   \n",
       "4  [33.954, 6.811, 20.58, 11.461, 7.841, 24.766, ...   \n",
       "\n",
       "                                       timbre_all_11  \\\n",
       "0  [-10.64, -9.55, -0.761, 12.993, -7.358, -8.305...   \n",
       "1  [-10.64, 41.326, -93.342, 11.952, 41.559, 5.65...   \n",
       "2  [-10.64, -9.127, -21.592, 2.371, -23.49, -20.9...   \n",
       "3  [-15.943, -6.505, -14.11, -18.788, -11.257, -4...   \n",
       "4  [8.548, -11.543, 5.437, -6.115, -7.659, -2.381...   \n",
       "\n",
       "                                       timbre_all_12  \n",
       "0  [-7.228, -17.296, -22.295, -10.881, -15.234, -...  \n",
       "1  [-7.228, -12.727, 15.358, -21.875, -2.807, 4.9...  \n",
       "2  [-7.228, 10.088, 11.139, -6.284, 5.677, 3.988,...  \n",
       "3  [7.366, 54.847, 39.465, 44.759, 42.342, 22.446...  \n",
       "4  [-45.017, -24.615, -27.227, -23.219, -28.364, ...  \n",
       "\n",
       "[5 rows x 93 columns]"
      ]
     },
     "execution_count": 2,
     "metadata": {},
     "output_type": "execute_result"
    }
   ],
   "source": [
    "df_songs = pd.read_csv('subset_every_feature.csv')\n",
    "print(df_songs.shape)\n",
    "df_songs.head()"
   ]
  },
  {
   "cell_type": "code",
   "execution_count": 3,
   "metadata": {
    "scrolled": true
   },
   "outputs": [
    {
     "data": {
      "text/plain": [
       "Index(['Unnamed: 0', 'Unnamed: 0.1', 'Position', 'Track Name', 'Artist',\n",
       "       'Streams', 'URL', 'Date', 'Region', 'acousticness', 'analysis_url',\n",
       "       'danceability', 'duration_ms', 'energy', 'id', 'instrumentalness',\n",
       "       'key', 'liveness', 'loudness', 'mode', 'speechiness', 'tempo',\n",
       "       'time_signature', 'track_href', 'type', 'uri', 'valence', 'ee', 'br',\n",
       "       'my', 'cz', 'pe', 'gb', 'ie', 'se', 'sk', 'co', 'sg', 'ec', 'es', 'no',\n",
       "       'dk', 'be', 'lu', 'do', 'nz', 'de', 'hu', 'cr', 'jp', 'hk', 'lt', 'pl',\n",
       "       'it', 'hn', 'mx', 'ph', 'cl', 'is', 'ca', 'ar', 'at', 'ch', 'tr', 'py',\n",
       "       'tw', 'gt', 'sv', 'us', 'fr', 'global', 'nl', 'bo', 'lv', 'gr', 'pa',\n",
       "       'uy', 'au', 'pt', 'fi', 'genre', 'timbre_all_1', 'timbre_all_2',\n",
       "       'timbre_all_3', 'timbre_all_4', 'timbre_all_5', 'timbre_all_6',\n",
       "       'timbre_all_7', 'timbre_all_8', 'timbre_all_9', 'timbre_all_10',\n",
       "       'timbre_all_11', 'timbre_all_12'],\n",
       "      dtype='object')"
      ]
     },
     "execution_count": 3,
     "metadata": {},
     "output_type": "execute_result"
    }
   ],
   "source": [
    "df_songs.columns"
   ]
  },
  {
   "cell_type": "code",
   "execution_count": 7,
   "metadata": {},
   "outputs": [
    {
     "name": "stdout",
     "output_type": "stream",
     "text": [
      "We have outputs in 53 countries!\n"
     ]
    }
   ],
   "source": [
    "local_output = ['ee', 'br',\n",
    "       'my', 'cz', 'pe', 'gb', 'ie', 'se', 'sk', 'co', 'sg', 'ec', 'es', 'no',\n",
    "       'dk', 'be', 'lu', 'do', 'nz', 'de', 'hu', 'cr', 'jp', 'hk', 'lt', 'pl',\n",
    "       'it', 'hn', 'mx', 'ph', 'cl', 'is', 'ca', 'ar', 'at', 'ch', 'tr', 'py',\n",
    "       'tw', 'gt', 'sv', 'us', 'fr', 'global', 'nl', 'bo', 'lv', 'gr', 'pa',\n",
    "       'uy', 'au', 'pt', 'fi']\n",
    "df_output = df_songs[local_output]\n",
    "print('We have outputs in {} countries!'.format(len(local_output)))"
   ]
  },
  {
   "cell_type": "code",
   "execution_count": 154,
   "metadata": {
    "collapsed": true
   },
   "outputs": [],
   "source": [
    "spotify_features = ['acousticness', 'danceability', 'duration_ms', 'energy', 'instrumentalness',\n",
    "       'key', 'liveness', 'loudness', 'mode', 'speechiness', 'tempo','valence']"
   ]
  },
  {
   "cell_type": "markdown",
   "metadata": {},
   "source": [
    "TODO: Check correlance between spotify features and popularity"
   ]
  },
  {
   "cell_type": "code",
   "execution_count": 9,
   "metadata": {},
   "outputs": [],
   "source": [
    "# Create list of URI's for Ricky to scrape features\n",
    "df_uri = df_songs['uri']\n",
    "df_uri.head()\n",
    "df_uri.to_csv('uri.csv')"
   ]
  },
  {
   "cell_type": "code",
   "execution_count": 10,
   "metadata": {},
   "outputs": [
    {
     "data": {
      "text/plain": [
       "<matplotlib.figure.Figure at 0x20bd2bdf6a0>"
      ]
     },
     "metadata": {},
     "output_type": "display_data"
    },
    {
     "data": {
      "image/png": "[encoded data removed]",
      "text/plain": [
       "<matplotlib.figure.Figure at 0x20bd2bdf048>"
      ]
     },
     "metadata": {},
     "output_type": "display_data"
    }
   ],
   "source": [
    "plt.figure()\n",
    "df_output.hist()\n",
    "plt.show()"
   ]
  },
  {
   "cell_type": "code",
   "execution_count": 11,
   "metadata": {},
   "outputs": [
    {
     "name": "stdout",
     "output_type": "stream",
     "text": [
      "Country: ee\n",
      "False    1218\n",
      "True      374\n",
      "Name: ee, dtype: int64\n",
      "Country: br\n",
      "False    1191\n",
      "True      401\n",
      "Name: br, dtype: int64\n",
      "Country: my\n",
      "False    987\n",
      "True     605\n",
      "Name: my, dtype: int64\n",
      "Country: cz\n",
      "False    838\n",
      "True     754\n",
      "Name: cz, dtype: int64\n",
      "Country: pe\n",
      "False    1226\n",
      "True      366\n",
      "Name: pe, dtype: int64\n",
      "Country: gb\n",
      "False    865\n",
      "True     727\n",
      "Name: gb, dtype: int64\n",
      "Country: ie\n",
      "False    849\n",
      "True     743\n",
      "Name: ie, dtype: int64\n",
      "Country: se\n",
      "False    933\n",
      "True     659\n",
      "Name: se, dtype: int64\n",
      "Country: sk\n",
      "False    1144\n",
      "True      448\n",
      "Name: sk, dtype: int64\n",
      "Country: co\n",
      "False    1138\n",
      "True      454\n",
      "Name: co, dtype: int64\n",
      "Country: sg\n",
      "False    989\n",
      "True     603\n",
      "Name: sg, dtype: int64\n",
      "Country: ec\n",
      "False    1159\n",
      "True      433\n",
      "Name: ec, dtype: int64\n",
      "Country: es\n",
      "False    1065\n",
      "True      527\n",
      "Name: es, dtype: int64\n",
      "Country: no\n",
      "False    956\n",
      "True     636\n",
      "Name: no, dtype: int64\n",
      "Country: dk\n",
      "False    991\n",
      "True     601\n",
      "Name: dk, dtype: int64\n",
      "Country: be\n",
      "False    859\n",
      "True     733\n",
      "Name: be, dtype: int64\n",
      "Country: lu\n",
      "False    1440\n",
      "True      152\n",
      "Name: lu, dtype: int64\n",
      "Country: do\n",
      "False    1197\n",
      "True      395\n",
      "Name: do, dtype: int64\n",
      "Country: nz\n",
      "False    1001\n",
      "True      591\n",
      "Name: nz, dtype: int64\n",
      "Country: de\n",
      "False    976\n",
      "True     616\n",
      "Name: de, dtype: int64\n",
      "Country: hu\n",
      "False    843\n",
      "True     749\n",
      "Name: hu, dtype: int64\n",
      "Country: cr\n",
      "False    1156\n",
      "True      436\n",
      "Name: cr, dtype: int64\n",
      "Country: jp\n",
      "False    1078\n",
      "True      514\n",
      "Name: jp, dtype: int64\n",
      "Country: hk\n",
      "False    1021\n",
      "True      571\n",
      "Name: hk, dtype: int64\n",
      "Country: lt\n",
      "False    1156\n",
      "True      436\n",
      "Name: lt, dtype: int64\n",
      "Country: pl\n",
      "False    869\n",
      "True     723\n",
      "Name: pl, dtype: int64\n",
      "Country: it\n",
      "False    1030\n",
      "True      562\n",
      "Name: it, dtype: int64\n",
      "Country: hn\n",
      "False    1304\n",
      "True      288\n",
      "Name: hn, dtype: int64\n",
      "Country: mx\n",
      "False    1131\n",
      "True      461\n",
      "Name: mx, dtype: int64\n",
      "Country: ph\n",
      "False    1122\n",
      "True      470\n",
      "Name: ph, dtype: int64\n",
      "Country: cl\n",
      "False    1194\n",
      "True      398\n",
      "Name: cl, dtype: int64\n",
      "Country: is\n",
      "False    1201\n",
      "True      391\n",
      "Name: is, dtype: int64\n",
      "Country: ca\n",
      "False    920\n",
      "True     672\n",
      "Name: ca, dtype: int64\n",
      "Country: ar\n",
      "False    1210\n",
      "True      382\n",
      "Name: ar, dtype: int64\n",
      "Country: at\n",
      "False    875\n",
      "True     717\n",
      "Name: at, dtype: int64\n",
      "Country: ch\n",
      "False    844\n",
      "True     748\n",
      "Name: ch, dtype: int64\n",
      "Country: tr\n",
      "False    1157\n",
      "True      435\n",
      "Name: tr, dtype: int64\n",
      "Country: py\n",
      "False    1260\n",
      "True      332\n",
      "Name: py, dtype: int64\n",
      "Country: tw\n",
      "False    898\n",
      "True     694\n",
      "Name: tw, dtype: int64\n",
      "Country: gt\n",
      "False    1140\n",
      "True      452\n",
      "Name: gt, dtype: int64\n",
      "Country: sv\n",
      "False    1304\n",
      "True      288\n",
      "Name: sv, dtype: int64\n",
      "Country: us\n",
      "False    937\n",
      "True     655\n",
      "Name: us, dtype: int64\n",
      "Country: fr\n",
      "False    1096\n",
      "True      496\n",
      "Name: fr, dtype: int64\n",
      "Country: global\n",
      "False    858\n",
      "True     734\n",
      "Name: global, dtype: int64\n",
      "Country: nl\n",
      "False    1014\n",
      "True      578\n",
      "Name: nl, dtype: int64\n",
      "Country: bo\n",
      "False    1291\n",
      "True      301\n",
      "Name: bo, dtype: int64\n",
      "Country: lv\n",
      "False    1146\n",
      "True      446\n",
      "Name: lv, dtype: int64\n",
      "Country: gr\n",
      "False    1082\n",
      "True      510\n",
      "Name: gr, dtype: int64\n",
      "Country: pa\n",
      "False    1204\n",
      "True      388\n",
      "Name: pa, dtype: int64\n",
      "Country: uy\n",
      "False    1208\n",
      "True      384\n",
      "Name: uy, dtype: int64\n",
      "Country: au\n",
      "False    952\n",
      "True     640\n",
      "Name: au, dtype: int64\n",
      "Country: pt\n",
      "False    888\n",
      "True     704\n",
      "Name: pt, dtype: int64\n",
      "Country: fi\n",
      "False    1025\n",
      "True      567\n",
      "Name: fi, dtype: int64\n"
     ]
    }
   ],
   "source": [
    "for i in range(df_output.shape[1]):\n",
    "    print('Country: ' + local_output[i]);\n",
    "    print(df_output.iloc[:,i].value_counts())"
   ]
  },
  {
   "cell_type": "markdown",
   "metadata": {},
   "source": [
    "### Clean Timbre "
   ]
  },
  {
   "cell_type": "code",
   "execution_count": 26,
   "metadata": {},
   "outputs": [
    {
     "data": {
      "text/html": [
       "<div>\n",
       "<style>\n",
       "    .dataframe thead tr:only-child th {\n",
       "        text-align: right;\n",
       "    }\n",
       "\n",
       "    .dataframe thead th {\n",
       "        text-align: left;\n",
       "    }\n",
       "\n",
       "    .dataframe tbody tr th {\n",
       "        vertical-align: top;\n",
       "    }\n",
       "</style>\n",
       "<table border=\"1\" class=\"dataframe\">\n",
       "  <thead>\n",
       "    <tr style=\"text-align: right;\">\n",
       "      <th></th>\n",
       "      <th>timbre_all_1</th>\n",
       "      <th>timbre_all_2</th>\n",
       "      <th>timbre_all_3</th>\n",
       "      <th>timbre_all_4</th>\n",
       "      <th>timbre_all_5</th>\n",
       "      <th>timbre_all_6</th>\n",
       "      <th>timbre_all_7</th>\n",
       "      <th>timbre_all_8</th>\n",
       "      <th>timbre_all_9</th>\n",
       "      <th>timbre_all_10</th>\n",
       "      <th>timbre_all_11</th>\n",
       "      <th>timbre_all_12</th>\n",
       "    </tr>\n",
       "  </thead>\n",
       "  <tbody>\n",
       "    <tr>\n",
       "      <th>0</th>\n",
       "      <td>[0.0, 24.1, 23.897, 27.356, 32.848, 33.768, 36...</td>\n",
       "      <td>[171.13, -232.911, -237.644, -157.177, -88.399...</td>\n",
       "      <td>[9.469, -154.046, -145.614, -107.148, -89.892,...</td>\n",
       "      <td>[-28.48, -63.445, -84.944, -133.198, -69.415, ...</td>\n",
       "      <td>[57.491, 6.579, 15.005, -19.511, -25.059, -18....</td>\n",
       "      <td>[-50.067, -73.619, -60.84, -47.25, -49.875, -4...</td>\n",
       "      <td>[14.833, 15.024, 24.499, -6.516, -8.199, -0.71...</td>\n",
       "      <td>[5.359, 4.801, 18.949, 21.249, -0.277, -0.328,...</td>\n",
       "      <td>[-27.228, -7.805, -8.304, 40.258, 33.085, 33.6...</td>\n",
       "      <td>[0.973, 2.661, -1.462, 14.984, 18.834, 23.424,...</td>\n",
       "      <td>[-10.64, -9.55, -0.761, 12.993, -7.358, -8.305...</td>\n",
       "      <td>[-7.228, -17.296, -22.295, -10.881, -15.234, -...</td>\n",
       "    </tr>\n",
       "    <tr>\n",
       "      <th>1</th>\n",
       "      <td>[0.0, 20.612, 29.468, 37.065, 42.457, 50.682, ...</td>\n",
       "      <td>[171.13, 281.408, 154.885, 7.066, -17.206, 134...</td>\n",
       "      <td>[9.469, 112.323, 9.7, 65.887, 41.122, 85.356, ...</td>\n",
       "      <td>[-28.48, -106.592, 74.184, 57.284, -187.479, -...</td>\n",
       "      <td>[57.491, 32.225, 19.191, 117.453, 49.711, 85.6...</td>\n",
       "      <td>[-50.067, 59.13, 41.981, 134.899, -17.262, -12...</td>\n",
       "      <td>[14.833, -14.27, -23.128, 7.356, -26.231, -40....</td>\n",
       "      <td>[5.359, -5.607, -56.754, -3.356, 47.938, -19.8...</td>\n",
       "      <td>[-27.228, -10.957, -15.955, 30.643, -7.379, -0...</td>\n",
       "      <td>[0.973, 22.207, 15.478, 23.2, -2.171, -21.529,...</td>\n",
       "      <td>[-10.64, 41.326, -93.342, 11.952, 41.559, 5.65...</td>\n",
       "      <td>[-7.228, -12.727, 15.358, -21.875, -2.807, 4.9...</td>\n",
       "    </tr>\n",
       "    <tr>\n",
       "      <th>2</th>\n",
       "      <td>[0.0, 31.777, 39.716, 39.18, 35.536, 35.466, 3...</td>\n",
       "      <td>[171.13, 39.599, 2.798, -27.888, -6.495, 24.74...</td>\n",
       "      <td>[9.469, 63.151, 48.759, 31.726, 60.184, 62.982...</td>\n",
       "      <td>[-28.48, -88.716, 0.539, 34.455, -22.788, 9.36...</td>\n",
       "      <td>[57.491, 52.622, 50.193, 20.511, 28.765, 36.98...</td>\n",
       "      <td>[-50.067, 92.913, -0.076, -37.353, -11.487, -3...</td>\n",
       "      <td>[14.833, 9.734, 6.371, 1.575, 24.376, 29.255, ...</td>\n",
       "      <td>[5.359, 9.137, -7.323, 27.296, -0.841, 43.187,...</td>\n",
       "      <td>[-27.228, 10.681, 3.93, 15.943, 13.14, 5.89, -...</td>\n",
       "      <td>[0.973, -27.245, 10.954, 2.236, -1.93, -2.151,...</td>\n",
       "      <td>[-10.64, -9.127, -21.592, 2.371, -23.49, -20.9...</td>\n",
       "      <td>[-7.228, 10.088, 11.139, -6.284, 5.677, 3.988,...</td>\n",
       "    </tr>\n",
       "    <tr>\n",
       "      <th>3</th>\n",
       "      <td>[29.786, 44.835, 43.066, 30.901, 26.588, 17.29...</td>\n",
       "      <td>[123.603, 145.221, 165.632, 155.171, 55.16, 54...</td>\n",
       "      <td>[97.607, 61.397, 44.145, 107.329, 99.803, 7.17...</td>\n",
       "      <td>[-310.517, 59.632, 90.762, 50.261, 54.535, 145...</td>\n",
       "      <td>[87.878, 47.105, 78.731, 145.399, 129.718, 106...</td>\n",
       "      <td>[227.047, -39.664, -65.7, -21.95, -18.758, -9....</td>\n",
       "      <td>[68.419, 39.715, 26.9, -7.679, -24.475, -41.45...</td>\n",
       "      <td>[10.427, 10.712, 66.095, -13.804, -8.591, 43.1...</td>\n",
       "      <td>[-29.121, -18.868, -0.496, -8.432, 0.868, -4.9...</td>\n",
       "      <td>[55.849, -11.17, -22.492, 15.199, 15.004, -21....</td>\n",
       "      <td>[-15.943, -6.505, -14.11, -18.788, -11.257, -4...</td>\n",
       "      <td>[7.366, 54.847, 39.465, 44.759, 42.342, 22.446...</td>\n",
       "    </tr>\n",
       "    <tr>\n",
       "      <th>4</th>\n",
       "      <td>[16.954, 21.548, 23.284, 25.593, 27.256, 28.65...</td>\n",
       "      <td>[-106.498, -157.065, -152.822, -170.706, -169....</td>\n",
       "      <td>[47.989, -5.792, 33.818, 56.002, 82.42, 83.832...</td>\n",
       "      <td>[-56.878, -16.571, -28.488, -11.643, -16.119, ...</td>\n",
       "      <td>[135.306, 87.387, 88.055, 104.627, 100.962, 10...</td>\n",
       "      <td>[-23.107, -51.62, -37.607, -34.948, -42.218, -...</td>\n",
       "      <td>[50.826, 16.039, 26.418, 5.967, 20.658, 9.299,...</td>\n",
       "      <td>[-10.056, 19.528, 15.119, -1.994, 2.54, 17.328...</td>\n",
       "      <td>[-10.385, 8.696, 12.326, 11.872, 13.119, 16.88...</td>\n",
       "      <td>[33.954, 6.811, 20.58, 11.461, 7.841, 24.766, ...</td>\n",
       "      <td>[8.548, -11.543, 5.437, -6.115, -7.659, -2.381...</td>\n",
       "      <td>[-45.017, -24.615, -27.227, -23.219, -28.364, ...</td>\n",
       "    </tr>\n",
       "  </tbody>\n",
       "</table>\n",
       "</div>"
      ],
      "text/plain": [
       "                                        timbre_all_1  \\\n",
       "0  [0.0, 24.1, 23.897, 27.356, 32.848, 33.768, 36...   \n",
       "1  [0.0, 20.612, 29.468, 37.065, 42.457, 50.682, ...   \n",
       "2  [0.0, 31.777, 39.716, 39.18, 35.536, 35.466, 3...   \n",
       "3  [29.786, 44.835, 43.066, 30.901, 26.588, 17.29...   \n",
       "4  [16.954, 21.548, 23.284, 25.593, 27.256, 28.65...   \n",
       "\n",
       "                                        timbre_all_2  \\\n",
       "0  [171.13, -232.911, -237.644, -157.177, -88.399...   \n",
       "1  [171.13, 281.408, 154.885, 7.066, -17.206, 134...   \n",
       "2  [171.13, 39.599, 2.798, -27.888, -6.495, 24.74...   \n",
       "3  [123.603, 145.221, 165.632, 155.171, 55.16, 54...   \n",
       "4  [-106.498, -157.065, -152.822, -170.706, -169....   \n",
       "\n",
       "                                        timbre_all_3  \\\n",
       "0  [9.469, -154.046, -145.614, -107.148, -89.892,...   \n",
       "1  [9.469, 112.323, 9.7, 65.887, 41.122, 85.356, ...   \n",
       "2  [9.469, 63.151, 48.759, 31.726, 60.184, 62.982...   \n",
       "3  [97.607, 61.397, 44.145, 107.329, 99.803, 7.17...   \n",
       "4  [47.989, -5.792, 33.818, 56.002, 82.42, 83.832...   \n",
       "\n",
       "                                        timbre_all_4  \\\n",
       "0  [-28.48, -63.445, -84.944, -133.198, -69.415, ...   \n",
       "1  [-28.48, -106.592, 74.184, 57.284, -187.479, -...   \n",
       "2  [-28.48, -88.716, 0.539, 34.455, -22.788, 9.36...   \n",
       "3  [-310.517, 59.632, 90.762, 50.261, 54.535, 145...   \n",
       "4  [-56.878, -16.571, -28.488, -11.643, -16.119, ...   \n",
       "\n",
       "                                        timbre_all_5  \\\n",
       "0  [57.491, 6.579, 15.005, -19.511, -25.059, -18....   \n",
       "1  [57.491, 32.225, 19.191, 117.453, 49.711, 85.6...   \n",
       "2  [57.491, 52.622, 50.193, 20.511, 28.765, 36.98...   \n",
       "3  [87.878, 47.105, 78.731, 145.399, 129.718, 106...   \n",
       "4  [135.306, 87.387, 88.055, 104.627, 100.962, 10...   \n",
       "\n",
       "                                        timbre_all_6  \\\n",
       "0  [-50.067, -73.619, -60.84, -47.25, -49.875, -4...   \n",
       "1  [-50.067, 59.13, 41.981, 134.899, -17.262, -12...   \n",
       "2  [-50.067, 92.913, -0.076, -37.353, -11.487, -3...   \n",
       "3  [227.047, -39.664, -65.7, -21.95, -18.758, -9....   \n",
       "4  [-23.107, -51.62, -37.607, -34.948, -42.218, -...   \n",
       "\n",
       "                                        timbre_all_7  \\\n",
       "0  [14.833, 15.024, 24.499, -6.516, -8.199, -0.71...   \n",
       "1  [14.833, -14.27, -23.128, 7.356, -26.231, -40....   \n",
       "2  [14.833, 9.734, 6.371, 1.575, 24.376, 29.255, ...   \n",
       "3  [68.419, 39.715, 26.9, -7.679, -24.475, -41.45...   \n",
       "4  [50.826, 16.039, 26.418, 5.967, 20.658, 9.299,...   \n",
       "\n",
       "                                        timbre_all_8  \\\n",
       "0  [5.359, 4.801, 18.949, 21.249, -0.277, -0.328,...   \n",
       "1  [5.359, -5.607, -56.754, -3.356, 47.938, -19.8...   \n",
       "2  [5.359, 9.137, -7.323, 27.296, -0.841, 43.187,...   \n",
       "3  [10.427, 10.712, 66.095, -13.804, -8.591, 43.1...   \n",
       "4  [-10.056, 19.528, 15.119, -1.994, 2.54, 17.328...   \n",
       "\n",
       "                                        timbre_all_9  \\\n",
       "0  [-27.228, -7.805, -8.304, 40.258, 33.085, 33.6...   \n",
       "1  [-27.228, -10.957, -15.955, 30.643, -7.379, -0...   \n",
       "2  [-27.228, 10.681, 3.93, 15.943, 13.14, 5.89, -...   \n",
       "3  [-29.121, -18.868, -0.496, -8.432, 0.868, -4.9...   \n",
       "4  [-10.385, 8.696, 12.326, 11.872, 13.119, 16.88...   \n",
       "\n",
       "                                       timbre_all_10  \\\n",
       "0  [0.973, 2.661, -1.462, 14.984, 18.834, 23.424,...   \n",
       "1  [0.973, 22.207, 15.478, 23.2, -2.171, -21.529,...   \n",
       "2  [0.973, -27.245, 10.954, 2.236, -1.93, -2.151,...   \n",
       "3  [55.849, -11.17, -22.492, 15.199, 15.004, -21....   \n",
       "4  [33.954, 6.811, 20.58, 11.461, 7.841, 24.766, ...   \n",
       "\n",
       "                                       timbre_all_11  \\\n",
       "0  [-10.64, -9.55, -0.761, 12.993, -7.358, -8.305...   \n",
       "1  [-10.64, 41.326, -93.342, 11.952, 41.559, 5.65...   \n",
       "2  [-10.64, -9.127, -21.592, 2.371, -23.49, -20.9...   \n",
       "3  [-15.943, -6.505, -14.11, -18.788, -11.257, -4...   \n",
       "4  [8.548, -11.543, 5.437, -6.115, -7.659, -2.381...   \n",
       "\n",
       "                                       timbre_all_12  \n",
       "0  [-7.228, -17.296, -22.295, -10.881, -15.234, -...  \n",
       "1  [-7.228, -12.727, 15.358, -21.875, -2.807, 4.9...  \n",
       "2  [-7.228, 10.088, 11.139, -6.284, 5.677, 3.988,...  \n",
       "3  [7.366, 54.847, 39.465, 44.759, 42.342, 22.446...  \n",
       "4  [-45.017, -24.615, -27.227, -23.219, -28.364, ...  "
      ]
     },
     "execution_count": 26,
     "metadata": {},
     "output_type": "execute_result"
    }
   ],
   "source": [
    "timbre_features = ['timbre_all_1', 'timbre_all_2',\n",
    "       'timbre_all_3', 'timbre_all_4', 'timbre_all_5', 'timbre_all_6',\n",
    "       'timbre_all_7', 'timbre_all_8', 'timbre_all_9', 'timbre_all_10',\n",
    "       'timbre_all_11', 'timbre_all_12']\n",
    "df_timbre = df_songs[timbre_features]\n",
    "df_timbre.head()"
   ]
  },
  {
   "cell_type": "code",
   "execution_count": 27,
   "metadata": {},
   "outputs": [
    {
     "data": {
      "text/plain": [
       "str"
      ]
     },
     "execution_count": 27,
     "metadata": {},
     "output_type": "execute_result"
    }
   ],
   "source": [
    "# Check type of array:\n",
    "type(df_timbre.iloc[0,0])"
   ]
  },
  {
   "cell_type": "code",
   "execution_count": 28,
   "metadata": {
    "collapsed": true
   },
   "outputs": [],
   "source": [
    "# Function for converting TimbreString into List\n",
    "def timbreStringToList(timbreString):\n",
    "    timbreString = timbreString[:-1]\n",
    "    timbreString = timbreString[1:]\n",
    "    timbreList = [float(s) for s in timbreString.split(',')]\n",
    "    return timbreList"
   ]
  },
  {
   "cell_type": "code",
   "execution_count": 29,
   "metadata": {},
   "outputs": [
    {
     "name": "stderr",
     "output_type": "stream",
     "text": [
      "C:\\Users\\mx190\\Anaconda3\\envs\\data-x\\lib\\site-packages\\pandas\\core\\indexing.py:601: SettingWithCopyWarning: \n",
      "A value is trying to be set on a copy of a slice from a DataFrame.\n",
      "Try using .loc[row_indexer,col_indexer] = value instead\n",
      "\n",
      "See the caveats in the documentation: http://pandas.pydata.org/pandas-docs/stable/indexing.html#indexing-view-versus-copy\n",
      "  self.obj[item_labels[indexer[info_axis]]] = value\n"
     ]
    }
   ],
   "source": [
    "# Convert strings to lists\n",
    "for i in range(df_timbre.shape[1]):\n",
    "    timbre_df = df_timbre.iloc[:,i]\n",
    "    for j in range(timbre_df.shape[0]):\n",
    "        timbre_df[j] = timbreStringToList(timbre_df[j])\n",
    "    df_timbre.iloc[:,i] = timbre_df"
   ]
  },
  {
   "cell_type": "code",
   "execution_count": 30,
   "metadata": {},
   "outputs": [
    {
     "data": {
      "text/plain": [
       "list"
      ]
     },
     "execution_count": 30,
     "metadata": {},
     "output_type": "execute_result"
    }
   ],
   "source": [
    "# Test if it's a list\n",
    "type(df_timbre.iloc[2,1])"
   ]
  },
  {
   "cell_type": "code",
   "execution_count": 31,
   "metadata": {},
   "outputs": [
    {
     "data": {
      "text/plain": [
       "(1592, 12)"
      ]
     },
     "execution_count": 31,
     "metadata": {},
     "output_type": "execute_result"
    }
   ],
   "source": [
    "df_timbre.shape"
   ]
  },
  {
   "cell_type": "code",
   "execution_count": 32,
   "metadata": {
    "collapsed": true
   },
   "outputs": [],
   "source": [
    "from scipy.stats import kurtosis\n",
    "from scipy.stats import skew\n",
    "def f_mean(row):\n",
    "    return(np.mean(row))\n",
    "def f_median(row):\n",
    "    return(np.median(row))\n",
    "def f_std(row):\n",
    "     return(np.std(row))\n",
    "def f_min(row):\n",
    "     return(np.min(row))\n",
    "def f_max(row):\n",
    "     return(np.max(row))\n",
    "def f_80Percentile(row):\n",
    "    return(np.percentile(row, 80))\n",
    "def f_kurtosis(row):\n",
    "    return(kurtosis(row))\n",
    "def f_skew(row):\n",
    "    return(skew(row))"
   ]
  },
  {
   "cell_type": "code",
   "execution_count": 33,
   "metadata": {
    "scrolled": true
   },
   "outputs": [
    {
     "name": "stderr",
     "output_type": "stream",
     "text": [
      "C:\\Users\\mx190\\Anaconda3\\envs\\data-x\\lib\\site-packages\\ipykernel_launcher.py:4: SettingWithCopyWarning: \n",
      "A value is trying to be set on a copy of a slice from a DataFrame.\n",
      "Try using .loc[row_indexer,col_indexer] = value instead\n",
      "\n",
      "See the caveats in the documentation: http://pandas.pydata.org/pandas-docs/stable/indexing.html#indexing-view-versus-copy\n",
      "  after removing the cwd from sys.path.\n",
      "C:\\Users\\mx190\\Anaconda3\\envs\\data-x\\lib\\site-packages\\ipykernel_launcher.py:5: SettingWithCopyWarning: \n",
      "A value is trying to be set on a copy of a slice from a DataFrame.\n",
      "Try using .loc[row_indexer,col_indexer] = value instead\n",
      "\n",
      "See the caveats in the documentation: http://pandas.pydata.org/pandas-docs/stable/indexing.html#indexing-view-versus-copy\n",
      "  \"\"\"\n",
      "C:\\Users\\mx190\\Anaconda3\\envs\\data-x\\lib\\site-packages\\ipykernel_launcher.py:6: SettingWithCopyWarning: \n",
      "A value is trying to be set on a copy of a slice from a DataFrame.\n",
      "Try using .loc[row_indexer,col_indexer] = value instead\n",
      "\n",
      "See the caveats in the documentation: http://pandas.pydata.org/pandas-docs/stable/indexing.html#indexing-view-versus-copy\n",
      "  \n",
      "C:\\Users\\mx190\\Anaconda3\\envs\\data-x\\lib\\site-packages\\ipykernel_launcher.py:7: SettingWithCopyWarning: \n",
      "A value is trying to be set on a copy of a slice from a DataFrame.\n",
      "Try using .loc[row_indexer,col_indexer] = value instead\n",
      "\n",
      "See the caveats in the documentation: http://pandas.pydata.org/pandas-docs/stable/indexing.html#indexing-view-versus-copy\n",
      "  import sys\n",
      "C:\\Users\\mx190\\Anaconda3\\envs\\data-x\\lib\\site-packages\\ipykernel_launcher.py:8: SettingWithCopyWarning: \n",
      "A value is trying to be set on a copy of a slice from a DataFrame.\n",
      "Try using .loc[row_indexer,col_indexer] = value instead\n",
      "\n",
      "See the caveats in the documentation: http://pandas.pydata.org/pandas-docs/stable/indexing.html#indexing-view-versus-copy\n",
      "  \n",
      "C:\\Users\\mx190\\Anaconda3\\envs\\data-x\\lib\\site-packages\\ipykernel_launcher.py:9: SettingWithCopyWarning: \n",
      "A value is trying to be set on a copy of a slice from a DataFrame.\n",
      "Try using .loc[row_indexer,col_indexer] = value instead\n",
      "\n",
      "See the caveats in the documentation: http://pandas.pydata.org/pandas-docs/stable/indexing.html#indexing-view-versus-copy\n",
      "  if __name__ == '__main__':\n",
      "C:\\Users\\mx190\\Anaconda3\\envs\\data-x\\lib\\site-packages\\ipykernel_launcher.py:10: SettingWithCopyWarning: \n",
      "A value is trying to be set on a copy of a slice from a DataFrame.\n",
      "Try using .loc[row_indexer,col_indexer] = value instead\n",
      "\n",
      "See the caveats in the documentation: http://pandas.pydata.org/pandas-docs/stable/indexing.html#indexing-view-versus-copy\n",
      "  # Remove the CWD from sys.path while we load stuff.\n",
      "C:\\Users\\mx190\\Anaconda3\\envs\\data-x\\lib\\site-packages\\ipykernel_launcher.py:11: SettingWithCopyWarning: \n",
      "A value is trying to be set on a copy of a slice from a DataFrame.\n",
      "Try using .loc[row_indexer,col_indexer] = value instead\n",
      "\n",
      "See the caveats in the documentation: http://pandas.pydata.org/pandas-docs/stable/indexing.html#indexing-view-versus-copy\n",
      "  # This is added back by InteractiveShellApp.init_path()\n",
      "C:\\Users\\mx190\\Anaconda3\\envs\\data-x\\lib\\site-packages\\ipykernel_launcher.py:12: SettingWithCopyWarning: \n",
      "A value is trying to be set on a copy of a slice from a DataFrame.\n",
      "Try using .loc[row_indexer,col_indexer] = value instead\n",
      "\n",
      "See the caveats in the documentation: http://pandas.pydata.org/pandas-docs/stable/indexing.html#indexing-view-versus-copy\n",
      "  if sys.path[0] == '':\n"
     ]
    },
    {
     "name": "stdout",
     "output_type": "stream",
     "text": [
      "Finished Column 0\n",
      "Finished Column 1\n",
      "Finished Column 2\n",
      "Finished Column 3\n",
      "Finished Column 4\n",
      "Finished Column 5\n",
      "Finished Column 6\n",
      "Finished Column 7\n",
      "Finished Column 8\n",
      "Finished Column 9\n",
      "Finished Column 10\n",
      "Finished Column 11\n"
     ]
    }
   ],
   "source": [
    "# Create timbre features\n",
    "for i in range(df_timbre.shape[1]):\n",
    "    current_column  = df_timbre.iloc[:,i]\n",
    "    df_timbre['mean_timbre{}'.format(i+1)] = current_column.apply(f_mean)\n",
    "    df_timbre['median_timbre{}'.format(i+1)] = current_column.apply(f_median)\n",
    "    df_timbre['std_timbre{}'.format(i+1)] = current_column.apply(f_std)\n",
    "    df_timbre['min_timbre{}'.format(i+1)] = current_column.apply(f_min)\n",
    "    df_timbre['max_timbre{}'.format(i+1)] = current_column.apply(f_max)\n",
    "    df_timbre['range_timbre{}'.format(i+1)] = df_timbre['max_timbre{}'.format(i+1)]-df_timbre['min_timbre{}'.format(i+1)]\n",
    "    df_timbre['80Percentile_timbre{}'.format(i+1)] = current_column.apply(f_80Percentile)\n",
    "    df_timbre['kurtosis_timbre{}'.format(i+1)] = current_column.apply(f_kurtosis)\n",
    "    df_timbre['skewness_timbre{}'.format(i+1)] = current_column.apply(f_skew)\n",
    "\n",
    "    print('Finished Column {}'.format(i))"
   ]
  },
  {
   "cell_type": "code",
   "execution_count": 34,
   "metadata": {},
   "outputs": [
    {
     "data": {
      "text/html": [
       "<div>\n",
       "<style>\n",
       "    .dataframe thead tr:only-child th {\n",
       "        text-align: right;\n",
       "    }\n",
       "\n",
       "    .dataframe thead th {\n",
       "        text-align: left;\n",
       "    }\n",
       "\n",
       "    .dataframe tbody tr th {\n",
       "        vertical-align: top;\n",
       "    }\n",
       "</style>\n",
       "<table border=\"1\" class=\"dataframe\">\n",
       "  <thead>\n",
       "    <tr style=\"text-align: right;\">\n",
       "      <th></th>\n",
       "      <th>timbre_all_1</th>\n",
       "      <th>timbre_all_2</th>\n",
       "      <th>timbre_all_3</th>\n",
       "      <th>timbre_all_4</th>\n",
       "      <th>timbre_all_5</th>\n",
       "      <th>timbre_all_6</th>\n",
       "      <th>timbre_all_7</th>\n",
       "      <th>timbre_all_8</th>\n",
       "      <th>timbre_all_9</th>\n",
       "      <th>timbre_all_10</th>\n",
       "      <th>...</th>\n",
       "      <th>skewness_timbre11</th>\n",
       "      <th>mean_timbre12</th>\n",
       "      <th>median_timbre12</th>\n",
       "      <th>std_timbre12</th>\n",
       "      <th>min_timbre12</th>\n",
       "      <th>max_timbre12</th>\n",
       "      <th>range_timbre12</th>\n",
       "      <th>80Percentile_timbre12</th>\n",
       "      <th>kurtosis_timbre12</th>\n",
       "      <th>skewness_timbre12</th>\n",
       "    </tr>\n",
       "  </thead>\n",
       "  <tbody>\n",
       "    <tr>\n",
       "      <th>0</th>\n",
       "      <td>[0.0, 24.1, 23.897, 27.356, 32.848, 33.768, 36...</td>\n",
       "      <td>[171.13, -232.911, -237.644, -157.177, -88.399...</td>\n",
       "      <td>[9.469, -154.046, -145.614, -107.148, -89.892,...</td>\n",
       "      <td>[-28.48, -63.445, -84.944, -133.198, -69.415, ...</td>\n",
       "      <td>[57.491, 6.579, 15.005, -19.511, -25.059, -18....</td>\n",
       "      <td>[-50.067, -73.619, -60.84, -47.25, -49.875, -4...</td>\n",
       "      <td>[14.833, 15.024, 24.499, -6.516, -8.199, -0.71...</td>\n",
       "      <td>[5.359, 4.801, 18.949, 21.249, -0.277, -0.328,...</td>\n",
       "      <td>[-27.228, -7.805, -8.304, 40.258, 33.085, 33.6...</td>\n",
       "      <td>[0.973, 2.661, -1.462, 14.984, 18.834, 23.424,...</td>\n",
       "      <td>...</td>\n",
       "      <td>-0.277840</td>\n",
       "      <td>-1.537776</td>\n",
       "      <td>-1.051</td>\n",
       "      <td>13.930129</td>\n",
       "      <td>-50.776</td>\n",
       "      <td>63.574</td>\n",
       "      <td>114.350</td>\n",
       "      <td>9.3652</td>\n",
       "      <td>1.205497</td>\n",
       "      <td>0.039955</td>\n",
       "    </tr>\n",
       "    <tr>\n",
       "      <th>1</th>\n",
       "      <td>[0.0, 20.612, 29.468, 37.065, 42.457, 50.682, ...</td>\n",
       "      <td>[171.13, 281.408, 154.885, 7.066, -17.206, 134...</td>\n",
       "      <td>[9.469, 112.323, 9.7, 65.887, 41.122, 85.356, ...</td>\n",
       "      <td>[-28.48, -106.592, 74.184, 57.284, -187.479, -...</td>\n",
       "      <td>[57.491, 32.225, 19.191, 117.453, 49.711, 85.6...</td>\n",
       "      <td>[-50.067, 59.13, 41.981, 134.899, -17.262, -12...</td>\n",
       "      <td>[14.833, -14.27, -23.128, 7.356, -26.231, -40....</td>\n",
       "      <td>[5.359, -5.607, -56.754, -3.356, 47.938, -19.8...</td>\n",
       "      <td>[-27.228, -10.957, -15.955, 30.643, -7.379, -0...</td>\n",
       "      <td>[0.973, 22.207, 15.478, 23.2, -2.171, -21.529,...</td>\n",
       "      <td>...</td>\n",
       "      <td>-0.463507</td>\n",
       "      <td>-0.825864</td>\n",
       "      <td>-1.301</td>\n",
       "      <td>16.670612</td>\n",
       "      <td>-62.822</td>\n",
       "      <td>53.347</td>\n",
       "      <td>116.169</td>\n",
       "      <td>12.5572</td>\n",
       "      <td>0.495832</td>\n",
       "      <td>0.190272</td>\n",
       "    </tr>\n",
       "    <tr>\n",
       "      <th>2</th>\n",
       "      <td>[0.0, 31.777, 39.716, 39.18, 35.536, 35.466, 3...</td>\n",
       "      <td>[171.13, 39.599, 2.798, -27.888, -6.495, 24.74...</td>\n",
       "      <td>[9.469, 63.151, 48.759, 31.726, 60.184, 62.982...</td>\n",
       "      <td>[-28.48, -88.716, 0.539, 34.455, -22.788, 9.36...</td>\n",
       "      <td>[57.491, 52.622, 50.193, 20.511, 28.765, 36.98...</td>\n",
       "      <td>[-50.067, 92.913, -0.076, -37.353, -11.487, -3...</td>\n",
       "      <td>[14.833, 9.734, 6.371, 1.575, 24.376, 29.255, ...</td>\n",
       "      <td>[5.359, 9.137, -7.323, 27.296, -0.841, 43.187,...</td>\n",
       "      <td>[-27.228, 10.681, 3.93, 15.943, 13.14, 5.89, -...</td>\n",
       "      <td>[0.973, -27.245, 10.954, 2.236, -1.93, -2.151,...</td>\n",
       "      <td>...</td>\n",
       "      <td>-0.688450</td>\n",
       "      <td>-6.601244</td>\n",
       "      <td>-7.249</td>\n",
       "      <td>11.947572</td>\n",
       "      <td>-50.644</td>\n",
       "      <td>31.934</td>\n",
       "      <td>82.578</td>\n",
       "      <td>2.8300</td>\n",
       "      <td>0.790660</td>\n",
       "      <td>0.105450</td>\n",
       "    </tr>\n",
       "    <tr>\n",
       "      <th>3</th>\n",
       "      <td>[29.786, 44.835, 43.066, 30.901, 26.588, 17.29...</td>\n",
       "      <td>[123.603, 145.221, 165.632, 155.171, 55.16, 54...</td>\n",
       "      <td>[97.607, 61.397, 44.145, 107.329, 99.803, 7.17...</td>\n",
       "      <td>[-310.517, 59.632, 90.762, 50.261, 54.535, 145...</td>\n",
       "      <td>[87.878, 47.105, 78.731, 145.399, 129.718, 106...</td>\n",
       "      <td>[227.047, -39.664, -65.7, -21.95, -18.758, -9....</td>\n",
       "      <td>[68.419, 39.715, 26.9, -7.679, -24.475, -41.45...</td>\n",
       "      <td>[10.427, 10.712, 66.095, -13.804, -8.591, 43.1...</td>\n",
       "      <td>[-29.121, -18.868, -0.496, -8.432, 0.868, -4.9...</td>\n",
       "      <td>[55.849, -11.17, -22.492, 15.199, 15.004, -21....</td>\n",
       "      <td>...</td>\n",
       "      <td>-0.105637</td>\n",
       "      <td>-3.162504</td>\n",
       "      <td>-2.086</td>\n",
       "      <td>18.089500</td>\n",
       "      <td>-53.538</td>\n",
       "      <td>64.291</td>\n",
       "      <td>117.829</td>\n",
       "      <td>11.4380</td>\n",
       "      <td>0.089782</td>\n",
       "      <td>-0.018116</td>\n",
       "    </tr>\n",
       "    <tr>\n",
       "      <th>4</th>\n",
       "      <td>[16.954, 21.548, 23.284, 25.593, 27.256, 28.65...</td>\n",
       "      <td>[-106.498, -157.065, -152.822, -170.706, -169....</td>\n",
       "      <td>[47.989, -5.792, 33.818, 56.002, 82.42, 83.832...</td>\n",
       "      <td>[-56.878, -16.571, -28.488, -11.643, -16.119, ...</td>\n",
       "      <td>[135.306, 87.387, 88.055, 104.627, 100.962, 10...</td>\n",
       "      <td>[-23.107, -51.62, -37.607, -34.948, -42.218, -...</td>\n",
       "      <td>[50.826, 16.039, 26.418, 5.967, 20.658, 9.299,...</td>\n",
       "      <td>[-10.056, 19.528, 15.119, -1.994, 2.54, 17.328...</td>\n",
       "      <td>[-10.385, 8.696, 12.326, 11.872, 13.119, 16.88...</td>\n",
       "      <td>[33.954, 6.811, 20.58, 11.461, 7.841, 24.766, ...</td>\n",
       "      <td>...</td>\n",
       "      <td>-0.561042</td>\n",
       "      <td>-10.421886</td>\n",
       "      <td>-10.517</td>\n",
       "      <td>17.747941</td>\n",
       "      <td>-58.854</td>\n",
       "      <td>40.107</td>\n",
       "      <td>98.961</td>\n",
       "      <td>4.5160</td>\n",
       "      <td>-0.140665</td>\n",
       "      <td>0.067427</td>\n",
       "    </tr>\n",
       "  </tbody>\n",
       "</table>\n",
       "<p>5 rows × 120 columns</p>\n",
       "</div>"
      ],
      "text/plain": [
       "                                        timbre_all_1  \\\n",
       "0  [0.0, 24.1, 23.897, 27.356, 32.848, 33.768, 36...   \n",
       "1  [0.0, 20.612, 29.468, 37.065, 42.457, 50.682, ...   \n",
       "2  [0.0, 31.777, 39.716, 39.18, 35.536, 35.466, 3...   \n",
       "3  [29.786, 44.835, 43.066, 30.901, 26.588, 17.29...   \n",
       "4  [16.954, 21.548, 23.284, 25.593, 27.256, 28.65...   \n",
       "\n",
       "                                        timbre_all_2  \\\n",
       "0  [171.13, -232.911, -237.644, -157.177, -88.399...   \n",
       "1  [171.13, 281.408, 154.885, 7.066, -17.206, 134...   \n",
       "2  [171.13, 39.599, 2.798, -27.888, -6.495, 24.74...   \n",
       "3  [123.603, 145.221, 165.632, 155.171, 55.16, 54...   \n",
       "4  [-106.498, -157.065, -152.822, -170.706, -169....   \n",
       "\n",
       "                                        timbre_all_3  \\\n",
       "0  [9.469, -154.046, -145.614, -107.148, -89.892,...   \n",
       "1  [9.469, 112.323, 9.7, 65.887, 41.122, 85.356, ...   \n",
       "2  [9.469, 63.151, 48.759, 31.726, 60.184, 62.982...   \n",
       "3  [97.607, 61.397, 44.145, 107.329, 99.803, 7.17...   \n",
       "4  [47.989, -5.792, 33.818, 56.002, 82.42, 83.832...   \n",
       "\n",
       "                                        timbre_all_4  \\\n",
       "0  [-28.48, -63.445, -84.944, -133.198, -69.415, ...   \n",
       "1  [-28.48, -106.592, 74.184, 57.284, -187.479, -...   \n",
       "2  [-28.48, -88.716, 0.539, 34.455, -22.788, 9.36...   \n",
       "3  [-310.517, 59.632, 90.762, 50.261, 54.535, 145...   \n",
       "4  [-56.878, -16.571, -28.488, -11.643, -16.119, ...   \n",
       "\n",
       "                                        timbre_all_5  \\\n",
       "0  [57.491, 6.579, 15.005, -19.511, -25.059, -18....   \n",
       "1  [57.491, 32.225, 19.191, 117.453, 49.711, 85.6...   \n",
       "2  [57.491, 52.622, 50.193, 20.511, 28.765, 36.98...   \n",
       "3  [87.878, 47.105, 78.731, 145.399, 129.718, 106...   \n",
       "4  [135.306, 87.387, 88.055, 104.627, 100.962, 10...   \n",
       "\n",
       "                                        timbre_all_6  \\\n",
       "0  [-50.067, -73.619, -60.84, -47.25, -49.875, -4...   \n",
       "1  [-50.067, 59.13, 41.981, 134.899, -17.262, -12...   \n",
       "2  [-50.067, 92.913, -0.076, -37.353, -11.487, -3...   \n",
       "3  [227.047, -39.664, -65.7, -21.95, -18.758, -9....   \n",
       "4  [-23.107, -51.62, -37.607, -34.948, -42.218, -...   \n",
       "\n",
       "                                        timbre_all_7  \\\n",
       "0  [14.833, 15.024, 24.499, -6.516, -8.199, -0.71...   \n",
       "1  [14.833, -14.27, -23.128, 7.356, -26.231, -40....   \n",
       "2  [14.833, 9.734, 6.371, 1.575, 24.376, 29.255, ...   \n",
       "3  [68.419, 39.715, 26.9, -7.679, -24.475, -41.45...   \n",
       "4  [50.826, 16.039, 26.418, 5.967, 20.658, 9.299,...   \n",
       "\n",
       "                                        timbre_all_8  \\\n",
       "0  [5.359, 4.801, 18.949, 21.249, -0.277, -0.328,...   \n",
       "1  [5.359, -5.607, -56.754, -3.356, 47.938, -19.8...   \n",
       "2  [5.359, 9.137, -7.323, 27.296, -0.841, 43.187,...   \n",
       "3  [10.427, 10.712, 66.095, -13.804, -8.591, 43.1...   \n",
       "4  [-10.056, 19.528, 15.119, -1.994, 2.54, 17.328...   \n",
       "\n",
       "                                        timbre_all_9  \\\n",
       "0  [-27.228, -7.805, -8.304, 40.258, 33.085, 33.6...   \n",
       "1  [-27.228, -10.957, -15.955, 30.643, -7.379, -0...   \n",
       "2  [-27.228, 10.681, 3.93, 15.943, 13.14, 5.89, -...   \n",
       "3  [-29.121, -18.868, -0.496, -8.432, 0.868, -4.9...   \n",
       "4  [-10.385, 8.696, 12.326, 11.872, 13.119, 16.88...   \n",
       "\n",
       "                                       timbre_all_10        ...          \\\n",
       "0  [0.973, 2.661, -1.462, 14.984, 18.834, 23.424,...        ...           \n",
       "1  [0.973, 22.207, 15.478, 23.2, -2.171, -21.529,...        ...           \n",
       "2  [0.973, -27.245, 10.954, 2.236, -1.93, -2.151,...        ...           \n",
       "3  [55.849, -11.17, -22.492, 15.199, 15.004, -21....        ...           \n",
       "4  [33.954, 6.811, 20.58, 11.461, 7.841, 24.766, ...        ...           \n",
       "\n",
       "  skewness_timbre11 mean_timbre12  median_timbre12  std_timbre12  \\\n",
       "0         -0.277840     -1.537776           -1.051     13.930129   \n",
       "1         -0.463507     -0.825864           -1.301     16.670612   \n",
       "2         -0.688450     -6.601244           -7.249     11.947572   \n",
       "3         -0.105637     -3.162504           -2.086     18.089500   \n",
       "4         -0.561042    -10.421886          -10.517     17.747941   \n",
       "\n",
       "   min_timbre12  max_timbre12  range_timbre12  80Percentile_timbre12  \\\n",
       "0       -50.776        63.574         114.350                 9.3652   \n",
       "1       -62.822        53.347         116.169                12.5572   \n",
       "2       -50.644        31.934          82.578                 2.8300   \n",
       "3       -53.538        64.291         117.829                11.4380   \n",
       "4       -58.854        40.107          98.961                 4.5160   \n",
       "\n",
       "   kurtosis_timbre12  skewness_timbre12  \n",
       "0           1.205497           0.039955  \n",
       "1           0.495832           0.190272  \n",
       "2           0.790660           0.105450  \n",
       "3           0.089782          -0.018116  \n",
       "4          -0.140665           0.067427  \n",
       "\n",
       "[5 rows x 120 columns]"
      ]
     },
     "execution_count": 34,
     "metadata": {},
     "output_type": "execute_result"
    }
   ],
   "source": [
    "df_timbre.head()"
   ]
  },
  {
   "cell_type": "code",
   "execution_count": 37,
   "metadata": {},
   "outputs": [
    {
     "name": "stdout",
     "output_type": "stream",
     "text": [
      "['timbre_all_1', 'timbre_all_2', 'timbre_all_3', 'timbre_all_4', 'timbre_all_5', 'timbre_all_6', 'timbre_all_7', 'timbre_all_8', 'timbre_all_9', 'timbre_all_10', 'timbre_all_11', 'timbre_all_12', 'mean_timbre1', 'median_timbre1', 'std_timbre1', 'min_timbre1', 'max_timbre1', 'range_timbre1', '80Percentile_timbre1', 'kurtosis_timbre1', 'skewness_timbre1', 'mean_timbre2', 'median_timbre2', 'std_timbre2', 'min_timbre2', 'max_timbre2', 'range_timbre2', '80Percentile_timbre2', 'kurtosis_timbre2', 'skewness_timbre2', 'mean_timbre3', 'median_timbre3', 'std_timbre3', 'min_timbre3', 'max_timbre3', 'range_timbre3', '80Percentile_timbre3', 'kurtosis_timbre3', 'skewness_timbre3', 'mean_timbre4', 'median_timbre4', 'std_timbre4', 'min_timbre4', 'max_timbre4', 'range_timbre4', '80Percentile_timbre4', 'kurtosis_timbre4', 'skewness_timbre4', 'mean_timbre5', 'median_timbre5', 'std_timbre5', 'min_timbre5', 'max_timbre5', 'range_timbre5', '80Percentile_timbre5', 'kurtosis_timbre5', 'skewness_timbre5', 'mean_timbre6', 'median_timbre6', 'std_timbre6', 'min_timbre6', 'max_timbre6', 'range_timbre6', '80Percentile_timbre6', 'kurtosis_timbre6', 'skewness_timbre6', 'mean_timbre7', 'median_timbre7', 'std_timbre7', 'min_timbre7', 'max_timbre7', 'range_timbre7', '80Percentile_timbre7', 'kurtosis_timbre7', 'skewness_timbre7', 'mean_timbre8', 'median_timbre8', 'std_timbre8', 'min_timbre8', 'max_timbre8', 'range_timbre8', '80Percentile_timbre8', 'kurtosis_timbre8', 'skewness_timbre8', 'mean_timbre9', 'median_timbre9', 'std_timbre9', 'min_timbre9', 'max_timbre9', 'range_timbre9', '80Percentile_timbre9', 'kurtosis_timbre9', 'skewness_timbre9', 'mean_timbre10', 'median_timbre10', 'std_timbre10', 'min_timbre10', 'max_timbre10', 'range_timbre10', '80Percentile_timbre10', 'kurtosis_timbre10', 'skewness_timbre10', 'mean_timbre11', 'median_timbre11', 'std_timbre11', 'min_timbre11', 'max_timbre11', 'range_timbre11', '80Percentile_timbre11', 'kurtosis_timbre11', 'skewness_timbre11', 'mean_timbre12', 'median_timbre12', 'std_timbre12', 'min_timbre12', 'max_timbre12', 'range_timbre12', '80Percentile_timbre12', 'kurtosis_timbre12', 'skewness_timbre12']\n"
     ]
    }
   ],
   "source": [
    "print(list(df_timbre.columns))"
   ]
  },
  {
   "cell_type": "code",
   "execution_count": 41,
   "metadata": {
    "scrolled": false
   },
   "outputs": [
    {
     "name": "stdout",
     "output_type": "stream",
     "text": [
      "['mean_timbre1', 'median_timbre1', 'std_timbre1', 'min_timbre1', 'max_timbre1', 'range_timbre1', '80Percentile_timbre1', 'kurtosis_timbre1', 'skewness_timbre1', 'mean_timbre2', 'median_timbre2', 'std_timbre2', 'min_timbre2', 'max_timbre2', 'range_timbre2', '80Percentile_timbre2', 'kurtosis_timbre2', 'skewness_timbre2', 'mean_timbre3', 'median_timbre3', 'std_timbre3', 'min_timbre3', 'max_timbre3', 'range_timbre3', '80Percentile_timbre3', 'kurtosis_timbre3', 'skewness_timbre3', 'mean_timbre4', 'median_timbre4', 'std_timbre4', 'min_timbre4', 'max_timbre4', 'range_timbre4', '80Percentile_timbre4', 'kurtosis_timbre4', 'skewness_timbre4', 'mean_timbre5', 'median_timbre5', 'std_timbre5', 'min_timbre5', 'max_timbre5', 'range_timbre5', '80Percentile_timbre5', 'kurtosis_timbre5', 'skewness_timbre5', 'mean_timbre6', 'median_timbre6', 'std_timbre6', 'min_timbre6', 'max_timbre6', 'range_timbre6', '80Percentile_timbre6', 'kurtosis_timbre6', 'skewness_timbre6', 'mean_timbre7', 'median_timbre7', 'std_timbre7', 'min_timbre7', 'max_timbre7', 'range_timbre7', '80Percentile_timbre7', 'kurtosis_timbre7', 'skewness_timbre7', 'mean_timbre8', 'median_timbre8', 'std_timbre8', 'min_timbre8', 'max_timbre8', 'range_timbre8', '80Percentile_timbre8', 'kurtosis_timbre8', 'skewness_timbre8', 'mean_timbre9', 'median_timbre9', 'std_timbre9', 'min_timbre9', 'max_timbre9', 'range_timbre9', '80Percentile_timbre9', 'kurtosis_timbre9', 'skewness_timbre9', 'mean_timbre10', 'median_timbre10', 'std_timbre10', 'min_timbre10', 'max_timbre10', 'range_timbre10', '80Percentile_timbre10', 'kurtosis_timbre10', 'skewness_timbre10', 'mean_timbre11', 'median_timbre11', 'std_timbre11', 'min_timbre11', 'max_timbre11', 'range_timbre11', '80Percentile_timbre11', 'kurtosis_timbre11', 'skewness_timbre11', 'mean_timbre12', 'median_timbre12', 'std_timbre12', 'min_timbre12', 'max_timbre12', 'range_timbre12', '80Percentile_timbre12', 'kurtosis_timbre12', 'skewness_timbre12']\n"
     ]
    }
   ],
   "source": [
    "# timbre features without vector values in the beginning\n",
    "timbre_features = list(df_timbre.columns[12:])\n",
    "print(timbre_features)"
   ]
  },
  {
   "cell_type": "markdown",
   "metadata": {},
   "source": [
    "### load popularity "
   ]
  },
  {
   "cell_type": "code",
   "execution_count": 45,
   "metadata": {},
   "outputs": [
    {
     "data": {
      "text/plain": [
       "0    61\n",
       "1    80\n",
       "2    26\n",
       "3    84\n",
       "4    70\n",
       "Name: popularity, dtype: int64"
      ]
     },
     "execution_count": 45,
     "metadata": {},
     "output_type": "execute_result"
    }
   ],
   "source": [
    "df_popularity = pd.read_csv('uri_with_popularity_subset.csv')\n",
    "df_popularity = df_popularity['popularity']\n",
    "df_popularity.head()"
   ]
  },
  {
   "cell_type": "markdown",
   "metadata": {},
   "source": [
    "### Save CSV file of whole dataset:"
   ]
  },
  {
   "cell_type": "code",
   "execution_count": 51,
   "metadata": {},
   "outputs": [
    {
     "name": "stdout",
     "output_type": "stream",
     "text": [
      "(1592, 175)\n"
     ]
    },
    {
     "data": {
      "text/html": [
       "<div>\n",
       "<style>\n",
       "    .dataframe thead tr:only-child th {\n",
       "        text-align: right;\n",
       "    }\n",
       "\n",
       "    .dataframe thead th {\n",
       "        text-align: left;\n",
       "    }\n",
       "\n",
       "    .dataframe tbody tr th {\n",
       "        vertical-align: top;\n",
       "    }\n",
       "</style>\n",
       "<table border=\"1\" class=\"dataframe\">\n",
       "  <thead>\n",
       "    <tr style=\"text-align: right;\">\n",
       "      <th></th>\n",
       "      <th>uri</th>\n",
       "      <th>acousticness</th>\n",
       "      <th>danceability</th>\n",
       "      <th>duration_ms</th>\n",
       "      <th>energy</th>\n",
       "      <th>instrumentalness</th>\n",
       "      <th>key</th>\n",
       "      <th>liveness</th>\n",
       "      <th>loudness</th>\n",
       "      <th>mode</th>\n",
       "      <th>...</th>\n",
       "      <th>nl</th>\n",
       "      <th>bo</th>\n",
       "      <th>lv</th>\n",
       "      <th>gr</th>\n",
       "      <th>pa</th>\n",
       "      <th>uy</th>\n",
       "      <th>au</th>\n",
       "      <th>pt</th>\n",
       "      <th>fi</th>\n",
       "      <th>popularity</th>\n",
       "    </tr>\n",
       "  </thead>\n",
       "  <tbody>\n",
       "    <tr>\n",
       "      <th>0</th>\n",
       "      <td>spotify:track:7pueb0FHOYlKAJPXhVhwml</td>\n",
       "      <td>0.0671</td>\n",
       "      <td>0.789</td>\n",
       "      <td>221920.0</td>\n",
       "      <td>0.808</td>\n",
       "      <td>0.000115</td>\n",
       "      <td>1.0</td>\n",
       "      <td>0.1710</td>\n",
       "      <td>-4.694</td>\n",
       "      <td>0.0</td>\n",
       "      <td>...</td>\n",
       "      <td>False</td>\n",
       "      <td>False</td>\n",
       "      <td>False</td>\n",
       "      <td>False</td>\n",
       "      <td>False</td>\n",
       "      <td>True</td>\n",
       "      <td>False</td>\n",
       "      <td>False</td>\n",
       "      <td>False</td>\n",
       "      <td>61</td>\n",
       "    </tr>\n",
       "    <tr>\n",
       "      <th>1</th>\n",
       "      <td>spotify:track:4pLwZjInHj3SimIyN9SnOz</td>\n",
       "      <td>0.0408</td>\n",
       "      <td>0.648</td>\n",
       "      <td>226160.0</td>\n",
       "      <td>0.738</td>\n",
       "      <td>0.000000</td>\n",
       "      <td>6.0</td>\n",
       "      <td>0.2920</td>\n",
       "      <td>-5.883</td>\n",
       "      <td>0.0</td>\n",
       "      <td>...</td>\n",
       "      <td>True</td>\n",
       "      <td>True</td>\n",
       "      <td>False</td>\n",
       "      <td>True</td>\n",
       "      <td>True</td>\n",
       "      <td>True</td>\n",
       "      <td>True</td>\n",
       "      <td>True</td>\n",
       "      <td>True</td>\n",
       "      <td>80</td>\n",
       "    </tr>\n",
       "    <tr>\n",
       "      <th>2</th>\n",
       "      <td>spotify:track:3qmvK8QARSPkFTuKeIXSbs</td>\n",
       "      <td>0.0747</td>\n",
       "      <td>0.542</td>\n",
       "      <td>164760.0</td>\n",
       "      <td>0.932</td>\n",
       "      <td>0.000000</td>\n",
       "      <td>4.0</td>\n",
       "      <td>0.6130</td>\n",
       "      <td>-4.896</td>\n",
       "      <td>1.0</td>\n",
       "      <td>...</td>\n",
       "      <td>True</td>\n",
       "      <td>True</td>\n",
       "      <td>True</td>\n",
       "      <td>True</td>\n",
       "      <td>True</td>\n",
       "      <td>False</td>\n",
       "      <td>True</td>\n",
       "      <td>True</td>\n",
       "      <td>True</td>\n",
       "      <td>26</td>\n",
       "    </tr>\n",
       "    <tr>\n",
       "      <th>3</th>\n",
       "      <td>spotify:track:5CtI0qwDJkDQGwXD1H1cLb</td>\n",
       "      <td>0.2290</td>\n",
       "      <td>0.694</td>\n",
       "      <td>228827.0</td>\n",
       "      <td>0.815</td>\n",
       "      <td>0.000000</td>\n",
       "      <td>2.0</td>\n",
       "      <td>0.0924</td>\n",
       "      <td>-4.328</td>\n",
       "      <td>1.0</td>\n",
       "      <td>...</td>\n",
       "      <td>True</td>\n",
       "      <td>True</td>\n",
       "      <td>True</td>\n",
       "      <td>True</td>\n",
       "      <td>True</td>\n",
       "      <td>True</td>\n",
       "      <td>True</td>\n",
       "      <td>True</td>\n",
       "      <td>True</td>\n",
       "      <td>84</td>\n",
       "    </tr>\n",
       "    <tr>\n",
       "      <th>4</th>\n",
       "      <td>spotify:track:5TRaIECBIfSkeqkKoG6psm</td>\n",
       "      <td>0.0569</td>\n",
       "      <td>0.768</td>\n",
       "      <td>228431.0</td>\n",
       "      <td>0.535</td>\n",
       "      <td>0.000000</td>\n",
       "      <td>10.0</td>\n",
       "      <td>0.0902</td>\n",
       "      <td>-4.489</td>\n",
       "      <td>0.0</td>\n",
       "      <td>...</td>\n",
       "      <td>False</td>\n",
       "      <td>False</td>\n",
       "      <td>False</td>\n",
       "      <td>True</td>\n",
       "      <td>False</td>\n",
       "      <td>False</td>\n",
       "      <td>False</td>\n",
       "      <td>True</td>\n",
       "      <td>False</td>\n",
       "      <td>70</td>\n",
       "    </tr>\n",
       "  </tbody>\n",
       "</table>\n",
       "<p>5 rows × 175 columns</p>\n",
       "</div>"
      ],
      "text/plain": [
       "                                    uri  acousticness  danceability  \\\n",
       "0  spotify:track:7pueb0FHOYlKAJPXhVhwml        0.0671         0.789   \n",
       "1  spotify:track:4pLwZjInHj3SimIyN9SnOz        0.0408         0.648   \n",
       "2  spotify:track:3qmvK8QARSPkFTuKeIXSbs        0.0747         0.542   \n",
       "3  spotify:track:5CtI0qwDJkDQGwXD1H1cLb        0.2290         0.694   \n",
       "4  spotify:track:5TRaIECBIfSkeqkKoG6psm        0.0569         0.768   \n",
       "\n",
       "   duration_ms  energy  instrumentalness   key  liveness  loudness  mode  \\\n",
       "0     221920.0   0.808          0.000115   1.0    0.1710    -4.694   0.0   \n",
       "1     226160.0   0.738          0.000000   6.0    0.2920    -5.883   0.0   \n",
       "2     164760.0   0.932          0.000000   4.0    0.6130    -4.896   1.0   \n",
       "3     228827.0   0.815          0.000000   2.0    0.0924    -4.328   1.0   \n",
       "4     228431.0   0.535          0.000000  10.0    0.0902    -4.489   0.0   \n",
       "\n",
       "      ...         nl     bo     lv     gr     pa     uy     au     pt     fi  \\\n",
       "0     ...      False  False  False  False  False   True  False  False  False   \n",
       "1     ...       True   True  False   True   True   True   True   True   True   \n",
       "2     ...       True   True   True   True   True  False   True   True   True   \n",
       "3     ...       True   True   True   True   True   True   True   True   True   \n",
       "4     ...      False  False  False   True  False  False  False   True  False   \n",
       "\n",
       "   popularity  \n",
       "0          61  \n",
       "1          80  \n",
       "2          26  \n",
       "3          84  \n",
       "4          70  \n",
       "\n",
       "[5 rows x 175 columns]"
      ]
     },
     "execution_count": 51,
     "metadata": {},
     "output_type": "execute_result"
    }
   ],
   "source": [
    "df = pd.concat([df_songs['uri'], df_songs[spotify_features], df_timbre[timbre_features], df_songs[local_output], df_popularity], axis = 1)\n",
    "print(df.shape)\n",
    "df.head()"
   ]
  },
  {
   "cell_type": "code",
   "execution_count": 53,
   "metadata": {
    "collapsed": true
   },
   "outputs": [],
   "source": [
    "df.to_csv('cleanedDataSet_final.csv')"
   ]
  },
  {
   "cell_type": "markdown",
   "metadata": {},
   "source": [
    "## Explore Data"
   ]
  },
  {
   "cell_type": "markdown",
   "metadata": {},
   "source": [
    "Reload datafile, no need to clean the data again"
   ]
  },
  {
   "cell_type": "code",
   "execution_count": 55,
   "metadata": {},
   "outputs": [
    {
     "name": "stdout",
     "output_type": "stream",
     "text": [
      "['Unnamed: 0', 'uri', 'acousticness', 'danceability', 'duration_ms', 'energy', 'instrumentalness', 'key', 'liveness', 'loudness', 'mode', 'speechiness', 'tempo', 'valence', 'mean_timbre1', 'median_timbre1', 'std_timbre1', 'min_timbre1', 'max_timbre1', 'range_timbre1', '80Percentile_timbre1', 'kurtosis_timbre1', 'skewness_timbre1', 'mean_timbre2', 'median_timbre2', 'std_timbre2', 'min_timbre2', 'max_timbre2', 'range_timbre2', '80Percentile_timbre2', 'kurtosis_timbre2', 'skewness_timbre2', 'mean_timbre3', 'median_timbre3', 'std_timbre3', 'min_timbre3', 'max_timbre3', 'range_timbre3', '80Percentile_timbre3', 'kurtosis_timbre3', 'skewness_timbre3', 'mean_timbre4', 'median_timbre4', 'std_timbre4', 'min_timbre4', 'max_timbre4', 'range_timbre4', '80Percentile_timbre4', 'kurtosis_timbre4', 'skewness_timbre4', 'mean_timbre5', 'median_timbre5', 'std_timbre5', 'min_timbre5', 'max_timbre5', 'range_timbre5', '80Percentile_timbre5', 'kurtosis_timbre5', 'skewness_timbre5', 'mean_timbre6', 'median_timbre6', 'std_timbre6', 'min_timbre6', 'max_timbre6', 'range_timbre6', '80Percentile_timbre6', 'kurtosis_timbre6', 'skewness_timbre6', 'mean_timbre7', 'median_timbre7', 'std_timbre7', 'min_timbre7', 'max_timbre7', 'range_timbre7', '80Percentile_timbre7', 'kurtosis_timbre7', 'skewness_timbre7', 'mean_timbre8', 'median_timbre8', 'std_timbre8', 'min_timbre8', 'max_timbre8', 'range_timbre8', '80Percentile_timbre8', 'kurtosis_timbre8', 'skewness_timbre8', 'mean_timbre9', 'median_timbre9', 'std_timbre9', 'min_timbre9', 'max_timbre9', 'range_timbre9', '80Percentile_timbre9', 'kurtosis_timbre9', 'skewness_timbre9', 'mean_timbre10', 'median_timbre10', 'std_timbre10', 'min_timbre10', 'max_timbre10', 'range_timbre10', '80Percentile_timbre10', 'kurtosis_timbre10', 'skewness_timbre10', 'mean_timbre11', 'median_timbre11', 'std_timbre11', 'min_timbre11', 'max_timbre11', 'range_timbre11', '80Percentile_timbre11', 'kurtosis_timbre11', 'skewness_timbre11', 'mean_timbre12', 'median_timbre12', 'std_timbre12', 'min_timbre12', 'max_timbre12', 'range_timbre12', '80Percentile_timbre12', 'kurtosis_timbre12', 'skewness_timbre12', 'ee', 'br', 'my', 'cz', 'pe', 'gb', 'ie', 'se', 'sk', 'co', 'sg', 'ec', 'es', 'no', 'dk', 'be', 'lu', 'do', 'nz', 'de', 'hu', 'cr', 'jp', 'hk', 'lt', 'pl', 'it', 'hn', 'mx', 'ph', 'cl', 'is', 'ca', 'ar', 'at', 'ch', 'tr', 'py', 'tw', 'gt', 'sv', 'us', 'fr', 'global', 'nl', 'bo', 'lv', 'gr', 'pa', 'uy', 'au', 'pt', 'fi', 'popularity']\n",
      "(1592, 176)\n"
     ]
    }
   ],
   "source": [
    "df = pd.read_csv('cleanedDataSet_final.csv')\n",
    "columns = list(df.columns)\n",
    "print(columns)\n",
    "print(df.shape)"
   ]
  },
  {
   "cell_type": "code",
   "execution_count": 165,
   "metadata": {},
   "outputs": [
    {
     "name": "stdout",
     "output_type": "stream",
     "text": [
      "We have 120 features extracted\n",
      "['acousticness', 'danceability', 'duration_ms', 'energy', 'instrumentalness', 'key', 'liveness', 'loudness', 'mode', 'speechiness', 'tempo', 'valence', 'mean_timbre1', 'median_timbre1', 'std_timbre1', 'min_timbre1', 'max_timbre1', 'range_timbre1', '80Percentile_timbre1', 'kurtosis_timbre1', 'skewness_timbre1', 'mean_timbre2', 'median_timbre2', 'std_timbre2', 'min_timbre2', 'max_timbre2', 'range_timbre2', '80Percentile_timbre2', 'kurtosis_timbre2', 'skewness_timbre2', 'mean_timbre3', 'median_timbre3', 'std_timbre3', 'min_timbre3', 'max_timbre3', 'range_timbre3', '80Percentile_timbre3', 'kurtosis_timbre3', 'skewness_timbre3', 'mean_timbre4', 'median_timbre4', 'std_timbre4', 'min_timbre4', 'max_timbre4', 'range_timbre4', '80Percentile_timbre4', 'kurtosis_timbre4', 'skewness_timbre4', 'mean_timbre5', 'median_timbre5', 'std_timbre5', 'min_timbre5', 'max_timbre5', 'range_timbre5', '80Percentile_timbre5', 'kurtosis_timbre5', 'skewness_timbre5', 'mean_timbre6', 'median_timbre6', 'std_timbre6', 'min_timbre6', 'max_timbre6', 'range_timbre6', '80Percentile_timbre6', 'kurtosis_timbre6', 'skewness_timbre6', 'mean_timbre7', 'median_timbre7', 'std_timbre7', 'min_timbre7', 'max_timbre7', 'range_timbre7', '80Percentile_timbre7', 'kurtosis_timbre7', 'skewness_timbre7', 'mean_timbre8', 'median_timbre8', 'std_timbre8', 'min_timbre8', 'max_timbre8', 'range_timbre8', '80Percentile_timbre8', 'kurtosis_timbre8', 'skewness_timbre8', 'mean_timbre9', 'median_timbre9', 'std_timbre9', 'min_timbre9', 'max_timbre9', 'range_timbre9', '80Percentile_timbre9', 'kurtosis_timbre9', 'skewness_timbre9', 'mean_timbre10', 'median_timbre10', 'std_timbre10', 'min_timbre10', 'max_timbre10', 'range_timbre10', '80Percentile_timbre10', 'kurtosis_timbre10', 'skewness_timbre10', 'mean_timbre11', 'median_timbre11', 'std_timbre11', 'min_timbre11', 'max_timbre11', 'range_timbre11', '80Percentile_timbre11', 'kurtosis_timbre11', 'skewness_timbre11', 'mean_timbre12', 'median_timbre12', 'std_timbre12', 'min_timbre12', 'max_timbre12', 'range_timbre12', '80Percentile_timbre12', 'kurtosis_timbre12', 'skewness_timbre12']\n"
     ]
    }
   ],
   "source": [
    "# Extract Features\n",
    "index = columns.index('skewness_timbre12')\n",
    "df_features = df.iloc[:,2:index+1]\n",
    "features = list(df_features.columns)\n",
    "print('We have {} features extracted'.format(df_features.shape[1]))\n",
    "print(features)"
   ]
  },
  {
   "cell_type": "code",
   "execution_count": 166,
   "metadata": {},
   "outputs": [
    {
     "name": "stdout",
     "output_type": "stream",
     "text": [
      "We have rankings for 53 countries, plus the overall popularity:\n",
      "['ee', 'br', 'my', 'cz', 'pe', 'gb', 'ie', 'se', 'sk', 'co', 'sg', 'ec', 'es', 'no', 'dk', 'be', 'lu', 'do', 'nz', 'de', 'hu', 'cr', 'jp', 'hk', 'lt', 'pl', 'it', 'hn', 'mx', 'ph', 'cl', 'is', 'ca', 'ar', 'at', 'ch', 'tr', 'py', 'tw', 'gt', 'sv', 'us', 'fr', 'global', 'nl', 'bo', 'lv', 'gr', 'pa', 'uy', 'au', 'pt', 'fi', 'popularity']\n"
     ]
    }
   ],
   "source": [
    "# Extract output\n",
    "df_output = df.iloc[:, index+1:]\n",
    "output = list(df_output.columns)\n",
    "print('We have rankings for {} countries, plus the overall popularity:'.format(df_output.shape[1]-1))\n",
    "print(output)"
   ]
  },
  {
   "cell_type": "markdown",
   "metadata": {},
   "source": [
    "### Define a few helper functions for ML"
   ]
  },
  {
   "cell_type": "code",
   "execution_count": 64,
   "metadata": {},
   "outputs": [
    {
     "name": "stderr",
     "output_type": "stream",
     "text": [
      "C:\\Users\\mx190\\Anaconda3\\envs\\data-x\\lib\\site-packages\\sklearn\\cross_validation.py:41: DeprecationWarning: This module was deprecated in version 0.18 in favor of the model_selection module into which all the refactored classes and functions are moved. Also note that the interface of the new CV iterators are different from that of this module. This module will be removed in 0.20.\n",
      "  \"This module will be removed in 0.20.\", DeprecationWarning)\n"
     ]
    }
   ],
   "source": [
    "# import packages\n",
    "from sklearn.linear_model import LogisticRegression\n",
    "from sklearn.svm import SVC, LinearSVC\n",
    "from sklearn.neighbors import KNeighborsClassifier\n",
    "from sklearn.ensemble import RandomForestClassifier\n",
    "from sklearn.linear_model import Perceptron\n",
    "import xgboost as xgb\n",
    "\n",
    "from sklearn.model_selection import train_test_split\n",
    "from sklearn.metrics import confusion_matrix\n",
    "from sklearn.metrics import roc_curve, auc\n",
    "\n",
    "import operator\n",
    "\n",
    "from sklearn.preprocessing import normalize\n"
   ]
  },
  {
   "cell_type": "code",
   "execution_count": 113,
   "metadata": {
    "collapsed": true
   },
   "outputs": [],
   "source": [
    "# Confusion Matrix\n",
    "def printConfusionMatrix (y_true, y_pred):\n",
    "    cf=pd.DataFrame(confusion_matrix(y_true, y_pred))\n",
    "    print(cf)\n",
    "\n",
    "# Plot ROC Curve\n",
    "def plotROCCurve (y_true, y_pred, name):\n",
    "    fpr, tpr, thresholds = roc_curve(y_true, y_pred)\n",
    "    roc_auc = auc(fpr, tpr)\n",
    "    \n",
    "    plt.figure()\n",
    "    lw = 2\n",
    "    plt.plot(fpr, tpr, color='darkorange',\n",
    "             lw=lw, label='ROC curve (area = %0.2f)' % roc_auc)\n",
    "    plt.plot([0, 1], [0, 1], color='navy', lw=lw, linestyle='--')\n",
    "    plt.xlim([0.0, 1.0])\n",
    "    plt.ylim([0.0, 1.05])\n",
    "    plt.xlabel('False Positive Rate')\n",
    "    plt.ylabel('True Positive Rate')\n",
    "    plt.title('Receiver operating characteristic: '+ name)\n",
    "    plt.legend(loc=\"lower right\")\n",
    "    plt.show()"
   ]
  },
  {
   "cell_type": "code",
   "execution_count": 144,
   "metadata": {
    "collapsed": true
   },
   "outputs": [],
   "source": [
    "# Feature importance\n",
    "def featureImportance(x_train, y_train, features):\n",
    "    random_forest = RandomForestClassifier(n_estimators=190)\n",
    "    random_forest.fit(x_train, y_train)\n",
    "    values = random_forest.feature_importances_\n",
    "    dict_featureImportance = dict(zip(features,values))\n",
    "    sorted_dict = sorted(dict_featureImportance.items(), key=operator.itemgetter(1), reverse = True)\n",
    "    return sorted_dict"
   ]
  },
  {
   "cell_type": "code",
   "execution_count": 200,
   "metadata": {
    "collapsed": true
   },
   "outputs": [],
   "source": [
    "# trains a specific model and report accuracies\n",
    "def runsModel(x_train, x_test, y_train, y_test, model, printing = True):\n",
    "\n",
    "    # Train model\n",
    "    model.fit(x_train, y_train)\n",
    "    trainingAccuracy = (model.score(x_train, y_train))\n",
    "    testAccuracy = (model.score(x_test, y_test))\n",
    "\n",
    "    fpr, tpr, thresholds = roc_curve(y_test, model.predict(x_test))\n",
    "    roc_auc = auc(fpr, tpr)\n",
    "    aucScore = (roc_auc)\n",
    "    \n",
    "    if (printing):\n",
    "        print('Test Accuracy: {}'.format(testAccuracy))\n",
    "        print('Training Accuracy: {}'.format(trainingAccuracy))\n",
    "        print('AUC Score: {}'.format(aucScore))\n",
    "        print('Confusion Matrix')\n",
    "        printConfusionMatrix(y_test, model.predict(x_test))\n",
    "    return model"
   ]
  },
  {
   "cell_type": "code",
   "execution_count": 93,
   "metadata": {
    "collapsed": true
   },
   "outputs": [],
   "source": [
    "# Trains differnt models and compares the results\n",
    "def performsMLModelComparison(x_train, x_test, y_train, y_test, printing=True, verbose = True):\n",
    "    '''Tries standard ML models, reports average accuracy and best model (with its accuracy and confusion matrix)'''\n",
    "    MLModels = [LogisticRegression(), SVC(), Perceptron(), KNeighborsClassifier(n_neighbors = 3), xgb.XGBClassifier(n_estimators = 140), RandomForestClassifier(n_estimators = 140)]\n",
    "    MLModelsStrings = [\"Logistic Regression\", \"Support Vector Machine\", \"Perceptron\", \"KN Neighbors\", \"Gradient Boosting\", \"Random Forest\"]\n",
    "    nModels = len(MLModels)\n",
    "    trainingAccuracy = list()\n",
    "    testAccuracy = list()\n",
    "    aucScore = list()\n",
    "\n",
    "    # Train models\n",
    "    for i in range(nModels):\n",
    "        MLModels[i].fit(x_train, y_train)\n",
    "        trainingAccuracy.append (MLModels[i].score(x_train, y_train))\n",
    "        testAccuracy.append(MLModels[i].score(x_test, y_test))\n",
    "        \n",
    "        fpr, tpr, thresholds = roc_curve(y_test, MLModels[i].predict(x_test))\n",
    "        roc_auc = auc(fpr, tpr)\n",
    "        aucScore.append(roc_auc)\n",
    "    \n",
    "    # Report average test accuracy\n",
    "    if (printing and verbose):\n",
    "        print('Used the following models:')\n",
    "        print(MLModelsStrings)\n",
    "        print('Test Scores')\n",
    "        print(testAccuracy)\n",
    "        print('AUC Scores')\n",
    "        print(aucScore)\n",
    "        print('Average test accuracies of all models is: {}'.format(np.mean(testAccuracy)))\n",
    "    \n",
    "    # Find best model\n",
    "    max_testAccuracy = max(testAccuracy)\n",
    "    max_index = testAccuracy.index(max_testAccuracy)\n",
    "    bestModel = MLModels[max_index]\n",
    "    if (printing):\n",
    "        print('{} is the best model'.format(MLModelsStrings[max_index]))\n",
    "        print('Test Accuracy: {}'.format(max_testAccuracy))\n",
    "        print('AUC Score: {}'.format(aucScore[max_index]))\n",
    "        print('Confusion Matrix')\n",
    "        printConfusionMatrix(y_test, bestModel.predict(x_test))\n",
    "    \n",
    "    return bestModel"
   ]
  },
  {
   "cell_type": "markdown",
   "metadata": {},
   "source": [
    "## Predict overall popularity"
   ]
  },
  {
   "cell_type": "markdown",
   "metadata": {},
   "source": [
    "### Approch 1: without gap"
   ]
  },
  {
   "cell_type": "code",
   "execution_count": 168,
   "metadata": {},
   "outputs": [
    {
     "name": "stdout",
     "output_type": "stream",
     "text": [
      "Size of Input: (1592, 120)\n",
      "Size of Output: (1592,)\n"
     ]
    }
   ],
   "source": [
    "# Define In- and Output\n",
    "X = df_features\n",
    "X_norm = normalize(X)\n",
    "print('Size of Input: {}'.format(X_norm.shape))\n",
    "Y = df_output['popularity']\n",
    "print('Size of Output: {}'.format(Y.shape))"
   ]
  },
  {
   "cell_type": "code",
   "execution_count": 169,
   "metadata": {},
   "outputs": [
    {
     "data": {
      "text/plain": [
       "0    0\n",
       "1    1\n",
       "2    0\n",
       "3    1\n",
       "4    1\n",
       "Name: popularity, dtype: int64"
      ]
     },
     "execution_count": 169,
     "metadata": {},
     "output_type": "execute_result"
    }
   ],
   "source": [
    "# Create quantile bins for popularity\n",
    "Y = pd.qcut(Y, 2, labels= False)\n",
    "Y.head()"
   ]
  },
  {
   "cell_type": "code",
   "execution_count": 170,
   "metadata": {},
   "outputs": [
    {
     "data": {
      "image/png": "[encoded data removed]",
      "text/plain": [
       "<matplotlib.figure.Figure at 0x20ba1e8b9e8>"
      ]
     },
     "metadata": {},
     "output_type": "display_data"
    }
   ],
   "source": [
    "plt.figure()\n",
    "Y.hist()\n",
    "plt.title('Popularity Bins')\n",
    "plt.show()"
   ]
  },
  {
   "cell_type": "code",
   "execution_count": 171,
   "metadata": {},
   "outputs": [
    {
     "name": "stdout",
     "output_type": "stream",
     "text": [
      "Training Set: 1353\n",
      "Test Set: 239\n"
     ]
    }
   ],
   "source": [
    "# Create train and test set\n",
    "x_train, x_test, y_train, y_test = train_test_split(X_norm,Y, test_size=0.15, random_state=100)\n",
    "print('Training Set: {}'.format(x_train.shape[0]))\n",
    "print('Test Set: {}'.format(x_test.shape[0]))"
   ]
  },
  {
   "cell_type": "code",
   "execution_count": 172,
   "metadata": {},
   "outputs": [
    {
     "name": "stderr",
     "output_type": "stream",
     "text": [
      "C:\\Users\\mx190\\Anaconda3\\envs\\data-x\\lib\\site-packages\\sklearn\\linear_model\\stochastic_gradient.py:128: FutureWarning: max_iter and tol parameters have been added in <class 'sklearn.linear_model.perceptron.Perceptron'> in 0.19. If both are left unset, they default to max_iter=5 and tol=None. If tol is not None, max_iter defaults to max_iter=1000. From 0.21, default max_iter will be 1000, and default tol will be 1e-3.\n",
      "  \"and default tol will be 1e-3.\" % type(self), FutureWarning)\n",
      "C:\\Users\\mx190\\Anaconda3\\envs\\data-x\\lib\\site-packages\\sklearn\\preprocessing\\label.py:151: DeprecationWarning: The truth value of an empty array is ambiguous. Returning False, but in future this will result in an error. Use `array.size > 0` to check that an array is not empty.\n",
      "  if diff:\n",
      "C:\\Users\\mx190\\Anaconda3\\envs\\data-x\\lib\\site-packages\\sklearn\\preprocessing\\label.py:151: DeprecationWarning: The truth value of an empty array is ambiguous. Returning False, but in future this will result in an error. Use `array.size > 0` to check that an array is not empty.\n",
      "  if diff:\n",
      "C:\\Users\\mx190\\Anaconda3\\envs\\data-x\\lib\\site-packages\\sklearn\\preprocessing\\label.py:151: DeprecationWarning: The truth value of an empty array is ambiguous. Returning False, but in future this will result in an error. Use `array.size > 0` to check that an array is not empty.\n",
      "  if diff:\n"
     ]
    },
    {
     "name": "stdout",
     "output_type": "stream",
     "text": [
      "Used the following models:\n",
      "['Logistic Regression', 'Support Vector Machine', 'Perceptron', 'KN Neighbors', 'Gradient Boosting', 'Random Forest']\n",
      "Test Scores\n",
      "[0.5062761506276151, 0.5062761506276151, 0.49372384937238495, 0.5104602510460251, 0.5899581589958159, 0.5857740585774058]\n",
      "AUC Scores\n",
      "[0.5, 0.5, 0.5, 0.5113811458187422, 0.5899985992435915, 0.5858663678386329]\n",
      "Average test accuracies of all models is: 0.5320781032078103\n",
      "Gradient Boosting is the best model\n",
      "Test Accuracy: 0.5899581589958159\n",
      "AUC Score: 0.5899985992435915\n",
      "Confusion Matrix\n",
      "    0   1\n",
      "0  71  50\n",
      "1  48  70\n"
     ]
    },
    {
     "name": "stderr",
     "output_type": "stream",
     "text": [
      "C:\\Users\\mx190\\Anaconda3\\envs\\data-x\\lib\\site-packages\\sklearn\\preprocessing\\label.py:151: DeprecationWarning: The truth value of an empty array is ambiguous. Returning False, but in future this will result in an error. Use `array.size > 0` to check that an array is not empty.\n",
      "  if diff:\n"
     ]
    },
    {
     "data": {
      "text/plain": [
       "XGBClassifier(base_score=0.5, colsample_bylevel=1, colsample_bytree=1,\n",
       "       gamma=0, learning_rate=0.1, max_delta_step=0, max_depth=3,\n",
       "       min_child_weight=1, missing=None, n_estimators=140, nthread=-1,\n",
       "       objective='binary:logistic', reg_alpha=0, reg_lambda=1,\n",
       "       scale_pos_weight=1, seed=0, silent=True, subsample=1)"
      ]
     },
     "execution_count": 172,
     "metadata": {},
     "output_type": "execute_result"
    }
   ],
   "source": [
    "performsMLModelComparison(x_train, x_test, y_train, y_test)"
   ]
  },
  {
   "cell_type": "markdown",
   "metadata": {},
   "source": [
    "### Approach 2: with Gap"
   ]
  },
  {
   "cell_type": "code",
   "execution_count": 103,
   "metadata": {},
   "outputs": [
    {
     "name": "stdout",
     "output_type": "stream",
     "text": [
      "Size of Input: (1592, 120)\n",
      "Size of Output: (1592,)\n"
     ]
    }
   ],
   "source": [
    "# Define In- and Output\n",
    "X = df_features\n",
    "X_norm = normalize(X)\n",
    "print('Size of Input: {}'.format(X_norm.shape))\n",
    "Y = df_output['popularity']\n",
    "print('Size of Output: {}'.format(Y.shape))"
   ]
  },
  {
   "cell_type": "code",
   "execution_count": 104,
   "metadata": {},
   "outputs": [
    {
     "data": {
      "image/png": "[encoded data removed]",
      "text/plain": [
       "<matplotlib.figure.Figure at 0x20b9f398c88>"
      ]
     },
     "metadata": {},
     "output_type": "display_data"
    }
   ],
   "source": [
    "# Create quantile bins for popularity\n",
    "gapSize = 0.3\n",
    "binSize = (1-gapSize)/2\n",
    "Y = pd.qcut(Y, [0, binSize, binSize+gapSize, 1], labels= False)\n",
    "Y.head()\n",
    "plt.figure()\n",
    "Y.hist()\n",
    "plt.title('Popularity Bins')\n",
    "plt.show()"
   ]
  },
  {
   "cell_type": "code",
   "execution_count": 105,
   "metadata": {},
   "outputs": [
    {
     "name": "stdout",
     "output_type": "stream",
     "text": [
      "Reduced data set to 1106 from 1592:\n"
     ]
    }
   ],
   "source": [
    "# Throw away the middle one\n",
    "df_curr = pd.concat([X, Y], axis = 1)\n",
    "n = df_curr.shape[0]\n",
    "df_curr = df_curr[df_curr.popularity!=1]\n",
    "print('Reduced data set to {} from {}:'.format(df_curr.shape[0], n))\n",
    "df_curr.popularity = df_curr.popularity.replace(2,1)"
   ]
  },
  {
   "cell_type": "code",
   "execution_count": 106,
   "metadata": {},
   "outputs": [
    {
     "name": "stdout",
     "output_type": "stream",
     "text": [
      "Size of Input: (1106, 120)\n",
      "Size of Output: (1106,)\n"
     ]
    }
   ],
   "source": [
    "# Build input/output:\n",
    "X = df_curr.iloc[:, :-1]\n",
    "X_norm = normalize(X)\n",
    "Y = df_curr.popularity\n",
    "print('Size of Input: {}'.format(X_norm.shape))\n",
    "print('Size of Output: {}'.format(Y.shape))"
   ]
  },
  {
   "cell_type": "code",
   "execution_count": 107,
   "metadata": {},
   "outputs": [
    {
     "name": "stdout",
     "output_type": "stream",
     "text": [
      "Training Set: 940\n",
      "Test Set: 166\n"
     ]
    }
   ],
   "source": [
    "# Create train and test set\n",
    "x_train, x_test, y_train, y_test = train_test_split(X_norm,Y, test_size=0.15, random_state=100)\n",
    "print('Training Set: {}'.format(x_train.shape[0]))\n",
    "print('Test Set: {}'.format(x_test.shape[0]))"
   ]
  },
  {
   "cell_type": "code",
   "execution_count": 109,
   "metadata": {},
   "outputs": [
    {
     "name": "stderr",
     "output_type": "stream",
     "text": [
      "C:\\Users\\mx190\\Anaconda3\\envs\\data-x\\lib\\site-packages\\sklearn\\linear_model\\stochastic_gradient.py:128: FutureWarning: max_iter and tol parameters have been added in <class 'sklearn.linear_model.perceptron.Perceptron'> in 0.19. If both are left unset, they default to max_iter=5 and tol=None. If tol is not None, max_iter defaults to max_iter=1000. From 0.21, default max_iter will be 1000, and default tol will be 1e-3.\n",
      "  \"and default tol will be 1e-3.\" % type(self), FutureWarning)\n",
      "C:\\Users\\mx190\\Anaconda3\\envs\\data-x\\lib\\site-packages\\sklearn\\preprocessing\\label.py:151: DeprecationWarning: The truth value of an empty array is ambiguous. Returning False, but in future this will result in an error. Use `array.size > 0` to check that an array is not empty.\n",
      "  if diff:\n",
      "C:\\Users\\mx190\\Anaconda3\\envs\\data-x\\lib\\site-packages\\sklearn\\preprocessing\\label.py:151: DeprecationWarning: The truth value of an empty array is ambiguous. Returning False, but in future this will result in an error. Use `array.size > 0` to check that an array is not empty.\n",
      "  if diff:\n",
      "C:\\Users\\mx190\\Anaconda3\\envs\\data-x\\lib\\site-packages\\sklearn\\preprocessing\\label.py:151: DeprecationWarning: The truth value of an empty array is ambiguous. Returning False, but in future this will result in an error. Use `array.size > 0` to check that an array is not empty.\n",
      "  if diff:\n"
     ]
    },
    {
     "name": "stdout",
     "output_type": "stream",
     "text": [
      "Used the following models:\n",
      "['Logistic Regression', 'Support Vector Machine', 'Perceptron', 'KN Neighbors', 'Gradient Boosting', 'Random Forest']\n",
      "Test Scores\n",
      "[0.5180722891566265, 0.5180722891566265, 0.5180722891566265, 0.5301204819277109, 0.608433734939759, 0.5602409638554217]\n",
      "AUC Scores\n",
      "[0.5, 0.5, 0.5, 0.5334302325581396, 0.608139534883721, 0.5607558139534884]\n",
      "Average test accuracies of all models is: 0.5421686746987951\n",
      "Gradient Boosting is the best model\n",
      "Test Accuracy: 0.608433734939759\n",
      "AUC Score: 0.608139534883721\n",
      "Confusion Matrix\n",
      "    0   1\n",
      "0  53  33\n",
      "1  32  48\n"
     ]
    },
    {
     "name": "stderr",
     "output_type": "stream",
     "text": [
      "C:\\Users\\mx190\\Anaconda3\\envs\\data-x\\lib\\site-packages\\sklearn\\preprocessing\\label.py:151: DeprecationWarning: The truth value of an empty array is ambiguous. Returning False, but in future this will result in an error. Use `array.size > 0` to check that an array is not empty.\n",
      "  if diff:\n"
     ]
    }
   ],
   "source": [
    "# Trains different models and compare results\n",
    "model = performsMLModelComparison(x_train, x_test, y_train, y_test)"
   ]
  },
  {
   "cell_type": "code",
   "execution_count": 114,
   "metadata": {},
   "outputs": [
    {
     "name": "stderr",
     "output_type": "stream",
     "text": [
      "C:\\Users\\mx190\\Anaconda3\\envs\\data-x\\lib\\site-packages\\sklearn\\preprocessing\\label.py:151: DeprecationWarning: The truth value of an empty array is ambiguous. Returning False, but in future this will result in an error. Use `array.size > 0` to check that an array is not empty.\n",
      "  if diff:\n"
     ]
    },
    {
     "data": {
      "image/png": "[encoded data removed]",
      "text/plain": [
       "<matplotlib.figure.Figure at 0x20b9f35be10>"
      ]
     },
     "metadata": {},
     "output_type": "display_data"
    }
   ],
   "source": [
    "plotROCCurve(y_test, model.predict(x_test), 'Popularity Prediction')"
   ]
  },
  {
   "cell_type": "code",
   "execution_count": 145,
   "metadata": {},
   "outputs": [],
   "source": [
    "# Analyse feature importance\n",
    "list_features = featureImportance(x_train, y_train, list(df_features.columns))\n",
    "dict_features = dict(list_features)"
   ]
  },
  {
   "cell_type": "code",
   "execution_count": 146,
   "metadata": {},
   "outputs": [
    {
     "data": {
      "image/png": "[encoded data removed]",
      "text/plain": [
       "<matplotlib.figure.Figure at 0x20ba19a85c0>"
      ]
     },
     "metadata": {},
     "output_type": "display_data"
    }
   ],
   "source": [
    "# Plot bar plot of feature importance\n",
    "plt.figure()\n",
    "plt.bar(range(len(dict_features)), dict_features.values(), align='center')\n",
    "plt.xticks(range(len(dict_features)), dict_features.keys())\n",
    "plt.show()"
   ]
  },
  {
   "cell_type": "code",
   "execution_count": 152,
   "metadata": {},
   "outputs": [
    {
     "data": {
      "image/png": "[encoded data removed]",
      "text/plain": [
       "<matplotlib.figure.Figure at 0x20ba1cf7390>"
      ]
     },
     "metadata": {},
     "output_type": "display_data"
    },
    {
     "name": "stdout",
     "output_type": "stream",
     "text": [
      "Top 10 Features: \n",
      "[('loudness', 0.017676504229459877), ('mean_timbre12', 0.01645216497611007), ('80Percentile_timbre12', 0.01633012211883209), ('median_timbre12', 0.015384552919071755), ('min_timbre3', 0.01195863428853916), ('80Percentile_timbre4', 0.011553122261733226), ('min_timbre9', 0.011166959839625075), ('std_timbre9', 0.011121493326785392), ('min_timbre6', 0.011095442969468329), ('80Percentile_timbre7', 0.01094785160080328)]\n"
     ]
    }
   ],
   "source": [
    "dict_topFeatures = dict(list_features[:10])\n",
    "plt.figure()\n",
    "plt.bar(range(len(dict_topFeatures)), dict_topFeatures.values(), align='center')\n",
    "plt.xticks(range(len(dict_topFeatures)), dict_topFeatures.keys())\n",
    "plt.show()\n",
    "print('Top 10 Features: ')\n",
    "print(list_features[:10])"
   ]
  },
  {
   "cell_type": "markdown",
   "metadata": {},
   "source": [
    "### Approach 3: Group by Genres"
   ]
  },
  {
   "cell_type": "code",
   "execution_count": 155,
   "metadata": {},
   "outputs": [
    {
     "data": {
      "text/plain": [
       "0                latin\n",
       "1            dance pop\n",
       "2    alternative metal\n",
       "3                latin\n",
       "4                  pop\n",
       "Name: genre, dtype: object"
      ]
     },
     "execution_count": 155,
     "metadata": {},
     "output_type": "execute_result"
    }
   ],
   "source": [
    "df_songs = pd.read_csv('subset_every_feature.csv')\n",
    "df_genre = df_songs['genre']\n",
    "df_genre.head()"
   ]
  },
  {
   "cell_type": "code",
   "execution_count": 156,
   "metadata": {},
   "outputs": [
    {
     "data": {
      "text/plain": [
       "dance pop                  291\n",
       "None                       140\n",
       "pop                        109\n",
       "latin                       69\n",
       "hip hop                     37\n",
       "alternative metal           37\n",
       "big room                    32\n",
       "adult standards             31\n",
       "reggaeton                   28\n",
       "indie r&b                   24\n",
       "german hip hop              24\n",
       "canadian hip hop            23\n",
       "detroit hip hop             23\n",
       "french hip hop              22\n",
       "edm                         22\n",
       "canadian pop                22\n",
       "deep dutch hip hop          20\n",
       "album rock                  19\n",
       "mandopop                    18\n",
       "finnish dance pop           16\n",
       "modern rock                 15\n",
       "permanent wave              15\n",
       "neo mellow                  13\n",
       "deep german hip hop         12\n",
       "c-pop                       12\n",
       "danish hip hop              12\n",
       "tropical house              11\n",
       "downtempo                   11\n",
       "deep tropical house         11\n",
       "francoton                   11\n",
       "                          ... \n",
       "pop rock                     1\n",
       "movie tunes                  1\n",
       "dutch pop                    1\n",
       "neo-singer-songwriter        1\n",
       "classic mandopop             1\n",
       "fingerstyle                  1\n",
       "german pop rock              1\n",
       "disco                        1\n",
       "german indie                 1\n",
       "nu gaze                      1\n",
       "big beat                     1\n",
       "slow game                    1\n",
       "hip pop                      1\n",
       "house                        1\n",
       "estonian hip hop             1\n",
       "melodipop                    1\n",
       "pop rap                      1\n",
       "alternative r&b              1\n",
       "indie quebecois              1\n",
       "panamanian pop               1\n",
       "slovak hip hop               1\n",
       "chilean rock                 1\n",
       "indie rock                   1\n",
       "flamenco                     1\n",
       "sertanejo universitario      1\n",
       "alt-indie rock               1\n",
       "canzone napoletana           1\n",
       "nz reggae                    1\n",
       "chilean indie                1\n",
       "reggae                       1\n",
       "Name: genre, Length: 206, dtype: int64"
      ]
     },
     "execution_count": 156,
     "metadata": {},
     "output_type": "execute_result"
    }
   ],
   "source": [
    "df_genre.value_counts()"
   ]
  },
  {
   "cell_type": "code",
   "execution_count": 185,
   "metadata": {},
   "outputs": [
    {
     "name": "stdout",
     "output_type": "stream",
     "text": [
      "(400, 177)\n"
     ]
    }
   ],
   "source": [
    "df_curr = pd.concat([df, df_genre], axis = 1)\n",
    "df_curr = pd.concat([df_curr[df_curr.genre == 'dance pop'], df_curr[df_curr.genre == 'pop']])\n",
    "print(df_curr.shape)"
   ]
  },
  {
   "cell_type": "code",
   "execution_count": 186,
   "metadata": {},
   "outputs": [
    {
     "name": "stdout",
     "output_type": "stream",
     "text": [
      "Size of Input: (400, 120)\n",
      "Size of Output: (400,)\n"
     ]
    }
   ],
   "source": [
    "# Define In- and Output\n",
    "X = df_curr[features]\n",
    "X_norm = normalize(X)\n",
    "print('Size of Input: {}'.format(X_norm.shape))\n",
    "Y = df_curr['popularity']\n",
    "print('Size of Output: {}'.format(Y.shape))"
   ]
  },
  {
   "cell_type": "code",
   "execution_count": 187,
   "metadata": {},
   "outputs": [
    {
     "data": {
      "text/plain": [
       "1     1\n",
       "8     0\n",
       "10    1\n",
       "15    1\n",
       "25    1\n",
       "Name: popularity, dtype: int64"
      ]
     },
     "execution_count": 187,
     "metadata": {},
     "output_type": "execute_result"
    }
   ],
   "source": [
    "# Create quantile bins for popularity\n",
    "Y = pd.qcut(Y, 2, labels= False)\n",
    "Y.head()"
   ]
  },
  {
   "cell_type": "code",
   "execution_count": 188,
   "metadata": {},
   "outputs": [
    {
     "data": {
      "image/png": "[encoded data removed]",
      "text/plain": [
       "<matplotlib.figure.Figure at 0x20b9fae80b8>"
      ]
     },
     "metadata": {},
     "output_type": "display_data"
    }
   ],
   "source": [
    "plt.figure()\n",
    "Y.hist()\n",
    "plt.title('Popularity Bins')\n",
    "plt.show()"
   ]
  },
  {
   "cell_type": "code",
   "execution_count": 189,
   "metadata": {},
   "outputs": [
    {
     "name": "stdout",
     "output_type": "stream",
     "text": [
      "Training Set: 340\n",
      "Test Set: 60\n"
     ]
    }
   ],
   "source": [
    "# Create train and test set\n",
    "x_train, x_test, y_train, y_test = train_test_split(X_norm,Y, test_size=0.15, random_state=100)\n",
    "print('Training Set: {}'.format(x_train.shape[0]))\n",
    "print('Test Set: {}'.format(x_test.shape[0]))"
   ]
  },
  {
   "cell_type": "code",
   "execution_count": 190,
   "metadata": {},
   "outputs": [
    {
     "name": "stderr",
     "output_type": "stream",
     "text": [
      "C:\\Users\\mx190\\Anaconda3\\envs\\data-x\\lib\\site-packages\\sklearn\\linear_model\\stochastic_gradient.py:128: FutureWarning: max_iter and tol parameters have been added in <class 'sklearn.linear_model.perceptron.Perceptron'> in 0.19. If both are left unset, they default to max_iter=5 and tol=None. If tol is not None, max_iter defaults to max_iter=1000. From 0.21, default max_iter will be 1000, and default tol will be 1e-3.\n",
      "  \"and default tol will be 1e-3.\" % type(self), FutureWarning)\n",
      "C:\\Users\\mx190\\Anaconda3\\envs\\data-x\\lib\\site-packages\\sklearn\\preprocessing\\label.py:151: DeprecationWarning: The truth value of an empty array is ambiguous. Returning False, but in future this will result in an error. Use `array.size > 0` to check that an array is not empty.\n",
      "  if diff:\n",
      "C:\\Users\\mx190\\Anaconda3\\envs\\data-x\\lib\\site-packages\\sklearn\\preprocessing\\label.py:151: DeprecationWarning: The truth value of an empty array is ambiguous. Returning False, but in future this will result in an error. Use `array.size > 0` to check that an array is not empty.\n",
      "  if diff:\n",
      "C:\\Users\\mx190\\Anaconda3\\envs\\data-x\\lib\\site-packages\\sklearn\\preprocessing\\label.py:151: DeprecationWarning: The truth value of an empty array is ambiguous. Returning False, but in future this will result in an error. Use `array.size > 0` to check that an array is not empty.\n",
      "  if diff:\n"
     ]
    },
    {
     "name": "stdout",
     "output_type": "stream",
     "text": [
      "Used the following models:\n",
      "['Logistic Regression', 'Support Vector Machine', 'Perceptron', 'KN Neighbors', 'Gradient Boosting', 'Random Forest']\n",
      "Test Scores\n",
      "[0.45, 0.4666666666666667, 0.48333333333333334, 0.3333333333333333, 0.48333333333333334, 0.5166666666666667]\n",
      "AUC Scores\n",
      "[0.44660734149054504, 0.46273637374860954, 0.5, 0.3292547274749722, 0.47997775305895435, 0.514460511679644]\n",
      "Average test accuracies of all models is: 0.45555555555555555\n",
      "Random Forest is the best model\n",
      "Test Accuracy: 0.5166666666666667\n",
      "AUC Score: 0.514460511679644\n",
      "Confusion Matrix\n",
      "    0   1\n",
      "0  18  13\n",
      "1  16  13\n"
     ]
    }
   ],
   "source": [
    "model = performsMLModelComparison(x_train, x_test, y_train, y_test)"
   ]
  },
  {
   "cell_type": "markdown",
   "metadata": {},
   "source": [
    "### Approach 4: Feature Reducing"
   ]
  },
  {
   "cell_type": "code",
   "execution_count": 201,
   "metadata": {},
   "outputs": [
    {
     "name": "stdout",
     "output_type": "stream",
     "text": [
      "Size of Input: (1592, 120)\n",
      "Size of Output: (1592,)\n",
      "Reduced data set to 1106 from 1592:\n",
      "Size of Input: (1106, 120)\n",
      "Size of Output: (1106,)\n",
      "Training Set: 940\n",
      "Test Set: 166\n"
     ]
    }
   ],
   "source": [
    "# Define In- and Output\n",
    "X = df_features\n",
    "X_norm = normalize(X)\n",
    "print('Size of Input: {}'.format(X_norm.shape))\n",
    "Y = df_output['popularity']\n",
    "print('Size of Output: {}'.format(Y.shape))\n",
    "# Create quantile bins for popularity\n",
    "gapSize = 0.3\n",
    "binSize = (1-gapSize)/2\n",
    "Y = pd.qcut(Y, [0, binSize, binSize+gapSize, 1], labels= False)\n",
    "# Throw away the middle one\n",
    "df_curr = pd.concat([X, Y], axis = 1)\n",
    "n = df_curr.shape[0]\n",
    "df_curr = df_curr[df_curr.popularity!=1]\n",
    "print('Reduced data set to {} from {}:'.format(df_curr.shape[0], n))\n",
    "df_curr.popularity = df_curr.popularity.replace(2,1)"
   ]
  },
  {
   "cell_type": "code",
   "execution_count": 197,
   "metadata": {},
   "outputs": [],
   "source": [
    "# Get list of features\n",
    "rankedFeatures = list(dict_features.keys())"
   ]
  },
  {
   "cell_type": "code",
   "execution_count": 224,
   "metadata": {
    "scrolled": true
   },
   "outputs": [
    {
     "name": "stdout",
     "output_type": "stream",
     "text": [
      "Size of Input: (1106, 6)\n",
      "Size of Output: (1106,)\n",
      "Size of Input: (1106, 8)\n",
      "Size of Output: (1106,)\n",
      "Size of Input: (1106, 10)\n",
      "Size of Output: (1106,)\n",
      "Size of Input: (1106, 12)\n",
      "Size of Output: (1106,)\n",
      "Size of Input: (1106, 14)\n",
      "Size of Output: (1106,)\n",
      "Size of Input: (1106, 16)\n",
      "Size of Output: (1106,)\n",
      "Size of Input: (1106, 18)\n",
      "Size of Output: (1106,)\n",
      "Size of Input: (1106, 20)\n",
      "Size of Output: (1106,)\n",
      "Size of Input: (1106, 22)\n",
      "Size of Output: (1106,)\n",
      "Size of Input: (1106, 24)\n",
      "Size of Output: (1106,)\n",
      "Size of Input: (1106, 26)\n",
      "Size of Output: (1106,)\n",
      "Size of Input: (1106, 28)\n",
      "Size of Output: (1106,)\n",
      "Size of Input: (1106, 30)\n",
      "Size of Output: (1106,)\n",
      "Size of Input: (1106, 32)\n",
      "Size of Output: (1106,)\n",
      "Size of Input: (1106, 34)\n",
      "Size of Output: (1106,)\n",
      "Size of Input: (1106, 36)\n",
      "Size of Output: (1106,)\n",
      "Size of Input: (1106, 38)\n",
      "Size of Output: (1106,)\n",
      "Size of Input: (1106, 40)\n",
      "Size of Output: (1106,)\n",
      "Size of Input: (1106, 42)\n",
      "Size of Output: (1106,)\n",
      "Size of Input: (1106, 44)\n",
      "Size of Output: (1106,)\n",
      "Size of Input: (1106, 46)\n",
      "Size of Output: (1106,)\n",
      "Size of Input: (1106, 48)\n",
      "Size of Output: (1106,)\n",
      "Size of Input: (1106, 50)\n",
      "Size of Output: (1106,)\n",
      "Size of Input: (1106, 52)\n",
      "Size of Output: (1106,)\n",
      "Size of Input: (1106, 54)\n",
      "Size of Output: (1106,)\n",
      "Size of Input: (1106, 56)\n",
      "Size of Output: (1106,)\n",
      "Size of Input: (1106, 58)\n",
      "Size of Output: (1106,)\n",
      "Size of Input: (1106, 60)\n",
      "Size of Output: (1106,)\n",
      "Size of Input: (1106, 62)\n",
      "Size of Output: (1106,)\n",
      "Size of Input: (1106, 64)\n",
      "Size of Output: (1106,)\n",
      "Size of Input: (1106, 66)\n",
      "Size of Output: (1106,)\n",
      "Size of Input: (1106, 68)\n",
      "Size of Output: (1106,)\n",
      "Size of Input: (1106, 70)\n",
      "Size of Output: (1106,)\n",
      "Size of Input: (1106, 72)\n",
      "Size of Output: (1106,)\n",
      "Size of Input: (1106, 74)\n",
      "Size of Output: (1106,)\n",
      "Size of Input: (1106, 76)\n",
      "Size of Output: (1106,)\n",
      "Size of Input: (1106, 78)\n",
      "Size of Output: (1106,)\n",
      "Size of Input: (1106, 80)\n",
      "Size of Output: (1106,)\n",
      "Size of Input: (1106, 82)\n",
      "Size of Output: (1106,)\n",
      "Size of Input: (1106, 84)\n",
      "Size of Output: (1106,)\n",
      "Size of Input: (1106, 86)\n",
      "Size of Output: (1106,)\n",
      "Size of Input: (1106, 88)\n",
      "Size of Output: (1106,)\n",
      "Size of Input: (1106, 90)\n",
      "Size of Output: (1106,)\n",
      "Size of Input: (1106, 92)\n",
      "Size of Output: (1106,)\n",
      "Size of Input: (1106, 94)\n",
      "Size of Output: (1106,)\n",
      "Size of Input: (1106, 96)\n",
      "Size of Output: (1106,)\n",
      "Size of Input: (1106, 98)\n",
      "Size of Output: (1106,)\n",
      "Size of Input: (1106, 100)\n",
      "Size of Output: (1106,)\n",
      "Size of Input: (1106, 102)\n",
      "Size of Output: (1106,)\n",
      "Size of Input: (1106, 104)\n",
      "Size of Output: (1106,)\n",
      "Size of Input: (1106, 106)\n",
      "Size of Output: (1106,)\n",
      "Size of Input: (1106, 108)\n",
      "Size of Output: (1106,)\n",
      "Size of Input: (1106, 110)\n",
      "Size of Output: (1106,)\n",
      "Size of Input: (1106, 112)\n",
      "Size of Output: (1106,)\n",
      "Size of Input: (1106, 114)\n",
      "Size of Output: (1106,)\n",
      "Size of Input: (1106, 116)\n",
      "Size of Output: (1106,)\n",
      "Size of Input: (1106, 118)\n",
      "Size of Output: (1106,)\n",
      "Size of Input: (1106, 120)\n",
      "Size of Output: (1106,)\n"
     ]
    }
   ],
   "source": [
    "n = len(rankedFeatures)\n",
    "testAcc = list()\n",
    "model = RandomForestClassifier(n_estimators=140)\n",
    "vec = np.arange(5,n,2)\n",
    "for i in vec:\n",
    "    X = df_curr[rankedFeatures[:i+1]]\n",
    "    X_norm = normalize(X)\n",
    "    Y = df_curr.popularity\n",
    "    print('Size of Input: {}'.format(X_norm.shape))\n",
    "    print('Size of Output: {}'.format(Y.shape))\n",
    "    x_train, x_test, y_train, y_test = train_test_split(X_norm,Y, test_size=0.15, random_state=100)\n",
    "    \n",
    "    model = runsModel(x_train, x_test, y_train, y_test, model, printing = False)\n",
    "    testAcc.append(model.score(x_test, y_test))\n",
    "    "
   ]
  },
  {
   "cell_type": "code",
   "execution_count": 226,
   "metadata": {
    "scrolled": true
   },
   "outputs": [
    {
     "data": {
      "image/png": "[encoded data removed]",
      "text/plain": [
       "<matplotlib.figure.Figure at 0x20ba1e8b320>"
      ]
     },
     "metadata": {},
     "output_type": "display_data"
    },
    {
     "name": "stdout",
     "output_type": "stream",
     "text": [
      "Max. test accuracy of 0.6927710843373494 at 60 features\n"
     ]
    }
   ],
   "source": [
    "plt.figure()\n",
    "plt.plot(vec, testAcc)\n",
    "plt.xlabel('number of features')\n",
    "plt.ylabel('test accuracy')\n",
    "plt.title('Feature selection')\n",
    "plt.show()\n",
    "maxTestAcc = max(testAcc)\n",
    "optFeatures = vec[(testAcc.index(maxTestAcc))]+1\n",
    "\n",
    "print('Max. test accuracy of {} at {} features'.format(maxTestAcc, optFeatures))\n"
   ]
  },
  {
   "cell_type": "markdown",
   "metadata": {},
   "source": [
    "### Tune Hyperparameters"
   ]
  },
  {
   "cell_type": "code",
   "execution_count": 227,
   "metadata": {
    "collapsed": true
   },
   "outputs": [],
   "source": [
    "n_features = 60\n",
    "gapSize = 0.3"
   ]
  },
  {
   "cell_type": "code",
   "execution_count": 237,
   "metadata": {},
   "outputs": [
    {
     "name": "stdout",
     "output_type": "stream",
     "text": [
      "Size of Input: (1592, 60)\n",
      "Size of Output: (1592,)\n",
      "Reduced data set to 1106 from 1592:\n",
      "(1106, 60)\n",
      "(1106,)\n"
     ]
    }
   ],
   "source": [
    "# Define In- and Output\n",
    "X = df_features[rankedFeatures[:n_features]]\n",
    "print('Size of Input: {}'.format(X.shape))\n",
    "Y = df_output['popularity']\n",
    "print('Size of Output: {}'.format(Y.shape))\n",
    "\n",
    "# Create quantile bins for popularity\n",
    "binSize = (1-gapSize)/2\n",
    "Y = pd.qcut(Y, [0, binSize, binSize+gapSize, 1], labels= False)\n",
    "# Throw away the middle one\n",
    "df_curr = pd.concat([X, Y], axis = 1)\n",
    "n = df_curr.shape[0]\n",
    "df_curr = df_curr[df_curr.popularity!=1]\n",
    "print('Reduced data set to {} from {}:'.format(df_curr.shape[0], n))\n",
    "df_curr.popularity = df_curr.popularity.replace(2,1)\n",
    "\n",
    "X = df_curr.iloc[:,:-1]\n",
    "print(X.shape)\n",
    "X_norm = normalize(X)\n",
    "Y = df_curr.popularity\n",
    "print(Y.shape)\n",
    "x_train, x_test, y_train, y_test = train_test_split(X_norm,Y, test_size=0.15, random_state=100)"
   ]
  },
  {
   "cell_type": "code",
   "execution_count": 241,
   "metadata": {},
   "outputs": [
    {
     "name": "stdout",
     "output_type": "stream",
     "text": [
      "Test Accuracy: 0.6686746987951807\n",
      "Training Accuracy: 0.9968085106382979\n",
      "AUC Score: 0.6671511627906976\n",
      "Confusion Matrix\n",
      "    0   1\n",
      "0  61  25\n",
      "1  30  50\n"
     ]
    }
   ],
   "source": [
    "model = RandomForestClassifier(n_estimators=140)\n",
    "model = runsModel(x_train, x_test, y_train, y_test, model)"
   ]
  },
  {
   "cell_type": "code",
   "execution_count": 246,
   "metadata": {},
   "outputs": [
    {
     "name": "stdout",
     "output_type": "stream",
     "text": [
      "Still going...\n",
      "Still going...\n",
      "Still going...\n",
      "Still going...\n",
      "Still going...\n"
     ]
    }
   ],
   "source": [
    "# Tune Hyperparameter\n",
    "n_estimators = np.arange(40, 300, 5)\n",
    "testAcc = list()\n",
    "for i in n_estimators:\n",
    "    model = RandomForestClassifier(n_estimators=i)\n",
    "    model = runsModel(x_train, x_test, y_train, y_test, model, printing=False)\n",
    "    testAcc.append(model.score(x_test, y_test))\n",
    "    if(i%50==0):\n",
    "        print('Still going...')\n"
   ]
  },
  {
   "cell_type": "code",
   "execution_count": 248,
   "metadata": {},
   "outputs": [
    {
     "data": {
      "image/png": "[encoded data removed]",
      "text/plain": [
       "<matplotlib.figure.Figure at 0x20ba1cc39e8>"
      ]
     },
     "metadata": {},
     "output_type": "display_data"
    },
    {
     "name": "stdout",
     "output_type": "stream",
     "text": [
      "Max. test accuracy of 0.7048192771084337 at n_estimtors = 225\n"
     ]
    }
   ],
   "source": [
    "plt.figure()\n",
    "plt.plot(n_estimators, testAcc)\n",
    "plt.xlabel('n_estimators')\n",
    "plt.ylabel('test accuracy')\n",
    "plt.title('Hyperparamter Tuning')\n",
    "plt.show()\n",
    "maxTestAcc = max(testAcc)\n",
    "optEstimators = n_estimators[(testAcc.index(maxTestAcc))]\n",
    "\n",
    "print('Max. test accuracy of {} at n_estimtors = {}'.format(maxTestAcc, optEstimators))"
   ]
  },
  {
   "cell_type": "markdown",
   "metadata": {},
   "source": [
    "## Predict regional charts"
   ]
  },
  {
   "cell_type": "code",
   "execution_count": 253,
   "metadata": {},
   "outputs": [
    {
     "name": "stdout",
     "output_type": "stream",
     "text": [
      "Size of Input: (1592, 120)\n",
      "Size of Output: (1592, 53)\n"
     ]
    }
   ],
   "source": [
    "# Define In- and Output\n",
    "X = df_features\n",
    "X_norm = normalize(X)\n",
    "print('Size of Input: {}'.format(X_norm.shape))\n",
    "Y = df_output\n",
    "Y = Y.drop('popularity', axis = 1)\n",
    "print('Size of Output: {}'.format(Y.shape))"
   ]
  },
  {
   "cell_type": "code",
   "execution_count": 262,
   "metadata": {},
   "outputs": [
    {
     "name": "stdout",
     "output_type": "stream",
     "text": [
      "Performs prediction at Country: ee\n",
      "Random Forest is the best model\n",
      "Test Accuracy: 0.7907949790794979\n",
      "AUC Score: 0.6082702020202021\n",
      "Confusion Matrix\n",
      "     0   1\n",
      "0  175   1\n",
      "1   49  14\n",
      "Performs prediction at Country: br\n",
      "Random Forest is the best model\n",
      "Test Accuracy: 0.8075313807531381\n",
      "AUC Score: 0.6290322580645161\n",
      "Confusion Matrix\n",
      "     0   1\n",
      "0  177   0\n",
      "1   46  16\n",
      "Performs prediction at Country: my\n",
      "Random Forest is the best model\n",
      "Test Accuracy: 0.7112970711297071\n",
      "AUC Score: 0.6690342947338211\n",
      "Confusion Matrix\n",
      "     0   1\n",
      "0  130   8\n",
      "1   61  40\n",
      "Performs prediction at Country: cz\n",
      "Random Forest is the best model\n",
      "Test Accuracy: 0.7154811715481172\n",
      "AUC Score: 0.7127838519764509\n",
      "Confusion Matrix\n",
      "    0   1\n",
      "0  99  24\n",
      "1  44  72\n",
      "Performs prediction at Country: pe\n",
      "Random Forest is the best model\n",
      "Test Accuracy: 0.8242677824267782\n",
      "AUC Score: 0.631578947368421\n",
      "Confusion Matrix\n",
      "     0   1\n",
      "0  182   0\n",
      "1   42  15\n",
      "Performs prediction at Country: gb\n",
      "Random Forest is the best model\n",
      "Test Accuracy: 0.6861924686192469\n",
      "AUC Score: 0.6783605174353207\n",
      "Confusion Matrix\n",
      "     0   1\n",
      "0  102  25\n",
      "1   50  62\n",
      "Performs prediction at Country: ie\n",
      "Gradient Boosting is the best model\n",
      "Test Accuracy: 0.6443514644351465\n",
      "AUC Score: 0.6435243714004776\n",
      "Confusion Matrix\n",
      "    0   1\n",
      "0  83  43\n",
      "1  42  71\n",
      "Performs prediction at Country: se\n",
      "Random Forest is the best model\n",
      "Test Accuracy: 0.7615062761506276\n",
      "AUC Score: 0.7185550935550936\n",
      "Confusion Matrix\n",
      "     0   1\n",
      "0  133  15\n",
      "1   42  49\n",
      "Performs prediction at Country: sk\n",
      "Random Forest is the best model\n",
      "Test Accuracy: 0.7489539748953975\n",
      "AUC Score: 0.6087746206005812\n",
      "Confusion Matrix\n",
      "     0   1\n",
      "0  162   1\n",
      "1   59  17\n",
      "Performs prediction at Country: co\n",
      "Random Forest is the best model\n",
      "Test Accuracy: 0.8075313807531381\n",
      "AUC Score: 0.6562007356805044\n",
      "Confusion Matrix\n",
      "     0   1\n",
      "0  172   1\n",
      "1   45  21\n",
      "Performs prediction at Country: sg\n",
      "Random Forest is the best model\n",
      "Test Accuracy: 0.7196652719665272\n",
      "AUC Score: 0.677886002886003\n",
      "Confusion Matrix\n",
      "     0   1\n",
      "0  129  11\n",
      "1   56  43\n",
      "Performs prediction at Country: ec\n",
      "Gradient Boosting is the best model\n",
      "Test Accuracy: 0.799163179916318\n",
      "AUC Score: 0.664500442086649\n",
      "Confusion Matrix\n",
      "     0   1\n",
      "0  167   7\n",
      "1   41  24\n",
      "Performs prediction at Country: es\n",
      "Random Forest is the best model\n",
      "Test Accuracy: 0.7322175732217573\n",
      "AUC Score: 0.6141613924050633\n",
      "Confusion Matrix\n",
      "     0   1\n",
      "0  154   6\n",
      "1   58  21\n",
      "Performs prediction at Country: no\n",
      "Random Forest is the best model\n",
      "Test Accuracy: 0.7364016736401674\n",
      "AUC Score: 0.6892149669845928\n",
      "Confusion Matrix\n",
      "     0   1\n",
      "0  132  13\n",
      "1   50  44\n",
      "Performs prediction at Country: dk\n",
      "Random Forest is the best model\n",
      "Test Accuracy: 0.7196652719665272\n",
      "AUC Score: 0.6604548789435069\n",
      "Confusion Matrix\n",
      "     0   1\n",
      "0  136   9\n",
      "1   58  36\n",
      "Performs prediction at Country: be\n",
      "Gradient Boosting is the best model\n",
      "Test Accuracy: 0.6610878661087866\n",
      "AUC Score: 0.657902137232846\n",
      "Confusion Matrix\n",
      "    0   1\n",
      "0  90  37\n",
      "1  44  68\n",
      "Performs prediction at Country: lu\n",
      "Random Forest is the best model\n",
      "Test Accuracy: 0.9121338912133892\n",
      "AUC Score: 0.6111111111111112\n",
      "Confusion Matrix\n",
      "     0  1\n",
      "0  212  0\n",
      "1   21  6\n",
      "Performs prediction at Country: do\n",
      "Random Forest is the best model\n",
      "Test Accuracy: 0.8200836820083682\n",
      "AUC Score: 0.652928716153988\n",
      "Confusion Matrix\n",
      "     0   1\n",
      "0  177   1\n",
      "1   42  19\n",
      "Performs prediction at Country: nz\n",
      "Random Forest is the best model\n",
      "Test Accuracy: 0.6861924686192469\n",
      "AUC Score: 0.6122890682318416\n",
      "Confusion Matrix\n",
      "     0   1\n",
      "0  139   6\n",
      "1   69  25\n",
      "Performs prediction at Country: de\n",
      "Random Forest is the best model\n",
      "Test Accuracy: 0.6820083682008368\n",
      "AUC Score: 0.6163242846661775\n",
      "Confusion Matrix\n",
      "     0   1\n",
      "0  134  11\n",
      "1   65  29\n",
      "Performs prediction at Country: hu\n",
      "Random Forest is the best model\n",
      "Test Accuracy: 0.6694560669456067\n",
      "AUC Score: 0.6699579831932774\n",
      "Confusion Matrix\n",
      "    0   1\n",
      "0  94  25\n",
      "1  54  66\n",
      "Performs prediction at Country: cr\n",
      "Random Forest is the best model\n",
      "Test Accuracy: 0.7740585774058577\n",
      "AUC Score: 0.6250859993120055\n",
      "Confusion Matrix\n",
      "     0   1\n",
      "0  166   5\n",
      "1   49  19\n",
      "Performs prediction at Country: jp\n",
      "Gradient Boosting is the best model\n",
      "Test Accuracy: 0.7196652719665272\n",
      "AUC Score: 0.6200828157349896\n",
      "Confusion Matrix\n",
      "     0   1\n",
      "0  146  15\n",
      "1   52  26\n",
      "Performs prediction at Country: hk\n",
      "Gradient Boosting is the best model\n",
      "Test Accuracy: 0.6778242677824268\n",
      "AUC Score: 0.6382616876537849\n",
      "Confusion Matrix\n",
      "     0   1\n",
      "0  121  20\n",
      "1   57  41\n",
      "Performs prediction at Country: lt\n",
      "Random Forest is the best model\n",
      "Test Accuracy: 0.7405857740585774\n",
      "AUC Score: 0.6008096841430175\n",
      "Confusion Matrix\n",
      "     0   1\n",
      "0  161   1\n",
      "1   61  16\n",
      "Performs prediction at Country: pl\n",
      "Gradient Boosting is the best model\n",
      "Test Accuracy: 0.6610878661087866\n",
      "AUC Score: 0.6601836276983459\n",
      "Confusion Matrix\n",
      "    0   1\n",
      "0  85  38\n",
      "1  43  73\n",
      "Performs prediction at Country: it\n",
      "Random Forest is the best model\n",
      "Test Accuracy: 0.7071129707112971\n",
      "AUC Score: 0.5924080939141181\n",
      "Confusion Matrix\n",
      "     0   1\n",
      "0  151   5\n",
      "1   65  18\n",
      "Performs prediction at Country: hn\n",
      "Random Forest is the best model\n",
      "Test Accuracy: 0.8744769874476988\n",
      "AUC Score: 0.6428571428571428\n",
      "Confusion Matrix\n",
      "     0   1\n",
      "0  197   0\n",
      "1   30  12\n",
      "Performs prediction at Country: mx\n",
      "Gradient Boosting is the best model\n",
      "Test Accuracy: 0.7866108786610879\n",
      "AUC Score: 0.6691885038038884\n",
      "Confusion Matrix\n",
      "     0   1\n",
      "0  161   8\n",
      "1   43  27\n",
      "Performs prediction at Country: ph\n",
      "Gradient Boosting is the best model\n",
      "Test Accuracy: 0.7364016736401674\n",
      "AUC Score: 0.6222148869450405\n",
      "Confusion Matrix\n",
      "     0   1\n",
      "0  152  14\n",
      "1   49  24\n",
      "Performs prediction at Country: cl\n",
      "Gradient Boosting is the best model\n",
      "Test Accuracy: 0.8284518828451883\n",
      "AUC Score: 0.6704742625795257\n",
      "Confusion Matrix\n",
      "     0   1\n",
      "0  177   5\n",
      "1   36  21\n",
      "Performs prediction at Country: is\n",
      "Random Forest is the best model\n",
      "Test Accuracy: 0.803347280334728\n",
      "AUC Score: 0.6138733705772812\n",
      "Confusion Matrix\n",
      "     0   1\n",
      "0  178   1\n",
      "1   46  14\n",
      "Performs prediction at Country: ca\n",
      "Gradient Boosting is the best model\n",
      "Test Accuracy: 0.6820083682008368\n",
      "AUC Score: 0.6638592750533049\n",
      "Confusion Matrix\n",
      "     0   1\n",
      "0  109  25\n",
      "1   51  54\n",
      "Performs prediction at Country: ar\n",
      "Random Forest is the best model\n",
      "Test Accuracy: 0.8117154811715481\n",
      "AUC Score: 0.6357344632768361\n",
      "Confusion Matrix\n",
      "     0   1\n",
      "0  177   3\n",
      "1   42  17\n",
      "Performs prediction at Country: at\n",
      "Random Forest is the best model\n",
      "Test Accuracy: 0.6694560669456067\n",
      "AUC Score: 0.6631578947368422\n",
      "Confusion Matrix\n",
      "     0   1\n",
      "0  100  25\n",
      "1   54  60\n",
      "Performs prediction at Country: ch\n",
      "Gradient Boosting is the best model\n",
      "Test Accuracy: 0.6778242677824268\n",
      "AUC Score: 0.6778711484593837\n",
      "Confusion Matrix\n",
      "    0   1\n",
      "0  82  37\n",
      "1  40  80\n",
      "Performs prediction at Country: tr\n",
      "Random Forest is the best model\n",
      "Test Accuracy: 0.7573221757322176\n",
      "AUC Score: 0.6027397260273972\n",
      "Confusion Matrix\n",
      "     0   1\n",
      "0  166   0\n",
      "1   58  15\n",
      "Performs prediction at Country: py\n",
      "Random Forest is the best model\n",
      "Test Accuracy: 0.8535564853556485\n",
      "AUC Score: 0.6711514392991239\n",
      "Confusion Matrix\n",
      "     0   1\n",
      "0  186   2\n",
      "1   33  18\n",
      "Performs prediction at Country: tw\n",
      "Random Forest is the best model\n",
      "Test Accuracy: 0.702928870292887\n",
      "AUC Score: 0.6979312762973352\n",
      "Confusion Matrix\n",
      "     0   1\n",
      "0  103  21\n",
      "1   50  65\n",
      "Performs prediction at Country: gt\n",
      "Random Forest is the best model\n",
      "Test Accuracy: 0.8117154811715481\n",
      "AUC Score: 0.6530483405483406\n",
      "Confusion Matrix\n",
      "     0   1\n",
      "0  174   2\n",
      "1   43  20\n",
      "Performs prediction at Country: sv\n",
      "Random Forest is the best model\n",
      "Test Accuracy: 0.8786610878661087\n",
      "AUC Score: 0.6627906976744187\n",
      "Confusion Matrix\n",
      "     0   1\n",
      "0  196   0\n",
      "1   29  14\n",
      "Performs prediction at Country: us\n",
      "Random Forest is the best model\n",
      "Test Accuracy: 0.6527196652719666\n",
      "AUC Score: 0.6181837698583083\n",
      "Confusion Matrix\n",
      "     0   1\n",
      "0  117  20\n",
      "1   63  39\n",
      "Performs prediction at Country: fr\n",
      "Random Forest is the best model\n",
      "Test Accuracy: 0.7698744769874477\n",
      "AUC Score: 0.6100596760443309\n",
      "Confusion Matrix\n",
      "     0   1\n",
      "0  168   2\n",
      "1   53  16\n",
      "Performs prediction at Country: global\n",
      "Gradient Boosting is the best model\n",
      "Test Accuracy: 0.6694560669456067\n",
      "AUC Score: 0.6681729017794592\n",
      "Confusion Matrix\n",
      "    0   1\n",
      "0  89  33\n",
      "1  46  71\n",
      "Performs prediction at Country: nl\n",
      "Random Forest is the best model\n",
      "Test Accuracy: 0.6903765690376569\n",
      "AUC Score: 0.6059597752144336\n",
      "Confusion Matrix\n",
      "     0   1\n",
      "0  143   4\n",
      "1   70  22\n",
      "Performs prediction at Country: bo\n"
     ]
    },
    {
     "name": "stdout",
     "output_type": "stream",
     "text": [
      "Random Forest is the best model\n",
      "Test Accuracy: 0.8410041841004184\n",
      "AUC Score: 0.6273544973544973\n",
      "Confusion Matrix\n",
      "     0   1\n",
      "0  188   1\n",
      "1   37  13\n",
      "Performs prediction at Country: lv\n",
      "Random Forest is the best model\n",
      "Test Accuracy: 0.7489539748953975\n",
      "AUC Score: 0.5928783627661329\n",
      "Confusion Matrix\n",
      "     0   1\n",
      "0  165   1\n",
      "1   59  14\n",
      "Performs prediction at Country: gr\n",
      "Gradient Boosting is the best model\n",
      "Test Accuracy: 0.7238493723849372\n",
      "AUC Score: 0.6425883256528419\n",
      "Confusion Matrix\n",
      "     0   1\n",
      "0  142  13\n",
      "1   53  31\n",
      "Performs prediction at Country: pa\n",
      "Random Forest is the best model\n",
      "Test Accuracy: 0.8326359832635983\n",
      "AUC Score: 0.6610169491525424\n",
      "Confusion Matrix\n",
      "     0   1\n",
      "0  180   0\n",
      "1   40  19\n",
      "Performs prediction at Country: uy\n",
      "Random Forest is the best model\n",
      "Test Accuracy: 0.8158995815899581\n",
      "AUC Score: 0.6499534450651769\n",
      "Confusion Matrix\n",
      "     0   1\n",
      "0  176   3\n",
      "1   41  19\n",
      "Performs prediction at Country: au\n",
      "Gradient Boosting is the best model\n",
      "Test Accuracy: 0.6610878661087866\n",
      "AUC Score: 0.6348646723646724\n",
      "Confusion Matrix\n",
      "     0   1\n",
      "0  113  22\n",
      "1   59  45\n",
      "Performs prediction at Country: pt\n",
      "Random Forest is the best model\n",
      "Test Accuracy: 0.6820083682008368\n",
      "AUC Score: 0.6746143057503506\n",
      "Confusion Matrix\n",
      "     0   1\n",
      "0  108  16\n",
      "1   60  55\n",
      "Performs prediction at Country: fi\n",
      "Random Forest is the best model\n",
      "Test Accuracy: 0.7112970711297071\n",
      "AUC Score: 0.6329213483146067\n",
      "Confusion Matrix\n",
      "     0   1\n",
      "0  141   9\n",
      "1   60  29\n"
     ]
    }
   ],
   "source": [
    "testAccuracy = list()\n",
    "for i in range(Y.shape[1]):\n",
    "    print('Performs prediction at Country: {}'.format(Y.columns[i]))\n",
    "    Y_curr = Y.iloc[:,i]\n",
    "    x_train, x_test, y_train, y_test = train_test_split(X_norm,Y_curr, test_size=0.15, random_state=100)\n",
    "    bestModel = performsMLModelComparison(x_train, x_test, y_train, y_test, verbose = False)\n",
    "    testAccuracy.append(bestModel.score(x_test, y_test))"
   ]
  },
  {
   "cell_type": "code",
   "execution_count": 264,
   "metadata": {},
   "outputs": [
    {
     "data": {
      "image/png": "[encoded data removed]",
      "text/plain": [
       "<matplotlib.figure.Figure at 0x20ba1868400>"
      ]
     },
     "metadata": {},
     "output_type": "display_data"
    },
    {
     "name": "stdout",
     "output_type": "stream",
     "text": [
      "Average test accuracy: 0.6569740500463391\n",
      "Best test accuracy: 0.7048192771084337\n",
      "Worst test accuracy: 0.6024096385542169\n"
     ]
    }
   ],
   "source": [
    "countryNames = list(Y.columns)\n",
    "plt.figure()\n",
    "plt.bar(range(len(countryNames)), testAccuracy, align='center')\n",
    "plt.xticks(range(len(countryNames)), countryNames)\n",
    "plt.title('Test Accuracy for different countries')\n",
    "plt.show()\n",
    "print('Average test accuracy: {}'.format(np.mean(testAcc)))\n",
    "print('Best test accuracy: {}'.format(np.max(testAcc)))\n",
    "print('Worst test accuracy: {}'.format(np.min(testAcc)))"
   ]
  },
  {
   "cell_type": "code",
   "execution_count": 261,
   "metadata": {
    "collapsed": true
   },
   "outputs": [],
   "source": []
  },
  {
   "cell_type": "code",
   "execution_count": null,
   "metadata": {
    "collapsed": true
   },
   "outputs": [],
   "source": []
  }
 ],
 "metadata": {
  "kernelspec": {
   "display_name": "Python 3",
   "language": "python",
   "name": "python3"
  },
  "language_info": {
   "codemirror_mode": {
    "name": "ipython",
    "version": 3
   },
   "file_extension": ".py",
   "mimetype": "text/x-python",
   "name": "python",
   "nbconvert_exporter": "python",
   "pygments_lexer": "ipython3",
   "version": "3.6.3"
  }
 },
 "nbformat": 4,
 "nbformat_minor": 2
}
