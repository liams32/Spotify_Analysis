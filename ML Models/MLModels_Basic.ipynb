{
 "cells": [
  {
   "cell_type": "markdown",
   "metadata": {},
   "source": [
    "# Testing Basic ML Models\n",
    "**Authors:** Martin Ziran Xu"
   ]
  },
  {
   "cell_type": "code",
   "execution_count": 1,
   "metadata": {
    "collapsed": true
   },
   "outputs": [],
   "source": [
    "import numpy as np\n",
    "import pandas as pd \n",
    "import matplotlib.pyplot as plt"
   ]
  },
  {
   "cell_type": "code",
   "execution_count": 2,
   "metadata": {
    "collapsed": true
   },
   "outputs": [],
   "source": [
    "%matplotlib inline"
   ]
  },
  {
   "cell_type": "markdown",
   "metadata": {},
   "source": [
    "## Cleaning Data"
   ]
  },
  {
   "cell_type": "code",
   "execution_count": 3,
   "metadata": {},
   "outputs": [
    {
     "data": {
      "text/html": [
       "<div>\n",
       "<style>\n",
       "    .dataframe thead tr:only-child th {\n",
       "        text-align: right;\n",
       "    }\n",
       "\n",
       "    .dataframe thead th {\n",
       "        text-align: left;\n",
       "    }\n",
       "\n",
       "    .dataframe tbody tr th {\n",
       "        vertical-align: top;\n",
       "    }\n",
       "</style>\n",
       "<table border=\"1\" class=\"dataframe\">\n",
       "  <thead>\n",
       "    <tr style=\"text-align: right;\">\n",
       "      <th></th>\n",
       "      <th>Unnamed: 0</th>\n",
       "      <th>acousticness</th>\n",
       "      <th>analysis_url</th>\n",
       "      <th>danceability</th>\n",
       "      <th>duration_ms</th>\n",
       "      <th>energy</th>\n",
       "      <th>id</th>\n",
       "      <th>instrumentalness</th>\n",
       "      <th>key</th>\n",
       "      <th>liveness</th>\n",
       "      <th>...</th>\n",
       "      <th>pt_100</th>\n",
       "      <th>ca_100</th>\n",
       "      <th>co_100</th>\n",
       "      <th>nz_100</th>\n",
       "      <th>tr_100</th>\n",
       "      <th>cz_100</th>\n",
       "      <th>hn_100</th>\n",
       "      <th>be_100</th>\n",
       "      <th>id_100</th>\n",
       "      <th>bo_100</th>\n",
       "    </tr>\n",
       "  </thead>\n",
       "  <tbody>\n",
       "    <tr>\n",
       "      <th>0</th>\n",
       "      <td>0</td>\n",
       "      <td>0.58100</td>\n",
       "      <td>https://api.spotify.com/v1/audio-analysis/7qiZ...</td>\n",
       "      <td>0.825</td>\n",
       "      <td>233713</td>\n",
       "      <td>0.652</td>\n",
       "      <td>True</td>\n",
       "      <td>0.00000</td>\n",
       "      <td>1</td>\n",
       "      <td>0.0931</td>\n",
       "      <td>...</td>\n",
       "      <td>True</td>\n",
       "      <td>True</td>\n",
       "      <td>True</td>\n",
       "      <td>True</td>\n",
       "      <td>True</td>\n",
       "      <td>True</td>\n",
       "      <td>True</td>\n",
       "      <td>True</td>\n",
       "      <td>True</td>\n",
       "      <td>True</td>\n",
       "    </tr>\n",
       "    <tr>\n",
       "      <th>1</th>\n",
       "      <td>1</td>\n",
       "      <td>0.00902</td>\n",
       "      <td>https://api.spotify.com/v1/audio-analysis/12VW...</td>\n",
       "      <td>0.785</td>\n",
       "      <td>173987</td>\n",
       "      <td>0.617</td>\n",
       "      <td>True</td>\n",
       "      <td>0.00246</td>\n",
       "      <td>1</td>\n",
       "      <td>0.3510</td>\n",
       "      <td>...</td>\n",
       "      <td>True</td>\n",
       "      <td>True</td>\n",
       "      <td>True</td>\n",
       "      <td>True</td>\n",
       "      <td>True</td>\n",
       "      <td>True</td>\n",
       "      <td>True</td>\n",
       "      <td>True</td>\n",
       "      <td>False</td>\n",
       "      <td>True</td>\n",
       "    </tr>\n",
       "    <tr>\n",
       "      <th>2</th>\n",
       "      <td>2</td>\n",
       "      <td>0.41500</td>\n",
       "      <td>https://api.spotify.com/v1/audio-analysis/7crM...</td>\n",
       "      <td>0.736</td>\n",
       "      <td>245507</td>\n",
       "      <td>0.541</td>\n",
       "      <td>True</td>\n",
       "      <td>0.00000</td>\n",
       "      <td>8</td>\n",
       "      <td>0.1100</td>\n",
       "      <td>...</td>\n",
       "      <td>True</td>\n",
       "      <td>True</td>\n",
       "      <td>True</td>\n",
       "      <td>True</td>\n",
       "      <td>True</td>\n",
       "      <td>True</td>\n",
       "      <td>True</td>\n",
       "      <td>True</td>\n",
       "      <td>True</td>\n",
       "      <td>True</td>\n",
       "    </tr>\n",
       "    <tr>\n",
       "      <th>3</th>\n",
       "      <td>3</td>\n",
       "      <td>0.00346</td>\n",
       "      <td>https://api.spotify.com/v1/audio-analysis/4vS8...</td>\n",
       "      <td>0.723</td>\n",
       "      <td>176561</td>\n",
       "      <td>0.809</td>\n",
       "      <td>True</td>\n",
       "      <td>0.00123</td>\n",
       "      <td>7</td>\n",
       "      <td>0.5650</td>\n",
       "      <td>...</td>\n",
       "      <td>True</td>\n",
       "      <td>False</td>\n",
       "      <td>True</td>\n",
       "      <td>True</td>\n",
       "      <td>True</td>\n",
       "      <td>True</td>\n",
       "      <td>False</td>\n",
       "      <td>True</td>\n",
       "      <td>False</td>\n",
       "      <td>False</td>\n",
       "    </tr>\n",
       "    <tr>\n",
       "      <th>4</th>\n",
       "      <td>4</td>\n",
       "      <td>0.47400</td>\n",
       "      <td>https://api.spotify.com/v1/audio-analysis/34gC...</td>\n",
       "      <td>0.781</td>\n",
       "      <td>281560</td>\n",
       "      <td>0.445</td>\n",
       "      <td>True</td>\n",
       "      <td>0.00000</td>\n",
       "      <td>2</td>\n",
       "      <td>0.1840</td>\n",
       "      <td>...</td>\n",
       "      <td>True</td>\n",
       "      <td>True</td>\n",
       "      <td>True</td>\n",
       "      <td>True</td>\n",
       "      <td>False</td>\n",
       "      <td>True</td>\n",
       "      <td>True</td>\n",
       "      <td>True</td>\n",
       "      <td>True</td>\n",
       "      <td>True</td>\n",
       "    </tr>\n",
       "  </tbody>\n",
       "</table>\n",
       "<p>5 rows × 184 columns</p>\n",
       "</div>"
      ],
      "text/plain": [
       "   Unnamed: 0  acousticness  \\\n",
       "0           0       0.58100   \n",
       "1           1       0.00902   \n",
       "2           2       0.41500   \n",
       "3           3       0.00346   \n",
       "4           4       0.47400   \n",
       "\n",
       "                                        analysis_url  danceability  \\\n",
       "0  https://api.spotify.com/v1/audio-analysis/7qiZ...         0.825   \n",
       "1  https://api.spotify.com/v1/audio-analysis/12VW...         0.785   \n",
       "2  https://api.spotify.com/v1/audio-analysis/7crM...         0.736   \n",
       "3  https://api.spotify.com/v1/audio-analysis/4vS8...         0.723   \n",
       "4  https://api.spotify.com/v1/audio-analysis/34gC...         0.781   \n",
       "\n",
       "   duration_ms  energy    id  instrumentalness  key  liveness   ...    pt_100  \\\n",
       "0       233713   0.652  True           0.00000    1    0.0931   ...      True   \n",
       "1       173987   0.617  True           0.00246    1    0.3510   ...      True   \n",
       "2       245507   0.541  True           0.00000    8    0.1100   ...      True   \n",
       "3       176561   0.809  True           0.00123    7    0.5650   ...      True   \n",
       "4       281560   0.445  True           0.00000    2    0.1840   ...      True   \n",
       "\n",
       "   ca_100  co_100  nz_100  tr_100 cz_100 hn_100 be_100  id_100  bo_100  \n",
       "0    True    True    True    True   True   True   True    True    True  \n",
       "1    True    True    True    True   True   True   True   False    True  \n",
       "2    True    True    True    True   True   True   True    True    True  \n",
       "3   False    True    True    True   True  False   True   False   False  \n",
       "4    True    True    True   False   True   True   True    True    True  \n",
       "\n",
       "[5 rows x 184 columns]"
      ]
     },
     "execution_count": 3,
     "metadata": {},
     "output_type": "execute_result"
    }
   ],
   "source": [
    "#Read Data\n",
    "# Can't read 1st data set\n",
    "df_countries = pd.read_csv('combined_all_countries_2.csv')\n",
    "df_countries.head()"
   ]
  },
  {
   "cell_type": "code",
   "execution_count": 4,
   "metadata": {},
   "outputs": [
    {
     "name": "stdout",
     "output_type": "stream",
     "text": [
      "['Unnamed: 0', 'acousticness', 'analysis_url', 'danceability', 'duration_ms', 'energy', 'id', 'instrumentalness', 'key', 'liveness', 'loudness', 'mode', 'speechiness', 'tempo', 'time_signature', 'track_href', 'type', 'uri', 'valence', 'popularity', 'song', 'artist', 'genre', 'sv', 'cr', 'de', 'co', 'dk', 'at', 'pa', 'es', 'gb', 'sk', 'global', 'nl', 'br', 'cl', 'ec', 'lt', 'us', 'it', 'be', 'lu', 'gr', 'mx', 'uy', 'ca', 'jp', 'sg', 'tr', 'cz', 'lv', 'pe', 'ch', 'se', 'ar', 'gt', 'py', 'pl', 'ph', 'nz', 'fr', 'fi', 'hn', 'ie', 'do', 'no', 'hu', 'pt', 'is', 'bo', 'au', 'hk', 'tw', 'my', 'ee', 'py_top', 'lt_top', 'au_top', 'se_top', 'ph_top', 'ee_top', 'gt_top', 'my_top', 'gb_top', 'cr_top', 'ec_top', 'ar_top', 'is_top', 'global_top', 'uy_top', 'nl_top', 'us_top', 'sk_top', 'do_top', 'de_top', 'hu_top', 'gr_top', 'pl_top', 'cl_top', 'at_top', 'tw_top', 'fr_top', 'pe_top', 'mx_top', 'no_top', 'sg_top', 'it_top', 'sv_top', 'lv_top', 'hk_top', 'es_top', 'pa_top', 'lu_top', 'br_top', 'ch_top', 'ie_top', 'dk_top', 'fi_top', 'jp_top', 'pt_top', 'ca_top', 'co_top', 'nz_top', 'tr_top', 'cz_top', 'hn_top', 'be_top', 'id_top', 'bo_top', 'py_100', 'lt_100', 'au_100', 'se_100', 'ph_100', 'ee_100', 'gt_100', 'my_100', 'gb_100', 'cr_100', 'ec_100', 'ar_100', 'is_100', 'global_100', 'uy_100', 'nl_100', 'us_100', 'sk_100', 'do_100', 'de_100', 'hu_100', 'gr_100', 'pl_100', 'cl_100', 'at_100', 'tw_100', 'fr_100', 'pe_100', 'mx_100', 'no_100', 'sg_100', 'it_100', 'sv_100', 'lv_100', 'hk_100', 'es_100', 'pa_100', 'lu_100', 'br_100', 'ch_100', 'ie_100', 'dk_100', 'fi_100', 'jp_100', 'pt_100', 'ca_100', 'co_100', 'nz_100', 'tr_100', 'cz_100', 'hn_100', 'be_100', 'id_100', 'bo_100']\n"
     ]
    }
   ],
   "source": [
    "features = list(df_countries.columns)\n",
    "print(features)"
   ]
  },
  {
   "cell_type": "code",
   "execution_count": 5,
   "metadata": {},
   "outputs": [
    {
     "data": {
      "text/html": [
       "<div>\n",
       "<style>\n",
       "    .dataframe thead tr:only-child th {\n",
       "        text-align: right;\n",
       "    }\n",
       "\n",
       "    .dataframe thead th {\n",
       "        text-align: left;\n",
       "    }\n",
       "\n",
       "    .dataframe tbody tr th {\n",
       "        vertical-align: top;\n",
       "    }\n",
       "</style>\n",
       "<table border=\"1\" class=\"dataframe\">\n",
       "  <thead>\n",
       "    <tr style=\"text-align: right;\">\n",
       "      <th></th>\n",
       "      <th>song</th>\n",
       "      <th>analysis_url</th>\n",
       "      <th>track_href</th>\n",
       "      <th>uri</th>\n",
       "      <th>artist</th>\n",
       "      <th>acousticness</th>\n",
       "      <th>danceability</th>\n",
       "      <th>duration_ms</th>\n",
       "      <th>energy</th>\n",
       "      <th>instrumentalness</th>\n",
       "      <th>...</th>\n",
       "      <th>loudness</th>\n",
       "      <th>mode</th>\n",
       "      <th>speechiness</th>\n",
       "      <th>tempo</th>\n",
       "      <th>valence</th>\n",
       "      <th>genre</th>\n",
       "      <th>global</th>\n",
       "      <th>global_100</th>\n",
       "      <th>global_top</th>\n",
       "      <th>popularity</th>\n",
       "    </tr>\n",
       "  </thead>\n",
       "  <tbody>\n",
       "    <tr>\n",
       "      <th>0</th>\n",
       "      <td>Shape of You</td>\n",
       "      <td>https://api.spotify.com/v1/audio-analysis/7qiZ...</td>\n",
       "      <td>https://api.spotify.com/v1/tracks/7qiZfU4dY1lW...</td>\n",
       "      <td>spotify:track:7qiZfU4dY1lWllzX7mPBI3</td>\n",
       "      <td>Ed Sheeran</td>\n",
       "      <td>0.58100</td>\n",
       "      <td>0.825</td>\n",
       "      <td>233713</td>\n",
       "      <td>0.652</td>\n",
       "      <td>0.00000</td>\n",
       "      <td>...</td>\n",
       "      <td>-3.183</td>\n",
       "      <td>0</td>\n",
       "      <td>0.0802</td>\n",
       "      <td>95.977</td>\n",
       "      <td>0.931</td>\n",
       "      <td>pop</td>\n",
       "      <td>True</td>\n",
       "      <td>True</td>\n",
       "      <td>True</td>\n",
       "      <td>92</td>\n",
       "    </tr>\n",
       "    <tr>\n",
       "      <th>1</th>\n",
       "      <td>One Dance</td>\n",
       "      <td>https://api.spotify.com/v1/audio-analysis/12VW...</td>\n",
       "      <td>https://api.spotify.com/v1/tracks/12VWzyPDBCc8...</td>\n",
       "      <td>spotify:track:12VWzyPDBCc8fqeWCAfNwR</td>\n",
       "      <td>Drake</td>\n",
       "      <td>0.00902</td>\n",
       "      <td>0.785</td>\n",
       "      <td>173987</td>\n",
       "      <td>0.617</td>\n",
       "      <td>0.00246</td>\n",
       "      <td>...</td>\n",
       "      <td>-5.871</td>\n",
       "      <td>1</td>\n",
       "      <td>0.0522</td>\n",
       "      <td>103.981</td>\n",
       "      <td>0.382</td>\n",
       "      <td>hip hop</td>\n",
       "      <td>True</td>\n",
       "      <td>True</td>\n",
       "      <td>False</td>\n",
       "      <td>74</td>\n",
       "    </tr>\n",
       "    <tr>\n",
       "      <th>2</th>\n",
       "      <td>Closer</td>\n",
       "      <td>https://api.spotify.com/v1/audio-analysis/7crM...</td>\n",
       "      <td>https://api.spotify.com/v1/tracks/7crMiinWx373...</td>\n",
       "      <td>spotify:track:7crMiinWx373rNBZBaVske</td>\n",
       "      <td>The Chainsmokers</td>\n",
       "      <td>0.41500</td>\n",
       "      <td>0.736</td>\n",
       "      <td>245507</td>\n",
       "      <td>0.541</td>\n",
       "      <td>0.00000</td>\n",
       "      <td>...</td>\n",
       "      <td>-5.597</td>\n",
       "      <td>1</td>\n",
       "      <td>0.0297</td>\n",
       "      <td>94.962</td>\n",
       "      <td>0.662</td>\n",
       "      <td>house</td>\n",
       "      <td>True</td>\n",
       "      <td>True</td>\n",
       "      <td>False</td>\n",
       "      <td>65</td>\n",
       "    </tr>\n",
       "    <tr>\n",
       "      <th>3</th>\n",
       "      <td>Lean On (feat. MØ &amp; DJ Snake)</td>\n",
       "      <td>https://api.spotify.com/v1/audio-analysis/4vS8...</td>\n",
       "      <td>https://api.spotify.com/v1/tracks/4vS8VaBwJJV5...</td>\n",
       "      <td>spotify:track:4vS8VaBwJJV5Ry7UFIQuoo</td>\n",
       "      <td>Major Lazer</td>\n",
       "      <td>0.00346</td>\n",
       "      <td>0.723</td>\n",
       "      <td>176561</td>\n",
       "      <td>0.809</td>\n",
       "      <td>0.00123</td>\n",
       "      <td>...</td>\n",
       "      <td>-3.081</td>\n",
       "      <td>0</td>\n",
       "      <td>0.0625</td>\n",
       "      <td>98.007</td>\n",
       "      <td>0.274</td>\n",
       "      <td>electronic</td>\n",
       "      <td>True</td>\n",
       "      <td>True</td>\n",
       "      <td>False</td>\n",
       "      <td>20</td>\n",
       "    </tr>\n",
       "    <tr>\n",
       "      <th>4</th>\n",
       "      <td>Thinking Out Loud</td>\n",
       "      <td>https://api.spotify.com/v1/audio-analysis/34gC...</td>\n",
       "      <td>https://api.spotify.com/v1/tracks/34gCuhDGsG4b...</td>\n",
       "      <td>spotify:track:34gCuhDGsG4bRPIf9bb02f</td>\n",
       "      <td>Ed Sheeran</td>\n",
       "      <td>0.47400</td>\n",
       "      <td>0.781</td>\n",
       "      <td>281560</td>\n",
       "      <td>0.445</td>\n",
       "      <td>0.00000</td>\n",
       "      <td>...</td>\n",
       "      <td>-6.061</td>\n",
       "      <td>1</td>\n",
       "      <td>0.0295</td>\n",
       "      <td>78.998</td>\n",
       "      <td>0.591</td>\n",
       "      <td>pop</td>\n",
       "      <td>True</td>\n",
       "      <td>True</td>\n",
       "      <td>False</td>\n",
       "      <td>87</td>\n",
       "    </tr>\n",
       "  </tbody>\n",
       "</table>\n",
       "<p>5 rows × 22 columns</p>\n",
       "</div>"
      ],
      "text/plain": [
       "                            song  \\\n",
       "0                   Shape of You   \n",
       "1                      One Dance   \n",
       "2                         Closer   \n",
       "3  Lean On (feat. MØ & DJ Snake)   \n",
       "4              Thinking Out Loud   \n",
       "\n",
       "                                        analysis_url  \\\n",
       "0  https://api.spotify.com/v1/audio-analysis/7qiZ...   \n",
       "1  https://api.spotify.com/v1/audio-analysis/12VW...   \n",
       "2  https://api.spotify.com/v1/audio-analysis/7crM...   \n",
       "3  https://api.spotify.com/v1/audio-analysis/4vS8...   \n",
       "4  https://api.spotify.com/v1/audio-analysis/34gC...   \n",
       "\n",
       "                                          track_href  \\\n",
       "0  https://api.spotify.com/v1/tracks/7qiZfU4dY1lW...   \n",
       "1  https://api.spotify.com/v1/tracks/12VWzyPDBCc8...   \n",
       "2  https://api.spotify.com/v1/tracks/7crMiinWx373...   \n",
       "3  https://api.spotify.com/v1/tracks/4vS8VaBwJJV5...   \n",
       "4  https://api.spotify.com/v1/tracks/34gCuhDGsG4b...   \n",
       "\n",
       "                                    uri            artist  acousticness  \\\n",
       "0  spotify:track:7qiZfU4dY1lWllzX7mPBI3        Ed Sheeran       0.58100   \n",
       "1  spotify:track:12VWzyPDBCc8fqeWCAfNwR             Drake       0.00902   \n",
       "2  spotify:track:7crMiinWx373rNBZBaVske  The Chainsmokers       0.41500   \n",
       "3  spotify:track:4vS8VaBwJJV5Ry7UFIQuoo       Major Lazer       0.00346   \n",
       "4  spotify:track:34gCuhDGsG4bRPIf9bb02f        Ed Sheeran       0.47400   \n",
       "\n",
       "   danceability  duration_ms  energy  instrumentalness     ...      loudness  \\\n",
       "0         0.825       233713   0.652           0.00000     ...        -3.183   \n",
       "1         0.785       173987   0.617           0.00246     ...        -5.871   \n",
       "2         0.736       245507   0.541           0.00000     ...        -5.597   \n",
       "3         0.723       176561   0.809           0.00123     ...        -3.081   \n",
       "4         0.781       281560   0.445           0.00000     ...        -6.061   \n",
       "\n",
       "   mode  speechiness    tempo  valence       genre  global global_100  \\\n",
       "0     0       0.0802   95.977    0.931         pop    True       True   \n",
       "1     1       0.0522  103.981    0.382     hip hop    True       True   \n",
       "2     1       0.0297   94.962    0.662       house    True       True   \n",
       "3     0       0.0625   98.007    0.274  electronic    True       True   \n",
       "4     1       0.0295   78.998    0.591         pop    True       True   \n",
       "\n",
       "   global_top  popularity  \n",
       "0        True          92  \n",
       "1       False          74  \n",
       "2       False          65  \n",
       "3       False          20  \n",
       "4       False          87  \n",
       "\n",
       "[5 rows x 22 columns]"
      ]
     },
     "execution_count": 5,
     "metadata": {},
     "output_type": "execute_result"
    }
   ],
   "source": [
    "# Dataset with one country (global) and overall popularity\n",
    "df = df_countries.loc[:, ['song', 'analysis_url','track_href','uri','artist','acousticness', 'danceability', 'duration_ms', 'energy', 'instrumentalness', 'key', 'liveness', 'loudness', 'mode', 'speechiness', 'tempo', 'valence','genre','global', 'global_100', 'global_top', 'popularity']]\n",
    "df.head()"
   ]
  },
  {
   "cell_type": "code",
   "execution_count": 6,
   "metadata": {},
   "outputs": [
    {
     "name": "stdout",
     "output_type": "stream",
     "text": [
      "['pop' 'hip hop' 'house' 'electronic' 'latino' 'rap' 'punk' 'Unknown'\n",
      " 'folk' 'r&b' 'indie' 'rock' 'French' 'German' 'metal' 'Korean']\n",
      "['pop' 'hip hop' 'house' 'electronic' 'latino' 'rap' 'punk' 'Unknown'\n",
      " 'folk' 'r&b' 'indie' 'rock' 'International' 'metal']\n"
     ]
    }
   ],
   "source": [
    "# clean genre: International\n",
    "list_genre = pd.unique(df['genre'])\n",
    "print(list_genre)\n",
    "df['genre'] = df['genre']\\\n",
    ".replace(['French', 'German', 'Korean'], 'International')\n",
    "print(pd.unique(df['genre']))"
   ]
  },
  {
   "cell_type": "code",
   "execution_count": 7,
   "metadata": {},
   "outputs": [
    {
     "name": "stdout",
     "output_type": "stream",
     "text": [
      "220\n",
      "12078\n"
     ]
    }
   ],
   "source": [
    "# clean genre: NaN\n",
    "df_unknown = df[df['genre']=='Unknown']\n",
    "print(df_unknown.size)\n",
    "print(df.size)"
   ]
  },
  {
   "cell_type": "code",
   "execution_count": 8,
   "metadata": {
    "collapsed": true
   },
   "outputs": [],
   "source": [
    "# Genre Dummy mapping\n",
    "binary_encoded = pd.get_dummies(df['genre'])\n",
    "newcols = binary_encoded.columns\n",
    "df[newcols] = binary_encoded\n"
   ]
  },
  {
   "cell_type": "code",
   "execution_count": 9,
   "metadata": {
    "collapsed": true
   },
   "outputs": [],
   "source": [
    "df = df.drop(['genre'], axis=1)"
   ]
  },
  {
   "cell_type": "code",
   "execution_count": 10,
   "metadata": {
    "scrolled": true
   },
   "outputs": [
    {
     "name": "stdout",
     "output_type": "stream",
     "text": [
      "Index(['song', 'analysis_url', 'track_href', 'uri', 'artist', 'acousticness',\n",
      "       'danceability', 'duration_ms', 'energy', 'instrumentalness', 'key',\n",
      "       'liveness', 'loudness', 'mode', 'speechiness', 'tempo', 'valence',\n",
      "       'global', 'global_100', 'global_top', 'popularity', 'International',\n",
      "       'Unknown', 'electronic', 'folk', 'hip hop', 'house', 'indie', 'latino',\n",
      "       'metal', 'pop', 'punk', 'r&b', 'rap', 'rock'],\n",
      "      dtype='object')\n"
     ]
    },
    {
     "data": {
      "text/html": [
       "<div>\n",
       "<style>\n",
       "    .dataframe thead tr:only-child th {\n",
       "        text-align: right;\n",
       "    }\n",
       "\n",
       "    .dataframe thead th {\n",
       "        text-align: left;\n",
       "    }\n",
       "\n",
       "    .dataframe tbody tr th {\n",
       "        vertical-align: top;\n",
       "    }\n",
       "</style>\n",
       "<table border=\"1\" class=\"dataframe\">\n",
       "  <thead>\n",
       "    <tr style=\"text-align: right;\">\n",
       "      <th></th>\n",
       "      <th>song</th>\n",
       "      <th>analysis_url</th>\n",
       "      <th>track_href</th>\n",
       "      <th>uri</th>\n",
       "      <th>artist</th>\n",
       "      <th>acousticness</th>\n",
       "      <th>danceability</th>\n",
       "      <th>duration_ms</th>\n",
       "      <th>energy</th>\n",
       "      <th>instrumentalness</th>\n",
       "      <th>...</th>\n",
       "      <th>metal</th>\n",
       "      <th>pop</th>\n",
       "      <th>punk</th>\n",
       "      <th>r&amp;b</th>\n",
       "      <th>rap</th>\n",
       "      <th>rock</th>\n",
       "      <th>global</th>\n",
       "      <th>global_100</th>\n",
       "      <th>global_top</th>\n",
       "      <th>popularity</th>\n",
       "    </tr>\n",
       "  </thead>\n",
       "  <tbody>\n",
       "    <tr>\n",
       "      <th>0</th>\n",
       "      <td>Shape of You</td>\n",
       "      <td>https://api.spotify.com/v1/audio-analysis/7qiZ...</td>\n",
       "      <td>https://api.spotify.com/v1/tracks/7qiZfU4dY1lW...</td>\n",
       "      <td>spotify:track:7qiZfU4dY1lWllzX7mPBI3</td>\n",
       "      <td>Ed Sheeran</td>\n",
       "      <td>0.58100</td>\n",
       "      <td>0.825</td>\n",
       "      <td>233713</td>\n",
       "      <td>0.652</td>\n",
       "      <td>0.00000</td>\n",
       "      <td>...</td>\n",
       "      <td>0</td>\n",
       "      <td>1</td>\n",
       "      <td>0</td>\n",
       "      <td>0</td>\n",
       "      <td>0</td>\n",
       "      <td>0</td>\n",
       "      <td>True</td>\n",
       "      <td>True</td>\n",
       "      <td>True</td>\n",
       "      <td>92</td>\n",
       "    </tr>\n",
       "    <tr>\n",
       "      <th>1</th>\n",
       "      <td>One Dance</td>\n",
       "      <td>https://api.spotify.com/v1/audio-analysis/12VW...</td>\n",
       "      <td>https://api.spotify.com/v1/tracks/12VWzyPDBCc8...</td>\n",
       "      <td>spotify:track:12VWzyPDBCc8fqeWCAfNwR</td>\n",
       "      <td>Drake</td>\n",
       "      <td>0.00902</td>\n",
       "      <td>0.785</td>\n",
       "      <td>173987</td>\n",
       "      <td>0.617</td>\n",
       "      <td>0.00246</td>\n",
       "      <td>...</td>\n",
       "      <td>0</td>\n",
       "      <td>0</td>\n",
       "      <td>0</td>\n",
       "      <td>0</td>\n",
       "      <td>0</td>\n",
       "      <td>0</td>\n",
       "      <td>True</td>\n",
       "      <td>True</td>\n",
       "      <td>False</td>\n",
       "      <td>74</td>\n",
       "    </tr>\n",
       "    <tr>\n",
       "      <th>2</th>\n",
       "      <td>Closer</td>\n",
       "      <td>https://api.spotify.com/v1/audio-analysis/7crM...</td>\n",
       "      <td>https://api.spotify.com/v1/tracks/7crMiinWx373...</td>\n",
       "      <td>spotify:track:7crMiinWx373rNBZBaVske</td>\n",
       "      <td>The Chainsmokers</td>\n",
       "      <td>0.41500</td>\n",
       "      <td>0.736</td>\n",
       "      <td>245507</td>\n",
       "      <td>0.541</td>\n",
       "      <td>0.00000</td>\n",
       "      <td>...</td>\n",
       "      <td>0</td>\n",
       "      <td>0</td>\n",
       "      <td>0</td>\n",
       "      <td>0</td>\n",
       "      <td>0</td>\n",
       "      <td>0</td>\n",
       "      <td>True</td>\n",
       "      <td>True</td>\n",
       "      <td>False</td>\n",
       "      <td>65</td>\n",
       "    </tr>\n",
       "    <tr>\n",
       "      <th>3</th>\n",
       "      <td>Lean On (feat. MØ &amp; DJ Snake)</td>\n",
       "      <td>https://api.spotify.com/v1/audio-analysis/4vS8...</td>\n",
       "      <td>https://api.spotify.com/v1/tracks/4vS8VaBwJJV5...</td>\n",
       "      <td>spotify:track:4vS8VaBwJJV5Ry7UFIQuoo</td>\n",
       "      <td>Major Lazer</td>\n",
       "      <td>0.00346</td>\n",
       "      <td>0.723</td>\n",
       "      <td>176561</td>\n",
       "      <td>0.809</td>\n",
       "      <td>0.00123</td>\n",
       "      <td>...</td>\n",
       "      <td>0</td>\n",
       "      <td>0</td>\n",
       "      <td>0</td>\n",
       "      <td>0</td>\n",
       "      <td>0</td>\n",
       "      <td>0</td>\n",
       "      <td>True</td>\n",
       "      <td>True</td>\n",
       "      <td>False</td>\n",
       "      <td>20</td>\n",
       "    </tr>\n",
       "    <tr>\n",
       "      <th>4</th>\n",
       "      <td>Thinking Out Loud</td>\n",
       "      <td>https://api.spotify.com/v1/audio-analysis/34gC...</td>\n",
       "      <td>https://api.spotify.com/v1/tracks/34gCuhDGsG4b...</td>\n",
       "      <td>spotify:track:34gCuhDGsG4bRPIf9bb02f</td>\n",
       "      <td>Ed Sheeran</td>\n",
       "      <td>0.47400</td>\n",
       "      <td>0.781</td>\n",
       "      <td>281560</td>\n",
       "      <td>0.445</td>\n",
       "      <td>0.00000</td>\n",
       "      <td>...</td>\n",
       "      <td>0</td>\n",
       "      <td>1</td>\n",
       "      <td>0</td>\n",
       "      <td>0</td>\n",
       "      <td>0</td>\n",
       "      <td>0</td>\n",
       "      <td>True</td>\n",
       "      <td>True</td>\n",
       "      <td>False</td>\n",
       "      <td>87</td>\n",
       "    </tr>\n",
       "  </tbody>\n",
       "</table>\n",
       "<p>5 rows × 35 columns</p>\n",
       "</div>"
      ],
      "text/plain": [
       "                            song  \\\n",
       "0                   Shape of You   \n",
       "1                      One Dance   \n",
       "2                         Closer   \n",
       "3  Lean On (feat. MØ & DJ Snake)   \n",
       "4              Thinking Out Loud   \n",
       "\n",
       "                                        analysis_url  \\\n",
       "0  https://api.spotify.com/v1/audio-analysis/7qiZ...   \n",
       "1  https://api.spotify.com/v1/audio-analysis/12VW...   \n",
       "2  https://api.spotify.com/v1/audio-analysis/7crM...   \n",
       "3  https://api.spotify.com/v1/audio-analysis/4vS8...   \n",
       "4  https://api.spotify.com/v1/audio-analysis/34gC...   \n",
       "\n",
       "                                          track_href  \\\n",
       "0  https://api.spotify.com/v1/tracks/7qiZfU4dY1lW...   \n",
       "1  https://api.spotify.com/v1/tracks/12VWzyPDBCc8...   \n",
       "2  https://api.spotify.com/v1/tracks/7crMiinWx373...   \n",
       "3  https://api.spotify.com/v1/tracks/4vS8VaBwJJV5...   \n",
       "4  https://api.spotify.com/v1/tracks/34gCuhDGsG4b...   \n",
       "\n",
       "                                    uri            artist  acousticness  \\\n",
       "0  spotify:track:7qiZfU4dY1lWllzX7mPBI3        Ed Sheeran       0.58100   \n",
       "1  spotify:track:12VWzyPDBCc8fqeWCAfNwR             Drake       0.00902   \n",
       "2  spotify:track:7crMiinWx373rNBZBaVske  The Chainsmokers       0.41500   \n",
       "3  spotify:track:4vS8VaBwJJV5Ry7UFIQuoo       Major Lazer       0.00346   \n",
       "4  spotify:track:34gCuhDGsG4bRPIf9bb02f        Ed Sheeran       0.47400   \n",
       "\n",
       "   danceability  duration_ms  energy  instrumentalness     ...      metal  \\\n",
       "0         0.825       233713   0.652           0.00000     ...          0   \n",
       "1         0.785       173987   0.617           0.00246     ...          0   \n",
       "2         0.736       245507   0.541           0.00000     ...          0   \n",
       "3         0.723       176561   0.809           0.00123     ...          0   \n",
       "4         0.781       281560   0.445           0.00000     ...          0   \n",
       "\n",
       "   pop  punk  r&b  rap  rock  global  global_100  global_top  popularity  \n",
       "0    1     0    0    0     0    True        True        True          92  \n",
       "1    0     0    0    0     0    True        True       False          74  \n",
       "2    0     0    0    0     0    True        True       False          65  \n",
       "3    0     0    0    0     0    True        True       False          20  \n",
       "4    1     0    0    0     0    True        True       False          87  \n",
       "\n",
       "[5 rows x 35 columns]"
      ]
     },
     "execution_count": 10,
     "metadata": {},
     "output_type": "execute_result"
    }
   ],
   "source": [
    "# Rearrange dataset\n",
    "df.head()\n",
    "print(df.columns)\n",
    "new_col = ['song', 'analysis_url', 'track_href', 'uri', 'artist', 'acousticness',\n",
    "       'danceability', 'duration_ms', 'energy', 'instrumentalness', 'key',\n",
    "       'liveness', 'loudness', 'mode', 'speechiness', 'tempo', 'valence', 'International',\n",
    "       'Unknown', 'electronic', 'folk', 'hip hop', 'house', 'indie', 'latino',\n",
    "       'metal', 'pop', 'punk', 'r&b', 'rap', 'rock',\n",
    "       'global', 'global_100', 'global_top', 'popularity']\n",
    "df = df[new_col]\n",
    "df.head()"
   ]
  },
  {
   "cell_type": "code",
   "execution_count": null,
   "metadata": {
    "collapsed": true
   },
   "outputs": [],
   "source": []
  },
  {
   "cell_type": "code",
   "execution_count": 16,
   "metadata": {},
   "outputs": [],
   "source": [
    "df.to_csv('cleanGlobalPrediction1.csv')"
   ]
  },
  {
   "cell_type": "code",
   "execution_count": null,
   "metadata": {
    "collapsed": true
   },
   "outputs": [],
   "source": [
    "# Clean Ranking\n",
    "# not needed, since True==1 in Python"
   ]
  },
  {
   "cell_type": "code",
   "execution_count": null,
   "metadata": {},
   "outputs": [],
   "source": [
    "# Shuffle dataframe\n",
    "from sklearn.utils import shuffle\n",
    "df = shuffle(df)\n",
    "df.head()"
   ]
  },
  {
   "cell_type": "markdown",
   "metadata": {},
   "source": [
    "## Define Input and Output"
   ]
  },
  {
   "cell_type": "code",
   "execution_count": null,
   "metadata": {},
   "outputs": [],
   "source": [
    "print(df.columns)"
   ]
  },
  {
   "cell_type": "code",
   "execution_count": null,
   "metadata": {},
   "outputs": [],
   "source": [
    "# Define Input\n",
    "X = df.loc[:,['acousticness',\n",
    "       'danceability', 'duration_ms', 'energy', 'instrumentalness', 'key',\n",
    "       'liveness', 'loudness', 'mode', 'speechiness', 'tempo', 'valence',\n",
    "       'International', 'Unknown', 'electronic', 'folk', 'hip hop', 'house',\n",
    "       'indie', 'latino', 'metal', 'pop', 'punk', 'r&b', 'rap', 'rock']]\n",
    "X.head()"
   ]
  },
  {
   "cell_type": "code",
   "execution_count": null,
   "metadata": {},
   "outputs": [],
   "source": [
    "# Define Output\n",
    "Y = df.loc[:, ['global', 'global_100', 'global_top', 'popularity']]\n",
    "Y.head()"
   ]
  },
  {
   "cell_type": "markdown",
   "metadata": {},
   "source": [
    "## Analyze dataset"
   ]
  },
  {
   "cell_type": "code",
   "execution_count": null,
   "metadata": {
    "scrolled": true
   },
   "outputs": [],
   "source": [
    "# Check distribution of data:\n",
    "for i in range(0,3):\n",
    "    #Value Counts\n",
    "    print(Y.columns[i])\n",
    "    print(Y.iloc[:,i].value_counts())"
   ]
  },
  {
   "cell_type": "code",
   "execution_count": null,
   "metadata": {},
   "outputs": [],
   "source": [
    "# Distribution of popularity\n",
    "plt.figure()\n",
    "Y.loc[:, 'popularity'].hist()\n",
    "plt.show()"
   ]
  },
  {
   "cell_type": "code",
   "execution_count": null,
   "metadata": {},
   "outputs": [],
   "source": [
    "# Feature Correlation\n",
    "X.loc[:,['acousticness',\n",
    "       'danceability', 'duration_ms', 'energy', 'instrumentalness', 'key',\n",
    "       'liveness', 'loudness', 'mode', 'speechiness', 'tempo', 'valence']].corr()"
   ]
  },
  {
   "cell_type": "code",
   "execution_count": null,
   "metadata": {
    "collapsed": true
   },
   "outputs": [],
   "source": [
    "# Create big data frame\n",
    "df = pd.concat([X, Y], axis=1)\n",
    "df.head()\n",
    "df.popularity = pd.qcut(Y.loc[:, 'popularity'], 4, labels=False)"
   ]
  },
  {
   "cell_type": "markdown",
   "metadata": {},
   "source": [
    "### Modifying Output"
   ]
  },
  {
   "cell_type": "code",
   "execution_count": null,
   "metadata": {},
   "outputs": [],
   "source": [
    "# Devide popularity into 4 quantiles\n",
    "Y_popularity = pd.qcut(Y.loc[:, 'popularity'], 4, labels=False)\n",
    "Y_popularity.head()\n",
    "# Check if balanced data set\n",
    "Y_popularity.value_counts() "
   ]
  },
  {
   "cell_type": "code",
   "execution_count": null,
   "metadata": {
    "scrolled": true
   },
   "outputs": [],
   "source": [
    "# Split in Regression and Classification\n",
    "Y_reg = Y.loc[:,'popularity']\n",
    "Y_class = Y.iloc[:,0:3]\n",
    "print(Y_reg.head())\n",
    "print(Y_class.head())"
   ]
  },
  {
   "cell_type": "code",
   "execution_count": null,
   "metadata": {
    "collapsed": true
   },
   "outputs": [],
   "source": [
    "# Normalize Data\n",
    "from sklearn.preprocessing import normalize\n",
    "X = normalize(X)"
   ]
  },
  {
   "cell_type": "markdown",
   "metadata": {},
   "source": [
    "## Perform Machine Learning"
   ]
  },
  {
   "cell_type": "markdown",
   "metadata": {},
   "source": [
    "### a) Classification on the individual categories"
   ]
  },
  {
   "cell_type": "code",
   "execution_count": null,
   "metadata": {
    "collapsed": true
   },
   "outputs": [],
   "source": [
    "#Binary Confusion Matrix function: y_true is a pd data frame, and y_pred an array\n",
    "def binaryConfusionMatrix(y_true, y_pred):\n",
    "    n = y_pred.size\n",
    "    confusionMatrix = np.zeros([2,2])\n",
    "    for i in range(n):\n",
    "        confusionMatrix[int(y_true.iloc[i]), int(y_pred[i])] += 1\n",
    "    return confusionMatrix"
   ]
  },
  {
   "cell_type": "code",
   "execution_count": null,
   "metadata": {
    "collapsed": true
   },
   "outputs": [],
   "source": [
    "#Split Data\n",
    "from sklearn.metrics import confusion_matrix\n",
    "def printConfusionMatrix (y_true, y_pred):\n",
    "    cf=pd.DataFrame(confusion_matrix(y_true, y_pred))\n",
    "    print(cf)"
   ]
  },
  {
   "cell_type": "code",
   "execution_count": null,
   "metadata": {
    "collapsed": true
   },
   "outputs": [],
   "source": [
    "from sklearn.model_selection import train_test_split\n",
    "x_train, x_test, y_train, y_test = train_test_split(X,Y_class, test_size=0.15, random_state=100)"
   ]
  },
  {
   "cell_type": "code",
   "execution_count": null,
   "metadata": {},
   "outputs": [],
   "source": [
    "print(x_train.shape)\n",
    "print(y_train.shape)\n",
    "y_train.iloc[:,0]\n",
    "y_train.columns"
   ]
  },
  {
   "cell_type": "code",
   "execution_count": null,
   "metadata": {},
   "outputs": [],
   "source": [
    "# Perform Ridge Regression on charts: for all 3 columns\n",
    "from sklearn.linear_model import RidgeClassifier\n",
    "print('Ridge Classifier on regional charts: ')\n",
    "for i in range(0,3):\n",
    "    #Train\n",
    "    y_train_curr = y_train.iloc[:,i]\n",
    "    y_test_curr = y_test.iloc[:,i]\n",
    "    ridgeModel = RidgeClassifier()\n",
    "    ridgeModel.fit(x_train, y_train_curr)\n",
    "    # Accuracy\n",
    "    print(y_train.columns[i])\n",
    "    print('Train Accuracy:')\n",
    "    print(ridgeModel.score(x_train, y_train_curr))\n",
    "    print('Test Accuracy:')\n",
    "    print(ridgeModel.score(x_test, y_test_curr))\n",
    "    print('Confusion Matrix')\n",
    "    print(binaryConfusionMatrix(y_test_curr, ridgeModel.predict(x_test)))"
   ]
  },
  {
   "cell_type": "code",
   "execution_count": null,
   "metadata": {},
   "outputs": [],
   "source": [
    "# Perform Ridge Regression on popularity (with quantile bins):\n",
    "from sklearn.linear_model import LogisticRegression\n",
    "from sklearn.model_selection import train_test_split\n",
    "x_train, x_test, y_train, y_test = train_test_split(X,Y_popularity, test_size=0.15, random_state=100)\n",
    "print('Logistic Regression on overall popularity: ')\n",
    "logRegModel = LogisticRegression()\n",
    "logRegModel.fit(x_train, y_train)\n",
    "# Accuracy\n",
    "print('Train Accuracy:')\n",
    "print(logRegModel.score(x_train, y_train))\n",
    "print('Test Accuracy:')\n",
    "print(logRegModel.score(x_test, y_test))"
   ]
  },
  {
   "cell_type": "code",
   "execution_count": null,
   "metadata": {},
   "outputs": [],
   "source": [
    "printConfusionMatrix(y_test, logRegModel.predict(x_test))"
   ]
  },
  {
   "cell_type": "markdown",
   "metadata": {},
   "source": [
    "## b1) Perform Linear Regression on Popularity - very low accuracy"
   ]
  },
  {
   "cell_type": "code",
   "execution_count": null,
   "metadata": {
    "collapsed": true
   },
   "outputs": [],
   "source": [
    "#Split Data\n",
    "from sklearn.model_selection import train_test_split\n",
    "x_train, x_test, y_train, y_test = train_test_split(X,Y_reg, test_size=0.15, random_state=100)"
   ]
  },
  {
   "cell_type": "code",
   "execution_count": null,
   "metadata": {},
   "outputs": [],
   "source": [
    "# Perform Linear Regression\n",
    "from sklearn import linear_model\n",
    "linreg_model = linear_model.LinearRegression()\n",
    "print('Training a linear Regression Model...')\n",
    "linreg_model.fit(x_train, y_train)"
   ]
  },
  {
   "cell_type": "code",
   "execution_count": null,
   "metadata": {},
   "outputs": [],
   "source": [
    "# Accuracy:\n",
    "print('Linear Regression on song popularity')\n",
    "print('Training Data')\n",
    "print(linreg_model.score(x_train, y_train))\n",
    "print('Testing Data')\n",
    "print(linreg_model.score(x_test, y_test))"
   ]
  },
  {
   "cell_type": "markdown",
   "metadata": {},
   "source": [
    "### b2) Ridge Regression on Popularity - Very weird accuracy"
   ]
  },
  {
   "cell_type": "code",
   "execution_count": null,
   "metadata": {},
   "outputs": [],
   "source": [
    "from sklearn.linear_model import Ridge\n",
    "ridgeModel = Ridge(alpha = 1e-5)\n",
    "ridgeModel.fit(x_train, y_train)"
   ]
  },
  {
   "cell_type": "code",
   "execution_count": null,
   "metadata": {},
   "outputs": [],
   "source": [
    "# Accuracy\n",
    "print('Ridge Regression on song popularity')\n",
    "print('Training Data')\n",
    "print(ridgeModel.score(x_train, y_train))\n",
    "print('Testing Data')\n",
    "print(ridgeModel.score(x_test, y_test))"
   ]
  },
  {
   "cell_type": "markdown",
   "metadata": {},
   "source": [
    "### c) Combine outputs y into a overall score"
   ]
  },
  {
   "cell_type": "code",
   "execution_count": null,
   "metadata": {},
   "outputs": [],
   "source": [
    "Y.head()"
   ]
  },
  {
   "cell_type": "code",
   "execution_count": null,
   "metadata": {
    "scrolled": true
   },
   "outputs": [],
   "source": [
    "Y.loc[:, 'popularity'].hist()"
   ]
  },
  {
   "cell_type": "code",
   "execution_count": null,
   "metadata": {},
   "outputs": [],
   "source": [
    "for i in range(0,3):\n",
    "    #Value Counts\n",
    "    print(Y.columns[i])\n",
    "    print(Y.iloc[:,i].value_counts())"
   ]
  },
  {
   "cell_type": "code",
   "execution_count": null,
   "metadata": {
    "collapsed": true
   },
   "outputs": [],
   "source": [
    "# Define cost model:\n",
    "a = 10\n",
    "b = 20\n",
    "c = 100\n",
    "\n",
    "Y['successFactor'] = Y.loc[:,'global']*a+Y.global_100*b+Y.global_top*c+Y.popularity"
   ]
  },
  {
   "cell_type": "code",
   "execution_count": null,
   "metadata": {},
   "outputs": [],
   "source": [
    "Y.head()"
   ]
  },
  {
   "cell_type": "code",
   "execution_count": null,
   "metadata": {},
   "outputs": [],
   "source": [
    "Y.loc[:, 'successFactor'].hist()"
   ]
  },
  {
   "cell_type": "code",
   "execution_count": null,
   "metadata": {},
   "outputs": [],
   "source": [
    "# Create bins for successFactor\n",
    "Y_sF = pd.qcut(Y.loc[:, 'successFactor'], 4, labels=False) # Doesnt change anything with normal cut\n",
    "Y_sF.head()"
   ]
  },
  {
   "cell_type": "code",
   "execution_count": null,
   "metadata": {},
   "outputs": [],
   "source": [
    "Y_sF.value_counts()"
   ]
  },
  {
   "cell_type": "code",
   "execution_count": null,
   "metadata": {},
   "outputs": [],
   "source": [
    "#Perform logistic Regression\n",
    "from sklearn.linear_model import LogisticRegression\n",
    "from sklearn.model_selection import train_test_split\n",
    "x_train, x_test, y_train, y_test = train_test_split(X,Y_sF, test_size=0.15, random_state=100)\n",
    "print('Logistic Regression on success Factor: ')\n",
    "logRegModel = LogisticRegression()\n",
    "logRegModel.fit(x_train, y_train)\n",
    "# Accuracy\n",
    "print('Train Accuracy:')\n",
    "print(logRegModel.score(x_train, y_train))\n",
    "print('Test Accuracy:')\n",
    "print(logRegModel.score(x_test, y_test))"
   ]
  },
  {
   "cell_type": "code",
   "execution_count": null,
   "metadata": {},
   "outputs": [],
   "source": [
    "printConfusionMatrix(y_test, logRegModel.predict(x_test))"
   ]
  },
  {
   "cell_type": "markdown",
   "metadata": {},
   "source": [
    "### Try different models"
   ]
  },
  {
   "cell_type": "code",
   "execution_count": null,
   "metadata": {},
   "outputs": [],
   "source": [
    "#Random Forest\n",
    "from sklearn.ensemble import RandomForestClassifier\n",
    "random_forest = RandomForestClassifier(n_estimators=140)\n",
    "random_forest.fit(x_train, y_train)\n",
    "acc_rf1 = random_forest.score(x_train, y_train)\n",
    "acc_rf2 = random_forest.score(x_test, y_test)\n",
    "print(\"Random Forest: \")\n",
    "print(\"Training: \", acc_rf1)\n",
    "print(\"Test: \", acc_rf2)"
   ]
  },
  {
   "cell_type": "code",
   "execution_count": null,
   "metadata": {},
   "outputs": [],
   "source": [
    "random_forest.feature_importances_"
   ]
  },
  {
   "cell_type": "code",
   "execution_count": null,
   "metadata": {},
   "outputs": [],
   "source": [
    "printConfusionMatrix(y_test, random_forest.predict(x_test))"
   ]
  },
  {
   "cell_type": "code",
   "execution_count": null,
   "metadata": {},
   "outputs": [],
   "source": [
    "#import packages\n",
    "from sklearn.linear_model import LogisticRegression\n",
    "from sklearn.svm import SVC, LinearSVC\n",
    "from sklearn.neighbors import KNeighborsClassifier\n",
    "from sklearn.ensemble import RandomForestClassifier\n",
    "from sklearn.linear_model import Perceptron\n",
    "\n",
    "import xgboost as xgb"
   ]
  },
  {
   "cell_type": "code",
   "execution_count": null,
   "metadata": {},
   "outputs": [],
   "source": [
    "x_train.shape"
   ]
  },
  {
   "cell_type": "code",
   "execution_count": null,
   "metadata": {},
   "outputs": [],
   "source": [
    "# Support Vector Machine\n",
    "svc = SVC()\n",
    "svc.fit(x_train, y_train)\n",
    "acc_svc1 = round(svc.score(x_train, y_train) * 100, 2)\n",
    "acc_svc2 = round(svc.score(x_test, y_test) * 100, 2)\n",
    "print(\"Support Vector Machine: \")\n",
    "print(\"Training: \", acc_svc1, \"%\")\n",
    "print(\"Test: \", acc_svc2, \"%\")"
   ]
  },
  {
   "cell_type": "code",
   "execution_count": null,
   "metadata": {},
   "outputs": [],
   "source": [
    "printConfusionMatrix(y_test, svc(x_test))"
   ]
  },
  {
   "cell_type": "code",
   "execution_count": null,
   "metadata": {},
   "outputs": [],
   "source": [
    "#Perceptron\n",
    "perceptron = Perceptron()\n",
    "perceptron.fit(x_train, y_train)\n",
    "acc_perceptron1 = round(perceptron.score(x_train, y_train) * 100, 2)\n",
    "acc_perceptron2 = round(perceptron.score(x_test, y_test) * 100, 2)\n",
    "print(\"Perceptron: \")\n",
    "print(\"Training: \", acc_perceptron1, \"%\")\n",
    "print(\"Test: \", acc_perceptron2, \"%\")\n",
    "printConfusionMatrix(y_test, perceptron.predict(x_test))"
   ]
  },
  {
   "cell_type": "code",
   "execution_count": null,
   "metadata": {},
   "outputs": [],
   "source": [
    "# KNN\n",
    "knn = KNeighborsClassifier(n_neighbors = 3)\n",
    "knn.fit(x_train, y_train)\n",
    "acc_knn1 = round(knn.score(x_train, y_train) * 100, 2)\n",
    "acc_knn2 = round(knn.score(x_test, y_test) * 100, 2)\n",
    "print(\"K-Neighbour: \")\n",
    "print(\"Training: \", acc_knn1, \"%\")\n",
    "print(\"Test: \", acc_knn2, \"%\")\n",
    "printConfusionMatrix(y_test, knn.predict(x_test))"
   ]
  },
  {
   "cell_type": "code",
   "execution_count": null,
   "metadata": {},
   "outputs": [],
   "source": [
    "#XGBoost\n",
    "gradboost = xgb.XGBClassifier(n_estimators=110)\n",
    "gradboost.fit(x_train, y_train)\n",
    "acc_gb1 = round(gradboost.score(x_train, y_train) * 100, 2)\n",
    "acc_gb2 = round(gradboost.score(x_test, y_test) * 100, 2)\n",
    "print(\"XGBoost: \")\n",
    "print(\"Training: \", acc_gb1, \"%\")\n",
    "print(\"Test: \", acc_gb2, \"%\")\n",
    "printConfusionMatrix(y_test, gradboost.predict(x_test))"
   ]
  },
  {
   "cell_type": "code",
   "execution_count": null,
   "metadata": {
    "collapsed": true
   },
   "outputs": [],
   "source": []
  }
 ],
 "metadata": {
  "kernelspec": {
   "display_name": "Python 3",
   "language": "python",
   "name": "python3"
  },
  "language_info": {
   "codemirror_mode": {
    "name": "ipython",
    "version": 3
   },
   "file_extension": ".py",
   "mimetype": "text/x-python",
   "name": "python",
   "nbconvert_exporter": "python",
   "pygments_lexer": "ipython3",
   "version": "3.6.3"
  }
 },
 "nbformat": 4,
 "nbformat_minor": 2
}
