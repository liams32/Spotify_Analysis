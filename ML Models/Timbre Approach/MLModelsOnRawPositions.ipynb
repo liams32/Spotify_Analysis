{
 "cells": [
  {
   "cell_type": "markdown",
   "metadata": {},
   "source": [
    "# ML Models on Raw Positions"
   ]
  },
  {
   "cell_type": "code",
   "execution_count": 1,
   "metadata": {
    "collapsed": true
   },
   "outputs": [],
   "source": [
    "import numpy as np\n",
    "import pandas as pd \n",
    "import matplotlib.pyplot as plt\n",
    "%matplotlib inline"
   ]
  },
  {
   "cell_type": "markdown",
   "metadata": {},
   "source": [
    "## 1. Preprocessing"
   ]
  },
  {
   "cell_type": "markdown",
   "metadata": {},
   "source": [
    "### a) Import data"
   ]
  },
  {
   "cell_type": "code",
   "execution_count": 2,
   "metadata": {},
   "outputs": [
    {
     "data": {
      "text/html": [
       "<div>\n",
       "<style>\n",
       "    .dataframe thead tr:only-child th {\n",
       "        text-align: right;\n",
       "    }\n",
       "\n",
       "    .dataframe thead th {\n",
       "        text-align: left;\n",
       "    }\n",
       "\n",
       "    .dataframe tbody tr th {\n",
       "        vertical-align: top;\n",
       "    }\n",
       "</style>\n",
       "<table border=\"1\" class=\"dataframe\">\n",
       "  <thead>\n",
       "    <tr style=\"text-align: right;\">\n",
       "      <th></th>\n",
       "      <th>Unnamed: 0</th>\n",
       "      <th>song</th>\n",
       "      <th>analysis_url</th>\n",
       "      <th>track_href</th>\n",
       "      <th>uri</th>\n",
       "      <th>artist</th>\n",
       "      <th>acousticness</th>\n",
       "      <th>danceability</th>\n",
       "      <th>duration_ms</th>\n",
       "      <th>energy</th>\n",
       "      <th>...</th>\n",
       "      <th>bo_position</th>\n",
       "      <th>no_position</th>\n",
       "      <th>id_position</th>\n",
       "      <th>es_position</th>\n",
       "      <th>fi_position</th>\n",
       "      <th>nz_position</th>\n",
       "      <th>global_position</th>\n",
       "      <th>ee_position</th>\n",
       "      <th>ch_position</th>\n",
       "      <th>ec_position</th>\n",
       "    </tr>\n",
       "  </thead>\n",
       "  <tbody>\n",
       "    <tr>\n",
       "      <th>0</th>\n",
       "      <td>0</td>\n",
       "      <td>Shape of You</td>\n",
       "      <td>https://api.spotify.com/v1/audio-analysis/7qiZ...</td>\n",
       "      <td>https://api.spotify.com/v1/tracks/7qiZfU4dY1lW...</td>\n",
       "      <td>spotify:track:7qiZfU4dY1lWllzX7mPBI3</td>\n",
       "      <td>Ed Sheeran</td>\n",
       "      <td>0.58100</td>\n",
       "      <td>0.825</td>\n",
       "      <td>233713</td>\n",
       "      <td>0.652</td>\n",
       "      <td>...</td>\n",
       "      <td>42.432836</td>\n",
       "      <td>NaN</td>\n",
       "      <td>NaN</td>\n",
       "      <td>66.076923</td>\n",
       "      <td>NaN</td>\n",
       "      <td>NaN</td>\n",
       "      <td>100.380952</td>\n",
       "      <td>NaN</td>\n",
       "      <td>119.324074</td>\n",
       "      <td>52.651685</td>\n",
       "    </tr>\n",
       "    <tr>\n",
       "      <th>1</th>\n",
       "      <td>1</td>\n",
       "      <td>One Dance</td>\n",
       "      <td>https://api.spotify.com/v1/audio-analysis/12VW...</td>\n",
       "      <td>https://api.spotify.com/v1/tracks/12VWzyPDBCc8...</td>\n",
       "      <td>spotify:track:12VWzyPDBCc8fqeWCAfNwR</td>\n",
       "      <td>Drake</td>\n",
       "      <td>0.00902</td>\n",
       "      <td>0.785</td>\n",
       "      <td>173987</td>\n",
       "      <td>0.617</td>\n",
       "      <td>...</td>\n",
       "      <td>65.158879</td>\n",
       "      <td>115.357143</td>\n",
       "      <td>115.032258</td>\n",
       "      <td>87.482517</td>\n",
       "      <td>129.234375</td>\n",
       "      <td>144.111111</td>\n",
       "      <td>98.850394</td>\n",
       "      <td>42.0</td>\n",
       "      <td>88.468750</td>\n",
       "      <td>79.851562</td>\n",
       "    </tr>\n",
       "    <tr>\n",
       "      <th>2</th>\n",
       "      <td>2</td>\n",
       "      <td>Closer</td>\n",
       "      <td>https://api.spotify.com/v1/audio-analysis/7crM...</td>\n",
       "      <td>https://api.spotify.com/v1/tracks/7crMiinWx373...</td>\n",
       "      <td>spotify:track:7crMiinWx373rNBZBaVske</td>\n",
       "      <td>The Chainsmokers</td>\n",
       "      <td>0.41500</td>\n",
       "      <td>0.736</td>\n",
       "      <td>245507</td>\n",
       "      <td>0.541</td>\n",
       "      <td>...</td>\n",
       "      <td>28.352941</td>\n",
       "      <td>NaN</td>\n",
       "      <td>NaN</td>\n",
       "      <td>73.657407</td>\n",
       "      <td>NaN</td>\n",
       "      <td>NaN</td>\n",
       "      <td>114.163793</td>\n",
       "      <td>NaN</td>\n",
       "      <td>148.209877</td>\n",
       "      <td>32.950000</td>\n",
       "    </tr>\n",
       "    <tr>\n",
       "      <th>3</th>\n",
       "      <td>3</td>\n",
       "      <td>Lean On (feat. MØ &amp; DJ Snake)</td>\n",
       "      <td>https://api.spotify.com/v1/audio-analysis/4vS8...</td>\n",
       "      <td>https://api.spotify.com/v1/tracks/4vS8VaBwJJV5...</td>\n",
       "      <td>spotify:track:4vS8VaBwJJV5Ry7UFIQuoo</td>\n",
       "      <td>Major Lazer</td>\n",
       "      <td>0.00346</td>\n",
       "      <td>0.723</td>\n",
       "      <td>176561</td>\n",
       "      <td>0.809</td>\n",
       "      <td>...</td>\n",
       "      <td>64.307692</td>\n",
       "      <td>NaN</td>\n",
       "      <td>NaN</td>\n",
       "      <td>91.511811</td>\n",
       "      <td>NaN</td>\n",
       "      <td>NaN</td>\n",
       "      <td>121.038095</td>\n",
       "      <td>NaN</td>\n",
       "      <td>136.555556</td>\n",
       "      <td>83.417910</td>\n",
       "    </tr>\n",
       "    <tr>\n",
       "      <th>4</th>\n",
       "      <td>4</td>\n",
       "      <td>Thinking Out Loud</td>\n",
       "      <td>https://api.spotify.com/v1/audio-analysis/34gC...</td>\n",
       "      <td>https://api.spotify.com/v1/tracks/34gCuhDGsG4b...</td>\n",
       "      <td>spotify:track:34gCuhDGsG4bRPIf9bb02f</td>\n",
       "      <td>Ed Sheeran</td>\n",
       "      <td>0.47400</td>\n",
       "      <td>0.781</td>\n",
       "      <td>281560</td>\n",
       "      <td>0.445</td>\n",
       "      <td>...</td>\n",
       "      <td>59.852273</td>\n",
       "      <td>NaN</td>\n",
       "      <td>NaN</td>\n",
       "      <td>91.032787</td>\n",
       "      <td>NaN</td>\n",
       "      <td>NaN</td>\n",
       "      <td>120.951456</td>\n",
       "      <td>NaN</td>\n",
       "      <td>123.412844</td>\n",
       "      <td>78.459677</td>\n",
       "    </tr>\n",
       "  </tbody>\n",
       "</table>\n",
       "<p>5 rows × 171 columns</p>\n",
       "</div>"
      ],
      "text/plain": [
       "   Unnamed: 0                           song  \\\n",
       "0           0                   Shape of You   \n",
       "1           1                      One Dance   \n",
       "2           2                         Closer   \n",
       "3           3  Lean On (feat. MØ & DJ Snake)   \n",
       "4           4              Thinking Out Loud   \n",
       "\n",
       "                                        analysis_url  \\\n",
       "0  https://api.spotify.com/v1/audio-analysis/7qiZ...   \n",
       "1  https://api.spotify.com/v1/audio-analysis/12VW...   \n",
       "2  https://api.spotify.com/v1/audio-analysis/7crM...   \n",
       "3  https://api.spotify.com/v1/audio-analysis/4vS8...   \n",
       "4  https://api.spotify.com/v1/audio-analysis/34gC...   \n",
       "\n",
       "                                          track_href  \\\n",
       "0  https://api.spotify.com/v1/tracks/7qiZfU4dY1lW...   \n",
       "1  https://api.spotify.com/v1/tracks/12VWzyPDBCc8...   \n",
       "2  https://api.spotify.com/v1/tracks/7crMiinWx373...   \n",
       "3  https://api.spotify.com/v1/tracks/4vS8VaBwJJV5...   \n",
       "4  https://api.spotify.com/v1/tracks/34gCuhDGsG4b...   \n",
       "\n",
       "                                    uri            artist  acousticness  \\\n",
       "0  spotify:track:7qiZfU4dY1lWllzX7mPBI3        Ed Sheeran       0.58100   \n",
       "1  spotify:track:12VWzyPDBCc8fqeWCAfNwR             Drake       0.00902   \n",
       "2  spotify:track:7crMiinWx373rNBZBaVske  The Chainsmokers       0.41500   \n",
       "3  spotify:track:4vS8VaBwJJV5Ry7UFIQuoo       Major Lazer       0.00346   \n",
       "4  spotify:track:34gCuhDGsG4bRPIf9bb02f        Ed Sheeran       0.47400   \n",
       "\n",
       "   danceability  duration_ms  energy     ...       bo_position  no_position  \\\n",
       "0         0.825       233713   0.652     ...         42.432836          NaN   \n",
       "1         0.785       173987   0.617     ...         65.158879   115.357143   \n",
       "2         0.736       245507   0.541     ...         28.352941          NaN   \n",
       "3         0.723       176561   0.809     ...         64.307692          NaN   \n",
       "4         0.781       281560   0.445     ...         59.852273          NaN   \n",
       "\n",
       "   id_position  es_position  fi_position  nz_position  global_position  \\\n",
       "0          NaN    66.076923          NaN          NaN       100.380952   \n",
       "1   115.032258    87.482517   129.234375   144.111111        98.850394   \n",
       "2          NaN    73.657407          NaN          NaN       114.163793   \n",
       "3          NaN    91.511811          NaN          NaN       121.038095   \n",
       "4          NaN    91.032787          NaN          NaN       120.951456   \n",
       "\n",
       "   ee_position  ch_position  ec_position  \n",
       "0          NaN   119.324074    52.651685  \n",
       "1         42.0    88.468750    79.851562  \n",
       "2          NaN   148.209877    32.950000  \n",
       "3          NaN   136.555556    83.417910  \n",
       "4          NaN   123.412844    78.459677  \n",
       "\n",
       "[5 rows x 171 columns]"
      ]
     },
     "execution_count": 2,
     "metadata": {},
     "output_type": "execute_result"
    }
   ],
   "source": [
    "df = pd.read_csv('workingDataset_timbrePosition.csv', encoding = 'latin1')\n",
    "df.head()"
   ]
  },
  {
   "cell_type": "code",
   "execution_count": 3,
   "metadata": {
    "collapsed": true
   },
   "outputs": [],
   "source": [
    "popularity = df.popularity\n",
    "df = df.drop(['Unnamed: 0', 'popularity'], axis = 1)"
   ]
  },
  {
   "cell_type": "code",
   "execution_count": 4,
   "metadata": {},
   "outputs": [
    {
     "data": {
      "text/plain": [
       "['song',\n",
       " 'analysis_url',\n",
       " 'track_href',\n",
       " 'uri',\n",
       " 'artist',\n",
       " 'acousticness',\n",
       " 'danceability',\n",
       " 'duration_ms',\n",
       " 'energy',\n",
       " 'instrumentalness',\n",
       " 'key',\n",
       " 'liveness',\n",
       " 'loudness',\n",
       " 'mode',\n",
       " 'speechiness',\n",
       " 'tempo',\n",
       " 'valence',\n",
       " 'International',\n",
       " 'Unknown',\n",
       " 'electronic',\n",
       " 'folk',\n",
       " 'hip hop',\n",
       " 'house',\n",
       " 'indie',\n",
       " 'latino',\n",
       " 'metal',\n",
       " 'pop',\n",
       " 'punk',\n",
       " 'r&b',\n",
       " 'rap',\n",
       " 'rock',\n",
       " 'mean_timbre1',\n",
       " 'median_timbre1',\n",
       " 'std_timbre1',\n",
       " 'min_timbre1',\n",
       " 'max_timbre1',\n",
       " 'range_timbre1',\n",
       " '80Percentile_timbre1',\n",
       " 'mean_timbre2',\n",
       " 'median_timbre2',\n",
       " 'std_timbre2',\n",
       " 'min_timbre2',\n",
       " 'max_timbre2',\n",
       " 'range_timbre2',\n",
       " '80Percentile_timbre2',\n",
       " 'mean_timbre3',\n",
       " 'median_timbre3',\n",
       " 'std_timbre3',\n",
       " 'min_timbre3',\n",
       " 'max_timbre3',\n",
       " 'range_timbre3',\n",
       " '80Percentile_timbre3',\n",
       " 'mean_timbre4',\n",
       " 'median_timbre4',\n",
       " 'std_timbre4',\n",
       " 'min_timbre4',\n",
       " 'max_timbre4',\n",
       " 'range_timbre4',\n",
       " '80Percentile_timbre4',\n",
       " 'mean_timbre5',\n",
       " 'median_timbre5',\n",
       " 'std_timbre5',\n",
       " 'min_timbre5',\n",
       " 'max_timbre5',\n",
       " 'range_timbre5',\n",
       " '80Percentile_timbre5',\n",
       " 'mean_timbre6',\n",
       " 'median_timbre6',\n",
       " 'std_timbre6',\n",
       " 'min_timbre6',\n",
       " 'max_timbre6',\n",
       " 'range_timbre6',\n",
       " '80Percentile_timbre6',\n",
       " 'mean_timbre7',\n",
       " 'median_timbre7',\n",
       " 'std_timbre7',\n",
       " 'min_timbre7',\n",
       " 'max_timbre7',\n",
       " 'range_timbre7',\n",
       " '80Percentile_timbre7',\n",
       " 'mean_timbre8',\n",
       " 'median_timbre8',\n",
       " 'std_timbre8',\n",
       " 'min_timbre8',\n",
       " 'max_timbre8',\n",
       " 'range_timbre8',\n",
       " '80Percentile_timbre8',\n",
       " 'mean_timbre9',\n",
       " 'median_timbre9',\n",
       " 'std_timbre9',\n",
       " 'min_timbre9',\n",
       " 'max_timbre9',\n",
       " 'range_timbre9',\n",
       " '80Percentile_timbre9',\n",
       " 'mean_timbre10',\n",
       " 'median_timbre10',\n",
       " 'std_timbre10',\n",
       " 'min_timbre10',\n",
       " 'max_timbre10',\n",
       " 'range_timbre10',\n",
       " '80Percentile_timbre10',\n",
       " 'mean_timbre11',\n",
       " 'median_timbre11',\n",
       " 'std_timbre11',\n",
       " 'min_timbre11',\n",
       " 'max_timbre11',\n",
       " 'range_timbre11',\n",
       " '80Percentile_timbre11',\n",
       " 'mean_timbre12',\n",
       " 'median_timbre12',\n",
       " 'std_timbre12',\n",
       " 'min_timbre12',\n",
       " 'max_timbre12',\n",
       " 'range_timbre12',\n",
       " '80Percentile_timbre12',\n",
       " 'pt_position',\n",
       " 'au_position',\n",
       " 'pe_position',\n",
       " 'us_position',\n",
       " 'fr_position',\n",
       " 'lt_position',\n",
       " 'is_position',\n",
       " 'lv_position',\n",
       " 'ph_position',\n",
       " 'sk_position',\n",
       " 'sg_position',\n",
       " 'cl_position',\n",
       " 'uy_position',\n",
       " 'lu_position',\n",
       " 'gb_position',\n",
       " 'se_position',\n",
       " 'br_position',\n",
       " 'hk_position',\n",
       " 'co_position',\n",
       " 'do_position',\n",
       " 'ar_position',\n",
       " 'pa_position',\n",
       " 'de_position',\n",
       " 'gt_position',\n",
       " 'at_position',\n",
       " 'ca_position',\n",
       " 'gr_position',\n",
       " 'ie_position',\n",
       " 'hn_position',\n",
       " 'jp_position',\n",
       " 'hu_position',\n",
       " 'pl_position',\n",
       " 'dk_position',\n",
       " 'it_position',\n",
       " 'tw_position',\n",
       " 'tr_position',\n",
       " 'mx_position',\n",
       " 'my_position',\n",
       " 'sv_position',\n",
       " 'nl_position',\n",
       " 'cz_position',\n",
       " 'py_position',\n",
       " 'be_position',\n",
       " 'cr_position',\n",
       " 'bo_position',\n",
       " 'no_position',\n",
       " 'id_position',\n",
       " 'es_position',\n",
       " 'fi_position',\n",
       " 'nz_position',\n",
       " 'global_position',\n",
       " 'ee_position',\n",
       " 'ch_position',\n",
       " 'ec_position']"
      ]
     },
     "execution_count": 4,
     "metadata": {},
     "output_type": "execute_result"
    }
   ],
   "source": [
    "df_columns = list(df.columns)\n",
    "df_columns"
   ]
  },
  {
   "cell_type": "code",
   "execution_count": 5,
   "metadata": {},
   "outputs": [
    {
     "data": {
      "text/plain": [
       "(549, 169)"
      ]
     },
     "execution_count": 5,
     "metadata": {},
     "output_type": "execute_result"
    }
   ],
   "source": [
    "df.shape"
   ]
  },
  {
   "cell_type": "code",
   "execution_count": 6,
   "metadata": {
    "collapsed": true
   },
   "outputs": [],
   "source": [
    "features_startIndex = df_columns.index('acousticness')\n",
    "output_startIndex = df_columns.index('pt_position')"
   ]
  },
  {
   "cell_type": "markdown",
   "metadata": {},
   "source": [
    "### b) Define Output"
   ]
  },
  {
   "cell_type": "code",
   "execution_count": 147,
   "metadata": {
    "scrolled": true
   },
   "outputs": [
    {
     "data": {
      "text/plain": [
       "(549, 54)"
      ]
     },
     "execution_count": 147,
     "metadata": {},
     "output_type": "execute_result"
    }
   ],
   "source": [
    "Y = df.iloc[:, output_startIndex:]\n",
    "Y.head()\n",
    "Y.shape"
   ]
  },
  {
   "cell_type": "code",
   "execution_count": 148,
   "metadata": {},
   "outputs": [
    {
     "name": "stdout",
     "output_type": "stream",
     "text": [
      "549\n"
     ]
    },
    {
     "data": {
      "text/plain": [
       "pt_position        269\n",
       "au_position        339\n",
       "pe_position         62\n",
       "us_position        366\n",
       "fr_position        364\n",
       "lt_position        444\n",
       "is_position        433\n",
       "lv_position        447\n",
       "ph_position        360\n",
       "sk_position        446\n",
       "sg_position        333\n",
       "cl_position         86\n",
       "uy_position        136\n",
       "lu_position        519\n",
       "gb_position        332\n",
       "se_position        330\n",
       "br_position        330\n",
       "hk_position        353\n",
       "co_position         80\n",
       "do_position        190\n",
       "ar_position        116\n",
       "pa_position        168\n",
       "de_position        355\n",
       "gt_position        102\n",
       "at_position        327\n",
       "ca_position        340\n",
       "gr_position        416\n",
       "ie_position        325\n",
       "hn_position        233\n",
       "jp_position        359\n",
       "hu_position        328\n",
       "pl_position        311\n",
       "dk_position        355\n",
       "it_position        300\n",
       "tw_position        350\n",
       "tr_position        354\n",
       "mx_position        125\n",
       "my_position        344\n",
       "sv_position        241\n",
       "nl_position        345\n",
       "cz_position        309\n",
       "py_position        174\n",
       "be_position        312\n",
       "cr_position         84\n",
       "bo_position        240\n",
       "no_position        344\n",
       "id_position        349\n",
       "es_position        141\n",
       "fi_position        373\n",
       "nz_position        336\n",
       "global_position    253\n",
       "ee_position        461\n",
       "ch_position        290\n",
       "ec_position          0\n",
       "dtype: int64"
      ]
     },
     "execution_count": 148,
     "metadata": {},
     "output_type": "execute_result"
    }
   ],
   "source": [
    "# Number of nul values\n",
    "df_isNull = Y.iloc[:, ].isnull().sum()\n",
    "print(df.shape[0])\n",
    "df_isNull"
   ]
  },
  {
   "cell_type": "code",
   "execution_count": 149,
   "metadata": {},
   "outputs": [
    {
     "name": "stdout",
     "output_type": "stream",
     "text": [
      "Threshold: 274.5\n",
      "[0, 2, 11, 12, 18, 19, 20, 21, 23, 28, 36, 38, 41, 43, 44, 47, 50, 53]\n",
      "18\n"
     ]
    }
   ],
   "source": [
    "list_isNull = list(df_isNull)\n",
    "threshold = df.shape[0]/2\n",
    "print('Threshold: {}'.format(threshold))\n",
    "toKeep = list()\n",
    "for i in range(len(list_isNull)):\n",
    "    if list_isNull[i]<threshold:\n",
    "        toKeep.append(i)\n",
    "print(toKeep)\n",
    "print(len(toKeep))"
   ]
  },
  {
   "cell_type": "code",
   "execution_count": 150,
   "metadata": {},
   "outputs": [
    {
     "data": {
      "text/html": [
       "<div>\n",
       "<style>\n",
       "    .dataframe thead tr:only-child th {\n",
       "        text-align: right;\n",
       "    }\n",
       "\n",
       "    .dataframe thead th {\n",
       "        text-align: left;\n",
       "    }\n",
       "\n",
       "    .dataframe tbody tr th {\n",
       "        vertical-align: top;\n",
       "    }\n",
       "</style>\n",
       "<table border=\"1\" class=\"dataframe\">\n",
       "  <thead>\n",
       "    <tr style=\"text-align: right;\">\n",
       "      <th></th>\n",
       "      <th>pt_position</th>\n",
       "      <th>pe_position</th>\n",
       "      <th>cl_position</th>\n",
       "      <th>uy_position</th>\n",
       "      <th>co_position</th>\n",
       "      <th>do_position</th>\n",
       "      <th>ar_position</th>\n",
       "      <th>pa_position</th>\n",
       "      <th>gt_position</th>\n",
       "      <th>hn_position</th>\n",
       "      <th>mx_position</th>\n",
       "      <th>sv_position</th>\n",
       "      <th>py_position</th>\n",
       "      <th>cr_position</th>\n",
       "      <th>bo_position</th>\n",
       "      <th>es_position</th>\n",
       "      <th>global_position</th>\n",
       "      <th>ec_position</th>\n",
       "    </tr>\n",
       "  </thead>\n",
       "  <tbody>\n",
       "    <tr>\n",
       "      <th>0</th>\n",
       "      <td>123.957627</td>\n",
       "      <td>43.814286</td>\n",
       "      <td>42.649351</td>\n",
       "      <td>48.048780</td>\n",
       "      <td>49.886076</td>\n",
       "      <td>84.764228</td>\n",
       "      <td>44.540541</td>\n",
       "      <td>65.621359</td>\n",
       "      <td>52.348315</td>\n",
       "      <td>55.414894</td>\n",
       "      <td>56.680851</td>\n",
       "      <td>55.301075</td>\n",
       "      <td>74.133929</td>\n",
       "      <td>42.987013</td>\n",
       "      <td>42.432836</td>\n",
       "      <td>66.076923</td>\n",
       "      <td>100.380952</td>\n",
       "      <td>52.651685</td>\n",
       "    </tr>\n",
       "    <tr>\n",
       "      <th>1</th>\n",
       "      <td>81.709677</td>\n",
       "      <td>57.912088</td>\n",
       "      <td>64.320755</td>\n",
       "      <td>75.792000</td>\n",
       "      <td>93.047619</td>\n",
       "      <td>79.330827</td>\n",
       "      <td>59.190000</td>\n",
       "      <td>79.261905</td>\n",
       "      <td>90.243421</td>\n",
       "      <td>57.297872</td>\n",
       "      <td>59.424242</td>\n",
       "      <td>61.414141</td>\n",
       "      <td>74.781818</td>\n",
       "      <td>88.291667</td>\n",
       "      <td>65.158879</td>\n",
       "      <td>87.482517</td>\n",
       "      <td>98.850394</td>\n",
       "      <td>79.851562</td>\n",
       "    </tr>\n",
       "    <tr>\n",
       "      <th>2</th>\n",
       "      <td>159.025316</td>\n",
       "      <td>26.391304</td>\n",
       "      <td>25.659574</td>\n",
       "      <td>48.268657</td>\n",
       "      <td>24.116279</td>\n",
       "      <td>41.445946</td>\n",
       "      <td>39.733333</td>\n",
       "      <td>37.884058</td>\n",
       "      <td>28.365385</td>\n",
       "      <td>32.203390</td>\n",
       "      <td>33.433333</td>\n",
       "      <td>31.694915</td>\n",
       "      <td>42.130435</td>\n",
       "      <td>25.106383</td>\n",
       "      <td>28.352941</td>\n",
       "      <td>73.657407</td>\n",
       "      <td>114.163793</td>\n",
       "      <td>32.950000</td>\n",
       "    </tr>\n",
       "    <tr>\n",
       "      <th>3</th>\n",
       "      <td>121.372881</td>\n",
       "      <td>66.531915</td>\n",
       "      <td>75.629310</td>\n",
       "      <td>89.298387</td>\n",
       "      <td>97.925170</td>\n",
       "      <td>88.067227</td>\n",
       "      <td>69.789474</td>\n",
       "      <td>78.783333</td>\n",
       "      <td>94.649007</td>\n",
       "      <td>62.265306</td>\n",
       "      <td>60.196078</td>\n",
       "      <td>60.443299</td>\n",
       "      <td>76.572650</td>\n",
       "      <td>95.629139</td>\n",
       "      <td>64.307692</td>\n",
       "      <td>91.511811</td>\n",
       "      <td>121.038095</td>\n",
       "      <td>83.417910</td>\n",
       "    </tr>\n",
       "    <tr>\n",
       "      <th>4</th>\n",
       "      <td>123.943182</td>\n",
       "      <td>64.810526</td>\n",
       "      <td>78.214876</td>\n",
       "      <td>84.792793</td>\n",
       "      <td>66.418182</td>\n",
       "      <td>76.066667</td>\n",
       "      <td>88.966387</td>\n",
       "      <td>70.266055</td>\n",
       "      <td>82.204545</td>\n",
       "      <td>51.625000</td>\n",
       "      <td>81.837209</td>\n",
       "      <td>56.848485</td>\n",
       "      <td>68.686869</td>\n",
       "      <td>68.355932</td>\n",
       "      <td>59.852273</td>\n",
       "      <td>91.032787</td>\n",
       "      <td>120.951456</td>\n",
       "      <td>78.459677</td>\n",
       "    </tr>\n",
       "  </tbody>\n",
       "</table>\n",
       "</div>"
      ],
      "text/plain": [
       "   pt_position  pe_position  cl_position  uy_position  co_position  \\\n",
       "0   123.957627    43.814286    42.649351    48.048780    49.886076   \n",
       "1    81.709677    57.912088    64.320755    75.792000    93.047619   \n",
       "2   159.025316    26.391304    25.659574    48.268657    24.116279   \n",
       "3   121.372881    66.531915    75.629310    89.298387    97.925170   \n",
       "4   123.943182    64.810526    78.214876    84.792793    66.418182   \n",
       "\n",
       "   do_position  ar_position  pa_position  gt_position  hn_position  \\\n",
       "0    84.764228    44.540541    65.621359    52.348315    55.414894   \n",
       "1    79.330827    59.190000    79.261905    90.243421    57.297872   \n",
       "2    41.445946    39.733333    37.884058    28.365385    32.203390   \n",
       "3    88.067227    69.789474    78.783333    94.649007    62.265306   \n",
       "4    76.066667    88.966387    70.266055    82.204545    51.625000   \n",
       "\n",
       "   mx_position  sv_position  py_position  cr_position  bo_position  \\\n",
       "0    56.680851    55.301075    74.133929    42.987013    42.432836   \n",
       "1    59.424242    61.414141    74.781818    88.291667    65.158879   \n",
       "2    33.433333    31.694915    42.130435    25.106383    28.352941   \n",
       "3    60.196078    60.443299    76.572650    95.629139    64.307692   \n",
       "4    81.837209    56.848485    68.686869    68.355932    59.852273   \n",
       "\n",
       "   es_position  global_position  ec_position  \n",
       "0    66.076923       100.380952    52.651685  \n",
       "1    87.482517        98.850394    79.851562  \n",
       "2    73.657407       114.163793    32.950000  \n",
       "3    91.511811       121.038095    83.417910  \n",
       "4    91.032787       120.951456    78.459677  "
      ]
     },
     "execution_count": 150,
     "metadata": {},
     "output_type": "execute_result"
    }
   ],
   "source": [
    "Y = Y.iloc[:, toKeep]\n",
    "Y.head()"
   ]
  },
  {
   "cell_type": "code",
   "execution_count": 103,
   "metadata": {},
   "outputs": [
    {
     "data": {
      "text/html": [
       "<div>\n",
       "<style>\n",
       "    .dataframe thead tr:only-child th {\n",
       "        text-align: right;\n",
       "    }\n",
       "\n",
       "    .dataframe thead th {\n",
       "        text-align: left;\n",
       "    }\n",
       "\n",
       "    .dataframe tbody tr th {\n",
       "        vertical-align: top;\n",
       "    }\n",
       "</style>\n",
       "<table border=\"1\" class=\"dataframe\">\n",
       "  <thead>\n",
       "    <tr style=\"text-align: right;\">\n",
       "      <th></th>\n",
       "      <th>pt_position</th>\n",
       "      <th>pe_position</th>\n",
       "      <th>cl_position</th>\n",
       "      <th>uy_position</th>\n",
       "      <th>co_position</th>\n",
       "      <th>do_position</th>\n",
       "      <th>ar_position</th>\n",
       "      <th>pa_position</th>\n",
       "      <th>gt_position</th>\n",
       "      <th>hn_position</th>\n",
       "      <th>mx_position</th>\n",
       "      <th>sv_position</th>\n",
       "      <th>py_position</th>\n",
       "      <th>cr_position</th>\n",
       "      <th>bo_position</th>\n",
       "      <th>es_position</th>\n",
       "      <th>global_position</th>\n",
       "      <th>ec_position</th>\n",
       "    </tr>\n",
       "  </thead>\n",
       "  <tbody>\n",
       "    <tr>\n",
       "      <th>count</th>\n",
       "      <td>280.000000</td>\n",
       "      <td>487.000000</td>\n",
       "      <td>463.000000</td>\n",
       "      <td>413.000000</td>\n",
       "      <td>469.000000</td>\n",
       "      <td>359.000000</td>\n",
       "      <td>433.000000</td>\n",
       "      <td>381.000000</td>\n",
       "      <td>447.000000</td>\n",
       "      <td>316.000000</td>\n",
       "      <td>424.000000</td>\n",
       "      <td>308.000000</td>\n",
       "      <td>375.000000</td>\n",
       "      <td>465.000000</td>\n",
       "      <td>309.000000</td>\n",
       "      <td>408.000000</td>\n",
       "      <td>296.000000</td>\n",
       "      <td>549.000000</td>\n",
       "    </tr>\n",
       "    <tr>\n",
       "      <th>mean</th>\n",
       "      <td>133.995952</td>\n",
       "      <td>127.058255</td>\n",
       "      <td>128.391632</td>\n",
       "      <td>124.273267</td>\n",
       "      <td>129.563948</td>\n",
       "      <td>112.047714</td>\n",
       "      <td>129.163084</td>\n",
       "      <td>93.482514</td>\n",
       "      <td>119.233410</td>\n",
       "      <td>77.653150</td>\n",
       "      <td>128.148685</td>\n",
       "      <td>71.714263</td>\n",
       "      <td>95.809203</td>\n",
       "      <td>127.044351</td>\n",
       "      <td>71.555838</td>\n",
       "      <td>128.477340</td>\n",
       "      <td>134.940675</td>\n",
       "      <td>131.109842</td>\n",
       "    </tr>\n",
       "    <tr>\n",
       "      <th>std</th>\n",
       "      <td>31.751765</td>\n",
       "      <td>37.047994</td>\n",
       "      <td>37.246898</td>\n",
       "      <td>34.901789</td>\n",
       "      <td>37.949184</td>\n",
       "      <td>28.335455</td>\n",
       "      <td>35.932511</td>\n",
       "      <td>20.844399</td>\n",
       "      <td>30.357347</td>\n",
       "      <td>17.679588</td>\n",
       "      <td>35.413495</td>\n",
       "      <td>16.507015</td>\n",
       "      <td>21.944670</td>\n",
       "      <td>36.920208</td>\n",
       "      <td>17.164680</td>\n",
       "      <td>33.439570</td>\n",
       "      <td>30.505466</td>\n",
       "      <td>35.084311</td>\n",
       "    </tr>\n",
       "    <tr>\n",
       "      <th>min</th>\n",
       "      <td>70.500000</td>\n",
       "      <td>26.391304</td>\n",
       "      <td>16.444444</td>\n",
       "      <td>20.578947</td>\n",
       "      <td>24.116279</td>\n",
       "      <td>12.454545</td>\n",
       "      <td>20.884615</td>\n",
       "      <td>18.842105</td>\n",
       "      <td>14.592593</td>\n",
       "      <td>14.571429</td>\n",
       "      <td>33.433333</td>\n",
       "      <td>12.478261</td>\n",
       "      <td>18.821429</td>\n",
       "      <td>25.106383</td>\n",
       "      <td>8.285714</td>\n",
       "      <td>43.080645</td>\n",
       "      <td>62.784615</td>\n",
       "      <td>30.594595</td>\n",
       "    </tr>\n",
       "    <tr>\n",
       "      <th>25%</th>\n",
       "      <td>109.619530</td>\n",
       "      <td>105.468750</td>\n",
       "      <td>107.975000</td>\n",
       "      <td>100.465347</td>\n",
       "      <td>110.209302</td>\n",
       "      <td>94.727099</td>\n",
       "      <td>107.000000</td>\n",
       "      <td>83.767442</td>\n",
       "      <td>105.404255</td>\n",
       "      <td>67.755501</td>\n",
       "      <td>106.774373</td>\n",
       "      <td>63.182796</td>\n",
       "      <td>82.795918</td>\n",
       "      <td>105.833333</td>\n",
       "      <td>62.670213</td>\n",
       "      <td>103.494845</td>\n",
       "      <td>112.859375</td>\n",
       "      <td>110.132231</td>\n",
       "    </tr>\n",
       "    <tr>\n",
       "      <th>50%</th>\n",
       "      <td>129.526074</td>\n",
       "      <td>130.000000</td>\n",
       "      <td>126.445455</td>\n",
       "      <td>121.730000</td>\n",
       "      <td>129.405405</td>\n",
       "      <td>112.634921</td>\n",
       "      <td>129.460317</td>\n",
       "      <td>91.600000</td>\n",
       "      <td>120.649123</td>\n",
       "      <td>79.055556</td>\n",
       "      <td>127.396179</td>\n",
       "      <td>70.626263</td>\n",
       "      <td>96.375000</td>\n",
       "      <td>127.966292</td>\n",
       "      <td>71.833333</td>\n",
       "      <td>123.640000</td>\n",
       "      <td>132.707071</td>\n",
       "      <td>133.634615</td>\n",
       "    </tr>\n",
       "    <tr>\n",
       "      <th>75%</th>\n",
       "      <td>159.533333</td>\n",
       "      <td>152.777778</td>\n",
       "      <td>155.900000</td>\n",
       "      <td>154.781250</td>\n",
       "      <td>158.307692</td>\n",
       "      <td>131.433333</td>\n",
       "      <td>153.859155</td>\n",
       "      <td>105.412844</td>\n",
       "      <td>140.880392</td>\n",
       "      <td>89.272727</td>\n",
       "      <td>154.149639</td>\n",
       "      <td>79.617647</td>\n",
       "      <td>110.291667</td>\n",
       "      <td>153.714286</td>\n",
       "      <td>79.262626</td>\n",
       "      <td>155.540000</td>\n",
       "      <td>157.695652</td>\n",
       "      <td>157.487179</td>\n",
       "    </tr>\n",
       "    <tr>\n",
       "      <th>max</th>\n",
       "      <td>200.000000</td>\n",
       "      <td>200.000000</td>\n",
       "      <td>200.000000</td>\n",
       "      <td>198.000000</td>\n",
       "      <td>200.000000</td>\n",
       "      <td>187.000000</td>\n",
       "      <td>193.400000</td>\n",
       "      <td>186.000000</td>\n",
       "      <td>197.000000</td>\n",
       "      <td>131.000000</td>\n",
       "      <td>199.000000</td>\n",
       "      <td>137.000000</td>\n",
       "      <td>190.000000</td>\n",
       "      <td>197.000000</td>\n",
       "      <td>130.900000</td>\n",
       "      <td>199.000000</td>\n",
       "      <td>199.000000</td>\n",
       "      <td>198.000000</td>\n",
       "    </tr>\n",
       "  </tbody>\n",
       "</table>\n",
       "</div>"
      ],
      "text/plain": [
       "       pt_position  pe_position  cl_position  uy_position  co_position  \\\n",
       "count   280.000000   487.000000   463.000000   413.000000   469.000000   \n",
       "mean    133.995952   127.058255   128.391632   124.273267   129.563948   \n",
       "std      31.751765    37.047994    37.246898    34.901789    37.949184   \n",
       "min      70.500000    26.391304    16.444444    20.578947    24.116279   \n",
       "25%     109.619530   105.468750   107.975000   100.465347   110.209302   \n",
       "50%     129.526074   130.000000   126.445455   121.730000   129.405405   \n",
       "75%     159.533333   152.777778   155.900000   154.781250   158.307692   \n",
       "max     200.000000   200.000000   200.000000   198.000000   200.000000   \n",
       "\n",
       "       do_position  ar_position  pa_position  gt_position  hn_position  \\\n",
       "count   359.000000   433.000000   381.000000   447.000000   316.000000   \n",
       "mean    112.047714   129.163084    93.482514   119.233410    77.653150   \n",
       "std      28.335455    35.932511    20.844399    30.357347    17.679588   \n",
       "min      12.454545    20.884615    18.842105    14.592593    14.571429   \n",
       "25%      94.727099   107.000000    83.767442   105.404255    67.755501   \n",
       "50%     112.634921   129.460317    91.600000   120.649123    79.055556   \n",
       "75%     131.433333   153.859155   105.412844   140.880392    89.272727   \n",
       "max     187.000000   193.400000   186.000000   197.000000   131.000000   \n",
       "\n",
       "       mx_position  sv_position  py_position  cr_position  bo_position  \\\n",
       "count   424.000000   308.000000   375.000000   465.000000   309.000000   \n",
       "mean    128.148685    71.714263    95.809203   127.044351    71.555838   \n",
       "std      35.413495    16.507015    21.944670    36.920208    17.164680   \n",
       "min      33.433333    12.478261    18.821429    25.106383     8.285714   \n",
       "25%     106.774373    63.182796    82.795918   105.833333    62.670213   \n",
       "50%     127.396179    70.626263    96.375000   127.966292    71.833333   \n",
       "75%     154.149639    79.617647   110.291667   153.714286    79.262626   \n",
       "max     199.000000   137.000000   190.000000   197.000000   130.900000   \n",
       "\n",
       "       es_position  global_position  ec_position  \n",
       "count   408.000000       296.000000   549.000000  \n",
       "mean    128.477340       134.940675   131.109842  \n",
       "std      33.439570        30.505466    35.084311  \n",
       "min      43.080645        62.784615    30.594595  \n",
       "25%     103.494845       112.859375   110.132231  \n",
       "50%     123.640000       132.707071   133.634615  \n",
       "75%     155.540000       157.695652   157.487179  \n",
       "max     199.000000       199.000000   198.000000  "
      ]
     },
     "execution_count": 103,
     "metadata": {},
     "output_type": "execute_result"
    }
   ],
   "source": [
    "Y.describe()"
   ]
  },
  {
   "cell_type": "code",
   "execution_count": 151,
   "metadata": {},
   "outputs": [
    {
     "name": "stdout",
     "output_type": "stream",
     "text": [
      "Before:\n",
      "pt_position        269\n",
      "pe_position         62\n",
      "cl_position         86\n",
      "uy_position        136\n",
      "co_position         80\n",
      "do_position        190\n",
      "ar_position        116\n",
      "pa_position        168\n",
      "gt_position        102\n",
      "hn_position        233\n",
      "mx_position        125\n",
      "sv_position        241\n",
      "py_position        174\n",
      "cr_position         84\n",
      "bo_position        240\n",
      "es_position        141\n",
      "global_position    253\n",
      "ec_position          0\n",
      "dtype: int64\n",
      "After:\n",
      "pt_position        0\n",
      "pe_position        0\n",
      "cl_position        0\n",
      "uy_position        0\n",
      "co_position        0\n",
      "do_position        0\n",
      "ar_position        0\n",
      "pa_position        0\n",
      "gt_position        0\n",
      "hn_position        0\n",
      "mx_position        0\n",
      "sv_position        0\n",
      "py_position        0\n",
      "cr_position        0\n",
      "bo_position        0\n",
      "es_position        0\n",
      "global_position    0\n",
      "ec_position        0\n",
      "dtype: int64\n"
     ]
    }
   ],
   "source": [
    "# Replace NaN Values by very low chart score: \n",
    "lowPos = 300 # set arbitrarily\n",
    "var = 0.01\n",
    "print('Before:')\n",
    "print(Y.isnull().sum())\n",
    "for i in range(Y.shape[0]):\n",
    "    Y.iloc[i,:] = Y.iloc[i,:].fillna(lowPos)\n",
    "    lowPos += var\n",
    "print('After:')\n",
    "print(Y.isnull().sum())"
   ]
  },
  {
   "cell_type": "code",
   "execution_count": 152,
   "metadata": {
    "collapsed": true
   },
   "outputs": [],
   "source": [
    "# Get binary values\n",
    "Y_test = Y.copy()\n",
    "for i in range(Y.shape[1]):\n",
    "    Y_test.iloc[:,i] = pd.qcut(Y_test.iloc[:,i], 2, labels = False)"
   ]
  },
  {
   "cell_type": "markdown",
   "metadata": {},
   "source": [
    "### c) Define Input/Features"
   ]
  },
  {
   "cell_type": "code",
   "execution_count": 153,
   "metadata": {},
   "outputs": [
    {
     "data": {
      "text/html": [
       "<div>\n",
       "<style>\n",
       "    .dataframe thead tr:only-child th {\n",
       "        text-align: right;\n",
       "    }\n",
       "\n",
       "    .dataframe thead th {\n",
       "        text-align: left;\n",
       "    }\n",
       "\n",
       "    .dataframe tbody tr th {\n",
       "        vertical-align: top;\n",
       "    }\n",
       "</style>\n",
       "<table border=\"1\" class=\"dataframe\">\n",
       "  <thead>\n",
       "    <tr style=\"text-align: right;\">\n",
       "      <th></th>\n",
       "      <th>acousticness</th>\n",
       "      <th>danceability</th>\n",
       "      <th>duration_ms</th>\n",
       "      <th>energy</th>\n",
       "      <th>instrumentalness</th>\n",
       "      <th>key</th>\n",
       "      <th>liveness</th>\n",
       "      <th>loudness</th>\n",
       "      <th>mode</th>\n",
       "      <th>speechiness</th>\n",
       "      <th>...</th>\n",
       "      <th>max_timbre11</th>\n",
       "      <th>range_timbre11</th>\n",
       "      <th>80Percentile_timbre11</th>\n",
       "      <th>mean_timbre12</th>\n",
       "      <th>median_timbre12</th>\n",
       "      <th>std_timbre12</th>\n",
       "      <th>min_timbre12</th>\n",
       "      <th>max_timbre12</th>\n",
       "      <th>range_timbre12</th>\n",
       "      <th>80Percentile_timbre12</th>\n",
       "    </tr>\n",
       "  </thead>\n",
       "  <tbody>\n",
       "    <tr>\n",
       "      <th>0</th>\n",
       "      <td>0.58100</td>\n",
       "      <td>0.825</td>\n",
       "      <td>233713</td>\n",
       "      <td>0.652</td>\n",
       "      <td>0.00000</td>\n",
       "      <td>1</td>\n",
       "      <td>0.0931</td>\n",
       "      <td>-3.183</td>\n",
       "      <td>0</td>\n",
       "      <td>0.0802</td>\n",
       "      <td>...</td>\n",
       "      <td>57.744</td>\n",
       "      <td>157.995</td>\n",
       "      <td>3.6902</td>\n",
       "      <td>-3.411885</td>\n",
       "      <td>-2.4790</td>\n",
       "      <td>13.339611</td>\n",
       "      <td>-53.845</td>\n",
       "      <td>37.774</td>\n",
       "      <td>91.619</td>\n",
       "      <td>7.7588</td>\n",
       "    </tr>\n",
       "    <tr>\n",
       "      <th>1</th>\n",
       "      <td>0.00902</td>\n",
       "      <td>0.785</td>\n",
       "      <td>173987</td>\n",
       "      <td>0.617</td>\n",
       "      <td>0.00246</td>\n",
       "      <td>1</td>\n",
       "      <td>0.3510</td>\n",
       "      <td>-5.871</td>\n",
       "      <td>1</td>\n",
       "      <td>0.0522</td>\n",
       "      <td>...</td>\n",
       "      <td>87.010</td>\n",
       "      <td>199.987</td>\n",
       "      <td>1.6932</td>\n",
       "      <td>-2.246651</td>\n",
       "      <td>-2.4420</td>\n",
       "      <td>15.645132</td>\n",
       "      <td>-44.506</td>\n",
       "      <td>36.627</td>\n",
       "      <td>81.133</td>\n",
       "      <td>11.5428</td>\n",
       "    </tr>\n",
       "    <tr>\n",
       "      <th>2</th>\n",
       "      <td>0.41500</td>\n",
       "      <td>0.736</td>\n",
       "      <td>245507</td>\n",
       "      <td>0.541</td>\n",
       "      <td>0.00000</td>\n",
       "      <td>8</td>\n",
       "      <td>0.1100</td>\n",
       "      <td>-5.597</td>\n",
       "      <td>1</td>\n",
       "      <td>0.0297</td>\n",
       "      <td>...</td>\n",
       "      <td>104.427</td>\n",
       "      <td>217.686</td>\n",
       "      <td>0.6802</td>\n",
       "      <td>1.795072</td>\n",
       "      <td>1.9440</td>\n",
       "      <td>13.292210</td>\n",
       "      <td>-37.643</td>\n",
       "      <td>41.531</td>\n",
       "      <td>79.174</td>\n",
       "      <td>12.8920</td>\n",
       "    </tr>\n",
       "    <tr>\n",
       "      <th>3</th>\n",
       "      <td>0.00346</td>\n",
       "      <td>0.723</td>\n",
       "      <td>176561</td>\n",
       "      <td>0.809</td>\n",
       "      <td>0.00123</td>\n",
       "      <td>7</td>\n",
       "      <td>0.5650</td>\n",
       "      <td>-3.081</td>\n",
       "      <td>0</td>\n",
       "      <td>0.0625</td>\n",
       "      <td>...</td>\n",
       "      <td>49.500</td>\n",
       "      <td>123.525</td>\n",
       "      <td>5.5830</td>\n",
       "      <td>0.437129</td>\n",
       "      <td>1.1040</td>\n",
       "      <td>17.708769</td>\n",
       "      <td>-48.071</td>\n",
       "      <td>54.298</td>\n",
       "      <td>102.369</td>\n",
       "      <td>16.3770</td>\n",
       "    </tr>\n",
       "    <tr>\n",
       "      <th>4</th>\n",
       "      <td>0.47400</td>\n",
       "      <td>0.781</td>\n",
       "      <td>281560</td>\n",
       "      <td>0.445</td>\n",
       "      <td>0.00000</td>\n",
       "      <td>2</td>\n",
       "      <td>0.1840</td>\n",
       "      <td>-6.061</td>\n",
       "      <td>1</td>\n",
       "      <td>0.0295</td>\n",
       "      <td>...</td>\n",
       "      <td>67.121</td>\n",
       "      <td>158.016</td>\n",
       "      <td>6.8418</td>\n",
       "      <td>-6.117562</td>\n",
       "      <td>-5.8825</td>\n",
       "      <td>15.538641</td>\n",
       "      <td>-57.848</td>\n",
       "      <td>61.165</td>\n",
       "      <td>119.013</td>\n",
       "      <td>7.0520</td>\n",
       "    </tr>\n",
       "  </tbody>\n",
       "</table>\n",
       "<p>5 rows × 110 columns</p>\n",
       "</div>"
      ],
      "text/plain": [
       "   acousticness  danceability  duration_ms  energy  instrumentalness  key  \\\n",
       "0       0.58100         0.825       233713   0.652           0.00000    1   \n",
       "1       0.00902         0.785       173987   0.617           0.00246    1   \n",
       "2       0.41500         0.736       245507   0.541           0.00000    8   \n",
       "3       0.00346         0.723       176561   0.809           0.00123    7   \n",
       "4       0.47400         0.781       281560   0.445           0.00000    2   \n",
       "\n",
       "   liveness  loudness  mode  speechiness          ...            max_timbre11  \\\n",
       "0    0.0931    -3.183     0       0.0802          ...                  57.744   \n",
       "1    0.3510    -5.871     1       0.0522          ...                  87.010   \n",
       "2    0.1100    -5.597     1       0.0297          ...                 104.427   \n",
       "3    0.5650    -3.081     0       0.0625          ...                  49.500   \n",
       "4    0.1840    -6.061     1       0.0295          ...                  67.121   \n",
       "\n",
       "   range_timbre11  80Percentile_timbre11  mean_timbre12  median_timbre12  \\\n",
       "0         157.995                 3.6902      -3.411885          -2.4790   \n",
       "1         199.987                 1.6932      -2.246651          -2.4420   \n",
       "2         217.686                 0.6802       1.795072           1.9440   \n",
       "3         123.525                 5.5830       0.437129           1.1040   \n",
       "4         158.016                 6.8418      -6.117562          -5.8825   \n",
       "\n",
       "   std_timbre12  min_timbre12  max_timbre12  range_timbre12  \\\n",
       "0     13.339611       -53.845        37.774          91.619   \n",
       "1     15.645132       -44.506        36.627          81.133   \n",
       "2     13.292210       -37.643        41.531          79.174   \n",
       "3     17.708769       -48.071        54.298         102.369   \n",
       "4     15.538641       -57.848        61.165         119.013   \n",
       "\n",
       "   80Percentile_timbre12  \n",
       "0                 7.7588  \n",
       "1                11.5428  \n",
       "2                12.8920  \n",
       "3                16.3770  \n",
       "4                 7.0520  \n",
       "\n",
       "[5 rows x 110 columns]"
      ]
     },
     "execution_count": 153,
     "metadata": {},
     "output_type": "execute_result"
    }
   ],
   "source": [
    "X = df.iloc[:, features_startIndex:output_startIndex]\n",
    "X.head()"
   ]
  },
  {
   "cell_type": "code",
   "execution_count": 154,
   "metadata": {
    "collapsed": true
   },
   "outputs": [],
   "source": [
    "from sklearn.preprocessing import normalize\n",
    "X_norm = normalize(X)"
   ]
  },
  {
   "cell_type": "markdown",
   "metadata": {},
   "source": [
    "### d) Constructs Dataframe"
   ]
  },
  {
   "cell_type": "code",
   "execution_count": 155,
   "metadata": {
    "scrolled": true
   },
   "outputs": [
    {
     "data": {
      "text/html": [
       "<div>\n",
       "<style>\n",
       "    .dataframe thead tr:only-child th {\n",
       "        text-align: right;\n",
       "    }\n",
       "\n",
       "    .dataframe thead th {\n",
       "        text-align: left;\n",
       "    }\n",
       "\n",
       "    .dataframe tbody tr th {\n",
       "        vertical-align: top;\n",
       "    }\n",
       "</style>\n",
       "<table border=\"1\" class=\"dataframe\">\n",
       "  <thead>\n",
       "    <tr style=\"text-align: right;\">\n",
       "      <th></th>\n",
       "      <th>acousticness</th>\n",
       "      <th>danceability</th>\n",
       "      <th>duration_ms</th>\n",
       "      <th>energy</th>\n",
       "      <th>instrumentalness</th>\n",
       "      <th>key</th>\n",
       "      <th>liveness</th>\n",
       "      <th>loudness</th>\n",
       "      <th>mode</th>\n",
       "      <th>speechiness</th>\n",
       "      <th>...</th>\n",
       "      <th>gt_position</th>\n",
       "      <th>hn_position</th>\n",
       "      <th>mx_position</th>\n",
       "      <th>sv_position</th>\n",
       "      <th>py_position</th>\n",
       "      <th>cr_position</th>\n",
       "      <th>bo_position</th>\n",
       "      <th>es_position</th>\n",
       "      <th>global_position</th>\n",
       "      <th>ec_position</th>\n",
       "    </tr>\n",
       "  </thead>\n",
       "  <tbody>\n",
       "    <tr>\n",
       "      <th>0</th>\n",
       "      <td>0.58100</td>\n",
       "      <td>0.825</td>\n",
       "      <td>233713</td>\n",
       "      <td>0.652</td>\n",
       "      <td>0.00000</td>\n",
       "      <td>1</td>\n",
       "      <td>0.0931</td>\n",
       "      <td>-3.183</td>\n",
       "      <td>0</td>\n",
       "      <td>0.0802</td>\n",
       "      <td>...</td>\n",
       "      <td>52.348315</td>\n",
       "      <td>55.414894</td>\n",
       "      <td>56.680851</td>\n",
       "      <td>55.301075</td>\n",
       "      <td>74.133929</td>\n",
       "      <td>42.987013</td>\n",
       "      <td>42.432836</td>\n",
       "      <td>66.076923</td>\n",
       "      <td>100.380952</td>\n",
       "      <td>52.651685</td>\n",
       "    </tr>\n",
       "    <tr>\n",
       "      <th>1</th>\n",
       "      <td>0.00902</td>\n",
       "      <td>0.785</td>\n",
       "      <td>173987</td>\n",
       "      <td>0.617</td>\n",
       "      <td>0.00246</td>\n",
       "      <td>1</td>\n",
       "      <td>0.3510</td>\n",
       "      <td>-5.871</td>\n",
       "      <td>1</td>\n",
       "      <td>0.0522</td>\n",
       "      <td>...</td>\n",
       "      <td>90.243421</td>\n",
       "      <td>57.297872</td>\n",
       "      <td>59.424242</td>\n",
       "      <td>61.414141</td>\n",
       "      <td>74.781818</td>\n",
       "      <td>88.291667</td>\n",
       "      <td>65.158879</td>\n",
       "      <td>87.482517</td>\n",
       "      <td>98.850394</td>\n",
       "      <td>79.851562</td>\n",
       "    </tr>\n",
       "    <tr>\n",
       "      <th>2</th>\n",
       "      <td>0.41500</td>\n",
       "      <td>0.736</td>\n",
       "      <td>245507</td>\n",
       "      <td>0.541</td>\n",
       "      <td>0.00000</td>\n",
       "      <td>8</td>\n",
       "      <td>0.1100</td>\n",
       "      <td>-5.597</td>\n",
       "      <td>1</td>\n",
       "      <td>0.0297</td>\n",
       "      <td>...</td>\n",
       "      <td>28.365385</td>\n",
       "      <td>32.203390</td>\n",
       "      <td>33.433333</td>\n",
       "      <td>31.694915</td>\n",
       "      <td>42.130435</td>\n",
       "      <td>25.106383</td>\n",
       "      <td>28.352941</td>\n",
       "      <td>73.657407</td>\n",
       "      <td>114.163793</td>\n",
       "      <td>32.950000</td>\n",
       "    </tr>\n",
       "    <tr>\n",
       "      <th>3</th>\n",
       "      <td>0.00346</td>\n",
       "      <td>0.723</td>\n",
       "      <td>176561</td>\n",
       "      <td>0.809</td>\n",
       "      <td>0.00123</td>\n",
       "      <td>7</td>\n",
       "      <td>0.5650</td>\n",
       "      <td>-3.081</td>\n",
       "      <td>0</td>\n",
       "      <td>0.0625</td>\n",
       "      <td>...</td>\n",
       "      <td>94.649007</td>\n",
       "      <td>62.265306</td>\n",
       "      <td>60.196078</td>\n",
       "      <td>60.443299</td>\n",
       "      <td>76.572650</td>\n",
       "      <td>95.629139</td>\n",
       "      <td>64.307692</td>\n",
       "      <td>91.511811</td>\n",
       "      <td>121.038095</td>\n",
       "      <td>83.417910</td>\n",
       "    </tr>\n",
       "    <tr>\n",
       "      <th>4</th>\n",
       "      <td>0.47400</td>\n",
       "      <td>0.781</td>\n",
       "      <td>281560</td>\n",
       "      <td>0.445</td>\n",
       "      <td>0.00000</td>\n",
       "      <td>2</td>\n",
       "      <td>0.1840</td>\n",
       "      <td>-6.061</td>\n",
       "      <td>1</td>\n",
       "      <td>0.0295</td>\n",
       "      <td>...</td>\n",
       "      <td>82.204545</td>\n",
       "      <td>51.625000</td>\n",
       "      <td>81.837209</td>\n",
       "      <td>56.848485</td>\n",
       "      <td>68.686869</td>\n",
       "      <td>68.355932</td>\n",
       "      <td>59.852273</td>\n",
       "      <td>91.032787</td>\n",
       "      <td>120.951456</td>\n",
       "      <td>78.459677</td>\n",
       "    </tr>\n",
       "  </tbody>\n",
       "</table>\n",
       "<p>5 rows × 128 columns</p>\n",
       "</div>"
      ],
      "text/plain": [
       "   acousticness  danceability  duration_ms  energy  instrumentalness  key  \\\n",
       "0       0.58100         0.825       233713   0.652           0.00000    1   \n",
       "1       0.00902         0.785       173987   0.617           0.00246    1   \n",
       "2       0.41500         0.736       245507   0.541           0.00000    8   \n",
       "3       0.00346         0.723       176561   0.809           0.00123    7   \n",
       "4       0.47400         0.781       281560   0.445           0.00000    2   \n",
       "\n",
       "   liveness  loudness  mode  speechiness     ...       gt_position  \\\n",
       "0    0.0931    -3.183     0       0.0802     ...         52.348315   \n",
       "1    0.3510    -5.871     1       0.0522     ...         90.243421   \n",
       "2    0.1100    -5.597     1       0.0297     ...         28.365385   \n",
       "3    0.5650    -3.081     0       0.0625     ...         94.649007   \n",
       "4    0.1840    -6.061     1       0.0295     ...         82.204545   \n",
       "\n",
       "   hn_position  mx_position  sv_position  py_position  cr_position  \\\n",
       "0    55.414894    56.680851    55.301075    74.133929    42.987013   \n",
       "1    57.297872    59.424242    61.414141    74.781818    88.291667   \n",
       "2    32.203390    33.433333    31.694915    42.130435    25.106383   \n",
       "3    62.265306    60.196078    60.443299    76.572650    95.629139   \n",
       "4    51.625000    81.837209    56.848485    68.686869    68.355932   \n",
       "\n",
       "   bo_position  es_position  global_position  ec_position  \n",
       "0    42.432836    66.076923       100.380952    52.651685  \n",
       "1    65.158879    87.482517        98.850394    79.851562  \n",
       "2    28.352941    73.657407       114.163793    32.950000  \n",
       "3    64.307692    91.511811       121.038095    83.417910  \n",
       "4    59.852273    91.032787       120.951456    78.459677  \n",
       "\n",
       "[5 rows x 128 columns]"
      ]
     },
     "execution_count": 155,
     "metadata": {},
     "output_type": "execute_result"
    }
   ],
   "source": [
    "df_work = pd.concat([X,Y], axis=1)\n",
    "df_work.head()"
   ]
  },
  {
   "cell_type": "markdown",
   "metadata": {},
   "source": [
    "## 2. Perform Machine Learning"
   ]
  },
  {
   "cell_type": "markdown",
   "metadata": {},
   "source": [
    "### Import packages/Define functions"
   ]
  },
  {
   "cell_type": "code",
   "execution_count": 156,
   "metadata": {},
   "outputs": [],
   "source": [
    "from sklearn.linear_model import LogisticRegression\n",
    "from sklearn.svm import SVC, LinearSVC\n",
    "from sklearn.neighbors import KNeighborsClassifier\n",
    "from sklearn.ensemble import RandomForestClassifier\n",
    "from sklearn.linear_model import Perceptron\n",
    "import xgboost as xgb\n",
    "\n",
    "from sklearn.model_selection import train_test_split\n",
    "from sklearn.metrics import confusion_matrix\n",
    "from sklearn.metrics import roc_curve, auc\n",
    "\n",
    "import operator\n",
    "\n",
    "from sklearn.preprocessing import normalize\n"
   ]
  },
  {
   "cell_type": "code",
   "execution_count": 157,
   "metadata": {
    "collapsed": true
   },
   "outputs": [],
   "source": [
    "# Confusion Matrix\n",
    "def printConfusionMatrix (y_true, y_pred):\n",
    "    cf=pd.DataFrame(confusion_matrix(y_true, y_pred))\n",
    "    print(cf)\n",
    "\n",
    "def plotROCCurve (y_true, y_pred):\n",
    "    fpr, tpr, thresholds = roc_curve(y_true, y_pred)\n",
    "    roc_auc = auc(fpr, tpr)\n",
    "    \n",
    "    plt.figure()\n",
    "    lw = 2\n",
    "    plt.plot(fpr, tpr, color='darkorange',\n",
    "             lw=lw, label='ROC curve (area = %0.2f)' % roc_auc)\n",
    "    plt.plot([0, 1], [0, 1], color='navy', lw=lw, linestyle='--')\n",
    "    plt.xlim([0.0, 1.0])\n",
    "    plt.ylim([0.0, 1.05])\n",
    "    plt.xlabel('False Positive Rate')\n",
    "    plt.ylabel('True Positive Rate')\n",
    "    plt.title('Receiver operating characteristic example')\n",
    "    plt.legend(loc=\"lower right\")\n",
    "    plt.show()\n",
    "\n",
    "def featureImportance(x_train, y_train, features):\n",
    "    random_forest = RandomForestClassifier(n_estimators=190)\n",
    "    random_forest.fit(x_train, y_train)\n",
    "    values = random_forest.feature_importances_\n",
    "    dict_featureImportance = dict(zip(features,values))\n",
    "    sorted_dict = sorted(dict_featureImportance.items(), key=operator.itemgetter(1), reverse = True)\n",
    "    return sorted_dict\n",
    "\n",
    "def performsMLModelComparison(x_train, x_test, y_train, y_test, printing=True):\n",
    "    '''Tries standard ML models, reports average accuracy and best model (with its accuracy and confusion matrix)'''\n",
    "    MLModels = [LogisticRegression(), SVC(), Perceptron(), KNeighborsClassifier(n_neighbors = 3), xgb.XGBClassifier(n_estimators = 140), RandomForestClassifier(n_estimators = 140)]\n",
    "    MLModelsStrings = [\"Logistic Regression\", \"Support Vector Machine\", \"Perceptron\", \"KN Neighbors\", \"Gradient Boosting\", \"Random Forest\"]\n",
    "    nModels = len(MLModels)\n",
    "    trainingAccuracy = list()\n",
    "    testAccuracy = list()\n",
    "    aucScore = list()\n",
    "\n",
    "    # Train models\n",
    "    for i in range(nModels):\n",
    "        MLModels[i].fit(x_train, y_train)\n",
    "        trainingAccuracy.append (MLModels[i].score(x_train, y_train))\n",
    "        testAccuracy.append(MLModels[i].score(x_test, y_test))\n",
    "        \n",
    "        fpr, tpr, thresholds = roc_curve(y_test, MLModels[i].predict(x_test))\n",
    "        roc_auc = auc(fpr, tpr)\n",
    "        aucScore.append(roc_auc)\n",
    "    \n",
    "    # Report average test accuracy\n",
    "    if (printing):\n",
    "        '''print('Used the following models:')\n",
    "        print(MLModelsStrings)\n",
    "        print('Test Scores')\n",
    "        print(testAccuracy)\n",
    "        print('AUC Scores')\n",
    "        print(aucScore)\n",
    "        print('Average test accuracies of all models is: {}'.format(np.mean(testAccuracy)))'''\n",
    "    \n",
    "    # Find best model\n",
    "    max_testAccuracy = max(testAccuracy)\n",
    "    max_index = testAccuracy.index(max_testAccuracy)\n",
    "    bestModel = MLModels[max_index]\n",
    "    if (printing):\n",
    "        print('{} is the best model'.format(MLModelsStrings[max_index]))\n",
    "        print('Test Accuracy: {}'.format(max_testAccuracy))\n",
    "        print('AUC Score: {}'.format(aucScore[max_index]))\n",
    "        print('Confusion Matrix')\n",
    "        printConfusionMatrix(y_test, bestModel.predict(x_test))\n",
    "    \n",
    "    return bestModel"
   ]
  },
  {
   "cell_type": "code",
   "execution_count": 158,
   "metadata": {
    "collapsed": true
   },
   "outputs": [],
   "source": [
    "def runsModel(x_train, x_test, y_train, y_test, model):\n",
    "\n",
    "    # Train model\n",
    "    model.fit(x_train, y_train)\n",
    "    trainingAccuracy = (model.score(x_train, y_train))\n",
    "    testAccuracy = (model.score(x_test, y_test))\n",
    "\n",
    "    fpr, tpr, thresholds = roc_curve(y_test, model.predict(x_test))\n",
    "    roc_auc = auc(fpr, tpr)\n",
    "    aucScore = (roc_auc)\n",
    "    \n",
    "    print('Test Accuracy: {}'.format(testAccuracy))\n",
    "    print('Training Accuracy: {}'.format(trainingAccuracy))\n",
    "    print('AUC Score: {}'.format(aucScore))\n",
    "    print('Confusion Matrix')\n",
    "    printConfusionMatrix(y_test, model.predict(x_test))\n",
    "    return model"
   ]
  },
  {
   "cell_type": "markdown",
   "metadata": {},
   "source": [
    "### 1. Test out random models for all countries"
   ]
  },
  {
   "cell_type": "code",
   "execution_count": 159,
   "metadata": {},
   "outputs": [
    {
     "name": "stdout",
     "output_type": "stream",
     "text": [
      "Number of outputs: 18\n",
      "['pt_position', 'pe_position', 'cl_position', 'uy_position', 'co_position', 'do_position', 'ar_position', 'pa_position', 'gt_position', 'hn_position', 'mx_position', 'sv_position', 'py_position', 'cr_position', 'bo_position', 'es_position', 'global_position', 'ec_position']\n"
     ]
    }
   ],
   "source": [
    "a = list(df_work.columns)\n",
    "index = a.index('pt_position')\n",
    "output =a[index:]\n",
    "print(\"Number of outputs: {}\".format(len(output)))\n",
    "print(output)"
   ]
  },
  {
   "cell_type": "code",
   "execution_count": 160,
   "metadata": {},
   "outputs": [
    {
     "name": "stdout",
     "output_type": "stream",
     "text": [
      "Number of features: 110\n",
      "['acousticness', 'danceability', 'duration_ms', 'energy', 'instrumentalness', 'key', 'liveness', 'loudness', 'mode', 'speechiness', 'tempo', 'valence', 'International', 'Unknown', 'electronic', 'folk', 'hip hop', 'house', 'indie', 'latino', 'metal', 'pop', 'punk', 'r&b', 'rap', 'rock', 'mean_timbre1', 'median_timbre1', 'std_timbre1', 'min_timbre1', 'max_timbre1', 'range_timbre1', '80Percentile_timbre1', 'mean_timbre2', 'median_timbre2', 'std_timbre2', 'min_timbre2', 'max_timbre2', 'range_timbre2', '80Percentile_timbre2', 'mean_timbre3', 'median_timbre3', 'std_timbre3', 'min_timbre3', 'max_timbre3', 'range_timbre3', '80Percentile_timbre3', 'mean_timbre4', 'median_timbre4', 'std_timbre4', 'min_timbre4', 'max_timbre4', 'range_timbre4', '80Percentile_timbre4', 'mean_timbre5', 'median_timbre5', 'std_timbre5', 'min_timbre5', 'max_timbre5', 'range_timbre5', '80Percentile_timbre5', 'mean_timbre6', 'median_timbre6', 'std_timbre6', 'min_timbre6', 'max_timbre6', 'range_timbre6', '80Percentile_timbre6', 'mean_timbre7', 'median_timbre7', 'std_timbre7', 'min_timbre7', 'max_timbre7', 'range_timbre7', '80Percentile_timbre7', 'mean_timbre8', 'median_timbre8', 'std_timbre8', 'min_timbre8', 'max_timbre8', 'range_timbre8', '80Percentile_timbre8', 'mean_timbre9', 'median_timbre9', 'std_timbre9', 'min_timbre9', 'max_timbre9', 'range_timbre9', '80Percentile_timbre9', 'mean_timbre10', 'median_timbre10', 'std_timbre10', 'min_timbre10', 'max_timbre10', 'range_timbre10', '80Percentile_timbre10', 'mean_timbre11', 'median_timbre11', 'std_timbre11', 'min_timbre11', 'max_timbre11', 'range_timbre11', '80Percentile_timbre11', 'mean_timbre12', 'median_timbre12', 'std_timbre12', 'min_timbre12', 'max_timbre12', 'range_timbre12', '80Percentile_timbre12']\n"
     ]
    }
   ],
   "source": [
    "features = a[:index]\n",
    "print(\"Number of features: {}\".format(len(features)))\n",
    "print(features)"
   ]
  },
  {
   "cell_type": "code",
   "execution_count": 161,
   "metadata": {},
   "outputs": [
    {
     "name": "stdout",
     "output_type": "stream",
     "text": [
      "Performs prediction at Country: pt_position\n"
     ]
    },
    {
     "name": "stderr",
     "output_type": "stream",
     "text": [
      "C:\\Users\\mx190\\Anaconda3\\envs\\data-x\\lib\\site-packages\\sklearn\\linear_model\\stochastic_gradient.py:128: FutureWarning: max_iter and tol parameters have been added in <class 'sklearn.linear_model.perceptron.Perceptron'> in 0.19. If both are left unset, they default to max_iter=5 and tol=None. If tol is not None, max_iter defaults to max_iter=1000. From 0.21, default max_iter will be 1000, and default tol will be 1e-3.\n",
      "  \"and default tol will be 1e-3.\" % type(self), FutureWarning)\n",
      "C:\\Users\\mx190\\Anaconda3\\envs\\data-x\\lib\\site-packages\\sklearn\\preprocessing\\label.py:151: DeprecationWarning: The truth value of an empty array is ambiguous. Returning False, but in future this will result in an error. Use `array.size > 0` to check that an array is not empty.\n",
      "  if diff:\n",
      "C:\\Users\\mx190\\Anaconda3\\envs\\data-x\\lib\\site-packages\\sklearn\\preprocessing\\label.py:151: DeprecationWarning: The truth value of an empty array is ambiguous. Returning False, but in future this will result in an error. Use `array.size > 0` to check that an array is not empty.\n",
      "  if diff:\n",
      "C:\\Users\\mx190\\Anaconda3\\envs\\data-x\\lib\\site-packages\\sklearn\\preprocessing\\label.py:151: DeprecationWarning: The truth value of an empty array is ambiguous. Returning False, but in future this will result in an error. Use `array.size > 0` to check that an array is not empty.\n",
      "  if diff:\n"
     ]
    },
    {
     "name": "stdout",
     "output_type": "stream",
     "text": [
      "Gradient Boosting is the best model\n",
      "Test Accuracy: 0.5662650602409639\n",
      "AUC Score: 0.5622093023255814\n",
      "Confusion Matrix\n",
      "    0   1\n",
      "0  29  14\n",
      "1  22  18\n",
      "Performs prediction at Country: pe_position\n"
     ]
    },
    {
     "name": "stderr",
     "output_type": "stream",
     "text": [
      "C:\\Users\\mx190\\Anaconda3\\envs\\data-x\\lib\\site-packages\\sklearn\\preprocessing\\label.py:151: DeprecationWarning: The truth value of an empty array is ambiguous. Returning False, but in future this will result in an error. Use `array.size > 0` to check that an array is not empty.\n",
      "  if diff:\n",
      "C:\\Users\\mx190\\Anaconda3\\envs\\data-x\\lib\\site-packages\\sklearn\\preprocessing\\label.py:151: DeprecationWarning: The truth value of an empty array is ambiguous. Returning False, but in future this will result in an error. Use `array.size > 0` to check that an array is not empty.\n",
      "  if diff:\n",
      "C:\\Users\\mx190\\Anaconda3\\envs\\data-x\\lib\\site-packages\\sklearn\\linear_model\\stochastic_gradient.py:128: FutureWarning: max_iter and tol parameters have been added in <class 'sklearn.linear_model.perceptron.Perceptron'> in 0.19. If both are left unset, they default to max_iter=5 and tol=None. If tol is not None, max_iter defaults to max_iter=1000. From 0.21, default max_iter will be 1000, and default tol will be 1e-3.\n",
      "  \"and default tol will be 1e-3.\" % type(self), FutureWarning)\n",
      "C:\\Users\\mx190\\Anaconda3\\envs\\data-x\\lib\\site-packages\\sklearn\\preprocessing\\label.py:151: DeprecationWarning: The truth value of an empty array is ambiguous. Returning False, but in future this will result in an error. Use `array.size > 0` to check that an array is not empty.\n",
      "  if diff:\n",
      "C:\\Users\\mx190\\Anaconda3\\envs\\data-x\\lib\\site-packages\\sklearn\\preprocessing\\label.py:151: DeprecationWarning: The truth value of an empty array is ambiguous. Returning False, but in future this will result in an error. Use `array.size > 0` to check that an array is not empty.\n",
      "  if diff:\n",
      "C:\\Users\\mx190\\Anaconda3\\envs\\data-x\\lib\\site-packages\\sklearn\\preprocessing\\label.py:151: DeprecationWarning: The truth value of an empty array is ambiguous. Returning False, but in future this will result in an error. Use `array.size > 0` to check that an array is not empty.\n",
      "  if diff:\n"
     ]
    },
    {
     "name": "stdout",
     "output_type": "stream",
     "text": [
      "Perceptron is the best model\n",
      "Test Accuracy: 0.5662650602409639\n",
      "AUC Score: 0.48409363745498196\n",
      "Confusion Matrix\n",
      "    0  1\n",
      "0  46  3\n",
      "1  33  1\n",
      "Performs prediction at Country: cl_position\n"
     ]
    },
    {
     "name": "stderr",
     "output_type": "stream",
     "text": [
      "C:\\Users\\mx190\\Anaconda3\\envs\\data-x\\lib\\site-packages\\sklearn\\linear_model\\stochastic_gradient.py:128: FutureWarning: max_iter and tol parameters have been added in <class 'sklearn.linear_model.perceptron.Perceptron'> in 0.19. If both are left unset, they default to max_iter=5 and tol=None. If tol is not None, max_iter defaults to max_iter=1000. From 0.21, default max_iter will be 1000, and default tol will be 1e-3.\n",
      "  \"and default tol will be 1e-3.\" % type(self), FutureWarning)\n",
      "C:\\Users\\mx190\\Anaconda3\\envs\\data-x\\lib\\site-packages\\sklearn\\preprocessing\\label.py:151: DeprecationWarning: The truth value of an empty array is ambiguous. Returning False, but in future this will result in an error. Use `array.size > 0` to check that an array is not empty.\n",
      "  if diff:\n",
      "C:\\Users\\mx190\\Anaconda3\\envs\\data-x\\lib\\site-packages\\sklearn\\preprocessing\\label.py:151: DeprecationWarning: The truth value of an empty array is ambiguous. Returning False, but in future this will result in an error. Use `array.size > 0` to check that an array is not empty.\n",
      "  if diff:\n",
      "C:\\Users\\mx190\\Anaconda3\\envs\\data-x\\lib\\site-packages\\sklearn\\preprocessing\\label.py:151: DeprecationWarning: The truth value of an empty array is ambiguous. Returning False, but in future this will result in an error. Use `array.size > 0` to check that an array is not empty.\n",
      "  if diff:\n"
     ]
    },
    {
     "name": "stdout",
     "output_type": "stream",
     "text": [
      "KN Neighbors is the best model\n",
      "Test Accuracy: 0.5903614457831325\n",
      "AUC Score: 0.5874269005847954\n",
      "Confusion Matrix\n",
      "    0   1\n",
      "0  28  17\n",
      "1  17  21\n",
      "Performs prediction at Country: uy_position\n"
     ]
    },
    {
     "name": "stderr",
     "output_type": "stream",
     "text": [
      "C:\\Users\\mx190\\Anaconda3\\envs\\data-x\\lib\\site-packages\\sklearn\\linear_model\\stochastic_gradient.py:128: FutureWarning: max_iter and tol parameters have been added in <class 'sklearn.linear_model.perceptron.Perceptron'> in 0.19. If both are left unset, they default to max_iter=5 and tol=None. If tol is not None, max_iter defaults to max_iter=1000. From 0.21, default max_iter will be 1000, and default tol will be 1e-3.\n",
      "  \"and default tol will be 1e-3.\" % type(self), FutureWarning)\n",
      "C:\\Users\\mx190\\Anaconda3\\envs\\data-x\\lib\\site-packages\\sklearn\\preprocessing\\label.py:151: DeprecationWarning: The truth value of an empty array is ambiguous. Returning False, but in future this will result in an error. Use `array.size > 0` to check that an array is not empty.\n",
      "  if diff:\n",
      "C:\\Users\\mx190\\Anaconda3\\envs\\data-x\\lib\\site-packages\\sklearn\\preprocessing\\label.py:151: DeprecationWarning: The truth value of an empty array is ambiguous. Returning False, but in future this will result in an error. Use `array.size > 0` to check that an array is not empty.\n",
      "  if diff:\n",
      "C:\\Users\\mx190\\Anaconda3\\envs\\data-x\\lib\\site-packages\\sklearn\\preprocessing\\label.py:151: DeprecationWarning: The truth value of an empty array is ambiguous. Returning False, but in future this will result in an error. Use `array.size > 0` to check that an array is not empty.\n",
      "  if diff:\n"
     ]
    },
    {
     "name": "stdout",
     "output_type": "stream",
     "text": [
      "Perceptron is the best model\n",
      "Test Accuracy: 0.5301204819277109\n",
      "AUC Score: 0.47380952380952385\n",
      "Confusion Matrix\n",
      "    0  1\n",
      "0  40  8\n",
      "1  31  4\n",
      "Performs prediction at Country: co_position\n"
     ]
    },
    {
     "name": "stderr",
     "output_type": "stream",
     "text": [
      "C:\\Users\\mx190\\Anaconda3\\envs\\data-x\\lib\\site-packages\\sklearn\\linear_model\\stochastic_gradient.py:128: FutureWarning: max_iter and tol parameters have been added in <class 'sklearn.linear_model.perceptron.Perceptron'> in 0.19. If both are left unset, they default to max_iter=5 and tol=None. If tol is not None, max_iter defaults to max_iter=1000. From 0.21, default max_iter will be 1000, and default tol will be 1e-3.\n",
      "  \"and default tol will be 1e-3.\" % type(self), FutureWarning)\n",
      "C:\\Users\\mx190\\Anaconda3\\envs\\data-x\\lib\\site-packages\\sklearn\\preprocessing\\label.py:151: DeprecationWarning: The truth value of an empty array is ambiguous. Returning False, but in future this will result in an error. Use `array.size > 0` to check that an array is not empty.\n",
      "  if diff:\n",
      "C:\\Users\\mx190\\Anaconda3\\envs\\data-x\\lib\\site-packages\\sklearn\\preprocessing\\label.py:151: DeprecationWarning: The truth value of an empty array is ambiguous. Returning False, but in future this will result in an error. Use `array.size > 0` to check that an array is not empty.\n",
      "  if diff:\n",
      "C:\\Users\\mx190\\Anaconda3\\envs\\data-x\\lib\\site-packages\\sklearn\\preprocessing\\label.py:151: DeprecationWarning: The truth value of an empty array is ambiguous. Returning False, but in future this will result in an error. Use `array.size > 0` to check that an array is not empty.\n",
      "  if diff:\n"
     ]
    },
    {
     "name": "stdout",
     "output_type": "stream",
     "text": [
      "Perceptron is the best model\n",
      "Test Accuracy: 0.5421686746987951\n",
      "AUC Score: 0.502046783625731\n",
      "Confusion Matrix\n",
      "    0  1\n",
      "0  44  1\n",
      "1  37  1\n",
      "Performs prediction at Country: do_position\n"
     ]
    },
    {
     "name": "stderr",
     "output_type": "stream",
     "text": [
      "C:\\Users\\mx190\\Anaconda3\\envs\\data-x\\lib\\site-packages\\sklearn\\linear_model\\stochastic_gradient.py:128: FutureWarning: max_iter and tol parameters have been added in <class 'sklearn.linear_model.perceptron.Perceptron'> in 0.19. If both are left unset, they default to max_iter=5 and tol=None. If tol is not None, max_iter defaults to max_iter=1000. From 0.21, default max_iter will be 1000, and default tol will be 1e-3.\n",
      "  \"and default tol will be 1e-3.\" % type(self), FutureWarning)\n",
      "C:\\Users\\mx190\\Anaconda3\\envs\\data-x\\lib\\site-packages\\sklearn\\preprocessing\\label.py:151: DeprecationWarning: The truth value of an empty array is ambiguous. Returning False, but in future this will result in an error. Use `array.size > 0` to check that an array is not empty.\n",
      "  if diff:\n",
      "C:\\Users\\mx190\\Anaconda3\\envs\\data-x\\lib\\site-packages\\sklearn\\preprocessing\\label.py:151: DeprecationWarning: The truth value of an empty array is ambiguous. Returning False, but in future this will result in an error. Use `array.size > 0` to check that an array is not empty.\n",
      "  if diff:\n",
      "C:\\Users\\mx190\\Anaconda3\\envs\\data-x\\lib\\site-packages\\sklearn\\preprocessing\\label.py:151: DeprecationWarning: The truth value of an empty array is ambiguous. Returning False, but in future this will result in an error. Use `array.size > 0` to check that an array is not empty.\n",
      "  if diff:\n"
     ]
    },
    {
     "name": "stdout",
     "output_type": "stream",
     "text": [
      "Perceptron is the best model\n",
      "Test Accuracy: 0.5662650602409639\n",
      "AUC Score: 0.5283625730994153\n",
      "Confusion Matrix\n",
      "    0  1\n",
      "0  44  1\n",
      "1  35  3\n",
      "Performs prediction at Country: ar_position\n"
     ]
    },
    {
     "name": "stderr",
     "output_type": "stream",
     "text": [
      "C:\\Users\\mx190\\Anaconda3\\envs\\data-x\\lib\\site-packages\\sklearn\\linear_model\\stochastic_gradient.py:128: FutureWarning: max_iter and tol parameters have been added in <class 'sklearn.linear_model.perceptron.Perceptron'> in 0.19. If both are left unset, they default to max_iter=5 and tol=None. If tol is not None, max_iter defaults to max_iter=1000. From 0.21, default max_iter will be 1000, and default tol will be 1e-3.\n",
      "  \"and default tol will be 1e-3.\" % type(self), FutureWarning)\n",
      "C:\\Users\\mx190\\Anaconda3\\envs\\data-x\\lib\\site-packages\\sklearn\\preprocessing\\label.py:151: DeprecationWarning: The truth value of an empty array is ambiguous. Returning False, but in future this will result in an error. Use `array.size > 0` to check that an array is not empty.\n",
      "  if diff:\n",
      "C:\\Users\\mx190\\Anaconda3\\envs\\data-x\\lib\\site-packages\\sklearn\\preprocessing\\label.py:151: DeprecationWarning: The truth value of an empty array is ambiguous. Returning False, but in future this will result in an error. Use `array.size > 0` to check that an array is not empty.\n",
      "  if diff:\n",
      "C:\\Users\\mx190\\Anaconda3\\envs\\data-x\\lib\\site-packages\\sklearn\\preprocessing\\label.py:151: DeprecationWarning: The truth value of an empty array is ambiguous. Returning False, but in future this will result in an error. Use `array.size > 0` to check that an array is not empty.\n",
      "  if diff:\n"
     ]
    },
    {
     "name": "stdout",
     "output_type": "stream",
     "text": [
      "Perceptron is the best model\n",
      "Test Accuracy: 0.5783132530120482\n",
      "AUC Score: 0.4897959183673469\n",
      "Confusion Matrix\n",
      "    0  1\n",
      "0  48  1\n",
      "1  34  0\n",
      "Performs prediction at Country: pa_position\n"
     ]
    },
    {
     "name": "stderr",
     "output_type": "stream",
     "text": [
      "C:\\Users\\mx190\\Anaconda3\\envs\\data-x\\lib\\site-packages\\sklearn\\linear_model\\stochastic_gradient.py:128: FutureWarning: max_iter and tol parameters have been added in <class 'sklearn.linear_model.perceptron.Perceptron'> in 0.19. If both are left unset, they default to max_iter=5 and tol=None. If tol is not None, max_iter defaults to max_iter=1000. From 0.21, default max_iter will be 1000, and default tol will be 1e-3.\n",
      "  \"and default tol will be 1e-3.\" % type(self), FutureWarning)\n",
      "C:\\Users\\mx190\\Anaconda3\\envs\\data-x\\lib\\site-packages\\sklearn\\preprocessing\\label.py:151: DeprecationWarning: The truth value of an empty array is ambiguous. Returning False, but in future this will result in an error. Use `array.size > 0` to check that an array is not empty.\n",
      "  if diff:\n",
      "C:\\Users\\mx190\\Anaconda3\\envs\\data-x\\lib\\site-packages\\sklearn\\preprocessing\\label.py:151: DeprecationWarning: The truth value of an empty array is ambiguous. Returning False, but in future this will result in an error. Use `array.size > 0` to check that an array is not empty.\n",
      "  if diff:\n",
      "C:\\Users\\mx190\\Anaconda3\\envs\\data-x\\lib\\site-packages\\sklearn\\preprocessing\\label.py:151: DeprecationWarning: The truth value of an empty array is ambiguous. Returning False, but in future this will result in an error. Use `array.size > 0` to check that an array is not empty.\n",
      "  if diff:\n"
     ]
    },
    {
     "name": "stdout",
     "output_type": "stream",
     "text": [
      "Perceptron is the best model\n",
      "Test Accuracy: 0.5783132530120482\n",
      "AUC Score: 0.5\n",
      "Confusion Matrix\n",
      "    0  1\n",
      "0  48  0\n",
      "1  35  0\n",
      "Performs prediction at Country: gt_position\n"
     ]
    },
    {
     "name": "stderr",
     "output_type": "stream",
     "text": [
      "C:\\Users\\mx190\\Anaconda3\\envs\\data-x\\lib\\site-packages\\sklearn\\linear_model\\stochastic_gradient.py:128: FutureWarning: max_iter and tol parameters have been added in <class 'sklearn.linear_model.perceptron.Perceptron'> in 0.19. If both are left unset, they default to max_iter=5 and tol=None. If tol is not None, max_iter defaults to max_iter=1000. From 0.21, default max_iter will be 1000, and default tol will be 1e-3.\n",
      "  \"and default tol will be 1e-3.\" % type(self), FutureWarning)\n",
      "C:\\Users\\mx190\\Anaconda3\\envs\\data-x\\lib\\site-packages\\sklearn\\preprocessing\\label.py:151: DeprecationWarning: The truth value of an empty array is ambiguous. Returning False, but in future this will result in an error. Use `array.size > 0` to check that an array is not empty.\n",
      "  if diff:\n",
      "C:\\Users\\mx190\\Anaconda3\\envs\\data-x\\lib\\site-packages\\sklearn\\preprocessing\\label.py:151: DeprecationWarning: The truth value of an empty array is ambiguous. Returning False, but in future this will result in an error. Use `array.size > 0` to check that an array is not empty.\n",
      "  if diff:\n",
      "C:\\Users\\mx190\\Anaconda3\\envs\\data-x\\lib\\site-packages\\sklearn\\preprocessing\\label.py:151: DeprecationWarning: The truth value of an empty array is ambiguous. Returning False, but in future this will result in an error. Use `array.size > 0` to check that an array is not empty.\n",
      "  if diff:\n"
     ]
    },
    {
     "name": "stdout",
     "output_type": "stream",
     "text": [
      "KN Neighbors is the best model\n",
      "Test Accuracy: 0.5903614457831325\n",
      "AUC Score: 0.5956140350877193\n",
      "Confusion Matrix\n",
      "    0   1\n",
      "0  24  21\n",
      "1  13  25\n",
      "Performs prediction at Country: hn_position\n"
     ]
    },
    {
     "name": "stderr",
     "output_type": "stream",
     "text": [
      "C:\\Users\\mx190\\Anaconda3\\envs\\data-x\\lib\\site-packages\\sklearn\\linear_model\\stochastic_gradient.py:128: FutureWarning: max_iter and tol parameters have been added in <class 'sklearn.linear_model.perceptron.Perceptron'> in 0.19. If both are left unset, they default to max_iter=5 and tol=None. If tol is not None, max_iter defaults to max_iter=1000. From 0.21, default max_iter will be 1000, and default tol will be 1e-3.\n",
      "  \"and default tol will be 1e-3.\" % type(self), FutureWarning)\n",
      "C:\\Users\\mx190\\Anaconda3\\envs\\data-x\\lib\\site-packages\\sklearn\\preprocessing\\label.py:151: DeprecationWarning: The truth value of an empty array is ambiguous. Returning False, but in future this will result in an error. Use `array.size > 0` to check that an array is not empty.\n",
      "  if diff:\n",
      "C:\\Users\\mx190\\Anaconda3\\envs\\data-x\\lib\\site-packages\\sklearn\\preprocessing\\label.py:151: DeprecationWarning: The truth value of an empty array is ambiguous. Returning False, but in future this will result in an error. Use `array.size > 0` to check that an array is not empty.\n",
      "  if diff:\n",
      "C:\\Users\\mx190\\Anaconda3\\envs\\data-x\\lib\\site-packages\\sklearn\\preprocessing\\label.py:151: DeprecationWarning: The truth value of an empty array is ambiguous. Returning False, but in future this will result in an error. Use `array.size > 0` to check that an array is not empty.\n",
      "  if diff:\n"
     ]
    },
    {
     "name": "stdout",
     "output_type": "stream",
     "text": [
      "Perceptron is the best model\n",
      "Test Accuracy: 0.6024096385542169\n",
      "AUC Score: 0.5285714285714286\n",
      "Confusion Matrix\n",
      "    0  1\n",
      "0  48  0\n",
      "1  33  2\n",
      "Performs prediction at Country: mx_position\n"
     ]
    },
    {
     "name": "stderr",
     "output_type": "stream",
     "text": [
      "C:\\Users\\mx190\\Anaconda3\\envs\\data-x\\lib\\site-packages\\sklearn\\linear_model\\stochastic_gradient.py:128: FutureWarning: max_iter and tol parameters have been added in <class 'sklearn.linear_model.perceptron.Perceptron'> in 0.19. If both are left unset, they default to max_iter=5 and tol=None. If tol is not None, max_iter defaults to max_iter=1000. From 0.21, default max_iter will be 1000, and default tol will be 1e-3.\n",
      "  \"and default tol will be 1e-3.\" % type(self), FutureWarning)\n",
      "C:\\Users\\mx190\\Anaconda3\\envs\\data-x\\lib\\site-packages\\sklearn\\preprocessing\\label.py:151: DeprecationWarning: The truth value of an empty array is ambiguous. Returning False, but in future this will result in an error. Use `array.size > 0` to check that an array is not empty.\n",
      "  if diff:\n",
      "C:\\Users\\mx190\\Anaconda3\\envs\\data-x\\lib\\site-packages\\sklearn\\preprocessing\\label.py:151: DeprecationWarning: The truth value of an empty array is ambiguous. Returning False, but in future this will result in an error. Use `array.size > 0` to check that an array is not empty.\n",
      "  if diff:\n",
      "C:\\Users\\mx190\\Anaconda3\\envs\\data-x\\lib\\site-packages\\sklearn\\preprocessing\\label.py:151: DeprecationWarning: The truth value of an empty array is ambiguous. Returning False, but in future this will result in an error. Use `array.size > 0` to check that an array is not empty.\n",
      "  if diff:\n"
     ]
    },
    {
     "name": "stdout",
     "output_type": "stream",
     "text": [
      "Perceptron is the best model\n",
      "Test Accuracy: 0.5542168674698795\n",
      "AUC Score: 0.48936170212765956\n",
      "Confusion Matrix\n",
      "    0  1\n",
      "0  46  1\n",
      "1  36  0\n",
      "Performs prediction at Country: sv_position\n"
     ]
    },
    {
     "name": "stderr",
     "output_type": "stream",
     "text": [
      "C:\\Users\\mx190\\Anaconda3\\envs\\data-x\\lib\\site-packages\\sklearn\\linear_model\\stochastic_gradient.py:128: FutureWarning: max_iter and tol parameters have been added in <class 'sklearn.linear_model.perceptron.Perceptron'> in 0.19. If both are left unset, they default to max_iter=5 and tol=None. If tol is not None, max_iter defaults to max_iter=1000. From 0.21, default max_iter will be 1000, and default tol will be 1e-3.\n",
      "  \"and default tol will be 1e-3.\" % type(self), FutureWarning)\n",
      "C:\\Users\\mx190\\Anaconda3\\envs\\data-x\\lib\\site-packages\\sklearn\\preprocessing\\label.py:151: DeprecationWarning: The truth value of an empty array is ambiguous. Returning False, but in future this will result in an error. Use `array.size > 0` to check that an array is not empty.\n",
      "  if diff:\n",
      "C:\\Users\\mx190\\Anaconda3\\envs\\data-x\\lib\\site-packages\\sklearn\\preprocessing\\label.py:151: DeprecationWarning: The truth value of an empty array is ambiguous. Returning False, but in future this will result in an error. Use `array.size > 0` to check that an array is not empty.\n",
      "  if diff:\n",
      "C:\\Users\\mx190\\Anaconda3\\envs\\data-x\\lib\\site-packages\\sklearn\\preprocessing\\label.py:151: DeprecationWarning: The truth value of an empty array is ambiguous. Returning False, but in future this will result in an error. Use `array.size > 0` to check that an array is not empty.\n",
      "  if diff:\n"
     ]
    },
    {
     "name": "stdout",
     "output_type": "stream",
     "text": [
      "Perceptron is the best model\n",
      "Test Accuracy: 0.5662650602409639\n",
      "AUC Score: 0.5\n",
      "Confusion Matrix\n",
      "    0  1\n",
      "0  47  0\n",
      "1  36  0\n",
      "Performs prediction at Country: py_position\n"
     ]
    },
    {
     "name": "stderr",
     "output_type": "stream",
     "text": [
      "C:\\Users\\mx190\\Anaconda3\\envs\\data-x\\lib\\site-packages\\sklearn\\linear_model\\stochastic_gradient.py:128: FutureWarning: max_iter and tol parameters have been added in <class 'sklearn.linear_model.perceptron.Perceptron'> in 0.19. If both are left unset, they default to max_iter=5 and tol=None. If tol is not None, max_iter defaults to max_iter=1000. From 0.21, default max_iter will be 1000, and default tol will be 1e-3.\n",
      "  \"and default tol will be 1e-3.\" % type(self), FutureWarning)\n",
      "C:\\Users\\mx190\\Anaconda3\\envs\\data-x\\lib\\site-packages\\sklearn\\preprocessing\\label.py:151: DeprecationWarning: The truth value of an empty array is ambiguous. Returning False, but in future this will result in an error. Use `array.size > 0` to check that an array is not empty.\n",
      "  if diff:\n",
      "C:\\Users\\mx190\\Anaconda3\\envs\\data-x\\lib\\site-packages\\sklearn\\preprocessing\\label.py:151: DeprecationWarning: The truth value of an empty array is ambiguous. Returning False, but in future this will result in an error. Use `array.size > 0` to check that an array is not empty.\n",
      "  if diff:\n",
      "C:\\Users\\mx190\\Anaconda3\\envs\\data-x\\lib\\site-packages\\sklearn\\preprocessing\\label.py:151: DeprecationWarning: The truth value of an empty array is ambiguous. Returning False, but in future this will result in an error. Use `array.size > 0` to check that an array is not empty.\n",
      "  if diff:\n"
     ]
    },
    {
     "name": "stdout",
     "output_type": "stream",
     "text": [
      "Gradient Boosting is the best model\n",
      "Test Accuracy: 0.5301204819277109\n",
      "AUC Score: 0.5390716803760283\n",
      "Confusion Matrix\n",
      "    0   1\n",
      "0  21  25\n",
      "1  14  23\n",
      "Performs prediction at Country: cr_position\n"
     ]
    },
    {
     "name": "stderr",
     "output_type": "stream",
     "text": [
      "C:\\Users\\mx190\\Anaconda3\\envs\\data-x\\lib\\site-packages\\sklearn\\preprocessing\\label.py:151: DeprecationWarning: The truth value of an empty array is ambiguous. Returning False, but in future this will result in an error. Use `array.size > 0` to check that an array is not empty.\n",
      "  if diff:\n",
      "C:\\Users\\mx190\\Anaconda3\\envs\\data-x\\lib\\site-packages\\sklearn\\preprocessing\\label.py:151: DeprecationWarning: The truth value of an empty array is ambiguous. Returning False, but in future this will result in an error. Use `array.size > 0` to check that an array is not empty.\n",
      "  if diff:\n",
      "C:\\Users\\mx190\\Anaconda3\\envs\\data-x\\lib\\site-packages\\sklearn\\linear_model\\stochastic_gradient.py:128: FutureWarning: max_iter and tol parameters have been added in <class 'sklearn.linear_model.perceptron.Perceptron'> in 0.19. If both are left unset, they default to max_iter=5 and tol=None. If tol is not None, max_iter defaults to max_iter=1000. From 0.21, default max_iter will be 1000, and default tol will be 1e-3.\n",
      "  \"and default tol will be 1e-3.\" % type(self), FutureWarning)\n",
      "C:\\Users\\mx190\\Anaconda3\\envs\\data-x\\lib\\site-packages\\sklearn\\preprocessing\\label.py:151: DeprecationWarning: The truth value of an empty array is ambiguous. Returning False, but in future this will result in an error. Use `array.size > 0` to check that an array is not empty.\n",
      "  if diff:\n",
      "C:\\Users\\mx190\\Anaconda3\\envs\\data-x\\lib\\site-packages\\sklearn\\preprocessing\\label.py:151: DeprecationWarning: The truth value of an empty array is ambiguous. Returning False, but in future this will result in an error. Use `array.size > 0` to check that an array is not empty.\n",
      "  if diff:\n",
      "C:\\Users\\mx190\\Anaconda3\\envs\\data-x\\lib\\site-packages\\sklearn\\preprocessing\\label.py:151: DeprecationWarning: The truth value of an empty array is ambiguous. Returning False, but in future this will result in an error. Use `array.size > 0` to check that an array is not empty.\n",
      "  if diff:\n"
     ]
    },
    {
     "name": "stdout",
     "output_type": "stream",
     "text": [
      "Perceptron is the best model\n",
      "Test Accuracy: 0.5542168674698795\n",
      "AUC Score: 0.5\n",
      "Confusion Matrix\n",
      "    0  1\n",
      "0  46  0\n",
      "1  37  0\n",
      "Performs prediction at Country: bo_position\n"
     ]
    },
    {
     "name": "stderr",
     "output_type": "stream",
     "text": [
      "C:\\Users\\mx190\\Anaconda3\\envs\\data-x\\lib\\site-packages\\sklearn\\linear_model\\stochastic_gradient.py:128: FutureWarning: max_iter and tol parameters have been added in <class 'sklearn.linear_model.perceptron.Perceptron'> in 0.19. If both are left unset, they default to max_iter=5 and tol=None. If tol is not None, max_iter defaults to max_iter=1000. From 0.21, default max_iter will be 1000, and default tol will be 1e-3.\n",
      "  \"and default tol will be 1e-3.\" % type(self), FutureWarning)\n",
      "C:\\Users\\mx190\\Anaconda3\\envs\\data-x\\lib\\site-packages\\sklearn\\preprocessing\\label.py:151: DeprecationWarning: The truth value of an empty array is ambiguous. Returning False, but in future this will result in an error. Use `array.size > 0` to check that an array is not empty.\n",
      "  if diff:\n",
      "C:\\Users\\mx190\\Anaconda3\\envs\\data-x\\lib\\site-packages\\sklearn\\preprocessing\\label.py:151: DeprecationWarning: The truth value of an empty array is ambiguous. Returning False, but in future this will result in an error. Use `array.size > 0` to check that an array is not empty.\n",
      "  if diff:\n",
      "C:\\Users\\mx190\\Anaconda3\\envs\\data-x\\lib\\site-packages\\sklearn\\preprocessing\\label.py:151: DeprecationWarning: The truth value of an empty array is ambiguous. Returning False, but in future this will result in an error. Use `array.size > 0` to check that an array is not empty.\n",
      "  if diff:\n"
     ]
    },
    {
     "name": "stdout",
     "output_type": "stream",
     "text": [
      "Perceptron is the best model\n",
      "Test Accuracy: 0.5421686746987951\n",
      "AUC Score: 0.4917743830787309\n",
      "Confusion Matrix\n",
      "    0  1\n",
      "0  44  2\n",
      "1  36  1\n",
      "Performs prediction at Country: es_position\n"
     ]
    },
    {
     "name": "stderr",
     "output_type": "stream",
     "text": [
      "C:\\Users\\mx190\\Anaconda3\\envs\\data-x\\lib\\site-packages\\sklearn\\linear_model\\stochastic_gradient.py:128: FutureWarning: max_iter and tol parameters have been added in <class 'sklearn.linear_model.perceptron.Perceptron'> in 0.19. If both are left unset, they default to max_iter=5 and tol=None. If tol is not None, max_iter defaults to max_iter=1000. From 0.21, default max_iter will be 1000, and default tol will be 1e-3.\n",
      "  \"and default tol will be 1e-3.\" % type(self), FutureWarning)\n",
      "C:\\Users\\mx190\\Anaconda3\\envs\\data-x\\lib\\site-packages\\sklearn\\preprocessing\\label.py:151: DeprecationWarning: The truth value of an empty array is ambiguous. Returning False, but in future this will result in an error. Use `array.size > 0` to check that an array is not empty.\n",
      "  if diff:\n",
      "C:\\Users\\mx190\\Anaconda3\\envs\\data-x\\lib\\site-packages\\sklearn\\preprocessing\\label.py:151: DeprecationWarning: The truth value of an empty array is ambiguous. Returning False, but in future this will result in an error. Use `array.size > 0` to check that an array is not empty.\n",
      "  if diff:\n",
      "C:\\Users\\mx190\\Anaconda3\\envs\\data-x\\lib\\site-packages\\sklearn\\preprocessing\\label.py:151: DeprecationWarning: The truth value of an empty array is ambiguous. Returning False, but in future this will result in an error. Use `array.size > 0` to check that an array is not empty.\n",
      "  if diff:\n"
     ]
    },
    {
     "name": "stdout",
     "output_type": "stream",
     "text": [
      "Perceptron is the best model\n",
      "Test Accuracy: 0.5301204819277109\n",
      "AUC Score: 0.4782608695652174\n",
      "Confusion Matrix\n",
      "    0  1\n",
      "0  44  2\n",
      "1  37  0\n",
      "Performs prediction at Country: global_position\n"
     ]
    },
    {
     "name": "stderr",
     "output_type": "stream",
     "text": [
      "C:\\Users\\mx190\\Anaconda3\\envs\\data-x\\lib\\site-packages\\sklearn\\linear_model\\stochastic_gradient.py:128: FutureWarning: max_iter and tol parameters have been added in <class 'sklearn.linear_model.perceptron.Perceptron'> in 0.19. If both are left unset, they default to max_iter=5 and tol=None. If tol is not None, max_iter defaults to max_iter=1000. From 0.21, default max_iter will be 1000, and default tol will be 1e-3.\n",
      "  \"and default tol will be 1e-3.\" % type(self), FutureWarning)\n",
      "C:\\Users\\mx190\\Anaconda3\\envs\\data-x\\lib\\site-packages\\sklearn\\preprocessing\\label.py:151: DeprecationWarning: The truth value of an empty array is ambiguous. Returning False, but in future this will result in an error. Use `array.size > 0` to check that an array is not empty.\n",
      "  if diff:\n",
      "C:\\Users\\mx190\\Anaconda3\\envs\\data-x\\lib\\site-packages\\sklearn\\preprocessing\\label.py:151: DeprecationWarning: The truth value of an empty array is ambiguous. Returning False, but in future this will result in an error. Use `array.size > 0` to check that an array is not empty.\n",
      "  if diff:\n",
      "C:\\Users\\mx190\\Anaconda3\\envs\\data-x\\lib\\site-packages\\sklearn\\preprocessing\\label.py:151: DeprecationWarning: The truth value of an empty array is ambiguous. Returning False, but in future this will result in an error. Use `array.size > 0` to check that an array is not empty.\n",
      "  if diff:\n"
     ]
    },
    {
     "name": "stdout",
     "output_type": "stream",
     "text": [
      "KN Neighbors is the best model\n",
      "Test Accuracy: 0.5421686746987951\n",
      "AUC Score: 0.5419580419580419\n",
      "Confusion Matrix\n",
      "    0   1\n",
      "0  24  20\n",
      "1  18  21\n",
      "Performs prediction at Country: ec_position\n"
     ]
    },
    {
     "name": "stderr",
     "output_type": "stream",
     "text": [
      "C:\\Users\\mx190\\Anaconda3\\envs\\data-x\\lib\\site-packages\\sklearn\\linear_model\\stochastic_gradient.py:128: FutureWarning: max_iter and tol parameters have been added in <class 'sklearn.linear_model.perceptron.Perceptron'> in 0.19. If both are left unset, they default to max_iter=5 and tol=None. If tol is not None, max_iter defaults to max_iter=1000. From 0.21, default max_iter will be 1000, and default tol will be 1e-3.\n",
      "  \"and default tol will be 1e-3.\" % type(self), FutureWarning)\n",
      "C:\\Users\\mx190\\Anaconda3\\envs\\data-x\\lib\\site-packages\\sklearn\\preprocessing\\label.py:151: DeprecationWarning: The truth value of an empty array is ambiguous. Returning False, but in future this will result in an error. Use `array.size > 0` to check that an array is not empty.\n",
      "  if diff:\n",
      "C:\\Users\\mx190\\Anaconda3\\envs\\data-x\\lib\\site-packages\\sklearn\\preprocessing\\label.py:151: DeprecationWarning: The truth value of an empty array is ambiguous. Returning False, but in future this will result in an error. Use `array.size > 0` to check that an array is not empty.\n",
      "  if diff:\n",
      "C:\\Users\\mx190\\Anaconda3\\envs\\data-x\\lib\\site-packages\\sklearn\\preprocessing\\label.py:151: DeprecationWarning: The truth value of an empty array is ambiguous. Returning False, but in future this will result in an error. Use `array.size > 0` to check that an array is not empty.\n",
      "  if diff:\n"
     ]
    },
    {
     "name": "stdout",
     "output_type": "stream",
     "text": [
      "Perceptron is the best model\n",
      "Test Accuracy: 0.5301204819277109\n",
      "AUC Score: 0.4888888888888889\n",
      "Confusion Matrix\n",
      "    0  1\n",
      "0  44  1\n",
      "1  38  0\n"
     ]
    }
   ],
   "source": [
    "testAccuracy = list()\n",
    "Y = df_work[output]\n",
    "for i in range(Y.shape[1]):\n",
    "    print('Performs prediction at Country: {}'.format(Y_test.columns[i]))\n",
    "    Y_curr = Y_test.iloc[:,i]\n",
    "    x_train, x_test, y_train, y_test = train_test_split(X_norm,Y_curr, test_size=0.15, random_state=100)\n",
    "    bestModel = performsMLModelComparison(x_train, x_test, y_train, y_test)\n",
    "    testAccuracy.append(bestModel.score(x_test, y_test))"
   ]
  },
  {
   "cell_type": "code",
   "execution_count": 162,
   "metadata": {},
   "outputs": [
    {
     "name": "stdout",
     "output_type": "stream",
     "text": [
      "[0.5662650602409639, 0.5662650602409639, 0.5903614457831325, 0.5301204819277109, 0.5421686746987951, 0.5662650602409639, 0.5783132530120482, 0.5783132530120482, 0.5903614457831325, 0.6024096385542169, 0.5542168674698795, 0.5662650602409639, 0.5301204819277109, 0.5542168674698795, 0.5421686746987951, 0.5301204819277109, 0.5421686746987951, 0.5301204819277109]\n",
      "0.5589022757697457\n"
     ]
    }
   ],
   "source": [
    "print(testAccuracy)\n",
    "print(np.mean(testAccuracy))"
   ]
  },
  {
   "cell_type": "markdown",
   "metadata": {},
   "source": [
    "### 2. Try with an gap in between"
   ]
  },
  {
   "cell_type": "code",
   "execution_count": 69,
   "metadata": {},
   "outputs": [
    {
     "name": "stdout",
     "output_type": "stream",
     "text": [
      "Number of outputs: 18\n",
      "['pt_position', 'pe_position', 'cl_position', 'uy_position', 'co_position', 'do_position', 'ar_position', 'pa_position', 'gt_position', 'hn_position', 'mx_position', 'sv_position', 'py_position', 'cr_position', 'bo_position', 'es_position', 'global_position', 'ec_position']\n"
     ]
    }
   ],
   "source": [
    "a = list(df_work.columns)\n",
    "index = a.index('pt_position')\n",
    "output =a[index:]\n",
    "print(\"Number of outputs: {}\".format(len(output)))\n",
    "print(output)"
   ]
  },
  {
   "cell_type": "code",
   "execution_count": 68,
   "metadata": {},
   "outputs": [
    {
     "name": "stdout",
     "output_type": "stream",
     "text": [
      "Number of features: 110\n",
      "['acousticness', 'danceability', 'duration_ms', 'energy', 'instrumentalness', 'key', 'liveness', 'loudness', 'mode', 'speechiness', 'tempo', 'valence', 'International', 'Unknown', 'electronic', 'folk', 'hip hop', 'house', 'indie', 'latino', 'metal', 'pop', 'punk', 'r&b', 'rap', 'rock', 'mean_timbre1', 'median_timbre1', 'std_timbre1', 'min_timbre1', 'max_timbre1', 'range_timbre1', '80Percentile_timbre1', 'mean_timbre2', 'median_timbre2', 'std_timbre2', 'min_timbre2', 'max_timbre2', 'range_timbre2', '80Percentile_timbre2', 'mean_timbre3', 'median_timbre3', 'std_timbre3', 'min_timbre3', 'max_timbre3', 'range_timbre3', '80Percentile_timbre3', 'mean_timbre4', 'median_timbre4', 'std_timbre4', 'min_timbre4', 'max_timbre4', 'range_timbre4', '80Percentile_timbre4', 'mean_timbre5', 'median_timbre5', 'std_timbre5', 'min_timbre5', 'max_timbre5', 'range_timbre5', '80Percentile_timbre5', 'mean_timbre6', 'median_timbre6', 'std_timbre6', 'min_timbre6', 'max_timbre6', 'range_timbre6', '80Percentile_timbre6', 'mean_timbre7', 'median_timbre7', 'std_timbre7', 'min_timbre7', 'max_timbre7', 'range_timbre7', '80Percentile_timbre7', 'mean_timbre8', 'median_timbre8', 'std_timbre8', 'min_timbre8', 'max_timbre8', 'range_timbre8', '80Percentile_timbre8', 'mean_timbre9', 'median_timbre9', 'std_timbre9', 'min_timbre9', 'max_timbre9', 'range_timbre9', '80Percentile_timbre9', 'mean_timbre10', 'median_timbre10', 'std_timbre10', 'min_timbre10', 'max_timbre10', 'range_timbre10', '80Percentile_timbre10', 'mean_timbre11', 'median_timbre11', 'std_timbre11', 'min_timbre11', 'max_timbre11', 'range_timbre11', '80Percentile_timbre11', 'mean_timbre12', 'median_timbre12', 'std_timbre12', 'min_timbre12', 'max_timbre12', 'range_timbre12', '80Percentile_timbre12']\n"
     ]
    }
   ],
   "source": [
    "features = a[:index]\n",
    "print(\"Number of features: {}\".format(len(features)))\n",
    "print(features)"
   ]
  },
  {
   "cell_type": "code",
   "execution_count": 163,
   "metadata": {},
   "outputs": [
    {
     "name": "stdout",
     "output_type": "stream",
     "text": [
      "0.4\n",
      "Performs prediction at Country: pt_position\n",
      "Reduced data set to 330 from 549:\n"
     ]
    },
    {
     "name": "stderr",
     "output_type": "stream",
     "text": [
      "C:\\Users\\mx190\\Anaconda3\\envs\\data-x\\lib\\site-packages\\sklearn\\linear_model\\stochastic_gradient.py:128: FutureWarning: max_iter and tol parameters have been added in <class 'sklearn.linear_model.perceptron.Perceptron'> in 0.19. If both are left unset, they default to max_iter=5 and tol=None. If tol is not None, max_iter defaults to max_iter=1000. From 0.21, default max_iter will be 1000, and default tol will be 1e-3.\n",
      "  \"and default tol will be 1e-3.\" % type(self), FutureWarning)\n",
      "C:\\Users\\mx190\\Anaconda3\\envs\\data-x\\lib\\site-packages\\sklearn\\preprocessing\\label.py:151: DeprecationWarning: The truth value of an empty array is ambiguous. Returning False, but in future this will result in an error. Use `array.size > 0` to check that an array is not empty.\n",
      "  if diff:\n",
      "C:\\Users\\mx190\\Anaconda3\\envs\\data-x\\lib\\site-packages\\sklearn\\preprocessing\\label.py:151: DeprecationWarning: The truth value of an empty array is ambiguous. Returning False, but in future this will result in an error. Use `array.size > 0` to check that an array is not empty.\n",
      "  if diff:\n",
      "C:\\Users\\mx190\\Anaconda3\\envs\\data-x\\lib\\site-packages\\sklearn\\preprocessing\\label.py:151: DeprecationWarning: The truth value of an empty array is ambiguous. Returning False, but in future this will result in an error. Use `array.size > 0` to check that an array is not empty.\n",
      "  if diff:\n"
     ]
    },
    {
     "name": "stdout",
     "output_type": "stream",
     "text": [
      "Perceptron is the best model\n",
      "Test Accuracy: 0.56\n",
      "AUC Score: 0.5\n",
      "Confusion Matrix\n",
      "    0  1\n",
      "0  28  0\n",
      "1  22  0\n",
      "Performs prediction at Country: pe_position\n",
      "Reduced data set to 330 from 549:\n"
     ]
    },
    {
     "name": "stderr",
     "output_type": "stream",
     "text": [
      "C:\\Users\\mx190\\Anaconda3\\envs\\data-x\\lib\\site-packages\\sklearn\\linear_model\\stochastic_gradient.py:128: FutureWarning: max_iter and tol parameters have been added in <class 'sklearn.linear_model.perceptron.Perceptron'> in 0.19. If both are left unset, they default to max_iter=5 and tol=None. If tol is not None, max_iter defaults to max_iter=1000. From 0.21, default max_iter will be 1000, and default tol will be 1e-3.\n",
      "  \"and default tol will be 1e-3.\" % type(self), FutureWarning)\n",
      "C:\\Users\\mx190\\Anaconda3\\envs\\data-x\\lib\\site-packages\\sklearn\\preprocessing\\label.py:151: DeprecationWarning: The truth value of an empty array is ambiguous. Returning False, but in future this will result in an error. Use `array.size > 0` to check that an array is not empty.\n",
      "  if diff:\n",
      "C:\\Users\\mx190\\Anaconda3\\envs\\data-x\\lib\\site-packages\\sklearn\\preprocessing\\label.py:151: DeprecationWarning: The truth value of an empty array is ambiguous. Returning False, but in future this will result in an error. Use `array.size > 0` to check that an array is not empty.\n",
      "  if diff:\n",
      "C:\\Users\\mx190\\Anaconda3\\envs\\data-x\\lib\\site-packages\\sklearn\\preprocessing\\label.py:151: DeprecationWarning: The truth value of an empty array is ambiguous. Returning False, but in future this will result in an error. Use `array.size > 0` to check that an array is not empty.\n",
      "  if diff:\n"
     ]
    },
    {
     "name": "stdout",
     "output_type": "stream",
     "text": [
      "Perceptron is the best model\n",
      "Test Accuracy: 0.62\n",
      "AUC Score: 0.5\n",
      "Confusion Matrix\n",
      "    0  1\n",
      "0  31  0\n",
      "1  19  0\n",
      "Performs prediction at Country: cl_position\n",
      "Reduced data set to 332 from 549:\n"
     ]
    },
    {
     "name": "stderr",
     "output_type": "stream",
     "text": [
      "C:\\Users\\mx190\\Anaconda3\\envs\\data-x\\lib\\site-packages\\sklearn\\linear_model\\stochastic_gradient.py:128: FutureWarning: max_iter and tol parameters have been added in <class 'sklearn.linear_model.perceptron.Perceptron'> in 0.19. If both are left unset, they default to max_iter=5 and tol=None. If tol is not None, max_iter defaults to max_iter=1000. From 0.21, default max_iter will be 1000, and default tol will be 1e-3.\n",
      "  \"and default tol will be 1e-3.\" % type(self), FutureWarning)\n",
      "C:\\Users\\mx190\\Anaconda3\\envs\\data-x\\lib\\site-packages\\sklearn\\preprocessing\\label.py:151: DeprecationWarning: The truth value of an empty array is ambiguous. Returning False, but in future this will result in an error. Use `array.size > 0` to check that an array is not empty.\n",
      "  if diff:\n",
      "C:\\Users\\mx190\\Anaconda3\\envs\\data-x\\lib\\site-packages\\sklearn\\preprocessing\\label.py:151: DeprecationWarning: The truth value of an empty array is ambiguous. Returning False, but in future this will result in an error. Use `array.size > 0` to check that an array is not empty.\n",
      "  if diff:\n",
      "C:\\Users\\mx190\\Anaconda3\\envs\\data-x\\lib\\site-packages\\sklearn\\preprocessing\\label.py:151: DeprecationWarning: The truth value of an empty array is ambiguous. Returning False, but in future this will result in an error. Use `array.size > 0` to check that an array is not empty.\n",
      "  if diff:\n"
     ]
    },
    {
     "name": "stdout",
     "output_type": "stream",
     "text": [
      "Gradient Boosting is the best model\n",
      "Test Accuracy: 0.46\n",
      "AUC Score: 0.46223316912972084\n",
      "Confusion Matrix\n",
      "    0   1\n",
      "0  10  11\n",
      "1  16  13\n",
      "Performs prediction at Country: uy_position\n",
      "Reduced data set to 332 from 549:\n"
     ]
    },
    {
     "name": "stderr",
     "output_type": "stream",
     "text": [
      "C:\\Users\\mx190\\Anaconda3\\envs\\data-x\\lib\\site-packages\\sklearn\\preprocessing\\label.py:151: DeprecationWarning: The truth value of an empty array is ambiguous. Returning False, but in future this will result in an error. Use `array.size > 0` to check that an array is not empty.\n",
      "  if diff:\n",
      "C:\\Users\\mx190\\Anaconda3\\envs\\data-x\\lib\\site-packages\\sklearn\\preprocessing\\label.py:151: DeprecationWarning: The truth value of an empty array is ambiguous. Returning False, but in future this will result in an error. Use `array.size > 0` to check that an array is not empty.\n",
      "  if diff:\n",
      "C:\\Users\\mx190\\Anaconda3\\envs\\data-x\\lib\\site-packages\\sklearn\\linear_model\\stochastic_gradient.py:128: FutureWarning: max_iter and tol parameters have been added in <class 'sklearn.linear_model.perceptron.Perceptron'> in 0.19. If both are left unset, they default to max_iter=5 and tol=None. If tol is not None, max_iter defaults to max_iter=1000. From 0.21, default max_iter will be 1000, and default tol will be 1e-3.\n",
      "  \"and default tol will be 1e-3.\" % type(self), FutureWarning)\n",
      "C:\\Users\\mx190\\Anaconda3\\envs\\data-x\\lib\\site-packages\\sklearn\\preprocessing\\label.py:151: DeprecationWarning: The truth value of an empty array is ambiguous. Returning False, but in future this will result in an error. Use `array.size > 0` to check that an array is not empty.\n",
      "  if diff:\n",
      "C:\\Users\\mx190\\Anaconda3\\envs\\data-x\\lib\\site-packages\\sklearn\\preprocessing\\label.py:151: DeprecationWarning: The truth value of an empty array is ambiguous. Returning False, but in future this will result in an error. Use `array.size > 0` to check that an array is not empty.\n",
      "  if diff:\n",
      "C:\\Users\\mx190\\Anaconda3\\envs\\data-x\\lib\\site-packages\\sklearn\\preprocessing\\label.py:151: DeprecationWarning: The truth value of an empty array is ambiguous. Returning False, but in future this will result in an error. Use `array.size > 0` to check that an array is not empty.\n",
      "  if diff:\n"
     ]
    },
    {
     "name": "stdout",
     "output_type": "stream",
     "text": [
      "Perceptron is the best model\n",
      "Test Accuracy: 0.5\n",
      "AUC Score: 0.5273752012882448\n",
      "Confusion Matrix\n",
      "    0  1\n",
      "0  20  3\n",
      "1  22  5\n",
      "Performs prediction at Country: co_position\n",
      "Reduced data set to 330 from 549:\n"
     ]
    },
    {
     "name": "stderr",
     "output_type": "stream",
     "text": [
      "C:\\Users\\mx190\\Anaconda3\\envs\\data-x\\lib\\site-packages\\sklearn\\linear_model\\stochastic_gradient.py:128: FutureWarning: max_iter and tol parameters have been added in <class 'sklearn.linear_model.perceptron.Perceptron'> in 0.19. If both are left unset, they default to max_iter=5 and tol=None. If tol is not None, max_iter defaults to max_iter=1000. From 0.21, default max_iter will be 1000, and default tol will be 1e-3.\n",
      "  \"and default tol will be 1e-3.\" % type(self), FutureWarning)\n",
      "C:\\Users\\mx190\\Anaconda3\\envs\\data-x\\lib\\site-packages\\sklearn\\preprocessing\\label.py:151: DeprecationWarning: The truth value of an empty array is ambiguous. Returning False, but in future this will result in an error. Use `array.size > 0` to check that an array is not empty.\n",
      "  if diff:\n",
      "C:\\Users\\mx190\\Anaconda3\\envs\\data-x\\lib\\site-packages\\sklearn\\preprocessing\\label.py:151: DeprecationWarning: The truth value of an empty array is ambiguous. Returning False, but in future this will result in an error. Use `array.size > 0` to check that an array is not empty.\n",
      "  if diff:\n",
      "C:\\Users\\mx190\\Anaconda3\\envs\\data-x\\lib\\site-packages\\sklearn\\preprocessing\\label.py:151: DeprecationWarning: The truth value of an empty array is ambiguous. Returning False, but in future this will result in an error. Use `array.size > 0` to check that an array is not empty.\n",
      "  if diff:\n"
     ]
    },
    {
     "name": "stdout",
     "output_type": "stream",
     "text": [
      "Perceptron is the best model\n",
      "Test Accuracy: 0.62\n",
      "AUC Score: 0.5\n",
      "Confusion Matrix\n",
      "    0  1\n",
      "0  31  0\n",
      "1  19  0\n",
      "Performs prediction at Country: do_position\n",
      "Reduced data set to 330 from 549:\n"
     ]
    },
    {
     "name": "stderr",
     "output_type": "stream",
     "text": [
      "C:\\Users\\mx190\\Anaconda3\\envs\\data-x\\lib\\site-packages\\sklearn\\linear_model\\stochastic_gradient.py:128: FutureWarning: max_iter and tol parameters have been added in <class 'sklearn.linear_model.perceptron.Perceptron'> in 0.19. If both are left unset, they default to max_iter=5 and tol=None. If tol is not None, max_iter defaults to max_iter=1000. From 0.21, default max_iter will be 1000, and default tol will be 1e-3.\n",
      "  \"and default tol will be 1e-3.\" % type(self), FutureWarning)\n",
      "C:\\Users\\mx190\\Anaconda3\\envs\\data-x\\lib\\site-packages\\sklearn\\preprocessing\\label.py:151: DeprecationWarning: The truth value of an empty array is ambiguous. Returning False, but in future this will result in an error. Use `array.size > 0` to check that an array is not empty.\n",
      "  if diff:\n",
      "C:\\Users\\mx190\\Anaconda3\\envs\\data-x\\lib\\site-packages\\sklearn\\preprocessing\\label.py:151: DeprecationWarning: The truth value of an empty array is ambiguous. Returning False, but in future this will result in an error. Use `array.size > 0` to check that an array is not empty.\n",
      "  if diff:\n",
      "C:\\Users\\mx190\\Anaconda3\\envs\\data-x\\lib\\site-packages\\sklearn\\preprocessing\\label.py:151: DeprecationWarning: The truth value of an empty array is ambiguous. Returning False, but in future this will result in an error. Use `array.size > 0` to check that an array is not empty.\n",
      "  if diff:\n"
     ]
    },
    {
     "name": "stdout",
     "output_type": "stream",
     "text": [
      "Perceptron is the best model\n",
      "Test Accuracy: 0.62\n",
      "AUC Score: 0.5\n",
      "Confusion Matrix\n",
      "    0  1\n",
      "0  31  0\n",
      "1  19  0\n",
      "Performs prediction at Country: ar_position\n",
      "Reduced data set to 328 from 549:\n"
     ]
    },
    {
     "name": "stderr",
     "output_type": "stream",
     "text": [
      "C:\\Users\\mx190\\Anaconda3\\envs\\data-x\\lib\\site-packages\\sklearn\\linear_model\\stochastic_gradient.py:128: FutureWarning: max_iter and tol parameters have been added in <class 'sklearn.linear_model.perceptron.Perceptron'> in 0.19. If both are left unset, they default to max_iter=5 and tol=None. If tol is not None, max_iter defaults to max_iter=1000. From 0.21, default max_iter will be 1000, and default tol will be 1e-3.\n",
      "  \"and default tol will be 1e-3.\" % type(self), FutureWarning)\n",
      "C:\\Users\\mx190\\Anaconda3\\envs\\data-x\\lib\\site-packages\\sklearn\\preprocessing\\label.py:151: DeprecationWarning: The truth value of an empty array is ambiguous. Returning False, but in future this will result in an error. Use `array.size > 0` to check that an array is not empty.\n",
      "  if diff:\n",
      "C:\\Users\\mx190\\Anaconda3\\envs\\data-x\\lib\\site-packages\\sklearn\\preprocessing\\label.py:151: DeprecationWarning: The truth value of an empty array is ambiguous. Returning False, but in future this will result in an error. Use `array.size > 0` to check that an array is not empty.\n",
      "  if diff:\n",
      "C:\\Users\\mx190\\Anaconda3\\envs\\data-x\\lib\\site-packages\\sklearn\\preprocessing\\label.py:151: DeprecationWarning: The truth value of an empty array is ambiguous. Returning False, but in future this will result in an error. Use `array.size > 0` to check that an array is not empty.\n",
      "  if diff:\n"
     ]
    },
    {
     "name": "stdout",
     "output_type": "stream",
     "text": [
      "Perceptron is the best model\n",
      "Test Accuracy: 0.58\n",
      "AUC Score: 0.5\n",
      "Confusion Matrix\n",
      "    0  1\n",
      "0  29  0\n",
      "1  21  0\n",
      "Performs prediction at Country: pa_position\n",
      "Reduced data set to 330 from 549:\n"
     ]
    },
    {
     "name": "stderr",
     "output_type": "stream",
     "text": [
      "C:\\Users\\mx190\\Anaconda3\\envs\\data-x\\lib\\site-packages\\sklearn\\linear_model\\stochastic_gradient.py:128: FutureWarning: max_iter and tol parameters have been added in <class 'sklearn.linear_model.perceptron.Perceptron'> in 0.19. If both are left unset, they default to max_iter=5 and tol=None. If tol is not None, max_iter defaults to max_iter=1000. From 0.21, default max_iter will be 1000, and default tol will be 1e-3.\n",
      "  \"and default tol will be 1e-3.\" % type(self), FutureWarning)\n",
      "C:\\Users\\mx190\\Anaconda3\\envs\\data-x\\lib\\site-packages\\sklearn\\preprocessing\\label.py:151: DeprecationWarning: The truth value of an empty array is ambiguous. Returning False, but in future this will result in an error. Use `array.size > 0` to check that an array is not empty.\n",
      "  if diff:\n",
      "C:\\Users\\mx190\\Anaconda3\\envs\\data-x\\lib\\site-packages\\sklearn\\preprocessing\\label.py:151: DeprecationWarning: The truth value of an empty array is ambiguous. Returning False, but in future this will result in an error. Use `array.size > 0` to check that an array is not empty.\n",
      "  if diff:\n",
      "C:\\Users\\mx190\\Anaconda3\\envs\\data-x\\lib\\site-packages\\sklearn\\preprocessing\\label.py:151: DeprecationWarning: The truth value of an empty array is ambiguous. Returning False, but in future this will result in an error. Use `array.size > 0` to check that an array is not empty.\n",
      "  if diff:\n"
     ]
    },
    {
     "name": "stdout",
     "output_type": "stream",
     "text": [
      "Perceptron is the best model\n",
      "Test Accuracy: 0.64\n",
      "AUC Score: 0.5779967159277505\n",
      "Confusion Matrix\n",
      "    0  1\n",
      "0  28  1\n",
      "1  17  4\n",
      "Performs prediction at Country: gt_position\n",
      "Reduced data set to 330 from 549:\n"
     ]
    },
    {
     "name": "stderr",
     "output_type": "stream",
     "text": [
      "C:\\Users\\mx190\\Anaconda3\\envs\\data-x\\lib\\site-packages\\sklearn\\linear_model\\stochastic_gradient.py:128: FutureWarning: max_iter and tol parameters have been added in <class 'sklearn.linear_model.perceptron.Perceptron'> in 0.19. If both are left unset, they default to max_iter=5 and tol=None. If tol is not None, max_iter defaults to max_iter=1000. From 0.21, default max_iter will be 1000, and default tol will be 1e-3.\n",
      "  \"and default tol will be 1e-3.\" % type(self), FutureWarning)\n",
      "C:\\Users\\mx190\\Anaconda3\\envs\\data-x\\lib\\site-packages\\sklearn\\preprocessing\\label.py:151: DeprecationWarning: The truth value of an empty array is ambiguous. Returning False, but in future this will result in an error. Use `array.size > 0` to check that an array is not empty.\n",
      "  if diff:\n",
      "C:\\Users\\mx190\\Anaconda3\\envs\\data-x\\lib\\site-packages\\sklearn\\preprocessing\\label.py:151: DeprecationWarning: The truth value of an empty array is ambiguous. Returning False, but in future this will result in an error. Use `array.size > 0` to check that an array is not empty.\n",
      "  if diff:\n",
      "C:\\Users\\mx190\\Anaconda3\\envs\\data-x\\lib\\site-packages\\sklearn\\preprocessing\\label.py:151: DeprecationWarning: The truth value of an empty array is ambiguous. Returning False, but in future this will result in an error. Use `array.size > 0` to check that an array is not empty.\n",
      "  if diff:\n"
     ]
    },
    {
     "name": "stdout",
     "output_type": "stream",
     "text": [
      "Perceptron is the best model\n",
      "Test Accuracy: 0.5\n",
      "AUC Score: 0.4561688311688311\n",
      "Confusion Matrix\n",
      "    0  1\n",
      "0  23  5\n",
      "1  20  2\n",
      "Performs prediction at Country: hn_position\n",
      "Reduced data set to 330 from 549:\n"
     ]
    },
    {
     "name": "stderr",
     "output_type": "stream",
     "text": [
      "C:\\Users\\mx190\\Anaconda3\\envs\\data-x\\lib\\site-packages\\sklearn\\linear_model\\stochastic_gradient.py:128: FutureWarning: max_iter and tol parameters have been added in <class 'sklearn.linear_model.perceptron.Perceptron'> in 0.19. If both are left unset, they default to max_iter=5 and tol=None. If tol is not None, max_iter defaults to max_iter=1000. From 0.21, default max_iter will be 1000, and default tol will be 1e-3.\n",
      "  \"and default tol will be 1e-3.\" % type(self), FutureWarning)\n",
      "C:\\Users\\mx190\\Anaconda3\\envs\\data-x\\lib\\site-packages\\sklearn\\preprocessing\\label.py:151: DeprecationWarning: The truth value of an empty array is ambiguous. Returning False, but in future this will result in an error. Use `array.size > 0` to check that an array is not empty.\n",
      "  if diff:\n",
      "C:\\Users\\mx190\\Anaconda3\\envs\\data-x\\lib\\site-packages\\sklearn\\preprocessing\\label.py:151: DeprecationWarning: The truth value of an empty array is ambiguous. Returning False, but in future this will result in an error. Use `array.size > 0` to check that an array is not empty.\n",
      "  if diff:\n",
      "C:\\Users\\mx190\\Anaconda3\\envs\\data-x\\lib\\site-packages\\sklearn\\preprocessing\\label.py:151: DeprecationWarning: The truth value of an empty array is ambiguous. Returning False, but in future this will result in an error. Use `array.size > 0` to check that an array is not empty.\n",
      "  if diff:\n"
     ]
    },
    {
     "name": "stdout",
     "output_type": "stream",
     "text": [
      "KN Neighbors is the best model\n",
      "Test Accuracy: 0.52\n",
      "AUC Score: 0.5160256410256411\n",
      "Confusion Matrix\n",
      "    0   1\n",
      "0  16  10\n",
      "1  14  10\n",
      "Performs prediction at Country: mx_position\n",
      "Reduced data set to 328 from 549:\n"
     ]
    },
    {
     "name": "stderr",
     "output_type": "stream",
     "text": [
      "C:\\Users\\mx190\\Anaconda3\\envs\\data-x\\lib\\site-packages\\sklearn\\linear_model\\stochastic_gradient.py:128: FutureWarning: max_iter and tol parameters have been added in <class 'sklearn.linear_model.perceptron.Perceptron'> in 0.19. If both are left unset, they default to max_iter=5 and tol=None. If tol is not None, max_iter defaults to max_iter=1000. From 0.21, default max_iter will be 1000, and default tol will be 1e-3.\n",
      "  \"and default tol will be 1e-3.\" % type(self), FutureWarning)\n",
      "C:\\Users\\mx190\\Anaconda3\\envs\\data-x\\lib\\site-packages\\sklearn\\preprocessing\\label.py:151: DeprecationWarning: The truth value of an empty array is ambiguous. Returning False, but in future this will result in an error. Use `array.size > 0` to check that an array is not empty.\n",
      "  if diff:\n",
      "C:\\Users\\mx190\\Anaconda3\\envs\\data-x\\lib\\site-packages\\sklearn\\preprocessing\\label.py:151: DeprecationWarning: The truth value of an empty array is ambiguous. Returning False, but in future this will result in an error. Use `array.size > 0` to check that an array is not empty.\n",
      "  if diff:\n",
      "C:\\Users\\mx190\\Anaconda3\\envs\\data-x\\lib\\site-packages\\sklearn\\preprocessing\\label.py:151: DeprecationWarning: The truth value of an empty array is ambiguous. Returning False, but in future this will result in an error. Use `array.size > 0` to check that an array is not empty.\n",
      "  if diff:\n"
     ]
    },
    {
     "name": "stdout",
     "output_type": "stream",
     "text": [
      "KN Neighbors is the best model\n",
      "Test Accuracy: 0.54\n",
      "AUC Score: 0.5289855072463768\n",
      "Confusion Matrix\n",
      "    0  1\n",
      "0  18  9\n",
      "1  14  9\n",
      "Performs prediction at Country: sv_position\n",
      "Reduced data set to 331 from 549:\n"
     ]
    },
    {
     "name": "stderr",
     "output_type": "stream",
     "text": [
      "C:\\Users\\mx190\\Anaconda3\\envs\\data-x\\lib\\site-packages\\sklearn\\linear_model\\stochastic_gradient.py:128: FutureWarning: max_iter and tol parameters have been added in <class 'sklearn.linear_model.perceptron.Perceptron'> in 0.19. If both are left unset, they default to max_iter=5 and tol=None. If tol is not None, max_iter defaults to max_iter=1000. From 0.21, default max_iter will be 1000, and default tol will be 1e-3.\n",
      "  \"and default tol will be 1e-3.\" % type(self), FutureWarning)\n",
      "C:\\Users\\mx190\\Anaconda3\\envs\\data-x\\lib\\site-packages\\sklearn\\preprocessing\\label.py:151: DeprecationWarning: The truth value of an empty array is ambiguous. Returning False, but in future this will result in an error. Use `array.size > 0` to check that an array is not empty.\n",
      "  if diff:\n",
      "C:\\Users\\mx190\\Anaconda3\\envs\\data-x\\lib\\site-packages\\sklearn\\preprocessing\\label.py:151: DeprecationWarning: The truth value of an empty array is ambiguous. Returning False, but in future this will result in an error. Use `array.size > 0` to check that an array is not empty.\n",
      "  if diff:\n",
      "C:\\Users\\mx190\\Anaconda3\\envs\\data-x\\lib\\site-packages\\sklearn\\preprocessing\\label.py:151: DeprecationWarning: The truth value of an empty array is ambiguous. Returning False, but in future this will result in an error. Use `array.size > 0` to check that an array is not empty.\n",
      "  if diff:\n"
     ]
    },
    {
     "name": "stdout",
     "output_type": "stream",
     "text": [
      "Random Forest is the best model\n",
      "Test Accuracy: 0.48\n",
      "AUC Score: 0.487012987012987\n",
      "Confusion Matrix\n",
      "    0   1\n",
      "0  12  16\n",
      "1  10  12\n",
      "Performs prediction at Country: py_position\n",
      "Reduced data set to 330 from 549:\n"
     ]
    },
    {
     "name": "stderr",
     "output_type": "stream",
     "text": [
      "C:\\Users\\mx190\\Anaconda3\\envs\\data-x\\lib\\site-packages\\sklearn\\linear_model\\stochastic_gradient.py:128: FutureWarning: max_iter and tol parameters have been added in <class 'sklearn.linear_model.perceptron.Perceptron'> in 0.19. If both are left unset, they default to max_iter=5 and tol=None. If tol is not None, max_iter defaults to max_iter=1000. From 0.21, default max_iter will be 1000, and default tol will be 1e-3.\n",
      "  \"and default tol will be 1e-3.\" % type(self), FutureWarning)\n",
      "C:\\Users\\mx190\\Anaconda3\\envs\\data-x\\lib\\site-packages\\sklearn\\preprocessing\\label.py:151: DeprecationWarning: The truth value of an empty array is ambiguous. Returning False, but in future this will result in an error. Use `array.size > 0` to check that an array is not empty.\n",
      "  if diff:\n",
      "C:\\Users\\mx190\\Anaconda3\\envs\\data-x\\lib\\site-packages\\sklearn\\preprocessing\\label.py:151: DeprecationWarning: The truth value of an empty array is ambiguous. Returning False, but in future this will result in an error. Use `array.size > 0` to check that an array is not empty.\n",
      "  if diff:\n",
      "C:\\Users\\mx190\\Anaconda3\\envs\\data-x\\lib\\site-packages\\sklearn\\preprocessing\\label.py:151: DeprecationWarning: The truth value of an empty array is ambiguous. Returning False, but in future this will result in an error. Use `array.size > 0` to check that an array is not empty.\n",
      "  if diff:\n"
     ]
    },
    {
     "name": "stdout",
     "output_type": "stream",
     "text": [
      "Perceptron is the best model\n",
      "Test Accuracy: 0.58\n",
      "AUC Score: 0.5\n",
      "Confusion Matrix\n",
      "    0  1\n",
      "0  27  3\n",
      "1  18  2\n",
      "Performs prediction at Country: cr_position\n",
      "Reduced data set to 328 from 549:\n"
     ]
    },
    {
     "name": "stderr",
     "output_type": "stream",
     "text": [
      "C:\\Users\\mx190\\Anaconda3\\envs\\data-x\\lib\\site-packages\\sklearn\\linear_model\\stochastic_gradient.py:128: FutureWarning: max_iter and tol parameters have been added in <class 'sklearn.linear_model.perceptron.Perceptron'> in 0.19. If both are left unset, they default to max_iter=5 and tol=None. If tol is not None, max_iter defaults to max_iter=1000. From 0.21, default max_iter will be 1000, and default tol will be 1e-3.\n",
      "  \"and default tol will be 1e-3.\" % type(self), FutureWarning)\n",
      "C:\\Users\\mx190\\Anaconda3\\envs\\data-x\\lib\\site-packages\\sklearn\\preprocessing\\label.py:151: DeprecationWarning: The truth value of an empty array is ambiguous. Returning False, but in future this will result in an error. Use `array.size > 0` to check that an array is not empty.\n",
      "  if diff:\n",
      "C:\\Users\\mx190\\Anaconda3\\envs\\data-x\\lib\\site-packages\\sklearn\\preprocessing\\label.py:151: DeprecationWarning: The truth value of an empty array is ambiguous. Returning False, but in future this will result in an error. Use `array.size > 0` to check that an array is not empty.\n",
      "  if diff:\n",
      "C:\\Users\\mx190\\Anaconda3\\envs\\data-x\\lib\\site-packages\\sklearn\\preprocessing\\label.py:151: DeprecationWarning: The truth value of an empty array is ambiguous. Returning False, but in future this will result in an error. Use `array.size > 0` to check that an array is not empty.\n",
      "  if diff:\n"
     ]
    },
    {
     "name": "stdout",
     "output_type": "stream",
     "text": [
      "Random Forest is the best model\n",
      "Test Accuracy: 0.52\n",
      "AUC Score: 0.5314091680814941\n",
      "Confusion Matrix\n",
      "    0   1\n",
      "0  15  16\n",
      "1   8  11\n",
      "Performs prediction at Country: bo_position\n",
      "Reduced data set to 332 from 549:\n"
     ]
    },
    {
     "name": "stderr",
     "output_type": "stream",
     "text": [
      "C:\\Users\\mx190\\Anaconda3\\envs\\data-x\\lib\\site-packages\\sklearn\\linear_model\\stochastic_gradient.py:128: FutureWarning: max_iter and tol parameters have been added in <class 'sklearn.linear_model.perceptron.Perceptron'> in 0.19. If both are left unset, they default to max_iter=5 and tol=None. If tol is not None, max_iter defaults to max_iter=1000. From 0.21, default max_iter will be 1000, and default tol will be 1e-3.\n",
      "  \"and default tol will be 1e-3.\" % type(self), FutureWarning)\n",
      "C:\\Users\\mx190\\Anaconda3\\envs\\data-x\\lib\\site-packages\\sklearn\\preprocessing\\label.py:151: DeprecationWarning: The truth value of an empty array is ambiguous. Returning False, but in future this will result in an error. Use `array.size > 0` to check that an array is not empty.\n",
      "  if diff:\n",
      "C:\\Users\\mx190\\Anaconda3\\envs\\data-x\\lib\\site-packages\\sklearn\\preprocessing\\label.py:151: DeprecationWarning: The truth value of an empty array is ambiguous. Returning False, but in future this will result in an error. Use `array.size > 0` to check that an array is not empty.\n",
      "  if diff:\n",
      "C:\\Users\\mx190\\Anaconda3\\envs\\data-x\\lib\\site-packages\\sklearn\\preprocessing\\label.py:151: DeprecationWarning: The truth value of an empty array is ambiguous. Returning False, but in future this will result in an error. Use `array.size > 0` to check that an array is not empty.\n",
      "  if diff:\n"
     ]
    },
    {
     "name": "stdout",
     "output_type": "stream",
     "text": [
      "Gradient Boosting is the best model\n",
      "Test Accuracy: 0.62\n",
      "AUC Score: 0.6288244766505636\n",
      "Confusion Matrix\n",
      "    0   1\n",
      "0  14  13\n",
      "1   6  17\n",
      "Performs prediction at Country: es_position\n",
      "Reduced data set to 331 from 549:\n"
     ]
    },
    {
     "name": "stderr",
     "output_type": "stream",
     "text": [
      "C:\\Users\\mx190\\Anaconda3\\envs\\data-x\\lib\\site-packages\\sklearn\\preprocessing\\label.py:151: DeprecationWarning: The truth value of an empty array is ambiguous. Returning False, but in future this will result in an error. Use `array.size > 0` to check that an array is not empty.\n",
      "  if diff:\n",
      "C:\\Users\\mx190\\Anaconda3\\envs\\data-x\\lib\\site-packages\\sklearn\\preprocessing\\label.py:151: DeprecationWarning: The truth value of an empty array is ambiguous. Returning False, but in future this will result in an error. Use `array.size > 0` to check that an array is not empty.\n",
      "  if diff:\n",
      "C:\\Users\\mx190\\Anaconda3\\envs\\data-x\\lib\\site-packages\\sklearn\\linear_model\\stochastic_gradient.py:128: FutureWarning: max_iter and tol parameters have been added in <class 'sklearn.linear_model.perceptron.Perceptron'> in 0.19. If both are left unset, they default to max_iter=5 and tol=None. If tol is not None, max_iter defaults to max_iter=1000. From 0.21, default max_iter will be 1000, and default tol will be 1e-3.\n",
      "  \"and default tol will be 1e-3.\" % type(self), FutureWarning)\n",
      "C:\\Users\\mx190\\Anaconda3\\envs\\data-x\\lib\\site-packages\\sklearn\\preprocessing\\label.py:151: DeprecationWarning: The truth value of an empty array is ambiguous. Returning False, but in future this will result in an error. Use `array.size > 0` to check that an array is not empty.\n",
      "  if diff:\n",
      "C:\\Users\\mx190\\Anaconda3\\envs\\data-x\\lib\\site-packages\\sklearn\\preprocessing\\label.py:151: DeprecationWarning: The truth value of an empty array is ambiguous. Returning False, but in future this will result in an error. Use `array.size > 0` to check that an array is not empty.\n",
      "  if diff:\n",
      "C:\\Users\\mx190\\Anaconda3\\envs\\data-x\\lib\\site-packages\\sklearn\\preprocessing\\label.py:151: DeprecationWarning: The truth value of an empty array is ambiguous. Returning False, but in future this will result in an error. Use `array.size > 0` to check that an array is not empty.\n",
      "  if diff:\n"
     ]
    },
    {
     "name": "stdout",
     "output_type": "stream",
     "text": [
      "Perceptron is the best model\n",
      "Test Accuracy: 0.5\n",
      "AUC Score: 0.4376026272577997\n",
      "Confusion Matrix\n",
      "    0  1\n",
      "0  24  5\n",
      "1  20  1\n",
      "Performs prediction at Country: global_position\n",
      "Reduced data set to 331 from 549:\n"
     ]
    },
    {
     "name": "stderr",
     "output_type": "stream",
     "text": [
      "C:\\Users\\mx190\\Anaconda3\\envs\\data-x\\lib\\site-packages\\sklearn\\linear_model\\stochastic_gradient.py:128: FutureWarning: max_iter and tol parameters have been added in <class 'sklearn.linear_model.perceptron.Perceptron'> in 0.19. If both are left unset, they default to max_iter=5 and tol=None. If tol is not None, max_iter defaults to max_iter=1000. From 0.21, default max_iter will be 1000, and default tol will be 1e-3.\n",
      "  \"and default tol will be 1e-3.\" % type(self), FutureWarning)\n",
      "C:\\Users\\mx190\\Anaconda3\\envs\\data-x\\lib\\site-packages\\sklearn\\preprocessing\\label.py:151: DeprecationWarning: The truth value of an empty array is ambiguous. Returning False, but in future this will result in an error. Use `array.size > 0` to check that an array is not empty.\n",
      "  if diff:\n",
      "C:\\Users\\mx190\\Anaconda3\\envs\\data-x\\lib\\site-packages\\sklearn\\preprocessing\\label.py:151: DeprecationWarning: The truth value of an empty array is ambiguous. Returning False, but in future this will result in an error. Use `array.size > 0` to check that an array is not empty.\n",
      "  if diff:\n",
      "C:\\Users\\mx190\\Anaconda3\\envs\\data-x\\lib\\site-packages\\sklearn\\preprocessing\\label.py:151: DeprecationWarning: The truth value of an empty array is ambiguous. Returning False, but in future this will result in an error. Use `array.size > 0` to check that an array is not empty.\n",
      "  if diff:\n"
     ]
    },
    {
     "name": "stdout",
     "output_type": "stream",
     "text": [
      "Perceptron is the best model\n",
      "Test Accuracy: 0.54\n",
      "AUC Score: 0.5\n",
      "Confusion Matrix\n",
      "   0   1\n",
      "0  0  23\n",
      "1  0  27\n",
      "Performs prediction at Country: ec_position\n",
      "Reduced data set to 330 from 549:\n"
     ]
    },
    {
     "name": "stderr",
     "output_type": "stream",
     "text": [
      "C:\\Users\\mx190\\Anaconda3\\envs\\data-x\\lib\\site-packages\\sklearn\\linear_model\\stochastic_gradient.py:128: FutureWarning: max_iter and tol parameters have been added in <class 'sklearn.linear_model.perceptron.Perceptron'> in 0.19. If both are left unset, they default to max_iter=5 and tol=None. If tol is not None, max_iter defaults to max_iter=1000. From 0.21, default max_iter will be 1000, and default tol will be 1e-3.\n",
      "  \"and default tol will be 1e-3.\" % type(self), FutureWarning)\n",
      "C:\\Users\\mx190\\Anaconda3\\envs\\data-x\\lib\\site-packages\\sklearn\\preprocessing\\label.py:151: DeprecationWarning: The truth value of an empty array is ambiguous. Returning False, but in future this will result in an error. Use `array.size > 0` to check that an array is not empty.\n",
      "  if diff:\n",
      "C:\\Users\\mx190\\Anaconda3\\envs\\data-x\\lib\\site-packages\\sklearn\\preprocessing\\label.py:151: DeprecationWarning: The truth value of an empty array is ambiguous. Returning False, but in future this will result in an error. Use `array.size > 0` to check that an array is not empty.\n",
      "  if diff:\n",
      "C:\\Users\\mx190\\Anaconda3\\envs\\data-x\\lib\\site-packages\\sklearn\\preprocessing\\label.py:151: DeprecationWarning: The truth value of an empty array is ambiguous. Returning False, but in future this will result in an error. Use `array.size > 0` to check that an array is not empty.\n",
      "  if diff:\n"
     ]
    },
    {
     "name": "stdout",
     "output_type": "stream",
     "text": [
      "Perceptron is the best model\n",
      "Test Accuracy: 0.56\n",
      "AUC Score: 0.5\n",
      "Confusion Matrix\n",
      "    0  1\n",
      "0  28  0\n",
      "1  22  0\n"
     ]
    }
   ],
   "source": [
    "# Get binary values\n",
    "gapSize = 0.2\n",
    "binSize = (1-gapSize)/2.0\n",
    "print(binSize)\n",
    "testAccuracy = list()\n",
    "for i in range(len(output)):\n",
    "    print('Performs prediction at Country: {}'.format(output[i]))\n",
    "    \n",
    "    df_test = df_work.copy()\n",
    "    df_test[output[i]] = pd.qcut(df_test[output[i]], [0, 0.3, 0.7,1], duplicates ='raise', labels=False)\n",
    "    df_test = df_test[df_test[output[i]]!=1]\n",
    "    df_test[output[i]] = df_test[output[i]].replace(2,1)\n",
    "    print('Reduced data set to {} from {}:'.format(df_test.shape[0], df.shape[0]))\n",
    "\n",
    "    X = df_test[features]\n",
    "    X = normalize(X)\n",
    "    Y = df_test[output[i]]\n",
    "    x_train, x_test, y_train, y_test = train_test_split(X,Y, test_size=0.15, random_state=100)\n",
    "    bestModel = performsMLModelComparison(x_train, x_test, y_train, y_test)\n",
    "    testAccuracy.append(bestModel.score(x_test, y_test))\n",
    "    "
   ]
  },
  {
   "cell_type": "code",
   "execution_count": 165,
   "metadata": {},
   "outputs": [
    {
     "data": {
      "text/plain": [
       "0.5533333333333332"
      ]
     },
     "execution_count": 165,
     "metadata": {},
     "output_type": "execute_result"
    }
   ],
   "source": [
    "np.mean(testAccuracy)"
   ]
  },
  {
   "cell_type": "code",
   "execution_count": 171,
   "metadata": {},
   "outputs": [
    {
     "data": {
      "text/plain": [
       "[0.56,\n",
       " 0.62,\n",
       " 0.46,\n",
       " 0.5,\n",
       " 0.62,\n",
       " 0.62,\n",
       " 0.58,\n",
       " 0.64,\n",
       " 0.5,\n",
       " 0.52,\n",
       " 0.54,\n",
       " 0.48,\n",
       " 0.58,\n",
       " 0.52,\n",
       " 0.62,\n",
       " 0.5,\n",
       " 0.54,\n",
       " 0.56]"
      ]
     },
     "execution_count": 171,
     "metadata": {},
     "output_type": "execute_result"
    }
   ],
   "source": [
    "testAccuracy"
   ]
  },
  {
   "cell_type": "markdown",
   "metadata": {},
   "source": [
    "### 3. Feature Importance"
   ]
  },
  {
   "cell_type": "markdown",
   "metadata": {},
   "source": [
    "#### a) Are those the same for all outputs?"
   ]
  },
  {
   "cell_type": "code",
   "execution_count": 166,
   "metadata": {
    "collapsed": true
   },
   "outputs": [],
   "source": [
    "Y = df_work[output]\n",
    "X = df_work[features]\n",
    "X_norm = normalize(X)"
   ]
  },
  {
   "cell_type": "code",
   "execution_count": 167,
   "metadata": {},
   "outputs": [
    {
     "name": "stdout",
     "output_type": "stream",
     "text": [
      "Top 5 features for output 0\n",
      "['min_timbre10', 'min_timbre9', 'range_timbre10', 'max_timbre3', 'range_timbre7', 'min_timbre8']\n",
      "Top 5 features for output 1\n",
      "['max_timbre10', 'range_timbre10', 'range_timbre2', '80Percentile_timbre9', 'min_timbre6', 'median_timbre7']\n",
      "Top 5 features for output 2\n",
      "['max_timbre10', 'max_timbre2', 'range_timbre2', 'min_timbre12', 'max_timbre1', 'min_timbre10']\n",
      "Top 5 features for output 3\n",
      "['range_timbre2', 'max_timbre10', 'max_timbre9', 'range_timbre10', 'median_timbre9', 'min_timbre6']\n",
      "Top 5 features for output 4\n",
      "['range_timbre10', 'max_timbre10', 'max_timbre1', 'tempo', 'min_timbre2', 'range_timbre9']\n",
      "Top 5 features for output 5\n",
      "['max_timbre10', 'max_timbre9', 'min_timbre6', 'max_timbre4', 'valence', 'range_timbre2']\n",
      "Top 5 features for output 6\n",
      "['max_timbre2', '80Percentile_timbre5', 'range_timbre7', 'max_timbre10', 'mean_timbre4', 'max_timbre1']\n",
      "Top 5 features for output 7\n",
      "['min_timbre11', 'min_timbre6', 'range_timbre6', 'min_timbre12', 'std_timbre2', 'range_timbre12']\n",
      "Top 5 features for output 8\n",
      "['std_timbre1', 'min_timbre11', 'min_timbre6', 'range_timbre4', 'min_timbre2', 'min_timbre7']\n",
      "Top 5 features for output 9\n",
      "['liveness', 'min_timbre6', 'min_timbre11', 'median_timbre4', 'max_timbre10', 'min_timbre3']\n",
      "Top 5 features for output 10\n",
      "['max_timbre10', 'median_timbre7', 'median_timbre3', 'median_timbre1', 'mean_timbre5', 'min_timbre11']\n",
      "Top 5 features for output 11\n",
      "['max_timbre10', 'min_timbre6', 'range_timbre10', 'median_timbre2', 'range_timbre6', 'std_timbre1']\n",
      "Top 5 features for output 12\n",
      "['max_timbre10', 'mean_timbre2', 'min_timbre11', 'min_timbre6', 'mean_timbre10', 'max_timbre4']\n",
      "Top 5 features for output 13\n",
      "['max_timbre10', 'liveness', 'duration_ms', 'mean_timbre1', 'min_timbre11', 'range_timbre6']\n",
      "Top 5 features for output 14\n",
      "['min_timbre11', 'mean_timbre2', 'min_timbre6', 'min_timbre2', 'range_timbre2', 'mean_timbre10']\n",
      "Top 5 features for output 15\n",
      "['mean_timbre1', 'duration_ms', 'max_timbre1', 'mean_timbre4', 'std_timbre1', 'mean_timbre10']\n",
      "Top 5 features for output 16\n",
      "['max_timbre12', 'max_timbre10', 'range_timbre2', 'min_timbre9', 'range_timbre6', 'max_timbre3']\n",
      "Top 5 features for output 17\n",
      "['min_timbre6', 'max_timbre10', 'max_timbre1', 'range_timbre1', 'median_timbre7', '80Percentile_timbre5']\n"
     ]
    }
   ],
   "source": [
    "for i in range(Y.shape[1]):\n",
    "    Y_curr = pd.qcut(Y.iloc[:, i], 2, labels= False)\n",
    "    x_train, x_test, y_train, y_test = train_test_split(X,Y_curr, test_size=0.15, random_state=100)\n",
    "\n",
    "    featureRanking = featureImportance(x_train, y_train, features) # List\n",
    "    features_sorted = list()\n",
    "    for j in range(len(featureRanking)):\n",
    "        features_sorted.append(featureRanking[j][0])\n",
    "    print('Top 5 features for output {}'.format(i))\n",
    "    print(features_sorted[:6])"
   ]
  },
  {
   "cell_type": "markdown",
   "metadata": {},
   "source": [
    "#### b)Try to reduce features"
   ]
  },
  {
   "cell_type": "code",
   "execution_count": 169,
   "metadata": {},
   "outputs": [
    {
     "name": "stdout",
     "output_type": "stream",
     "text": [
      "['min_timbre6', 'max_timbre10', 'max_timbre1', 'range_timbre1', 'median_timbre7', '80Percentile_timbre5', 'range_timbre2', 'range_timbre6', 'mean_timbre1', 'liveness', 'loudness', 'max_timbre5', '80Percentile_timbre7', 'range_timbre10', 'tempo', 'median_timbre1', 'range_timbre7', 'mean_timbre9', 'min_timbre2', 'mean_timbre7', '80Percentile_timbre9', 'min_timbre12', 'min_timbre11', 'std_timbre1', 'std_timbre2', 'danceability', 'range_timbre9', 'max_timbre9', 'median_timbre8', 'median_timbre10', 'max_timbre4', 'range_timbre4', 'range_timbre11', 'median_timbre9', 'mean_timbre6', 'median_timbre3', 'min_timbre4', 'std_timbre5', '80Percentile_timbre11', 'min_timbre3', 'min_timbre5', 'mean_timbre8', 'mean_timbre10', 'std_timbre9', 'mean_timbre2', 'std_timbre8', 'mean_timbre12', 'median_timbre5', 'range_timbre8', 'mean_timbre4', '80Percentile_timbre6', 'max_timbre3', 'median_timbre12', 'mean_timbre11', 'range_timbre12', 'range_timbre5', 'mean_timbre5', 'max_timbre2', 'min_timbre8', 'speechiness', 'median_timbre4', 'max_timbre12', '80Percentile_timbre8', 'mean_timbre3', 'valence', 'max_timbre6', 'min_timbre7', 'std_timbre3', '80Percentile_timbre1', 'median_timbre11', 'key', 'duration_ms', 'std_timbre4', 'range_timbre3', 'max_timbre7', 'median_timbre2', 'max_timbre11', 'min_timbre10', 'min_timbre1', 'median_timbre6', '80Percentile_timbre12', 'std_timbre12', 'energy', '80Percentile_timbre3', '80Percentile_timbre4', 'max_timbre8', 'std_timbre10', 'min_timbre9', 'std_timbre11', 'std_timbre6', 'std_timbre7', 'acousticness', '80Percentile_timbre2', '80Percentile_timbre10', 'instrumentalness', 'mode', 'rap', 'electronic', 'r&b', 'pop', 'rock', 'latino', 'house', 'hip hop', 'Unknown', 'punk', 'indie', 'metal', 'folk', 'International']\n"
     ]
    }
   ],
   "source": [
    "features = features_sorted[:]\n",
    "print(features)"
   ]
  },
  {
   "cell_type": "code",
   "execution_count": 144,
   "metadata": {},
   "outputs": [
    {
     "name": "stdout",
     "output_type": "stream",
     "text": [
      "Performs prediction at Country: pt_position\n",
      "Test Accuracy: 0.5180722891566265\n",
      "Training Accuracy: 0.9978540772532188\n",
      "AUC Score: 0.5130813953488372\n",
      "Confusion Matrix\n",
      "    0   1\n",
      "0  28  15\n",
      "1  25  15\n",
      "Performs prediction at Country: pe_position\n",
      "Test Accuracy: 0.3614457831325301\n",
      "Training Accuracy: 0.9978540772532188\n",
      "AUC Score: 0.36914765906362546\n",
      "Confusion Matrix\n",
      "    0   1\n",
      "0  16  33\n",
      "1  20  14\n",
      "Performs prediction at Country: cl_position\n",
      "Test Accuracy: 0.5180722891566265\n",
      "Training Accuracy: 0.9978540772532188\n",
      "AUC Score: 0.5228070175438597\n",
      "Confusion Matrix\n",
      "    0   1\n",
      "0  21  24\n",
      "1  16  22\n",
      "Performs prediction at Country: uy_position\n",
      "Test Accuracy: 0.4819277108433735\n",
      "Training Accuracy: 0.9978540772532188\n",
      "AUC Score: 0.5095238095238096\n",
      "Confusion Matrix\n",
      "    0   1\n",
      "0  16  32\n",
      "1  11  24\n",
      "Performs prediction at Country: co_position\n",
      "Test Accuracy: 0.4939759036144578\n",
      "Training Accuracy: 0.9978540772532188\n",
      "AUC Score: 0.5005847953216375\n",
      "Confusion Matrix\n",
      "    0   1\n",
      "0  19  26\n",
      "1  16  22\n",
      "Performs prediction at Country: do_position\n",
      "Test Accuracy: 0.6265060240963856\n",
      "Training Accuracy: 0.9978540772532188\n",
      "AUC Score: 0.6289473684210527\n",
      "Confusion Matrix\n",
      "    0   1\n",
      "0  27  18\n",
      "1  13  25\n",
      "Performs prediction at Country: ar_position\n",
      "Test Accuracy: 0.5783132530120482\n",
      "Training Accuracy: 0.9978540772532188\n",
      "AUC Score: 0.5933373349339737\n",
      "Confusion Matrix\n",
      "    0   1\n",
      "0  25  24\n",
      "1  11  23\n",
      "Performs prediction at Country: pa_position\n",
      "Test Accuracy: 0.5301204819277109\n",
      "Training Accuracy: 1.0\n",
      "AUC Score: 0.5511904761904762\n",
      "Confusion Matrix\n",
      "    0   1\n",
      "0  20  28\n",
      "1  11  24\n",
      "Performs prediction at Country: gt_position\n",
      "Test Accuracy: 0.4457831325301205\n",
      "Training Accuracy: 0.9978540772532188\n",
      "AUC Score: 0.4581871345029239\n",
      "Confusion Matrix\n",
      "    0   1\n",
      "0  14  31\n",
      "1  15  23\n",
      "Performs prediction at Country: hn_position\n",
      "Test Accuracy: 0.46987951807228917\n",
      "Training Accuracy: 0.9978540772532188\n",
      "AUC Score: 0.4681547619047619\n",
      "Confusion Matrix\n",
      "    0   1\n",
      "0  23  25\n",
      "1  19  16\n",
      "Performs prediction at Country: mx_position\n",
      "Test Accuracy: 0.5060240963855421\n",
      "Training Accuracy: 0.9978540772532188\n",
      "AUC Score: 0.5085697399527187\n",
      "Confusion Matrix\n",
      "    0   1\n",
      "0  23  24\n",
      "1  17  19\n",
      "Performs prediction at Country: sv_position\n",
      "Test Accuracy: 0.5421686746987951\n",
      "Training Accuracy: 0.9978540772532188\n",
      "AUC Score: 0.5339834515366431\n",
      "Confusion Matrix\n",
      "    0   1\n",
      "0  28  19\n",
      "1  19  17\n",
      "Performs prediction at Country: py_position\n",
      "Test Accuracy: 0.5180722891566265\n",
      "Training Accuracy: 0.9978540772532188\n",
      "AUC Score: 0.5202702702702703\n",
      "Confusion Matrix\n",
      "    0   1\n",
      "0  23  23\n",
      "1  17  20\n",
      "Performs prediction at Country: cr_position\n",
      "Test Accuracy: 0.4939759036144578\n",
      "Training Accuracy: 0.9978540772532188\n",
      "AUC Score: 0.48795534665099877\n",
      "Confusion Matrix\n",
      "    0   1\n",
      "0  25  21\n",
      "1  21  16\n",
      "Performs prediction at Country: bo_position\n",
      "Test Accuracy: 0.43373493975903615\n",
      "Training Accuracy: 0.9978540772532188\n",
      "AUC Score: 0.43096357226792015\n",
      "Confusion Matrix\n",
      "    0   1\n",
      "0  21  25\n",
      "1  22  15\n",
      "Performs prediction at Country: es_position\n",
      "Test Accuracy: 0.43373493975903615\n",
      "Training Accuracy: 0.9978540772532188\n",
      "AUC Score: 0.44418331374853115\n",
      "Confusion Matrix\n",
      "    0   1\n",
      "0  16  30\n",
      "1  17  20\n",
      "Performs prediction at Country: global_position\n",
      "Test Accuracy: 0.42168674698795183\n",
      "Training Accuracy: 0.9978540772532188\n",
      "AUC Score: 0.4195804195804196\n",
      "Confusion Matrix\n",
      "    0   1\n",
      "0  20  24\n",
      "1  24  15\n",
      "Performs prediction at Country: ec_position\n",
      "Test Accuracy: 0.4457831325301205\n",
      "Training Accuracy: 0.9978540772532188\n",
      "AUC Score: 0.447953216374269\n",
      "Confusion Matrix\n",
      "    0   1\n",
      "0  19  26\n",
      "1  20  18\n"
     ]
    }
   ],
   "source": [
    "testAccuracy = list()\n",
    "Y = df_work[output]\n",
    "X = df_work[features]\n",
    "X_norm = normalize(X)\n",
    "model = RandomForestClassifier(n_estimators=190)\n",
    "for i in range(Y.shape[1]):\n",
    "    Y_curr = pd.qcut(Y.iloc[:, i], 2, labels= False)\n",
    "\n",
    "    print('Performs prediction at Country: {}'.format(Y_test.columns[i]))\n",
    "    x_train, x_test, y_train, y_test = train_test_split(X_norm,Y_curr, test_size=0.15, random_state=100)\n",
    "    bestModel = runsModel(x_train, x_test, y_train, y_test, model)\n",
    "    testAccuracy.append(bestModel.score(x_test, y_test))"
   ]
  },
  {
   "cell_type": "code",
   "execution_count": 145,
   "metadata": {},
   "outputs": [
    {
     "data": {
      "text/plain": [
       "0.4899598393574297"
      ]
     },
     "execution_count": 145,
     "metadata": {},
     "output_type": "execute_result"
    }
   ],
   "source": [
    "np.mean(testAccuracy)"
   ]
  },
  {
   "cell_type": "code",
   "execution_count": null,
   "metadata": {
    "collapsed": true
   },
   "outputs": [],
   "source": [
    "testAccuac"
   ]
  }
 ],
 "metadata": {
  "kernelspec": {
   "display_name": "Python 3",
   "language": "python",
   "name": "python3"
  },
  "language_info": {
   "codemirror_mode": {
    "name": "ipython",
    "version": 3
   },
   "file_extension": ".py",
   "mimetype": "text/x-python",
   "name": "python",
   "nbconvert_exporter": "python",
   "pygments_lexer": "ipython3",
   "version": "3.6.3"
  }
 },
 "nbformat": 4,
 "nbformat_minor": 2
}
