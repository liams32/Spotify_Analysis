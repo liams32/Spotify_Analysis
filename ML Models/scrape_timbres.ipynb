{
 "cells": [
  {
   "cell_type": "code",
   "execution_count": 1,
   "metadata": {
    "collapsed": true
   },
   "outputs": [],
   "source": [
    "import spotipy\n",
    "import spotipy.oauth2\n",
    "import spotipy.util as util\n",
    "from spotipy.oauth2 import SpotifyClientCredentials\n",
    "import pandas as pd\n",
    "import numpy as np"
   ]
  },
  {
   "cell_type": "code",
   "execution_count": 2,
   "metadata": {
    "collapsed": true
   },
   "outputs": [],
   "source": [
    "CLIENT_ID = '23888f5deee6452db5d78bd2d1091da5'\n",
    "CLIENT_SECRET = 'f6ecea7a89d24b02b2c969745b88a9db'\n",
    "\n",
    "client_credentials_manager = SpotifyClientCredentials(CLIENT_ID, CLIENT_SECRET)\n",
    "sp = spotipy.Spotify(client_credentials_manager=client_credentials_manager)"
   ]
  },
  {
   "cell_type": "code",
   "execution_count": 3,
   "metadata": {
    "collapsed": true
   },
   "outputs": [],
   "source": [
    "dat = pd.read_csv('combined_all_countries_2.csv')"
   ]
  },
  {
   "cell_type": "code",
   "execution_count": 4,
   "metadata": {},
   "outputs": [
    {
     "data": {
      "text/plain": [
       "0    spotify:track:7qiZfU4dY1lWllzX7mPBI3\n",
       "1    spotify:track:12VWzyPDBCc8fqeWCAfNwR\n",
       "2    spotify:track:7crMiinWx373rNBZBaVske\n",
       "3    spotify:track:4vS8VaBwJJV5Ry7UFIQuoo\n",
       "Name: uri, dtype: object"
      ]
     },
     "execution_count": 4,
     "metadata": {},
     "output_type": "execute_result"
    }
   ],
   "source": [
    "dat['uri'].head(4)"
   ]
  },
  {
   "cell_type": "code",
   "execution_count": 5,
   "metadata": {
    "collapsed": true
   },
   "outputs": [],
   "source": [
    "blah = sp.audio_analysis('spotify:track:7qiZfU4dY1lWllzX7mPBI3') #testing dummy"
   ]
  },
  {
   "cell_type": "code",
   "execution_count": 6,
   "metadata": {},
   "outputs": [
    {
     "data": {
      "text/plain": [
       "dict_keys(['meta', 'segments', 'sections', 'tatums', 'beats', 'bars', 'track'])"
      ]
     },
     "execution_count": 6,
     "metadata": {},
     "output_type": "execute_result"
    }
   ],
   "source": [
    "blah.keys()"
   ]
  },
  {
   "cell_type": "code",
   "execution_count": 7,
   "metadata": {},
   "outputs": [
    {
     "name": "stdout",
     "output_type": "stream",
     "text": [
      "1062\n"
     ]
    },
    {
     "data": {
      "text/plain": [
       "[{'confidence': 0.0,\n",
       "  'duration': 0.48726,\n",
       "  'loudness_max': -2.147,\n",
       "  'loudness_max_time': 0.00911,\n",
       "  'loudness_start': -4.583,\n",
       "  'pitches': [0.133,\n",
       "   1.0,\n",
       "   0.015,\n",
       "   0.007,\n",
       "   0.013,\n",
       "   0.004,\n",
       "   0.003,\n",
       "   0.009,\n",
       "   0.389,\n",
       "   0.004,\n",
       "   0.003,\n",
       "   0.009],\n",
       "  'start': 0.0,\n",
       "  'timbre': [42.037,\n",
       "   -159.534,\n",
       "   -54.943,\n",
       "   219.73,\n",
       "   49.002,\n",
       "   -113.6,\n",
       "   -69.729,\n",
       "   -22.161,\n",
       "   -22.242,\n",
       "   34.812,\n",
       "   -65.443,\n",
       "   7.754]},\n",
       " {'confidence': 1.0,\n",
       "  'duration': 0.44762,\n",
       "  'loudness_max': -3.267,\n",
       "  'loudness_max_time': 0.01479,\n",
       "  'loudness_start': -42.762,\n",
       "  'pitches': [0.059,\n",
       "   1.0,\n",
       "   0.014,\n",
       "   0.012,\n",
       "   0.485,\n",
       "   0.007,\n",
       "   0.004,\n",
       "   0.018,\n",
       "   0.62,\n",
       "   0.006,\n",
       "   0.005,\n",
       "   0.008],\n",
       "  'start': 0.48726,\n",
       "  'timbre': [42.795,\n",
       "   -165.043,\n",
       "   -26.554,\n",
       "   203.264,\n",
       "   53.621,\n",
       "   -74.093,\n",
       "   -44.686,\n",
       "   -20.58,\n",
       "   -15.925,\n",
       "   40.564,\n",
       "   -38.723,\n",
       "   3.436]}]"
      ]
     },
     "execution_count": 7,
     "metadata": {},
     "output_type": "execute_result"
    }
   ],
   "source": [
    "print(len(blah['segments'])) #1062???\n",
    "blah['segments'][0:2]"
   ]
  },
  {
   "cell_type": "code",
   "execution_count": 8,
   "metadata": {},
   "outputs": [
    {
     "name": "stdout",
     "output_type": "stream",
     "text": [
      "753\n"
     ]
    },
    {
     "data": {
      "text/plain": [
       "[{'confidence': 1.0,\n",
       "  'duration': 0.2327,\n",
       "  'loudness_max': -22.734,\n",
       "  'loudness_max_time': 0.03706,\n",
       "  'loudness_start': -60.0,\n",
       "  'pitches': [0.036,\n",
       "   0.06,\n",
       "   0.034,\n",
       "   0.038,\n",
       "   0.06,\n",
       "   1.0,\n",
       "   0.08,\n",
       "   0.035,\n",
       "   0.029,\n",
       "   0.035,\n",
       "   0.033,\n",
       "   0.034],\n",
       "  'start': 0.0,\n",
       "  'timbre': [25.793,\n",
       "   61.193,\n",
       "   -4.064,\n",
       "   76.322,\n",
       "   71.732,\n",
       "   137.368,\n",
       "   -10.241,\n",
       "   -13.244,\n",
       "   -40.953,\n",
       "   66.804,\n",
       "   87.01,\n",
       "   -11.667]},\n",
       " {'confidence': 0.603,\n",
       "  'duration': 0.36544,\n",
       "  'loudness_max': -33.675,\n",
       "  'loudness_max_time': 0.07799,\n",
       "  'loudness_start': -40.819,\n",
       "  'pitches': [0.076,\n",
       "   0.1,\n",
       "   0.084,\n",
       "   0.078,\n",
       "   0.11,\n",
       "   1.0,\n",
       "   0.134,\n",
       "   0.171,\n",
       "   0.129,\n",
       "   0.122,\n",
       "   0.127,\n",
       "   0.09],\n",
       "  'start': 0.2327,\n",
       "  'timbre': [20.587,\n",
       "   23.859,\n",
       "   32.899,\n",
       "   -6.545,\n",
       "   27.104,\n",
       "   -4.067,\n",
       "   -62.677,\n",
       "   7.293,\n",
       "   -18.904,\n",
       "   -28.626,\n",
       "   -14.9,\n",
       "   8.311]}]"
      ]
     },
     "execution_count": 8,
     "metadata": {},
     "output_type": "execute_result"
    }
   ],
   "source": [
    "blah_2 = sp.audio_analysis('spotify:track:12VWzyPDBCc8fqeWCAfNwR')\n",
    "print(len(blah_2['segments'])) #1062???\n",
    "blah_2['segments'][0:2]"
   ]
  },
  {
   "cell_type": "code",
   "execution_count": 9,
   "metadata": {},
   "outputs": [
    {
     "data": {
      "text/plain": [
       "0      84.832\n",
       "1    -324.577\n",
       "2     -81.497\n",
       "3     422.994\n",
       "4     102.623\n",
       "5    -187.693\n",
       "6    -114.415\n",
       "7     -42.741\n",
       "8     -38.167\n",
       "9      75.376\n",
       "10   -104.166\n",
       "11     11.190\n",
       "dtype: float64"
      ]
     },
     "execution_count": 9,
     "metadata": {},
     "output_type": "execute_result"
    }
   ],
   "source": [
    "pd.Series(blah['segments'][0]['timbre']) + pd.Series(blah['segments'][1]['timbre'])"
   ]
  },
  {
   "cell_type": "markdown",
   "metadata": {},
   "source": [
    "### We're going to convert to pandas series to get the mean or median of each song's timbre values and then use the series to create 12 columns for each song."
   ]
  },
  {
   "cell_type": "code",
   "execution_count": 10,
   "metadata": {},
   "outputs": [
    {
     "data": {
      "text/plain": [
       "'spotify:track:7qiZfU4dY1lWllzX7mPBI3'"
      ]
     },
     "execution_count": 10,
     "metadata": {},
     "output_type": "execute_result"
    }
   ],
   "source": [
    "dat['uri'][0]"
   ]
  },
  {
   "cell_type": "code",
   "execution_count": 11,
   "metadata": {},
   "outputs": [
    {
     "data": {
      "text/plain": [
       "[42.037,\n",
       " -159.534,\n",
       " -54.943,\n",
       " 219.73,\n",
       " 49.002,\n",
       " -113.6,\n",
       " -69.729,\n",
       " -22.161,\n",
       " -22.242,\n",
       " 34.812,\n",
       " -65.443,\n",
       " 7.754]"
      ]
     },
     "execution_count": 11,
     "metadata": {},
     "output_type": "execute_result"
    }
   ],
   "source": [
    "sp.audio_analysis(dat['uri'][0])['segments'][0]['timbre']"
   ]
  },
  {
   "cell_type": "code",
   "execution_count": 12,
   "metadata": {
    "collapsed": true
   },
   "outputs": [],
   "source": [
    "#timbre_df = pd.DataFrame.from_records(pd.Series(sp.audio_analysis(dat['uri'][0])['segments'][0]['timbre']), columns = timbre_labels)"
   ]
  },
  {
   "cell_type": "code",
   "execution_count": 13,
   "metadata": {
    "collapsed": true
   },
   "outputs": [],
   "source": [
    "#pd.Series(np.repeat(0, 12), index = timbre_labels)"
   ]
  },
  {
   "cell_type": "code",
   "execution_count": null,
   "metadata": {},
   "outputs": [
    {
     "name": "stderr",
     "output_type": "stream",
     "text": [
      "/home/ricky/.local/lib/python3.5/site-packages/pandas/core/frame.py:5175: RuntimeWarning: unorderable types: str() < int(), sort order is undefined for incomparable objects\n",
      "  other.index).difference(self.columns).tolist()\n"
     ]
    }
   ],
   "source": [
    "timbre_labels = ['timbre_mean_1', 'timbre_mean_2', 'timbre_mean_3', 'timbre_mean_4', \n",
    "                 'timbre_mean_5', 'timbre_mean_6', 'timbre_mean_7',\n",
    "                 'timbre_mean_8', 'timbre_mean_9', 'timbre_mean_10', 'timbre_mean_11',\n",
    "                 'timbre_mean_12']\n",
    "timbre_df = pd.DataFrame(columns = timbre_labels)\n",
    "\n",
    "for i in range(0, len(dat['uri'])): #iterate through all uris\n",
    "    curr_uri = dat['uri'][i]\n",
    "    curr_song = sp.audio_analysis(dat['uri'][i])\n",
    "    curr_segments = curr_song['segments'] #get into segments (time intervals). Each song diff length\n",
    "    \n",
    "    init_timbres = pd.Series(np.repeat(0, 12)) #initialize timbre value holder\n",
    "    \n",
    "    for i in range(0, len(curr_segments)):\n",
    "        curr_timbres = pd.Series(curr_segments[i]['timbre']) #we have to iterate through every segment\n",
    "        #print(curr_timbres)\n",
    "        init_timbres += curr_timbres \n",
    "    #print(init_timbres)\n",
    "    init_timbres = init_timbres / len(curr_segments)\n",
    "    #print(init_timbres)\n",
    "    timbre_df.append(init_timbres, ignore_index = True)\n",
    "    "
   ]
  },
  {
   "cell_type": "code",
   "execution_count": null,
   "metadata": {
    "collapsed": true
   },
   "outputs": [],
   "source": []
  }
 ],
 "metadata": {
  "kernelspec": {
   "display_name": "Python 3",
   "language": "python",
   "name": "python3"
  },
  "language_info": {
   "codemirror_mode": {
    "name": "ipython",
    "version": 3
   },
   "file_extension": ".py",
   "mimetype": "text/x-python",
   "name": "python",
   "nbconvert_exporter": "python",
   "pygments_lexer": "ipython3",
   "version": "3.6.3"
  }
 },
 "nbformat": 4,
 "nbformat_minor": 2
}
