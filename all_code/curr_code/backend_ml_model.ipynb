{
 "cells": [
  {
   "cell_type": "code",
   "execution_count": 1,
   "metadata": {},
   "outputs": [],
   "source": [
    "import time\n",
    "start_time = time.time()"
   ]
  },
  {
   "cell_type": "code",
   "execution_count": 2,
   "metadata": {},
   "outputs": [],
   "source": [
    "import numpy as np\n",
    "import pandas as pd \n",
    "import spotipy\n",
    "import spotipy.oauth2\n",
    "import spotipy.util as util\n",
    "from spotipy.oauth2 import SpotifyClientCredentials\n",
    "import statistics\n",
    "from scipy.stats import kurtosis\n",
    "from scipy.stats import skew\n",
    "\n",
    "from sklearn.model_selection import train_test_split\n",
    "from sklearn.metrics import confusion_matrix\n",
    "from sklearn.metrics import roc_curve, auc\n",
    "from sklearn.ensemble import RandomForestClassifier\n",
    "from sklearn.model_selection import train_test_split\n",
    "from sklearn.preprocessing import normalize\n",
    "from sklearn.externals import joblib\n",
    "\n",
    "def f_mean(row):\n",
    "    return(np.mean(row))\n",
    "def f_median(row):\n",
    "    return(np.median(row))\n",
    "def f_std(row):\n",
    "     return(np.std(row))\n",
    "def f_min(row):\n",
    "     return(np.min(row))\n",
    "def f_max(row):\n",
    "     return(np.max(row))\n",
    "def f_80Percentile(row):\n",
    "    return(np.percentile(row, 80))\n",
    "def f_kurtosis(row):\n",
    "    return(kurtosis(row))\n",
    "def f_skew(row):\n",
    "    return(skew(row))"
   ]
  },
  {
   "cell_type": "code",
   "execution_count": 3,
   "metadata": {},
   "outputs": [],
   "source": [
    "CLIENT_ID = '23888f5deee6452db5d78bd2d1091da5'\n",
    "CLIENT_SECRET = 'f6ecea7a89d24b02b2c969745b88a9db'\n",
    "\n",
    "client_credentials_manager = SpotifyClientCredentials(CLIENT_ID, CLIENT_SECRET)\n",
    "sp = spotipy.Spotify(client_credentials_manager=client_credentials_manager)"
   ]
  },
  {
   "cell_type": "code",
   "execution_count": 4,
   "metadata": {},
   "outputs": [],
   "source": [
    "#dat = pd.read_csv('cleanedDataSet_final.csv')"
   ]
  },
  {
   "cell_type": "code",
   "execution_count": 5,
   "metadata": {},
   "outputs": [],
   "source": [
    "#print(dat.columns.values)\n",
    "#dat.head(5)"
   ]
  },
  {
   "cell_type": "code",
   "execution_count": 6,
   "metadata": {},
   "outputs": [],
   "source": [
    "def generate_df(sp_feature_dict):\n",
    "\tdf = pd.DataFrame.from_dict(sp_feature_dict) #convert dict to pandas table\n",
    "\n",
    "\tdf = df.loc[:,['acousticness', 'danceability', 'duration_ms', 'energy', 'instrumentalness', 'key', 'liveness', 'loudness', 'mode', 'speechiness', 'tempo', 'valence']] #clean up table (extract columns we need)\n",
    "\treturn(df)"
   ]
  },
  {
   "cell_type": "code",
   "execution_count": 7,
   "metadata": {},
   "outputs": [],
   "source": [
    "#Test with a random song.\n",
    "def search_spotify(Artist, Track):\n",
    "\t\n",
    "\t'----- Grab authentication -----'\n",
    "\tCLIENT_ID = '23888f5deee6452db5d78bd2d1091da5'\n",
    "\tCLIENT_SECRET = 'f6ecea7a89d24b02b2c969745b88a9db'\n",
    "\n",
    "\tclient_credentials_manager = SpotifyClientCredentials(CLIENT_ID, CLIENT_SECRET)\n",
    "\tsp = spotipy.Spotify(client_credentials_manager=client_credentials_manager)\n",
    "\n",
    "\tq = 'artist:{} track:{}'.format(Artist, Track) #get artist_name and track_name from html \n",
    "\tresults = sp.search(q, type='track')\n",
    "\t#print('aaaaaa') used for debugging purposes\n",
    "\t#print(results)\n",
    "\treturn(results)"
   ]
  },
  {
   "cell_type": "code",
   "execution_count": 8,
   "metadata": {},
   "outputs": [],
   "source": [
    "results = search_spotify('Grouplove', 'Spun')"
   ]
  },
  {
   "cell_type": "code",
   "execution_count": 9,
   "metadata": {},
   "outputs": [],
   "source": [
    "\ttrack_uri = results['tracks']['items'][0]['uri'] #nested dict: get tracks, items of tracks, 1st item, and then uri of the 1st item\n",
    "\tartist_uri = results['tracks']['items'][0]['artists'][0]['uri'] #gets artist info, needed to grab the genre"
   ]
  },
  {
   "cell_type": "markdown",
   "metadata": {},
   "source": [
    "### We have the uris now"
   ]
  },
  {
   "cell_type": "code",
   "execution_count": 10,
   "metadata": {},
   "outputs": [],
   "source": [
    "\t#track_popularity = results['tracks']['items'][0]['popularity'] #get popularity of track\n",
    "\ttrack_genre = sp.artist(artist_uri)['genres'] #get genre of artist\n",
    "\ttrack_features = sp.audio_features(track_uri) #grab dict of audio features\n",
    "\ttrack_name = results['tracks']['items'][0]['name'] #get name of track\n",
    "\tnew_track_df = generate_df(track_features) #now have pandas df with relevant columns, this will be used for output\n",
    "\tif not track_genre:\n",
    "\t\ttrack_genre = 'Unknown'\n",
    "\telse:\n",
    "\t\ttrack_genre = track_genre[0] #to prevent index error for genre selection\n",
    "\t#new_track_df['popularity'] = track_popularity\n",
    "\tnew_track_df['genre'] = track_genre\n",
    "\tnew_track_df['song'] = track_name\n",
    "\tnew_track_df['uri'] = track_uri"
   ]
  },
  {
   "cell_type": "code",
   "execution_count": 11,
   "metadata": {},
   "outputs": [
    {
     "data": {
      "text/html": [
       "<div>\n",
       "<style scoped>\n",
       "    .dataframe tbody tr th:only-of-type {\n",
       "        vertical-align: middle;\n",
       "    }\n",
       "\n",
       "    .dataframe tbody tr th {\n",
       "        vertical-align: top;\n",
       "    }\n",
       "\n",
       "    .dataframe thead th {\n",
       "        text-align: right;\n",
       "    }\n",
       "</style>\n",
       "<table border=\"1\" class=\"dataframe\">\n",
       "  <thead>\n",
       "    <tr style=\"text-align: right;\">\n",
       "      <th></th>\n",
       "      <th>acousticness</th>\n",
       "      <th>danceability</th>\n",
       "      <th>duration_ms</th>\n",
       "      <th>energy</th>\n",
       "      <th>instrumentalness</th>\n",
       "      <th>key</th>\n",
       "      <th>liveness</th>\n",
       "      <th>loudness</th>\n",
       "      <th>mode</th>\n",
       "      <th>speechiness</th>\n",
       "      <th>tempo</th>\n",
       "      <th>valence</th>\n",
       "      <th>genre</th>\n",
       "      <th>song</th>\n",
       "      <th>uri</th>\n",
       "    </tr>\n",
       "  </thead>\n",
       "  <tbody>\n",
       "    <tr>\n",
       "      <th>0</th>\n",
       "      <td>0.00262</td>\n",
       "      <td>0.424</td>\n",
       "      <td>205613</td>\n",
       "      <td>0.851</td>\n",
       "      <td>0.000022</td>\n",
       "      <td>7</td>\n",
       "      <td>0.232</td>\n",
       "      <td>-6.143</td>\n",
       "      <td>1</td>\n",
       "      <td>0.0385</td>\n",
       "      <td>155.018</td>\n",
       "      <td>0.397</td>\n",
       "      <td>indie folk</td>\n",
       "      <td>Spun</td>\n",
       "      <td>spotify:track:6WgvvNUermK2Xad0jRPxXr</td>\n",
       "    </tr>\n",
       "  </tbody>\n",
       "</table>\n",
       "</div>"
      ],
      "text/plain": [
       "   acousticness  danceability  duration_ms  energy  instrumentalness  key  \\\n",
       "0       0.00262         0.424       205613   0.851          0.000022    7   \n",
       "\n",
       "   liveness  loudness  mode  speechiness    tempo  valence       genre  song  \\\n",
       "0     0.232    -6.143     1       0.0385  155.018    0.397  indie folk  Spun   \n",
       "\n",
       "                                    uri  \n",
       "0  spotify:track:6WgvvNUermK2Xad0jRPxXr  "
      ]
     },
     "execution_count": 11,
     "metadata": {},
     "output_type": "execute_result"
    }
   ],
   "source": [
    "new_track_df"
   ]
  },
  {
   "cell_type": "markdown",
   "metadata": {},
   "source": [
    "### Now we need to append the timbre aggregation values as new columns"
   ]
  },
  {
   "cell_type": "code",
   "execution_count": 12,
   "metadata": {},
   "outputs": [
    {
     "name": "stdout",
     "output_type": "stream",
     "text": [
      "CPU times: user 195 ms, sys: 13 ms, total: 208 ms\n",
      "Wall time: 1.6 s\n"
     ]
    }
   ],
   "source": [
    "%%time\n",
    "timbre_features = ['timbre_all_1', 'timbre_all_2',\n",
    "       'timbre_all_3', 'timbre_all_4', 'timbre_all_5', 'timbre_all_6',\n",
    "       'timbre_all_7', 'timbre_all_8', 'timbre_all_9', 'timbre_all_10',\n",
    "       'timbre_all_11', 'timbre_all_12']\n",
    "\n",
    "timbre_all_df = pd.DataFrame(index = range(len(new_track_df)), columns = timbre_features)\n",
    "\n",
    "curr_uri = new_track_df['uri'][0]\n",
    "curr_song = sp.audio_analysis(curr_uri)\n",
    "curr_segments = curr_song['segments'] #get into segments (time intervals). Each song diff length\n",
    "\n",
    "init_timbres_all = [[] for _ in range(12)] #initialize 12 lists for median (find median each list)\n",
    "\n",
    "for j in range(0, len(curr_segments)):\n",
    "        curr_timbres_list = curr_segments[j]['timbre'] #grab timbres as list\n",
    "        \n",
    "        init_timbres_all[0].append(curr_timbres_list[0])\n",
    "        init_timbres_all[1].append(curr_timbres_list[1])\n",
    "        init_timbres_all[2].append(curr_timbres_list[2])\n",
    "        init_timbres_all[3].append(curr_timbres_list[3])\n",
    "        init_timbres_all[4].append(curr_timbres_list[4])\n",
    "        init_timbres_all[5].append(curr_timbres_list[5])\n",
    "        init_timbres_all[6].append(curr_timbres_list[6])\n",
    "        init_timbres_all[7].append(curr_timbres_list[7])\n",
    "        init_timbres_all[8].append(curr_timbres_list[8])\n",
    "        init_timbres_all[9].append(curr_timbres_list[9])\n",
    "        init_timbres_all[10].append(curr_timbres_list[10])\n",
    "        init_timbres_all[11].append(curr_timbres_list[11])\n",
    "        \n",
    "timbre_all_df['timbre_all_1'][0] = init_timbres_all[0]\n",
    "timbre_all_df['timbre_all_2'][0] = init_timbres_all[1]\n",
    "timbre_all_df['timbre_all_3'][0] = init_timbres_all[2]\n",
    "timbre_all_df['timbre_all_4'][0] = init_timbres_all[3]\n",
    "timbre_all_df['timbre_all_5'][0] = init_timbres_all[4]\n",
    "timbre_all_df['timbre_all_6'][0] = init_timbres_all[5]\n",
    "timbre_all_df['timbre_all_7'][0] = init_timbres_all[6]\n",
    "timbre_all_df['timbre_all_8'][0] = init_timbres_all[7]\n",
    "timbre_all_df['timbre_all_9'][0] = init_timbres_all[8]\n",
    "timbre_all_df['timbre_all_10'][0] = init_timbres_all[9]\n",
    "timbre_all_df['timbre_all_11'][0] = init_timbres_all[10]\n",
    "timbre_all_df['timbre_all_12'][0] = init_timbres_all[11]\n",
    "\n",
    "new_track_df = pd.concat([new_track_df, timbre_all_df], axis=1)\n",
    "j = 0\n",
    "for i in range(15, len(new_track_df.columns)):\n",
    "    current_column  = new_track_df.iloc[:,i]\n",
    "    new_track_df['mean_timbre{}'.format(j+1)] = current_column.apply(f_mean)\n",
    "    new_track_df['median_timbre{}'.format(j+1)] = current_column.apply(f_median)\n",
    "    new_track_df['std_timbre{}'.format(j+1)] = current_column.apply(f_std)\n",
    "    new_track_df['min_timbre{}'.format(j+1)] = current_column.apply(f_min)\n",
    "    new_track_df['max_timbre{}'.format(j+1)] = current_column.apply(f_max)\n",
    "    new_track_df['range_timbre{}'.format(j+1)] = new_track_df['max_timbre{}'.format(j+1)]-new_track_df['min_timbre{}'.format(j+1)]\n",
    "    new_track_df['80Percentile_timbre{}'.format(j+1)] = current_column.apply(f_80Percentile)\n",
    "    new_track_df['kurtosis_timbre{}'.format(j+1)] = current_column.apply(f_kurtosis)\n",
    "    new_track_df['skewness_timbre{}'.format(j+1)] = current_column.apply(f_skew)\n",
    "    j += 1"
   ]
  },
  {
   "cell_type": "code",
   "execution_count": 13,
   "metadata": {},
   "outputs": [
    {
     "data": {
      "text/html": [
       "<div>\n",
       "<style scoped>\n",
       "    .dataframe tbody tr th:only-of-type {\n",
       "        vertical-align: middle;\n",
       "    }\n",
       "\n",
       "    .dataframe tbody tr th {\n",
       "        vertical-align: top;\n",
       "    }\n",
       "\n",
       "    .dataframe thead th {\n",
       "        text-align: right;\n",
       "    }\n",
       "</style>\n",
       "<table border=\"1\" class=\"dataframe\">\n",
       "  <thead>\n",
       "    <tr style=\"text-align: right;\">\n",
       "      <th></th>\n",
       "      <th>acousticness</th>\n",
       "      <th>danceability</th>\n",
       "      <th>duration_ms</th>\n",
       "      <th>energy</th>\n",
       "      <th>instrumentalness</th>\n",
       "      <th>key</th>\n",
       "      <th>liveness</th>\n",
       "      <th>loudness</th>\n",
       "      <th>mode</th>\n",
       "      <th>speechiness</th>\n",
       "      <th>...</th>\n",
       "      <th>skewness_timbre11</th>\n",
       "      <th>mean_timbre12</th>\n",
       "      <th>median_timbre12</th>\n",
       "      <th>std_timbre12</th>\n",
       "      <th>min_timbre12</th>\n",
       "      <th>max_timbre12</th>\n",
       "      <th>range_timbre12</th>\n",
       "      <th>80Percentile_timbre12</th>\n",
       "      <th>kurtosis_timbre12</th>\n",
       "      <th>skewness_timbre12</th>\n",
       "    </tr>\n",
       "  </thead>\n",
       "  <tbody>\n",
       "    <tr>\n",
       "      <th>0</th>\n",
       "      <td>0.00262</td>\n",
       "      <td>0.424</td>\n",
       "      <td>205613</td>\n",
       "      <td>0.851</td>\n",
       "      <td>0.000022</td>\n",
       "      <td>7</td>\n",
       "      <td>0.232</td>\n",
       "      <td>-6.143</td>\n",
       "      <td>1</td>\n",
       "      <td>0.0385</td>\n",
       "      <td>...</td>\n",
       "      <td>0.045619</td>\n",
       "      <td>-4.902242</td>\n",
       "      <td>-4.628</td>\n",
       "      <td>16.111457</td>\n",
       "      <td>-54.198</td>\n",
       "      <td>48.012</td>\n",
       "      <td>102.21</td>\n",
       "      <td>7.587</td>\n",
       "      <td>0.107498</td>\n",
       "      <td>-0.123576</td>\n",
       "    </tr>\n",
       "  </tbody>\n",
       "</table>\n",
       "<p>1 rows × 135 columns</p>\n",
       "</div>"
      ],
      "text/plain": [
       "   acousticness  danceability  duration_ms  energy  instrumentalness  key  \\\n",
       "0       0.00262         0.424       205613   0.851          0.000022    7   \n",
       "\n",
       "   liveness  loudness  mode  speechiness        ...         skewness_timbre11  \\\n",
       "0     0.232    -6.143     1       0.0385        ...                  0.045619   \n",
       "\n",
       "   mean_timbre12 median_timbre12 std_timbre12 min_timbre12 max_timbre12  \\\n",
       "0      -4.902242          -4.628    16.111457      -54.198       48.012   \n",
       "\n",
       "  range_timbre12 80Percentile_timbre12 kurtosis_timbre12 skewness_timbre12  \n",
       "0         102.21                 7.587          0.107498         -0.123576  \n",
       "\n",
       "[1 rows x 135 columns]"
      ]
     },
     "execution_count": 13,
     "metadata": {},
     "output_type": "execute_result"
    }
   ],
   "source": [
    "new_track_df.head(2)"
   ]
  },
  {
   "cell_type": "markdown",
   "metadata": {},
   "source": [
    "### We have the clean test row now. Use: random_forest_model from pkl files"
   ]
  },
  {
   "cell_type": "code",
   "execution_count": 14,
   "metadata": {},
   "outputs": [],
   "source": [
    "local_output = ['ee', 'br',\n",
    "       'my', 'cz', 'pe', 'gb', 'ie', 'se', 'sk', 'co', 'sg', 'ec', 'es', 'no',\n",
    "       'dk', 'be', 'lu', 'do', 'nz', 'de', 'hu', 'cr', 'jp', 'hk', 'lt', 'pl',\n",
    "       'it', 'hn', 'mx', 'ph', 'cl', 'is', 'ca', 'ar', 'at', 'ch', 'tr', 'py',\n",
    "       'tw', 'gt', 'sv', 'us', 'fr', 'global', 'nl', 'bo', 'lv', 'gr', 'pa',\n",
    "       'uy', 'au', 'pt', 'fi']"
   ]
  },
  {
   "cell_type": "code",
   "execution_count": 15,
   "metadata": {},
   "outputs": [
    {
     "name": "stdout",
     "output_type": "stream",
     "text": [
      "CPU times: user 5.22 s, sys: 383 ms, total: 5.6 s\n",
      "Wall time: 5.75 s\n"
     ]
    }
   ],
   "source": [
    "%%time\n",
    "model_list = []\n",
    "for i in local_output:\n",
    "    model_list.append(joblib.load('{}_model.pkl'.format(i)))"
   ]
  },
  {
   "cell_type": "code",
   "execution_count": 16,
   "metadata": {},
   "outputs": [],
   "source": [
    "rel_features = ['median_timbre4', 'range_timbre7', '80Percentile_timbre9',\n",
    "       'skewness_timbre3', '80Percentile_timbre3',\n",
    "       '80Percentile_timbre11', 'range_timbre5', 'min_timbre2',\n",
    "       'skewness_timbre4', 'mean_timbre8', 'mean_timbre7',\n",
    "       'median_timbre12', 'min_timbre5', 'kurtosis_timbre9',\n",
    "       'std_timbre5', 'skewness_timbre7', 'range_timbre6',\n",
    "       'median_timbre9', 'loudness', 'kurtosis_timbre1', 'liveness',\n",
    "       'min_timbre9', '80Percentile_timbre10', 'min_timbre8',\n",
    "       'kurtosis_timbre11', '80Percentile_timbre8', 'valence',\n",
    "       'max_timbre8', 'speechiness', 'kurtosis_timbre10',\n",
    "       'range_timbre11', 'skewness_timbre1', 'min_timbre11',\n",
    "       'mean_timbre1', 'mean_timbre2', 'kurtosis_timbre12',\n",
    "       '80Percentile_timbre1', 'range_timbre1', 'kurtosis_timbre5',\n",
    "       'std_timbre1', 'instrumentalness', 'min_timbre7', 'std_timbre7',\n",
    "       'danceability', '80Percentile_timbre4', 'energy',\n",
    "       'skewness_timbre11', 'std_timbre8', 'min_timbre6',\n",
    "       'kurtosis_timbre4', 'mean_timbre9', 'skewness_timbre2',\n",
    "       '80Percentile_timbre2', 'duration_ms', 'kurtosis_timbre8',\n",
    "       'std_timbre6', 'range_timbre3', 'std_timbre9', 'max_timbre2',\n",
    "       'std_timbre10']"
   ]
  },
  {
   "cell_type": "code",
   "execution_count": 17,
   "metadata": {},
   "outputs": [],
   "source": [
    "#df_features = new_track_df[rel_features]"
   ]
  },
  {
   "cell_type": "code",
   "execution_count": 18,
   "metadata": {},
   "outputs": [],
   "source": [
    "new_track_df = new_track_df[new_track_df.columns.difference(['timbre_all_1', 'timbre_all_2', 'timbre_all_3', \n",
    "                                                             'timbre_all_4', 'timbre_all_5', 'timbre_all_6',\n",
    "                                                             'timbre_all_7', 'timbre_all_8', 'timbre_all_9', \n",
    "                                                             'timbre_all_10', 'timbre_all_11', 'timbre_all_12', \n",
    "                                                             'song', 'uri', 'genre'])]"
   ]
  },
  {
   "cell_type": "code",
   "execution_count": 19,
   "metadata": {},
   "outputs": [],
   "source": [
    "#X_norm = normalize(df_features)\n",
    "X_norm = normalize(new_track_df)"
   ]
  },
  {
   "cell_type": "markdown",
   "metadata": {},
   "source": [
    "local_output = ['ee', 'br',\n",
    "       'my', 'cz', 'pe', 'gb', 'ie', 'se', 'sk', 'co', 'sg', 'ec', 'es', 'no',\n",
    "       'dk', 'be', 'lu', 'do', 'nz', 'de', 'hu', 'cr', 'jp', 'hk', 'lt', 'pl',\n",
    "       'it', 'hn', 'mx', 'ph', 'cl', 'is', 'ca', 'ar', 'at', 'ch', 'tr', 'py',\n",
    "       'tw', 'gt', 'sv', 'us', 'fr', 'global', 'nl', 'bo', 'lv', 'gr', 'pa',\n",
    "       'uy', 'au', 'pt', 'fi']"
   ]
  },
  {
   "cell_type": "code",
   "execution_count": 20,
   "metadata": {},
   "outputs": [],
   "source": [
    "region_dict = {}\n",
    "for i in range(0, len(local_output)):\n",
    "    curr_country = local_output[i]\n",
    "    curr_model = model_list[i]\n",
    "    region_dict[curr_country] = curr_model.predict(X_norm)[0]"
   ]
  },
  {
   "cell_type": "code",
   "execution_count": 21,
   "metadata": {},
   "outputs": [
    {
     "name": "stdout",
     "output_type": "stream",
     "text": [
      "17.255165815353394\n"
     ]
    },
    {
     "data": {
      "text/plain": [
       "{'ar': True,\n",
       " 'at': True,\n",
       " 'au': False,\n",
       " 'be': True,\n",
       " 'bo': False,\n",
       " 'br': True,\n",
       " 'ca': True,\n",
       " 'ch': True,\n",
       " 'cl': True,\n",
       " 'co': True,\n",
       " 'cr': False,\n",
       " 'cz': True,\n",
       " 'de': False,\n",
       " 'dk': False,\n",
       " 'do': True,\n",
       " 'ec': True,\n",
       " 'ee': False,\n",
       " 'es': True,\n",
       " 'fi': False,\n",
       " 'fr': True,\n",
       " 'gb': False,\n",
       " 'global': True,\n",
       " 'gr': True,\n",
       " 'gt': True,\n",
       " 'hk': False,\n",
       " 'hn': True,\n",
       " 'hu': False,\n",
       " 'ie': True,\n",
       " 'is': False,\n",
       " 'it': True,\n",
       " 'jp': True,\n",
       " 'lt': True,\n",
       " 'lu': True,\n",
       " 'lv': True,\n",
       " 'mx': True,\n",
       " 'my': True,\n",
       " 'nl': True,\n",
       " 'no': False,\n",
       " 'nz': True,\n",
       " 'pa': True,\n",
       " 'pe': True,\n",
       " 'ph': True,\n",
       " 'pl': False,\n",
       " 'pt': False,\n",
       " 'py': True,\n",
       " 'se': True,\n",
       " 'sg': True,\n",
       " 'sk': False,\n",
       " 'sv': False,\n",
       " 'tr': True,\n",
       " 'tw': True,\n",
       " 'us': True,\n",
       " 'uy': True}"
      ]
     },
     "execution_count": 21,
     "metadata": {},
     "output_type": "execute_result"
    }
   ],
   "source": [
    "print(time.time() - start_time)\n",
    "region_dict"
   ]
  }
 ],
 "metadata": {
  "kernelspec": {
   "display_name": "Python 3",
   "language": "python",
   "name": "python3"
  },
  "language_info": {
   "codemirror_mode": {
    "name": "ipython",
    "version": 3
   },
   "file_extension": ".py",
   "mimetype": "text/x-python",
   "name": "python",
   "nbconvert_exporter": "python",
   "pygments_lexer": "ipython3",
   "version": "3.5.2"
  }
 },
 "nbformat": 4,
 "nbformat_minor": 2
}
