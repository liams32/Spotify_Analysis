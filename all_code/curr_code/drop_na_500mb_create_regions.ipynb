{
 "cells": [
  {
   "cell_type": "code",
   "execution_count": 1,
   "metadata": {},
   "outputs": [],
   "source": [
    "import spotipy\n",
    "import spotipy.oauth2\n",
    "import spotipy.util as util\n",
    "from spotipy.oauth2 import SpotifyClientCredentials\n",
    "import pandas as pd\n",
    "import numpy as np\n",
    "import statistics\n",
    "\n",
    "import time"
   ]
  },
  {
   "cell_type": "code",
   "execution_count": 2,
   "metadata": {},
   "outputs": [],
   "source": [
    "dat = pd.read_csv('rescrape_500mb_features_2.csv')"
   ]
  },
  {
   "cell_type": "code",
   "execution_count": 6,
   "metadata": {},
   "outputs": [],
   "source": [
    "#print(dat.shape)\n",
    "#dat = dat.dropna()\n",
    "#dat.shape"
   ]
  },
  {
   "cell_type": "code",
   "execution_count": 7,
   "metadata": {},
   "outputs": [
    {
     "data": {
      "text/html": [
       "<div>\n",
       "<style scoped>\n",
       "    .dataframe tbody tr th:only-of-type {\n",
       "        vertical-align: middle;\n",
       "    }\n",
       "\n",
       "    .dataframe tbody tr th {\n",
       "        vertical-align: top;\n",
       "    }\n",
       "\n",
       "    .dataframe thead th {\n",
       "        text-align: right;\n",
       "    }\n",
       "</style>\n",
       "<table border=\"1\" class=\"dataframe\">\n",
       "  <thead>\n",
       "    <tr style=\"text-align: right;\">\n",
       "      <th></th>\n",
       "      <th>Unnamed: 0</th>\n",
       "      <th>Unnamed: 0.1</th>\n",
       "      <th>Position</th>\n",
       "      <th>Track Name</th>\n",
       "      <th>Artist</th>\n",
       "      <th>Streams</th>\n",
       "      <th>URL</th>\n",
       "      <th>Date</th>\n",
       "      <th>Region</th>\n",
       "      <th>acousticness</th>\n",
       "      <th>...</th>\n",
       "      <th>liveness</th>\n",
       "      <th>loudness</th>\n",
       "      <th>mode</th>\n",
       "      <th>speechiness</th>\n",
       "      <th>tempo</th>\n",
       "      <th>time_signature</th>\n",
       "      <th>track_href</th>\n",
       "      <th>type</th>\n",
       "      <th>uri</th>\n",
       "      <th>valence</th>\n",
       "    </tr>\n",
       "  </thead>\n",
       "  <tbody>\n",
       "    <tr>\n",
       "      <th>0</th>\n",
       "      <td>0</td>\n",
       "      <td>0</td>\n",
       "      <td>1</td>\n",
       "      <td>Reggaetón Lento (Bailemos)</td>\n",
       "      <td>CNCO</td>\n",
       "      <td>19272</td>\n",
       "      <td>https://open.spotify.com/track/3AEZUABDXNtecAO...</td>\n",
       "      <td>2017-01-01</td>\n",
       "      <td>ec</td>\n",
       "      <td>0.400</td>\n",
       "      <td>...</td>\n",
       "      <td>0.176</td>\n",
       "      <td>-3.073</td>\n",
       "      <td>0.0</td>\n",
       "      <td>0.0502</td>\n",
       "      <td>93.974</td>\n",
       "      <td>4.0</td>\n",
       "      <td>https://api.spotify.com/v1/tracks/3AEZUABDXNte...</td>\n",
       "      <td>audio_features</td>\n",
       "      <td>spotify:track:3AEZUABDXNtecAOSC1qTfo</td>\n",
       "      <td>0.710</td>\n",
       "    </tr>\n",
       "    <tr>\n",
       "      <th>1</th>\n",
       "      <td>1</td>\n",
       "      <td>1</td>\n",
       "      <td>2</td>\n",
       "      <td>Chantaje</td>\n",
       "      <td>Shakira</td>\n",
       "      <td>19270</td>\n",
       "      <td>https://open.spotify.com/track/6mICuAdrwEjh6Y6...</td>\n",
       "      <td>2017-01-01</td>\n",
       "      <td>ec</td>\n",
       "      <td>0.187</td>\n",
       "      <td>...</td>\n",
       "      <td>0.159</td>\n",
       "      <td>-2.921</td>\n",
       "      <td>0.0</td>\n",
       "      <td>0.0776</td>\n",
       "      <td>102.034</td>\n",
       "      <td>4.0</td>\n",
       "      <td>https://api.spotify.com/v1/tracks/6mICuAdrwEjh...</td>\n",
       "      <td>audio_features</td>\n",
       "      <td>spotify:track:6mICuAdrwEjh6Y6lroV2Kg</td>\n",
       "      <td>0.907</td>\n",
       "    </tr>\n",
       "  </tbody>\n",
       "</table>\n",
       "<p>2 rows × 27 columns</p>\n",
       "</div>"
      ],
      "text/plain": [
       "   Unnamed: 0  Unnamed: 0.1  Position                  Track Name   Artist  \\\n",
       "0           0             0         1  Reggaetón Lento (Bailemos)     CNCO   \n",
       "1           1             1         2                    Chantaje  Shakira   \n",
       "\n",
       "   Streams                                                URL        Date  \\\n",
       "0    19272  https://open.spotify.com/track/3AEZUABDXNtecAO...  2017-01-01   \n",
       "1    19270  https://open.spotify.com/track/6mICuAdrwEjh6Y6...  2017-01-01   \n",
       "\n",
       "  Region  acousticness   ...    liveness  loudness  mode  speechiness  \\\n",
       "0     ec         0.400   ...       0.176    -3.073   0.0       0.0502   \n",
       "1     ec         0.187   ...       0.159    -2.921   0.0       0.0776   \n",
       "\n",
       "     tempo  time_signature                                         track_href  \\\n",
       "0   93.974             4.0  https://api.spotify.com/v1/tracks/3AEZUABDXNte...   \n",
       "1  102.034             4.0  https://api.spotify.com/v1/tracks/6mICuAdrwEjh...   \n",
       "\n",
       "             type                                   uri  valence  \n",
       "0  audio_features  spotify:track:3AEZUABDXNtecAOSC1qTfo    0.710  \n",
       "1  audio_features  spotify:track:6mICuAdrwEjh6Y6lroV2Kg    0.907  \n",
       "\n",
       "[2 rows x 27 columns]"
      ]
     },
     "execution_count": 7,
     "metadata": {},
     "output_type": "execute_result"
    }
   ],
   "source": [
    "dat.head(2)"
   ]
  },
  {
   "cell_type": "code",
   "execution_count": 3,
   "metadata": {},
   "outputs": [],
   "source": [
    "dat = dat.drop('Unnamed: 0', axis = 'columns')\n",
    "dat = dat.drop('Unnamed: 0.1', axis = 'columns')"
   ]
  },
  {
   "cell_type": "code",
   "execution_count": 21,
   "metadata": {},
   "outputs": [],
   "source": [
    "#dat_sample = dat.sample(n = 1500)"
   ]
  },
  {
   "cell_type": "code",
   "execution_count": 23,
   "metadata": {},
   "outputs": [
    {
     "data": {
      "text/plain": [
       "(1500, 25)"
      ]
     },
     "execution_count": 23,
     "metadata": {},
     "output_type": "execute_result"
    }
   ],
   "source": [
    "#dat_sample.shape"
   ]
  },
  {
   "cell_type": "code",
   "execution_count": 4,
   "metadata": {},
   "outputs": [
    {
     "data": {
      "text/plain": [
       "(3372790, 25)"
      ]
     },
     "execution_count": 4,
     "metadata": {},
     "output_type": "execute_result"
    }
   ],
   "source": [
    "dat.shape"
   ]
  },
  {
   "cell_type": "code",
   "execution_count": 5,
   "metadata": {},
   "outputs": [],
   "source": [
    "region_names = list(set(dat.Region))\n",
    "region_dict = {}\n",
    "for i in range(0, len(region_names)):\n",
    "    relevant_data = dat[dat.Region == region_names[i]] #subset data where region == relevant region\n",
    "    relevant_artists = list(set(relevant_data['Track Name'])) #set of artists for region\n",
    "    region_dict[region_names[i]] = relevant_artists   "
   ]
  },
  {
   "cell_type": "code",
   "execution_count": 7,
   "metadata": {},
   "outputs": [],
   "source": [
    "keys_list = list(region_dict.keys())\n",
    "for i in keys_list:\n",
    "    dat[i] = dat['Track Name'].isin(list(region_dict[i]))"
   ]
  },
  {
   "cell_type": "code",
   "execution_count": 8,
   "metadata": {},
   "outputs": [
    {
     "data": {
      "text/html": [
       "<div>\n",
       "<style scoped>\n",
       "    .dataframe tbody tr th:only-of-type {\n",
       "        vertical-align: middle;\n",
       "    }\n",
       "\n",
       "    .dataframe tbody tr th {\n",
       "        vertical-align: top;\n",
       "    }\n",
       "\n",
       "    .dataframe thead th {\n",
       "        text-align: right;\n",
       "    }\n",
       "</style>\n",
       "<table border=\"1\" class=\"dataframe\">\n",
       "  <thead>\n",
       "    <tr style=\"text-align: right;\">\n",
       "      <th></th>\n",
       "      <th>Position</th>\n",
       "      <th>Track Name</th>\n",
       "      <th>Artist</th>\n",
       "      <th>Streams</th>\n",
       "      <th>URL</th>\n",
       "      <th>Date</th>\n",
       "      <th>Region</th>\n",
       "      <th>acousticness</th>\n",
       "      <th>analysis_url</th>\n",
       "      <th>danceability</th>\n",
       "      <th>...</th>\n",
       "      <th>global</th>\n",
       "      <th>nl</th>\n",
       "      <th>bo</th>\n",
       "      <th>lv</th>\n",
       "      <th>gr</th>\n",
       "      <th>pa</th>\n",
       "      <th>uy</th>\n",
       "      <th>au</th>\n",
       "      <th>pt</th>\n",
       "      <th>fi</th>\n",
       "    </tr>\n",
       "  </thead>\n",
       "  <tbody>\n",
       "    <tr>\n",
       "      <th>0</th>\n",
       "      <td>1</td>\n",
       "      <td>Reggaetón Lento (Bailemos)</td>\n",
       "      <td>CNCO</td>\n",
       "      <td>19272</td>\n",
       "      <td>https://open.spotify.com/track/3AEZUABDXNtecAO...</td>\n",
       "      <td>2017-01-01</td>\n",
       "      <td>ec</td>\n",
       "      <td>0.40000</td>\n",
       "      <td>https://api.spotify.com/v1/audio-analysis/3AEZ...</td>\n",
       "      <td>0.761</td>\n",
       "      <td>...</td>\n",
       "      <td>True</td>\n",
       "      <td>True</td>\n",
       "      <td>True</td>\n",
       "      <td>False</td>\n",
       "      <td>False</td>\n",
       "      <td>True</td>\n",
       "      <td>True</td>\n",
       "      <td>False</td>\n",
       "      <td>True</td>\n",
       "      <td>False</td>\n",
       "    </tr>\n",
       "    <tr>\n",
       "      <th>1</th>\n",
       "      <td>2</td>\n",
       "      <td>Chantaje</td>\n",
       "      <td>Shakira</td>\n",
       "      <td>19270</td>\n",
       "      <td>https://open.spotify.com/track/6mICuAdrwEjh6Y6...</td>\n",
       "      <td>2017-01-01</td>\n",
       "      <td>ec</td>\n",
       "      <td>0.18700</td>\n",
       "      <td>https://api.spotify.com/v1/audio-analysis/6mIC...</td>\n",
       "      <td>0.852</td>\n",
       "      <td>...</td>\n",
       "      <td>True</td>\n",
       "      <td>True</td>\n",
       "      <td>True</td>\n",
       "      <td>True</td>\n",
       "      <td>True</td>\n",
       "      <td>True</td>\n",
       "      <td>True</td>\n",
       "      <td>True</td>\n",
       "      <td>True</td>\n",
       "      <td>True</td>\n",
       "    </tr>\n",
       "    <tr>\n",
       "      <th>2</th>\n",
       "      <td>3</td>\n",
       "      <td>Otra Vez (feat. J Balvin)</td>\n",
       "      <td>Zion &amp; Lennox</td>\n",
       "      <td>15761</td>\n",
       "      <td>https://open.spotify.com/track/3QwBODjSEzelZyV...</td>\n",
       "      <td>2017-01-01</td>\n",
       "      <td>ec</td>\n",
       "      <td>0.05590</td>\n",
       "      <td>https://api.spotify.com/v1/audio-analysis/3QwB...</td>\n",
       "      <td>0.832</td>\n",
       "      <td>...</td>\n",
       "      <td>True</td>\n",
       "      <td>False</td>\n",
       "      <td>True</td>\n",
       "      <td>False</td>\n",
       "      <td>False</td>\n",
       "      <td>True</td>\n",
       "      <td>True</td>\n",
       "      <td>False</td>\n",
       "      <td>True</td>\n",
       "      <td>False</td>\n",
       "    </tr>\n",
       "    <tr>\n",
       "      <th>3</th>\n",
       "      <td>4</td>\n",
       "      <td>Vente Pa' Ca</td>\n",
       "      <td>Ricky Martin</td>\n",
       "      <td>14954</td>\n",
       "      <td>https://open.spotify.com/track/7DM4BPaS7uofFul...</td>\n",
       "      <td>2017-01-01</td>\n",
       "      <td>ec</td>\n",
       "      <td>0.00431</td>\n",
       "      <td>https://api.spotify.com/v1/audio-analysis/7DM4...</td>\n",
       "      <td>0.663</td>\n",
       "      <td>...</td>\n",
       "      <td>True</td>\n",
       "      <td>True</td>\n",
       "      <td>True</td>\n",
       "      <td>False</td>\n",
       "      <td>False</td>\n",
       "      <td>True</td>\n",
       "      <td>True</td>\n",
       "      <td>False</td>\n",
       "      <td>True</td>\n",
       "      <td>False</td>\n",
       "    </tr>\n",
       "    <tr>\n",
       "      <th>4</th>\n",
       "      <td>5</td>\n",
       "      <td>Safari</td>\n",
       "      <td>J Balvin</td>\n",
       "      <td>14269</td>\n",
       "      <td>https://open.spotify.com/track/6rQSrBHf7HlZjtc...</td>\n",
       "      <td>2017-01-01</td>\n",
       "      <td>ec</td>\n",
       "      <td>0.55100</td>\n",
       "      <td>https://api.spotify.com/v1/audio-analysis/6rQS...</td>\n",
       "      <td>0.508</td>\n",
       "      <td>...</td>\n",
       "      <td>True</td>\n",
       "      <td>True</td>\n",
       "      <td>True</td>\n",
       "      <td>False</td>\n",
       "      <td>False</td>\n",
       "      <td>True</td>\n",
       "      <td>True</td>\n",
       "      <td>False</td>\n",
       "      <td>True</td>\n",
       "      <td>False</td>\n",
       "    </tr>\n",
       "  </tbody>\n",
       "</table>\n",
       "<p>5 rows × 78 columns</p>\n",
       "</div>"
      ],
      "text/plain": [
       "   Position                  Track Name         Artist  Streams  \\\n",
       "0         1  Reggaetón Lento (Bailemos)           CNCO    19272   \n",
       "1         2                    Chantaje        Shakira    19270   \n",
       "2         3   Otra Vez (feat. J Balvin)  Zion & Lennox    15761   \n",
       "3         4                Vente Pa' Ca   Ricky Martin    14954   \n",
       "4         5                      Safari       J Balvin    14269   \n",
       "\n",
       "                                                 URL        Date Region  \\\n",
       "0  https://open.spotify.com/track/3AEZUABDXNtecAO...  2017-01-01     ec   \n",
       "1  https://open.spotify.com/track/6mICuAdrwEjh6Y6...  2017-01-01     ec   \n",
       "2  https://open.spotify.com/track/3QwBODjSEzelZyV...  2017-01-01     ec   \n",
       "3  https://open.spotify.com/track/7DM4BPaS7uofFul...  2017-01-01     ec   \n",
       "4  https://open.spotify.com/track/6rQSrBHf7HlZjtc...  2017-01-01     ec   \n",
       "\n",
       "   acousticness                                       analysis_url  \\\n",
       "0       0.40000  https://api.spotify.com/v1/audio-analysis/3AEZ...   \n",
       "1       0.18700  https://api.spotify.com/v1/audio-analysis/6mIC...   \n",
       "2       0.05590  https://api.spotify.com/v1/audio-analysis/3QwB...   \n",
       "3       0.00431  https://api.spotify.com/v1/audio-analysis/7DM4...   \n",
       "4       0.55100  https://api.spotify.com/v1/audio-analysis/6rQS...   \n",
       "\n",
       "   danceability  ...    global     nl    bo     lv     gr    pa    uy     au  \\\n",
       "0         0.761  ...      True   True  True  False  False  True  True  False   \n",
       "1         0.852  ...      True   True  True   True   True  True  True   True   \n",
       "2         0.832  ...      True  False  True  False  False  True  True  False   \n",
       "3         0.663  ...      True   True  True  False  False  True  True  False   \n",
       "4         0.508  ...      True   True  True  False  False  True  True  False   \n",
       "\n",
       "     pt     fi  \n",
       "0  True  False  \n",
       "1  True   True  \n",
       "2  True  False  \n",
       "3  True  False  \n",
       "4  True  False  \n",
       "\n",
       "[5 rows x 78 columns]"
      ]
     },
     "execution_count": 8,
     "metadata": {},
     "output_type": "execute_result"
    }
   ],
   "source": [
    "dat.head(5)"
   ]
  },
  {
   "cell_type": "code",
   "execution_count": 9,
   "metadata": {},
   "outputs": [
    {
     "data": {
      "text/plain": [
       "(3372790, 78)"
      ]
     },
     "execution_count": 9,
     "metadata": {},
     "output_type": "execute_result"
    }
   ],
   "source": [
    "dat.shape"
   ]
  },
  {
   "cell_type": "code",
   "execution_count": null,
   "metadata": {},
   "outputs": [],
   "source": [
    "dat.to_csv('regions_500mb_no_timbres.csv') "
   ]
  },
  {
   "cell_type": "code",
   "execution_count": null,
   "metadata": {},
   "outputs": [],
   "source": []
  }
 ],
 "metadata": {
  "kernelspec": {
   "display_name": "Python 3",
   "language": "python",
   "name": "python3"
  },
  "language_info": {
   "codemirror_mode": {
    "name": "ipython",
    "version": 3
   },
   "file_extension": ".py",
   "mimetype": "text/x-python",
   "name": "python",
   "nbconvert_exporter": "python",
   "pygments_lexer": "ipython3",
   "version": "3.5.2"
  }
 },
 "nbformat": 4,
 "nbformat_minor": 2
}
