{
 "cells": [
  {
   "cell_type": "code",
   "execution_count": 1,
   "metadata": {},
   "outputs": [],
   "source": [
    "import spotipy\n",
    "import spotipy.oauth2\n",
    "import spotipy.util as util\n",
    "import pandas as pd\n",
    "import numpy as np"
   ]
  },
  {
   "cell_type": "code",
   "execution_count": 2,
   "metadata": {},
   "outputs": [],
   "source": [
    "dat = pd.read_csv('top_all_time.csv')"
   ]
  },
  {
   "cell_type": "code",
   "execution_count": 3,
   "metadata": {},
   "outputs": [],
   "source": [
    "world = pd.read_csv('worldwide.csv')"
   ]
  },
  {
   "cell_type": "code",
   "execution_count": 4,
   "metadata": {},
   "outputs": [
    {
     "data": {
      "text/plain": [
       "(3441197, 7)"
      ]
     },
     "execution_count": 4,
     "metadata": {},
     "output_type": "execute_result"
    }
   ],
   "source": [
    "world.shape"
   ]
  },
  {
   "cell_type": "code",
   "execution_count": 5,
   "metadata": {},
   "outputs": [],
   "source": [
    "w_no_na = world.dropna()"
   ]
  },
  {
   "cell_type": "code",
   "execution_count": 6,
   "metadata": {},
   "outputs": [
    {
     "data": {
      "text/plain": [
       "(3440540, 7)"
      ]
     },
     "execution_count": 6,
     "metadata": {},
     "output_type": "execute_result"
    }
   ],
   "source": [
    "w_no_na.shape"
   ]
  },
  {
   "cell_type": "code",
   "execution_count": 7,
   "metadata": {},
   "outputs": [
    {
     "data": {
      "text/plain": [
       "657"
      ]
     },
     "execution_count": 7,
     "metadata": {},
     "output_type": "execute_result"
    }
   ],
   "source": [
    "3441197 - 3440540"
   ]
  },
  {
   "cell_type": "code",
   "execution_count": 8,
   "metadata": {},
   "outputs": [
    {
     "data": {
      "text/plain": [
       "Index(['Position', 'Track Name', 'Artist', 'Streams', 'URL', 'Date', 'Region'], dtype='object')"
      ]
     },
     "execution_count": 8,
     "metadata": {},
     "output_type": "execute_result"
    }
   ],
   "source": [
    "w_no_na.columns"
   ]
  },
  {
   "cell_type": "code",
   "execution_count": 34,
   "metadata": {},
   "outputs": [
    {
     "name": "stdout",
     "output_type": "stream",
     "text": [
      "54\n"
     ]
    },
    {
     "data": {
      "text/plain": [
       "['sv', 'cr', 'de', 'co', 'dk', 'at', 'pa', 'es', 'gb']"
      ]
     },
     "execution_count": 34,
     "metadata": {},
     "output_type": "execute_result"
    }
   ],
   "source": [
    "region_names = list(set(w_no_na.Region))\n",
    "print(len(region_names))\n",
    "\n",
    "region_names[0:9]"
   ]
  },
  {
   "cell_type": "code",
   "execution_count": 16,
   "metadata": {},
   "outputs": [],
   "source": [
    "region_dict = {}"
   ]
  },
  {
   "cell_type": "code",
   "execution_count": 22,
   "metadata": {},
   "outputs": [],
   "source": [
    "blahds = w_no_na[w_no_na.Region == region_names[0]]"
   ]
  },
  {
   "cell_type": "code",
   "execution_count": 23,
   "metadata": {},
   "outputs": [
    {
     "data": {
      "text/plain": [
       "38878"
      ]
     },
     "execution_count": 23,
     "metadata": {},
     "output_type": "execute_result"
    }
   ],
   "source": [
    "len(blahds)"
   ]
  },
  {
   "cell_type": "code",
   "execution_count": 31,
   "metadata": {},
   "outputs": [
    {
     "data": {
      "text/plain": [
       "'Bonita - Remix'"
      ]
     },
     "execution_count": 31,
     "metadata": {},
     "output_type": "execute_result"
    }
   ],
   "source": [
    "list(set(blahds['Track Name']))[0]"
   ]
  },
  {
   "cell_type": "code",
   "execution_count": 32,
   "metadata": {},
   "outputs": [],
   "source": [
    "for i in range(0, len(region_names)):\n",
    "    relevant_data = w_no_na[w_no_na.Region == region_names[i]] #subset data where region == relevant region\n",
    "    relevant_artists = list(set(relevant_data['Track Name'])) #set of artists for region\n",
    "    region_dict[region_names[i]] = relevant_artists    "
   ]
  },
  {
   "cell_type": "code",
   "execution_count": 46,
   "metadata": {},
   "outputs": [
    {
     "data": {
      "text/html": [
       "<div>\n",
       "<style>\n",
       "    .dataframe thead tr:only-child th {\n",
       "        text-align: right;\n",
       "    }\n",
       "\n",
       "    .dataframe thead th {\n",
       "        text-align: left;\n",
       "    }\n",
       "\n",
       "    .dataframe tbody tr th {\n",
       "        vertical-align: top;\n",
       "    }\n",
       "</style>\n",
       "<table border=\"1\" class=\"dataframe\">\n",
       "  <thead>\n",
       "    <tr style=\"text-align: right;\">\n",
       "      <th></th>\n",
       "      <th>Position</th>\n",
       "      <th>Track Name</th>\n",
       "      <th>Artist</th>\n",
       "      <th>Streams</th>\n",
       "      <th>URL</th>\n",
       "      <th>Date</th>\n",
       "      <th>Region</th>\n",
       "    </tr>\n",
       "  </thead>\n",
       "  <tbody>\n",
       "    <tr>\n",
       "      <th>684599</th>\n",
       "      <td>1</td>\n",
       "      <td>Starboy</td>\n",
       "      <td>The Weeknd</td>\n",
       "      <td>1950</td>\n",
       "      <td>https://open.spotify.com/track/5aAx2yezTd8zXrk...</td>\n",
       "      <td>2017-01-01</td>\n",
       "      <td>ee</td>\n",
       "    </tr>\n",
       "    <tr>\n",
       "      <th>684600</th>\n",
       "      <td>2</td>\n",
       "      <td>Tuesday</td>\n",
       "      <td>Burak Yeter</td>\n",
       "      <td>1727</td>\n",
       "      <td>https://open.spotify.com/track/7abpmGpF7PGep2r...</td>\n",
       "      <td>2017-01-01</td>\n",
       "      <td>ee</td>\n",
       "    </tr>\n",
       "    <tr>\n",
       "      <th>684601</th>\n",
       "      <td>3</td>\n",
       "      <td>Closer</td>\n",
       "      <td>The Chainsmokers</td>\n",
       "      <td>1692</td>\n",
       "      <td>https://open.spotify.com/track/7BKLCZ1jbUBVqRi...</td>\n",
       "      <td>2017-01-01</td>\n",
       "      <td>ee</td>\n",
       "    </tr>\n",
       "    <tr>\n",
       "      <th>684602</th>\n",
       "      <td>4</td>\n",
       "      <td>Alone</td>\n",
       "      <td>Alan Walker</td>\n",
       "      <td>1649</td>\n",
       "      <td>https://open.spotify.com/track/0JiVRyTJcJnmlwC...</td>\n",
       "      <td>2017-01-01</td>\n",
       "      <td>ee</td>\n",
       "    </tr>\n",
       "    <tr>\n",
       "      <th>684603</th>\n",
       "      <td>5</td>\n",
       "      <td>Rockabye (feat. Sean Paul &amp; Anne-Marie)</td>\n",
       "      <td>Clean Bandit</td>\n",
       "      <td>1638</td>\n",
       "      <td>https://open.spotify.com/track/5knuzwU65gJK7IF...</td>\n",
       "      <td>2017-01-01</td>\n",
       "      <td>ee</td>\n",
       "    </tr>\n",
       "  </tbody>\n",
       "</table>\n",
       "</div>"
      ],
      "text/plain": [
       "        Position                               Track Name            Artist  \\\n",
       "684599         1                                  Starboy        The Weeknd   \n",
       "684600         2                                  Tuesday       Burak Yeter   \n",
       "684601         3                                   Closer  The Chainsmokers   \n",
       "684602         4                                    Alone       Alan Walker   \n",
       "684603         5  Rockabye (feat. Sean Paul & Anne-Marie)      Clean Bandit   \n",
       "\n",
       "        Streams                                                URL  \\\n",
       "684599     1950  https://open.spotify.com/track/5aAx2yezTd8zXrk...   \n",
       "684600     1727  https://open.spotify.com/track/7abpmGpF7PGep2r...   \n",
       "684601     1692  https://open.spotify.com/track/7BKLCZ1jbUBVqRi...   \n",
       "684602     1649  https://open.spotify.com/track/0JiVRyTJcJnmlwC...   \n",
       "684603     1638  https://open.spotify.com/track/5knuzwU65gJK7IF...   \n",
       "\n",
       "              Date Region  \n",
       "684599  2017-01-01     ee  \n",
       "684600  2017-01-01     ee  \n",
       "684601  2017-01-01     ee  \n",
       "684602  2017-01-01     ee  \n",
       "684603  2017-01-01     ee  "
      ]
     },
     "execution_count": 46,
     "metadata": {},
     "output_type": "execute_result"
    }
   ],
   "source": [
    "relevant_data.head(5)"
   ]
  },
  {
   "cell_type": "code",
   "execution_count": 59,
   "metadata": {},
   "outputs": [
    {
     "data": {
      "text/plain": [
       "0       True\n",
       "1       True\n",
       "2       True\n",
       "3      False\n",
       "4      False\n",
       "5      False\n",
       "6       True\n",
       "7      False\n",
       "8      False\n",
       "9      False\n",
       "10      True\n",
       "11      True\n",
       "12     False\n",
       "13     False\n",
       "14     False\n",
       "15      True\n",
       "16      True\n",
       "17     False\n",
       "18     False\n",
       "19     False\n",
       "20     False\n",
       "21      True\n",
       "22     False\n",
       "23     False\n",
       "24     False\n",
       "25     False\n",
       "26     False\n",
       "27      True\n",
       "28     False\n",
       "29     False\n",
       "       ...  \n",
       "519    False\n",
       "520     True\n",
       "521     True\n",
       "522    False\n",
       "523    False\n",
       "524    False\n",
       "525    False\n",
       "526    False\n",
       "527    False\n",
       "528    False\n",
       "529     True\n",
       "530     True\n",
       "531    False\n",
       "532    False\n",
       "533     True\n",
       "534    False\n",
       "535    False\n",
       "536    False\n",
       "537    False\n",
       "538     True\n",
       "539    False\n",
       "540    False\n",
       "541    False\n",
       "542    False\n",
       "543     True\n",
       "544    False\n",
       "545    False\n",
       "546    False\n",
       "547    False\n",
       "548    False\n",
       "Name: song, Length: 549, dtype: bool"
      ]
     },
     "execution_count": 59,
     "metadata": {},
     "output_type": "execute_result"
    }
   ],
   "source": [
    "dat.song.isin(list(relevant_data['Track Name']))"
   ]
  },
  {
   "cell_type": "code",
   "execution_count": 36,
   "metadata": {},
   "outputs": [
    {
     "name": "stdout",
     "output_type": "stream",
     "text": [
      "54\n",
      "dict_keys(['sv', 'cr', 'de', 'co', 'dk', 'at', 'pa', 'es', 'gb', 'sk', 'global', 'nl', 'br', 'cl', 'ec', 'lt', 'us', 'it', 'be', 'lu', 'gr', 'mx', 'uy', 'ca', 'jp', 'id', 'sg', 'tr', 'cz', 'lv', 'pe', 'ch', 'se', 'ar', 'gt', 'py', 'pl', 'ph', 'nz', 'fr', 'fi', 'hn', 'ie', 'do', 'no', 'hu', 'pt', 'is', 'bo', 'au', 'hk', 'tw', 'my', 'ee'])\n"
     ]
    }
   ],
   "source": [
    "print(len(region_dict))\n",
    "print(region_dict.keys())"
   ]
  },
  {
   "cell_type": "code",
   "execution_count": 44,
   "metadata": {},
   "outputs": [
    {
     "name": "stdout",
     "output_type": "stream",
     "text": [
      "sv\n"
     ]
    }
   ],
   "source": [
    "print(list(region_dict.keys())[0])\n",
    "keys_list = list(region_dict.keys())"
   ]
  },
  {
   "cell_type": "code",
   "execution_count": 62,
   "metadata": {},
   "outputs": [
    {
     "data": {
      "text/plain": [
       "0    True\n",
       "1    True\n",
       "2    True\n",
       "3    True\n",
       "4    True\n",
       "Name: song, dtype: bool"
      ]
     },
     "execution_count": 62,
     "metadata": {},
     "output_type": "execute_result"
    }
   ],
   "source": [
    "dat.song.isin(list(region_dict[keys_list[0]])).head()"
   ]
  },
  {
   "cell_type": "code",
   "execution_count": 63,
   "metadata": {},
   "outputs": [],
   "source": [
    "for i in keys_list:\n",
    "    dat[i] = dat.song.isin(list(region_dict[i]))"
   ]
  },
  {
   "cell_type": "code",
   "execution_count": 65,
   "metadata": {},
   "outputs": [
    {
     "data": {
      "text/plain": [
       "Index(['Unnamed: 0', 'acousticness', 'analysis_url', 'danceability',\n",
       "       'duration_ms', 'energy', 'id', 'instrumentalness', 'key', 'liveness',\n",
       "       'loudness', 'mode', 'speechiness', 'tempo', 'time_signature',\n",
       "       'track_href', 'type', 'uri', 'valence', 'popularity', 'song', 'artist',\n",
       "       'genre', 'sv', 'cr', 'de', 'co', 'dk', 'at', 'pa', 'es', 'gb', 'sk',\n",
       "       'global', 'nl', 'br', 'cl', 'ec', 'lt', 'us', 'it', 'be', 'lu', 'gr',\n",
       "       'mx', 'uy', 'ca', 'jp', 'sg', 'tr', 'cz', 'lv', 'pe', 'ch', 'se', 'ar',\n",
       "       'gt', 'py', 'pl', 'ph', 'nz', 'fr', 'fi', 'hn', 'ie', 'do', 'no', 'hu',\n",
       "       'pt', 'is', 'bo', 'au', 'hk', 'tw', 'my', 'ee'],\n",
       "      dtype='object')"
      ]
     },
     "execution_count": 65,
     "metadata": {},
     "output_type": "execute_result"
    }
   ],
   "source": [
    "dat.columns"
   ]
  },
  {
   "cell_type": "code",
   "execution_count": 66,
   "metadata": {},
   "outputs": [
    {
     "data": {
      "text/html": [
       "<div>\n",
       "<style>\n",
       "    .dataframe thead tr:only-child th {\n",
       "        text-align: right;\n",
       "    }\n",
       "\n",
       "    .dataframe thead th {\n",
       "        text-align: left;\n",
       "    }\n",
       "\n",
       "    .dataframe tbody tr th {\n",
       "        vertical-align: top;\n",
       "    }\n",
       "</style>\n",
       "<table border=\"1\" class=\"dataframe\">\n",
       "  <thead>\n",
       "    <tr style=\"text-align: right;\">\n",
       "      <th></th>\n",
       "      <th>Unnamed: 0</th>\n",
       "      <th>acousticness</th>\n",
       "      <th>analysis_url</th>\n",
       "      <th>danceability</th>\n",
       "      <th>duration_ms</th>\n",
       "      <th>energy</th>\n",
       "      <th>id</th>\n",
       "      <th>instrumentalness</th>\n",
       "      <th>key</th>\n",
       "      <th>liveness</th>\n",
       "      <th>...</th>\n",
       "      <th>no</th>\n",
       "      <th>hu</th>\n",
       "      <th>pt</th>\n",
       "      <th>is</th>\n",
       "      <th>bo</th>\n",
       "      <th>au</th>\n",
       "      <th>hk</th>\n",
       "      <th>tw</th>\n",
       "      <th>my</th>\n",
       "      <th>ee</th>\n",
       "    </tr>\n",
       "  </thead>\n",
       "  <tbody>\n",
       "    <tr>\n",
       "      <th>0</th>\n",
       "      <td>0</td>\n",
       "      <td>0.58100</td>\n",
       "      <td>https://api.spotify.com/v1/audio-analysis/7qiZ...</td>\n",
       "      <td>0.825</td>\n",
       "      <td>233713</td>\n",
       "      <td>0.652</td>\n",
       "      <td>True</td>\n",
       "      <td>0.00000</td>\n",
       "      <td>1</td>\n",
       "      <td>0.0931</td>\n",
       "      <td>...</td>\n",
       "      <td>True</td>\n",
       "      <td>True</td>\n",
       "      <td>True</td>\n",
       "      <td>True</td>\n",
       "      <td>True</td>\n",
       "      <td>True</td>\n",
       "      <td>True</td>\n",
       "      <td>True</td>\n",
       "      <td>True</td>\n",
       "      <td>True</td>\n",
       "    </tr>\n",
       "    <tr>\n",
       "      <th>1</th>\n",
       "      <td>1</td>\n",
       "      <td>0.00902</td>\n",
       "      <td>https://api.spotify.com/v1/audio-analysis/12VW...</td>\n",
       "      <td>0.785</td>\n",
       "      <td>173987</td>\n",
       "      <td>0.617</td>\n",
       "      <td>True</td>\n",
       "      <td>0.00246</td>\n",
       "      <td>1</td>\n",
       "      <td>0.3510</td>\n",
       "      <td>...</td>\n",
       "      <td>True</td>\n",
       "      <td>True</td>\n",
       "      <td>True</td>\n",
       "      <td>True</td>\n",
       "      <td>True</td>\n",
       "      <td>True</td>\n",
       "      <td>True</td>\n",
       "      <td>True</td>\n",
       "      <td>True</td>\n",
       "      <td>True</td>\n",
       "    </tr>\n",
       "    <tr>\n",
       "      <th>2</th>\n",
       "      <td>2</td>\n",
       "      <td>0.41500</td>\n",
       "      <td>https://api.spotify.com/v1/audio-analysis/7crM...</td>\n",
       "      <td>0.736</td>\n",
       "      <td>245507</td>\n",
       "      <td>0.541</td>\n",
       "      <td>True</td>\n",
       "      <td>0.00000</td>\n",
       "      <td>8</td>\n",
       "      <td>0.1100</td>\n",
       "      <td>...</td>\n",
       "      <td>True</td>\n",
       "      <td>True</td>\n",
       "      <td>True</td>\n",
       "      <td>True</td>\n",
       "      <td>True</td>\n",
       "      <td>True</td>\n",
       "      <td>True</td>\n",
       "      <td>True</td>\n",
       "      <td>True</td>\n",
       "      <td>True</td>\n",
       "    </tr>\n",
       "  </tbody>\n",
       "</table>\n",
       "<p>3 rows × 76 columns</p>\n",
       "</div>"
      ],
      "text/plain": [
       "   Unnamed: 0  acousticness  \\\n",
       "0           0       0.58100   \n",
       "1           1       0.00902   \n",
       "2           2       0.41500   \n",
       "\n",
       "                                        analysis_url  danceability  \\\n",
       "0  https://api.spotify.com/v1/audio-analysis/7qiZ...         0.825   \n",
       "1  https://api.spotify.com/v1/audio-analysis/12VW...         0.785   \n",
       "2  https://api.spotify.com/v1/audio-analysis/7crM...         0.736   \n",
       "\n",
       "   duration_ms  energy    id  instrumentalness  key  liveness  ...     no  \\\n",
       "0       233713   0.652  True           0.00000    1    0.0931  ...   True   \n",
       "1       173987   0.617  True           0.00246    1    0.3510  ...   True   \n",
       "2       245507   0.541  True           0.00000    8    0.1100  ...   True   \n",
       "\n",
       "     hu    pt    is    bo    au    hk    tw    my    ee  \n",
       "0  True  True  True  True  True  True  True  True  True  \n",
       "1  True  True  True  True  True  True  True  True  True  \n",
       "2  True  True  True  True  True  True  True  True  True  \n",
       "\n",
       "[3 rows x 76 columns]"
      ]
     },
     "execution_count": 66,
     "metadata": {},
     "output_type": "execute_result"
    }
   ],
   "source": [
    "dat.head(3)"
   ]
  },
  {
   "cell_type": "code",
   "execution_count": 67,
   "metadata": {},
   "outputs": [],
   "source": [
    "dat.to_csv('combined_all_countries_1.csv') #all columns "
   ]
  }
 ],
 "metadata": {
  "kernelspec": {
   "display_name": "Python 3",
   "language": "python",
   "name": "python3"
  },
  "language_info": {
   "codemirror_mode": {
    "name": "ipython",
    "version": 3
   },
   "file_extension": ".py",
   "mimetype": "text/x-python",
   "name": "python",
   "nbconvert_exporter": "python",
   "pygments_lexer": "ipython3",
   "version": "3.6.4"
  }
 },
 "nbformat": 4,
 "nbformat_minor": 2
}
