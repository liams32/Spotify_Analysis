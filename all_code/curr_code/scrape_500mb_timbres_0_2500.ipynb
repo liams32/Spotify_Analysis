{
 "cells": [
  {
   "cell_type": "code",
   "execution_count": 1,
   "metadata": {},
   "outputs": [],
   "source": [
    "import spotipy\n",
    "import spotipy.oauth2\n",
    "import spotipy.util as util\n",
    "from spotipy.oauth2 import SpotifyClientCredentials\n",
    "import pandas as pd\n",
    "import numpy as np\n",
    "import statistics\n",
    "\n",
    "import time"
   ]
  },
  {
   "cell_type": "code",
   "execution_count": 2,
   "metadata": {},
   "outputs": [],
   "source": [
    "CLIENT_ID = '23888f5deee6452db5d78bd2d1091da5'\n",
    "CLIENT_SECRET = 'f6ecea7a89d24b02b2c969745b88a9db'\n",
    "\n",
    "client_credentials_manager = SpotifyClientCredentials(CLIENT_ID, CLIENT_SECRET)\n",
    "sp = spotipy.Spotify(client_credentials_manager=client_credentials_manager)"
   ]
  },
  {
   "cell_type": "code",
   "execution_count": 3,
   "metadata": {},
   "outputs": [],
   "source": [
    "dat = pd.read_csv('all_uris.csv', header = None)"
   ]
  },
  {
   "cell_type": "code",
   "execution_count": 4,
   "metadata": {},
   "outputs": [],
   "source": [
    "dat.head(2)\n",
    "dat.columns = ['index', 'uri']"
   ]
  },
  {
   "cell_type": "code",
   "execution_count": 5,
   "metadata": {},
   "outputs": [],
   "source": [
    "dat = dat.drop('index', axis = 'columns')"
   ]
  },
  {
   "cell_type": "code",
   "execution_count": 6,
   "metadata": {},
   "outputs": [
    {
     "data": {
      "text/plain": [
       "(3372790, 1)"
      ]
     },
     "execution_count": 6,
     "metadata": {},
     "output_type": "execute_result"
    }
   ],
   "source": [
    "dat.shape"
   ]
  },
  {
   "cell_type": "code",
   "execution_count": 7,
   "metadata": {},
   "outputs": [],
   "source": [
    "new_dat = pd.DataFrame(columns = ['uri'])"
   ]
  },
  {
   "cell_type": "code",
   "execution_count": 8,
   "metadata": {},
   "outputs": [],
   "source": [
    "new_dat['uri'] = dat['uri'].unique()"
   ]
  },
  {
   "cell_type": "code",
   "execution_count": 9,
   "metadata": {},
   "outputs": [
    {
     "data": {
      "text/plain": [
       "True"
      ]
     },
     "execution_count": 9,
     "metadata": {},
     "output_type": "execute_result"
    }
   ],
   "source": [
    "len(new_dat['uri']) == len(dat['uri'].unique())"
   ]
  },
  {
   "cell_type": "code",
   "execution_count": null,
   "metadata": {},
   "outputs": [
    {
     "name": "stdout",
     "output_type": "stream",
     "text": [
      "0 3.5555825233459473\n",
      "1 3.314657211303711\n",
      "2 4.085737228393555\n",
      "3 8.495447874069214\n",
      "4 50.17091751098633\n",
      "5 3.068873405456543\n",
      "6 4.389866828918457\n",
      "7 7.166102170944214\n",
      "8 4.03302001953125\n",
      "9 2.926543712615967\n",
      "10 2.725066661834717\n",
      "11 2.9277431964874268\n",
      "12 1.7983167171478271\n",
      "13 1.8804359436035156\n",
      "14 2.335049629211426\n",
      "15 3.044011116027832\n",
      "16 1.6240146160125732\n",
      "17 3.869166374206543\n",
      "18 3.4136219024658203\n",
      "19 3.848331928253174\n",
      "20 3.5111653804779053\n",
      "21 1.8234162330627441\n",
      "22 2.16696834564209\n",
      "23 2.0826051235198975\n",
      "24 3.26556658744812\n",
      "25 2.474240303039551\n",
      "26 2.35981822013855\n",
      "27 2.1475350856781006\n",
      "28 1.6503071784973145\n",
      "29 2.033447504043579\n",
      "30 2.0948407649993896\n",
      "31 3.277660369873047\n",
      "32 5.158008575439453\n",
      "33 6.17751932144165\n",
      "34 5.6778082847595215\n",
      "35 3.7650561332702637\n",
      "36 3.323286533355713\n",
      "37 1.9432587623596191\n",
      "38 2.7072343826293945\n",
      "39 2.998952627182007\n",
      "40 3.2923450469970703\n",
      "41 2.6769773960113525\n",
      "42 2.357210159301758\n",
      "43 3.213315725326538\n",
      "44 5.771156311035156\n",
      "45 3.339496374130249\n",
      "46 2.5721383094787598\n",
      "47 4.1796555519104\n",
      "48 3.0330092906951904\n",
      "49 2.0629334449768066\n",
      "50 3.7730019092559814\n",
      "51 4.243596315383911\n",
      "52 3.6113662719726562\n",
      "53 1.9693992137908936\n",
      "54 2.4502267837524414\n",
      "55 4.133963346481323\n",
      "56 3.8405566215515137\n",
      "57 5.868405818939209\n",
      "58 4.572228908538818\n",
      "59 4.8591718673706055\n",
      "60 3.853533983230591\n",
      "61 4.469231367111206\n",
      "62 5.08573055267334\n",
      "63 5.522188425064087\n",
      "64 2.451340913772583\n",
      "65 1.952949047088623\n",
      "66 1.8903489112854004\n",
      "67 2.71834135055542\n",
      "68 8.432148694992065\n",
      "69 8.91391921043396\n",
      "70 3.2113704681396484\n",
      "71 2.530169725418091\n",
      "72 1.882932424545288\n",
      "73 2.87624454498291\n",
      "74 2.800882339477539\n",
      "75 2.185164451599121\n",
      "76 2.3874192237854004\n",
      "77 3.5566599369049072\n",
      "78 3.127321243286133\n",
      "79 8.191922664642334\n",
      "80 2.6024668216705322\n",
      "81 2.664335250854492\n",
      "82 2.0022377967834473\n",
      "83 7.529350280761719\n",
      "84 5.613989591598511\n",
      "85 5.067277193069458\n",
      "86 7.116245985031128\n",
      "87 4.948039770126343\n",
      "88 3.1054489612579346\n",
      "89 2.5108635425567627\n",
      "90 3.5950255393981934\n",
      "91 2.7718801498413086\n",
      "92 6.276817798614502\n",
      "93 3.753119945526123\n",
      "94 3.2769052982330322\n",
      "95 3.035806894302368\n",
      "96 2.6800177097320557\n",
      "97 2.9229915142059326\n",
      "98 2.471773862838745\n",
      "99 3.0793352127075195\n",
      "100 3.468754768371582\n",
      "101 4.86777138710022\n",
      "102 3.994262218475342\n",
      "103 4.356991291046143\n",
      "104 3.977731227874756\n",
      "105 2.9798152446746826\n",
      "106 3.609170913696289\n",
      "107 3.5773112773895264\n",
      "108 7.8167994022369385\n",
      "109 3.173370838165283\n",
      "110 9.254858493804932\n",
      "111 8.347948789596558\n",
      "112 5.150310039520264\n",
      "113 3.03538179397583\n",
      "114 2.797292709350586\n",
      "115 2.357394218444824\n",
      "116 4.989356756210327\n",
      "117 6.932921886444092\n",
      "118 3.938791513442993\n",
      "119 3.1620235443115234\n",
      "120 3.0330142974853516\n",
      "121 2.3449621200561523\n",
      "122 2.3677709102630615\n",
      "123 1.2505459785461426\n",
      "124 1.9800539016723633\n",
      "125 2.7651193141937256\n",
      "126 1.3297319412231445\n",
      "127 1.2548408508300781\n",
      "128 2.1082653999328613\n",
      "129 1.5972564220428467\n",
      "130 4.835424900054932\n",
      "131 3.197800636291504\n",
      "132 2.80430269241333\n",
      "133 9.24141526222229\n",
      "134 6.499391078948975\n",
      "135 4.044367074966431\n",
      "136 6.6368937492370605\n",
      "137 8.620194435119629\n"
     ]
    }
   ],
   "source": [
    "timbre_mean_labels = ['timbre_mean_1', 'timbre_mean_2', 'timbre_mean_3', 'timbre_mean_4', \n",
    "                 'timbre_mean_5', 'timbre_mean_6', 'timbre_mean_7',\n",
    "                 'timbre_mean_8', 'timbre_mean_9', 'timbre_mean_10', 'timbre_mean_11',\n",
    "                 'timbre_mean_12']\n",
    "\n",
    "timbre_median_labels = ['timbre_median_1', 'timbre_median_2', 'timbre_median_3', 'timbre_median_4', \n",
    "                 'timbre_median_5', 'timbre_median_6', 'timbre_median_7',\n",
    "                 'timbre_median_8', 'timbre_median_9', 'timbre_median_10', 'timbre_median_11',\n",
    "                 'timbre_median_12']\n",
    "\n",
    "timbre_all_labels = ['timbre_all_1', 'timbre_all_2', 'timbre_all_3', 'timbre_all_4', \n",
    "                 'timbre_all_5', 'timbre_all_6', 'timbre_all_7',\n",
    "                 'timbre_all_8', 'timbre_all_9', 'timbre_all_10', 'timbre_all_11',\n",
    "                 'timbre_all_12']\n",
    "\n",
    "timbre_mean_df = pd.DataFrame(columns = timbre_mean_labels)\n",
    "timbre_median_df = pd.DataFrame(columns = timbre_median_labels)\n",
    "timbre_all_df = pd.DataFrame(columns = timbre_all_labels)\n",
    "\n",
    "for i in range(0, 2501): #iterate through all uris\n",
    "    start_time = time.time()\n",
    "    curr_uri = new_dat['uri'][i]\n",
    "    curr_song = sp.audio_analysis(new_dat['uri'][i])\n",
    "    curr_segments = curr_song['segments'] #get into segments (time intervals). Each song diff length\n",
    "    \n",
    "    init_mean_timbres = pd.Series(np.repeat(0, 12)) #initialize timbre value holder for means\n",
    "    init_timbres_all = [[] for _ in range(12)] #initialize 12 lists for median (find median each list)\n",
    "    \n",
    "    for j in range(0, len(curr_segments)):\n",
    "        curr_timbres_list = curr_segments[j]['timbre'] #grab timbres as list\n",
    "        curr_timbres_series = pd.Series(curr_timbres_list) #we have to iterate through every segment\n",
    "        #print(curr_timbres)\n",
    "        init_mean_timbres += curr_timbres_series\n",
    "        \n",
    "        init_timbres_all[0].append(curr_timbres_list[0])\n",
    "        init_timbres_all[1].append(curr_timbres_list[1])\n",
    "        init_timbres_all[2].append(curr_timbres_list[2])\n",
    "        init_timbres_all[3].append(curr_timbres_list[3])\n",
    "        init_timbres_all[4].append(curr_timbres_list[4])\n",
    "        init_timbres_all[5].append(curr_timbres_list[5])\n",
    "        init_timbres_all[6].append(curr_timbres_list[6])\n",
    "        init_timbres_all[7].append(curr_timbres_list[7])\n",
    "        init_timbres_all[8].append(curr_timbres_list[8])\n",
    "        init_timbres_all[9].append(curr_timbres_list[9])\n",
    "        init_timbres_all[10].append(curr_timbres_list[10])\n",
    "        init_timbres_all[11].append(curr_timbres_list[11])\n",
    "        \n",
    "    init_mean_timbres = init_mean_timbres / len(curr_segments) #get mean\n",
    "    timbre_mean_df.loc[i] = init_mean_timbres.values\n",
    "    \n",
    "    timbre_median_df.loc[i, 0] = statistics.median(init_timbres_all[0])\n",
    "    timbre_median_df.loc[i, 1] = statistics.median(init_timbres_all[1])\n",
    "    timbre_median_df.loc[i, 2] = statistics.median(init_timbres_all[2])\n",
    "    timbre_median_df.loc[i, 3] = statistics.median(init_timbres_all[3])\n",
    "    timbre_median_df.loc[i, 4] = statistics.median(init_timbres_all[4])\n",
    "    timbre_median_df.loc[i, 5] = statistics.median(init_timbres_all[5])\n",
    "    timbre_median_df.loc[i, 6] = statistics.median(init_timbres_all[6])\n",
    "    timbre_median_df.loc[i, 7] = statistics.median(init_timbres_all[7])\n",
    "    timbre_median_df.loc[i, 8] = statistics.median(init_timbres_all[8])\n",
    "    timbre_median_df.loc[i, 9] = statistics.median(init_timbres_all[9])\n",
    "    timbre_median_df.loc[i, 10] = statistics.median(init_timbres_all[10])\n",
    "    timbre_median_df.loc[i, 11] = statistics.median(init_timbres_all[11])\n",
    "    \n",
    "    timbre_all_df.at[i, 'timbre_all_1'] = init_timbres_all[0]\n",
    "    timbre_all_df.at[i, 'timbre_all_2'] = init_timbres_all[1]\n",
    "    timbre_all_df.at[i, 'timbre_all_3'] = init_timbres_all[2]\n",
    "    timbre_all_df.at[i, 'timbre_all_4'] = init_timbres_all[3]\n",
    "    timbre_all_df.at[i, 'timbre_all_5'] = init_timbres_all[4]\n",
    "    timbre_all_df.at[i, 'timbre_all_6'] = init_timbres_all[5]\n",
    "    timbre_all_df.at[i, 'timbre_all_7'] = init_timbres_all[6]\n",
    "    timbre_all_df.at[i, 'timbre_all_8'] = init_timbres_all[7]\n",
    "    timbre_all_df.at[i, 'timbre_all_9'] = init_timbres_all[8]\n",
    "    timbre_all_df.at[i, 'timbre_all_10'] = init_timbres_all[9]\n",
    "    timbre_all_df.at[i, 'timbre_all_11'] = init_timbres_all[10]\n",
    "    timbre_all_df.at[i, 'timbre_all_12'] = init_timbres_all[11]\n",
    "    \n",
    "    print(i, time.time() - start_time)\n",
    "    #print(timbre_mean_df.tail(2))"
   ]
  },
  {
   "cell_type": "code",
   "execution_count": null,
   "metadata": {},
   "outputs": [],
   "source": []
  }
 ],
 "metadata": {
  "kernelspec": {
   "display_name": "Python 3",
   "language": "python",
   "name": "python3"
  },
  "language_info": {
   "codemirror_mode": {
    "name": "ipython",
    "version": 3
   },
   "file_extension": ".py",
   "mimetype": "text/x-python",
   "name": "python",
   "nbconvert_exporter": "python",
   "pygments_lexer": "ipython3",
   "version": "3.5.2"
  }
 },
 "nbformat": 4,
 "nbformat_minor": 2
}
