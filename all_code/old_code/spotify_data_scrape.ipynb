{
 "cells": [
  {
   "cell_type": "code",
   "execution_count": 1,
   "metadata": {
    "colab": {
     "autoexec": {
      "startup": false,
      "wait_interval": 0
     }
    },
    "colab_type": "code",
    "id": "3ZacKZv50QSz"
   },
   "outputs": [],
   "source": [
    "import spotipy\n",
    "import spotipy.oauth2\n",
    "import spotipy.util as util\n",
    "import pandas as pd\n",
    "import numpy as np"
   ]
  },
  {
   "cell_type": "code",
   "execution_count": 4,
   "metadata": {
    "colab": {
     "autoexec": {
      "startup": false,
      "wait_interval": 0
     }
    },
    "colab_type": "code",
    "id": "O7EBaFSW0QS-"
   },
   "outputs": [],
   "source": [
    "import os\n",
    "from json.decoder import JSONDecodeError\n",
    "username = 'rickypan'\n",
    "client_id = '23888f5deee6452db5d78bd2d1091da5'\n",
    "client_secret = '3913dc71d36b410699ce56ca2b66b9d2'\n",
    "redirect_uri = 'http://localhost:8080/callback/'\n",
    "scope = None"
   ]
  },
  {
   "cell_type": "code",
   "execution_count": 3,
   "metadata": {
    "colab": {
     "autoexec": {
      "startup": false,
      "wait_interval": 0
     }
    },
    "colab_type": "code",
    "id": "Z67bzTm20QTD"
   },
   "outputs": [
    {
     "name": "stdout",
     "output_type": "stream",
     "text": [
      "\n",
      "\n",
      "            User authentication requires interaction with your\n",
      "            web browser. Once you enter your credentials and\n",
      "            give authorization, you will be redirected to\n",
      "            a url.  Paste that url you were directed to to\n",
      "            complete the authorization.\n",
      "\n",
      "        \n",
      "Opened https://accounts.spotify.com/authorize?client_id=23888f5deee6452db5d78bd2d1091da5&response_type=code&redirect_uri=http%3A%2F%2Flocalhost%3A8080%2Fcallback%2F in your browser\n",
      "\n",
      "\n",
      "\n",
      "\n"
     ]
    },
    {
     "ename": "SpotifyOauthError",
     "evalue": "Bad Request",
     "output_type": "error",
     "traceback": [
      "\u001b[0;31m---------------------------------------------------------------------------\u001b[0m",
      "\u001b[0;31mSpotifyOauthError\u001b[0m                         Traceback (most recent call last)",
      "\u001b[0;32m<ipython-input-3-2aca574d72c1>\u001b[0m in \u001b[0;36m<module>\u001b[0;34m()\u001b[0m\n\u001b[1;32m      1\u001b[0m \u001b[0;32mtry\u001b[0m\u001b[0;34m:\u001b[0m\u001b[0;34m\u001b[0m\u001b[0m\n\u001b[0;32m----> 2\u001b[0;31m     \u001b[0mtoken\u001b[0m \u001b[0;34m=\u001b[0m \u001b[0mutil\u001b[0m\u001b[0;34m.\u001b[0m\u001b[0mprompt_for_user_token\u001b[0m\u001b[0;34m(\u001b[0m\u001b[0musername\u001b[0m\u001b[0;34m,\u001b[0m \u001b[0mscope\u001b[0m\u001b[0;34m,\u001b[0m \u001b[0mclient_id\u001b[0m\u001b[0;34m,\u001b[0m \u001b[0mclient_secret\u001b[0m\u001b[0;34m,\u001b[0m \u001b[0mredirect_uri\u001b[0m\u001b[0;34m)\u001b[0m\u001b[0;34m\u001b[0m\u001b[0m\n\u001b[0m\u001b[1;32m      3\u001b[0m \u001b[0;32mexcept\u001b[0m \u001b[0;34m(\u001b[0m\u001b[0mAttributeError\u001b[0m\u001b[0;34m,\u001b[0m \u001b[0mJSONDecodeError\u001b[0m\u001b[0;34m)\u001b[0m\u001b[0;34m:\u001b[0m\u001b[0;34m\u001b[0m\u001b[0m\n\u001b[1;32m      4\u001b[0m     \u001b[0mos\u001b[0m\u001b[0;34m.\u001b[0m\u001b[0mremove\u001b[0m\u001b[0;34m(\u001b[0m\u001b[0;34mf\".cache-{username}\"\u001b[0m\u001b[0;34m)\u001b[0m\u001b[0;34m\u001b[0m\u001b[0m\n\u001b[1;32m      5\u001b[0m     \u001b[0mtoken\u001b[0m \u001b[0;34m=\u001b[0m \u001b[0mutil\u001b[0m\u001b[0;34m.\u001b[0m\u001b[0mprompt_for_user_token\u001b[0m\u001b[0;34m(\u001b[0m\u001b[0musername\u001b[0m\u001b[0;34m,\u001b[0m \u001b[0mscope\u001b[0m\u001b[0;34m,\u001b[0m \u001b[0mclient_id\u001b[0m\u001b[0;34m,\u001b[0m \u001b[0mclient_secret\u001b[0m\u001b[0;34m,\u001b[0m \u001b[0mredirect_uri\u001b[0m\u001b[0;34m)\u001b[0m\u001b[0;34m\u001b[0m\u001b[0m\n",
      "\u001b[0;32m~/anaconda3/lib/python3.6/site-packages/spotipy/util.py\u001b[0m in \u001b[0;36mprompt_for_user_token\u001b[0;34m(username, scope, client_id, client_secret, redirect_uri)\u001b[0m\n\u001b[1;32m     84\u001b[0m \u001b[0;34m\u001b[0m\u001b[0m\n\u001b[1;32m     85\u001b[0m         \u001b[0mcode\u001b[0m \u001b[0;34m=\u001b[0m \u001b[0msp_oauth\u001b[0m\u001b[0;34m.\u001b[0m\u001b[0mparse_response_code\u001b[0m\u001b[0;34m(\u001b[0m\u001b[0mresponse\u001b[0m\u001b[0;34m)\u001b[0m\u001b[0;34m\u001b[0m\u001b[0m\n\u001b[0;32m---> 86\u001b[0;31m         \u001b[0mtoken_info\u001b[0m \u001b[0;34m=\u001b[0m \u001b[0msp_oauth\u001b[0m\u001b[0;34m.\u001b[0m\u001b[0mget_access_token\u001b[0m\u001b[0;34m(\u001b[0m\u001b[0mcode\u001b[0m\u001b[0;34m)\u001b[0m\u001b[0;34m\u001b[0m\u001b[0m\n\u001b[0m\u001b[1;32m     87\u001b[0m     \u001b[0;31m# Auth'ed API request\u001b[0m\u001b[0;34m\u001b[0m\u001b[0;34m\u001b[0m\u001b[0m\n\u001b[1;32m     88\u001b[0m     \u001b[0;32mif\u001b[0m \u001b[0mtoken_info\u001b[0m\u001b[0;34m:\u001b[0m\u001b[0;34m\u001b[0m\u001b[0m\n",
      "\u001b[0;32m~/anaconda3/lib/python3.6/site-packages/spotipy/oauth2.py\u001b[0m in \u001b[0;36mget_access_token\u001b[0;34m(self, code)\u001b[0m\n\u001b[1;32m    215\u001b[0m             headers=headers, verify=True, proxies=self.proxies)\n\u001b[1;32m    216\u001b[0m         \u001b[0;32mif\u001b[0m \u001b[0mresponse\u001b[0m\u001b[0;34m.\u001b[0m\u001b[0mstatus_code\u001b[0m \u001b[0;32mis\u001b[0m \u001b[0;32mnot\u001b[0m \u001b[0;36m200\u001b[0m\u001b[0;34m:\u001b[0m\u001b[0;34m\u001b[0m\u001b[0m\n\u001b[0;32m--> 217\u001b[0;31m             \u001b[0;32mraise\u001b[0m \u001b[0mSpotifyOauthError\u001b[0m\u001b[0;34m(\u001b[0m\u001b[0mresponse\u001b[0m\u001b[0;34m.\u001b[0m\u001b[0mreason\u001b[0m\u001b[0;34m)\u001b[0m\u001b[0;34m\u001b[0m\u001b[0m\n\u001b[0m\u001b[1;32m    218\u001b[0m         \u001b[0mtoken_info\u001b[0m \u001b[0;34m=\u001b[0m \u001b[0mresponse\u001b[0m\u001b[0;34m.\u001b[0m\u001b[0mjson\u001b[0m\u001b[0;34m(\u001b[0m\u001b[0;34m)\u001b[0m\u001b[0;34m\u001b[0m\u001b[0m\n\u001b[1;32m    219\u001b[0m         \u001b[0mtoken_info\u001b[0m \u001b[0;34m=\u001b[0m \u001b[0mself\u001b[0m\u001b[0;34m.\u001b[0m\u001b[0m_add_custom_values_to_token_info\u001b[0m\u001b[0;34m(\u001b[0m\u001b[0mtoken_info\u001b[0m\u001b[0;34m)\u001b[0m\u001b[0;34m\u001b[0m\u001b[0m\n",
      "\u001b[0;31mSpotifyOauthError\u001b[0m: Bad Request"
     ]
    }
   ],
   "source": [
    "#try:\n",
    " #   token = util.prompt_for_user_token(username, scope, client_id, client_secret, redirect_uri)\n",
    "#except (AttributeError, JSONDecodeError):\n",
    " #   os.remove(f\".cache-{username}\")\n",
    "  #  token = util.prompt_for_user_token(username, scope, client_id, client_secret, redirect_uri)"
   ]
  },
  {
   "cell_type": "code",
   "execution_count": 5,
   "metadata": {
    "colab": {
     "autoexec": {
      "startup": false,
      "wait_interval": 0
     }
    },
    "colab_type": "code",
    "id": "KI0JWrk20QTJ"
   },
   "outputs": [],
   "source": [
    "credentials = spotipy.oauth2.SpotifyClientCredentials(\n",
    "        client_id='23888f5deee6452db5d78bd2d1091da5',\n",
    "        client_secret='f6ecea7a89d24b02b2c969745b88a9db')\n",
    "\n",
    "token = credentials.get_access_token()"
   ]
  },
  {
   "cell_type": "code",
   "execution_count": 6,
   "metadata": {
    "colab": {
     "autoexec": {
      "startup": false,
      "wait_interval": 0
     }
    },
    "colab_type": "code",
    "id": "ET0w__Jf0QTO"
   },
   "outputs": [],
   "source": [
    "#token = util.prompt_for_user_token(username, scope, client_id, client_secret, redirect_uri)\n",
    "spotify = spotipy.Spotify(auth=token)"
   ]
  },
  {
   "cell_type": "code",
   "execution_count": 7,
   "metadata": {
    "colab": {
     "autoexec": {
      "startup": false,
      "wait_interval": 0
     }
    },
    "colab_type": "code",
    "id": "Fr-ycrIE0QTU"
   },
   "outputs": [],
   "source": [
    "top_50 = spotify.audio_features(tracks=['spotify:track:2XW4DbS6NddZxRPm5rMCeY', #1\n",
    "                                        'spotify:track:2Imq77E6CEJR5TPUxlJvTY', #2\n",
    "                                        'spotify:track:6tHWl8ows5JOZq9Yfaqn3M', #3\n",
    "                                        'spotify:track:4ofvoCdXq99vpMZO4Cfp8x', #4\n",
    "                                        'spotify:track:76cy1WJvNGJTj78UqeA5zr', #5\n",
    "                                        'spotify:track:2U7Hu2RaNQNRi7izoJyZaX', #6\n",
    "                                        'spotify:track:4qKcDkK6siZ7Jp1Jb4m0aL', #7\n",
    "                                        'spotify:track:1rfofaqEpACxVEHIZBJe6W', #8\n",
    "                                        'spotify:track:2j2fIJGh4PMdXt9ULI5Tlc', #9\n",
    "                                        'spotify:track:08bNPGLD8AhKpnnERrAc6G', #10\n",
    "                                        'spotify:track:2ARqIya5NAuvFVHSN3bL0m', #11\n",
    "                                        'spotify:track:5UEnHoDYpsxlfzWLZIc7LD', #12\n",
    "                                        'spotify:track:5CLGzJsGqhCEECcpnFQA8x', #13\n",
    "                                        'spotify:track:3Vo4wInECJQuz9BIBMOu8i', #14\n",
    "                                        'spotify:track:2IKZkwHI5zsZf70STuhvOX', #15\n",
    "                                        'spotify:track:1zsG4eaZmkA1dvjDDsAGLK', #16\n",
    "                                        'spotify:track:4eWQlBRaTjPPUlzacqEeoQ', #17\n",
    "                                        'spotify:track:3ITvHA9zhZZdBJsOsAUegF', #18\n",
    "                                        'spotify:track:2UVbBKQOdFAekPTRsnkzcf', #19\n",
    "                                        'spotify:track:0tgVpDi06FyKpA1z0VMD4v', #20\n",
    "                                        'spotify:track:7EmGUiUaOSGDnUUQUDrOXC', #21\n",
    "                                        'spotify:track:2ekn2ttSfGqwhhate0LSR0', #22\n",
    "                                        'spotify:track:7iDa6hUg2VgEL1o1HjmfBn', #23\n",
    "                                        'spotify:track:5k38wzpLb15YgncyWdTZE4', #24\n",
    "                                        'spotify:track:45Egmo7icyopuzJN0oMEdk', #25\n",
    "                                        'spotify:track:75ZvA4QfFiZvzhj2xkaWAh', #26\n",
    "                                        'spotify:track:5hM6sP0Gh1jD57drszNueC', #27\n",
    "                                        'spotify:track:6mrKP2jyIQmM0rw6fQryjr', #28\n",
    "                                        'spotify:track:51rXHuKN8Loc4sUlKPODgH', #29\n",
    "                                        'spotify:track:4R55IUi2x7S5ek2SpebOiE', #30\n",
    "                                        'spotify:track:5AEtlRudpgdT5FtNiuly6Y', #31\n",
    "                                        'spotify:track:7qiZfU4dY1lWllzX7mPBI3', #32\n",
    "                                        'spotify:track:4lESS6vuruP6a79KWRaQou', #33\n",
    "                                        'spotify:track:2xmrfQpmS2iJExTlklLoAL', #34\n",
    "                                        'spotify:track:2bllegdYt2WoYdbRZyJ730', #35\n",
    "                                        'spotify:track:33bnxcjePIkcmNjEFTJX0l', #36\n",
    "                                        'spotify:track:3Ga6eKrUFf12ouh9Yw3v2D', #37\n",
    "                                        'spotify:track:1LhMopPAallLeaeNutqbgS', #38\n",
    "                                        'spotify:track:6Za3190Sbw39BBC77WSS1C', #39\n",
    "                                        'spotify:track:630sXRhIcfwr2e4RdNtjKN', #40\n",
    "                                        'spotify:track:7vGuf3Y35N4wmASOKLUVVU', #41\n",
    "                                        'spotify:track:6QgjcU0zLnzq5OrUoSZ3OK', #42\n",
    "                                        'spotify:track:5jyyPsIGM2yqkZN9R3TmvN', #43\n",
    "                                        'spotify:track:4nYsmWkuTaowTMy4gskmBw', #44\n",
    "                                        'spotify:track:4nYsmWkuTaowTMy4gskmBw', #45\n",
    "                                        'spotify:track:6QgjcU0zLnzq5OrUoSZ3OK', #46\n",
    "                                        'spotify:track:3VlbOrM6nYPprVvzBZllE5', #47\n",
    "                                        'spotify:track:5VnDkUNyX6u5Sk0yZiP8XB', #48\n",
    "                                        'spotify:track:5hcisvFMidkMJlElTO9Qmw', #49\n",
    "                                        'spotify:track:7GX5flRQZVHRAGd6B4TmDO', #50\n",
    "                                        \n",
    "                                       ])"
   ]
  },
  {
   "cell_type": "code",
   "execution_count": 8,
   "metadata": {
    "colab": {
     "autoexec": {
      "startup": false,
      "wait_interval": 0
     }
    },
    "colab_type": "code",
    "id": "xZfNpDvh0QTh"
   },
   "outputs": [],
   "source": [
    "top_100 = spotify.audio_features(tracks=['spotify:track:0wbnC9AUenxp613TYaJsGK', #51\n",
    "                                         'spotify:track:2vvdTrdryjsl8DmPIMDWZU', #52\n",
    "                                         'spotify:track:7sO5G9EABYOXQKNPNiE9NR', #53\n",
    "                                         'spotify:track:1T575AhHueYinKSDflEsGK', #54\n",
    "                                         'spotify:track:2z4pcBLQXF2BXKFvd0BuB6', #55\n",
    "                                         'spotify:track:7KXjTSCq5nL1LoYtL7XAwS', #56\n",
    "                                         'spotify:track:1bhUWB0zJMIKr9yVPrkEuI', #57\n",
    "                                         'spotify:track:0OlnLZY4cmQzT6ZGttvWBM', #58\n",
    "                                         'spotify:track:5Z3GHaZ6ec9bsiI5BenrbY', #59\n",
    "                                         'spotify:track:6PGoSes0D9eUDeeAafB2As', #60\n",
    "                                         'spotify:track:3a1lNhkSLSkpJE4MSHpDu9', #61\n",
    "                                         'spotify:track:1j4kHkkpqZRBwE0A4CN4Yv', #62\n",
    "                                         'spotify:track:2Xqd0wUttjueBfdcltADOv', #63\n",
    "                                         'spotify:track:6NWl2m8asvH83xjuXVNsuG', #64\n",
    "                                         'spotify:track:7EI6Iki24tBHAMxtb4xQN2', #65\n",
    "                                         'spotify:track:4vKltMFviBKMdhYu3FDLY0', #66\n",
    "                                         'spotify:track:5Y9fnynLlIvqtM710MHzfz', #67\n",
    "                                         'spotify:track:75FDPwaULRdYDn4StFN2rT', #68\n",
    "                                         'spotify:track:32DGGj6KlNuBr6WaqRxpxi', #69\n",
    "                                         'spotify:track:1USJRpWDFhxwhCajPXBeel', #70\n",
    "                                         'spotify:track:42CeaId2XNlxugDvyqHfDf', #71\n",
    "                                         'spotify:track:5cXg9IQS34FzLVdHhp7hu7', #72\n",
    "                                         'spotify:track:6k2900NjJeVqZM55G3Danu', #73\n",
    "                                         'spotify:track:1NtIMM4N0cFa1dNzN15chl', #74\n",
    "                                         'spotify:track:7rwX0O3RlxqqIjQM8evm5E', #75\n",
    "                                         'spotify:track:3B54sVLJ402zGa6Xm4YGNe', #76\n",
    "                                         'spotify:track:6De0lHrwBfPfrhorm9q1Xl', #77\n",
    "                                         'spotify:track:1m69ELEgE6k5ZWsap40ozt', #78\n",
    "                                         'spotify:track:2EzRdhuoPyNJDlep7lnNf2', #79\n",
    "                                         'spotify:track:5WoaF1B5XIEnWfmb5NZikf', #80\n",
    "                                         'spotify:track:43ZyHQITOjhciSUUNPVRHc', #81\n",
    "                                         'spotify:track:2tPcTFiQF9MbVUyjZ3zDhA', #82\n",
    "                                         'spotify:track:2fQrGHiQOvpL9UgPvtYy6G', #83\n",
    "                                         'spotify:track:4ipnJyDU3Lq15qBAYNqlqK', #84\n",
    "                                         'spotify:track:4wFjTWCunQFKtukqrNijEt', #85\n",
    "                                         'spotify:track:1wjzFQodRWrPcQ0AnYnvQ9', #86\n",
    "                                         'spotify:track:3ncgNpxLoBQ65ABk4djDyd', #87\n",
    "                                         'spotify:track:5HwnezK198pJCEj1l2Adjy', #88\n",
    "                                         'spotify:track:4iLqG9SeJSnt0cSPICSjxv', #89\n",
    "                                         'spotify:track:5yFSF6qQA1rcLsQRnBsZgb', #90\n",
    "                                         'spotify:track:6RUKPb4LETWmmr3iAEQktW', #91\n",
    "                                         'spotify:track:5tz69p7tJuGPeMGwNTxYuV', #92\n",
    "                                         'spotify:track:5uCax9HTNlzGybIStD3vDh', #93\n",
    "                                         'spotify:track:4dVpf9jZjcORqGTLUaeYj9', #94\n",
    "                                         'spotify:track:0MIcPSq9n2z5H8TAfEstri', #95\n",
    "                                         'spotify:track:7JNh1cfm0eXjqFVOzKLyau', #96\n",
    "                                         'spotify:track:689uBlyIufk2LUhAwjny4w', #97\n",
    "                                         'spotify:track:3Du2K5dLzmduCNp6uwuaL0', #98\n",
    "                                         'spotify:track:7m9OqQk4RVRkw9JJdeAw96', #99\n",
    "                                         'spotify:track:7krbSH3rd8lhIZvuzTV3Bl', #100\n",
    "                                       ])"
   ]
  },
  {
   "cell_type": "code",
   "execution_count": 9,
   "metadata": {
    "colab": {
     "autoexec": {
      "startup": false,
      "wait_interval": 0
     }
    },
    "colab_type": "code",
    "id": "kLY3orab0QT3"
   },
   "outputs": [],
   "source": [
    "top_150 = spotify.audio_features(tracks=['spotify:track:152lZdxL1OR0ZMW6KquMif', #101\n",
    "                                         'spotify:track:0Zbbxnx4SGGHoIow4PpISP', #102\n",
    "                                         'spotify:track:2771LMNxwf62FTAdpJMQfM', #103\n",
    "                                         'spotify:track:6h5PAsRni4IRlxWr6uDPTP', #104\n",
    "                                         'spotify:track:6n4U3TlzUGhdSFbUUhTvLP', #105\n",
    "                                         'spotify:track:75NhhYjHO43mvZgYtnXgti', #106\n",
    "                                         'spotify:track:1nfyE13arjOuO54HH0zmqj', #107\n",
    "                                         'spotify:track:4hXAdUl4nAnSPc9thzP2E2', #108\n",
    "                                         'spotify:track:0KsB4TwgATg88aXCMBoO3Y', #109\n",
    "                                         'spotify:track:6gBFPUFcJLzWGx4lenP6h2', #110\n",
    "                                         'spotify:track:5qN4HFkapdAOV94XPryVof', #111\n",
    "                                         'spotify:track:4pYZLpX23Vx8rwDpJCpPTA', #112\n",
    "                                         'spotify:track:4ocmZDCb43B5WRYMKZSxhM', #113\n",
    "                                         'spotify:track:6ELe1Do1bYtaCtLqjYTglW', #114\n",
    "                                         'spotify:track:7HdZY9UJTylIiNcSDFyUDc', #115\n",
    "                                         'spotify:track:6jA8JUuPCGYjFcgw0AoM5T', #116\n",
    "                                         'spotify:track:2dIPe4XdBLUsTZGqPIuKXb', #117\n",
    "                                         'spotify:track:7bUcBztfGqO7cSI2gMZeCI', #118\n",
    "                                         'spotify:track:4ylWMuGbMXNDgDd8lErEle', #119\n",
    "                                         'spotify:track:6J1R5wtPXiHiwiPstOSI56', #120\n",
    "                                         'spotify:track:1zi7xx7UVEFkmKfv06H8x0', #121\n",
    "                                         'spotify:track:1x5sYLZiu9r5E43kMlt9f8', #122\n",
    "                                         'spotify:track:0woHVOh3KXLSDv8VU9XwZ4', #123\n",
    "                                         'spotify:track:71T7xF5wLbDRg76jxAwDqA', #124\n",
    "                                         'spotify:track:7BKLCZ1jbUBVqRi2FVlTVw', #125\n",
    "                                         'spotify:track:73NbHgUZ51H65Bfo2HFKUi', #126\n",
    "                                         'spotify:track:6rPO02ozF3bM7NnOV4h6s2', #127\n",
    "                                         'spotify:track:34gCuhDGsG4bRPIf9bb02f', #128\n",
    "                                         'spotify:track:0gCPvo1GkbtPhMqg5Gbx1K', #129\n",
    "                                         'spotify:track:4Ro98RCK90oHqqSZUnTFq5', #130\n",
    "                                         'spotify:track:0KKkJNfGyhkQ5aFogxQAPU', #131\n",
    "                                         'spotify:track:1HNkqx9Ahdgi1Ixy2xkKkL', #132\n",
    "                                         'spotify:track:1yxgsra98r3qAtxqiGZPiX', #133\n",
    "                                         'spotify:track:4DTpngLjoHj5gFxEZFeD3J', #134\n",
    "                                         'spotify:track:0JcNysfWVWaMS7R6vzGB2k', #135\n",
    "                                         'spotify:track:7JJmb5XwzOO8jgpou264Ml', #136\n",
    "                                         'spotify:track:1KSqYYJFyfTecXFk9M0prc', #137\n",
    "                                         'spotify:track:5lZsh9Qf7CbHI9Fcc7Zcsq', #138\n",
    "                                         'spotify:track:0RoA7ObU6phWpqhlC9zH4Z', #139\n",
    "                                         'spotify:track:0ERbK7qVqveCaBWIiYCrl3', #140\n",
    "                                         'spotify:track:0Gl5s8IhMmQE5YQwM8Qx1J', #141\n",
    "                                         'spotify:track:0qYTZCo5Bwh1nsUFGZP3zn', #142\n",
    "                                         'spotify:track:0DJBgBiYeSn6n1AXAkFVE8', #143\n",
    "                                         'spotify:track:70lnL3QaSOIIyMa2X9aVRL', #144\n",
    "                                         'spotify:track:2y5aJvzXhHPA94U5GFAcXe', #145\n",
    "                                         'spotify:track:3whrwq4DtvucphBPUogRuJ', #146\n",
    "                                         'spotify:track:5mCPDVBb16L4XQwDdbRUpz', #147\n",
    "                                         'spotify:track:7vu0JkJh0ldukEYbTVcqd0', #148\n",
    "                                         'spotify:track:5yuShbu70mtHXY0yLzCQLQ', #149\n",
    "                                         'spotify:track:7AQim7LbvFVZJE3O8TYgf2', #150\n",
    "                                       ])"
   ]
  },
  {
   "cell_type": "code",
   "execution_count": 10,
   "metadata": {
    "colab": {
     "autoexec": {
      "startup": false,
      "wait_interval": 0
     }
    },
    "colab_type": "code",
    "id": "Wvj51hWL0QUD"
   },
   "outputs": [],
   "source": [
    "top_200 = spotify.audio_features(tracks=['spotify:track:1XRgIKC5TPwo7nWGyKqgG0', #151\n",
    "                                         'spotify:track:0afhq8XCExXpqazXczTSve', #152\n",
    "                                         'spotify:track:7iNIg7XDEaYECfWD5dJ9Va', #153\n",
    "                                         'spotify:track:1jYiIOC5d6soxkJP81fxq2', #154\n",
    "                                         'spotify:track:0NiXXAI876aGImAd6rTj8w', #155\n",
    "                                         'spotify:track:790MhTXPFrYkrqCKvpg4t1', #156\n",
    "                                         'spotify:track:6HZILIRieu8S0iqY8kIKhj', #157\n",
    "                                         'spotify:track:3OnOomd79OjqSYHchCQ6ht', #158\n",
    "                                         'spotify:track:0RTzJVkunbGwuRjXDFHnjf', #159\n",
    "                                         'spotify:track:0P6AWOA4LG1XOctzaVu5tt', #160\n",
    "                                         'spotify:track:40oKW22ZNNkEdZLJTScaQI', #161\n",
    "                                         'spotify:track:5Z01UMMf7V1o0MzF86s6WJ', #162\n",
    "                                         'spotify:track:3kxfsdsCpFgN412fpnW85Y', #163\n",
    "                                         'spotify:track:45XhKYRRkyeqoW3teSOkCM', #164\n",
    "                                         'spotify:track:2x0WlnmfG39ZuDmstl9xfX', #165\n",
    "                                         'spotify:track:2cKovq3l6OJjhVVDbVKOsr', #166\n",
    "                                         'spotify:track:7MXVkk9YMctZqd1Srtv4MB', #167\n",
    "                                         'spotify:track:0VgkVdmE4gld66l8iyGjgx', #168\n",
    "                                         'spotify:track:6u0EAxf1OJTLS7CvInuNd7', #169\n",
    "                                         'spotify:track:5bcTCxgc7xVfSaMV3RuVke', #170\n",
    "                                         'spotify:track:7uYgVgRSgqluZclLS7wpp4', #171\n",
    "                                         'spotify:track:4lUnFLtn8w3W76FiYDRzmO', #172\n",
    "                                         'spotify:track:0Qh38w01QRXK6KHIv0e3hb', #173\n",
    "                                         'spotify:track:0CokSRCu5hZgPxcZBaEzVE', #174\n",
    "                                         'spotify:track:4QtiVmuA88tPQiCOHZuQ5b', #175\n",
    "                                         'spotify:track:2U5cq89GCnsR1yixKkC8d5', #176\n",
    "                                         'spotify:track:677RjvAT2lpYjo1Whczjzx', #177\n",
    "                                         'spotify:track:0OI7AFifLSoGzpb8bdBLLV', #178\n",
    "                                         'spotify:track:7CUYHcu0RnbOnMz4RuN07w', #179\n",
    "                                         'spotify:track:1OIvYRsglIHhljLmSEXw7k', #180\n",
    "                                         'spotify:track:5wj4E6IsrVtn8IBJQOd0Cl', #181\n",
    "                                         'spotify:track:6kex4EBAj0WHXDKZMEJaaF', #182\n",
    "                                         'spotify:track:7MHN1aCFtLXjownGhvEQlF', #183\n",
    "                                         'spotify:track:4xkOaSrkexMciUUogZKVTS', #184\n",
    "                                         'spotify:track:6lOWoTqVnAWXchddtTH31W', #185\n",
    "                                         'spotify:track:6eT7xZZlB2mwyzJ2sUKG6w', #186\n",
    "                                         'spotify:track:4V6MRo0CEAC9MwAm7dkPuL', #187\n",
    "                                         'spotify:track:3ebXMykcMXOcLeJ9xZ17XH', #188\n",
    "                                         'spotify:track:76iVOVsliCHlWqKuDnCfhE', #189\n",
    "                                         'spotify:track:4KXwFI9pgJLpUIAc9oSL8j', #190\n",
    "                                         'spotify:track:0zl3PdjIl320fK0pxBGWNR', #191\n",
    "                                         'spotify:track:2m2ZGfJcs3lHWNPzhWH3XH', #192\n",
    "                                         'spotify:track:3U4isOIWM3VvDubwSI3y7a', #193\n",
    "                                         'spotify:track:7F9vK8hNFMml4GtHsaXui6', #194\n",
    "                                         'spotify:track:7y9iMe8SOB6z3NoHE2OfXl', #195\n",
    "                                         'spotify:track:7oK9VyNzrYvRFo7nQEYkWN', #196\n",
    "                                         'spotify:track:5goGDc74vVREyN8al8CkPh', #197\n",
    "                                         'spotify:track:5IKOXYnhzrLxqhlI0btiaa', #198\n",
    "                                         'spotify:track:2RttW7RAu5nOAfq6YFvApB', #199\n",
    "                                         'spotify:track:6Pgkp4qUoTmJIPn7ReaGxL', #200\n",
    "                                       ])"
   ]
  },
  {
   "cell_type": "code",
   "execution_count": 11,
   "metadata": {
    "colab": {
     "autoexec": {
      "startup": false,
      "wait_interval": 0
     }
    },
    "colab_type": "code",
    "id": "wIr0794z0QUH"
   },
   "outputs": [],
   "source": [
    "df_0_50 = pd.DataFrame.from_dict(top_50)\n",
    "df_50_100 = pd.DataFrame.from_dict(top_100)\n",
    "df_100_150 = pd.DataFrame.from_dict(top_150)\n",
    "df_150_200 = pd.DataFrame.from_dict(top_200)"
   ]
  },
  {
   "cell_type": "code",
   "execution_count": 12,
   "metadata": {
    "colab": {
     "autoexec": {
      "startup": false,
      "wait_interval": 0
     },
     "output_extras": [
      {}
     ]
    },
    "colab_type": "code",
    "id": "bmZUZuQD0QUS",
    "outputId": "4fad3cf2-10ea-404e-ca32-d735cd3db5a8"
   },
   "outputs": [
    {
     "data": {
      "text/html": [
       "<div>\n",
       "<style>\n",
       "    .dataframe thead tr:only-child th {\n",
       "        text-align: right;\n",
       "    }\n",
       "\n",
       "    .dataframe thead th {\n",
       "        text-align: left;\n",
       "    }\n",
       "\n",
       "    .dataframe tbody tr th {\n",
       "        vertical-align: top;\n",
       "    }\n",
       "</style>\n",
       "<table border=\"1\" class=\"dataframe\">\n",
       "  <thead>\n",
       "    <tr style=\"text-align: right;\">\n",
       "      <th></th>\n",
       "      <th>acousticness</th>\n",
       "      <th>analysis_url</th>\n",
       "      <th>danceability</th>\n",
       "      <th>duration_ms</th>\n",
       "      <th>energy</th>\n",
       "      <th>id</th>\n",
       "      <th>instrumentalness</th>\n",
       "      <th>key</th>\n",
       "      <th>liveness</th>\n",
       "      <th>loudness</th>\n",
       "      <th>mode</th>\n",
       "      <th>speechiness</th>\n",
       "      <th>tempo</th>\n",
       "      <th>time_signature</th>\n",
       "      <th>track_href</th>\n",
       "      <th>type</th>\n",
       "      <th>uri</th>\n",
       "      <th>valence</th>\n",
       "    </tr>\n",
       "  </thead>\n",
       "  <tbody>\n",
       "    <tr>\n",
       "      <th>0</th>\n",
       "      <td>0.0244</td>\n",
       "      <td>https://api.spotify.com/v1/audio-analysis/2XW4...</td>\n",
       "      <td>0.753</td>\n",
       "      <td>198960</td>\n",
       "      <td>0.454</td>\n",
       "      <td>2XW4DbS6NddZxRPm5rMCeY</td>\n",
       "      <td>0.000056</td>\n",
       "      <td>7</td>\n",
       "      <td>0.4980</td>\n",
       "      <td>-9.488</td>\n",
       "      <td>1</td>\n",
       "      <td>0.0963</td>\n",
       "      <td>77.170</td>\n",
       "      <td>4</td>\n",
       "      <td>https://api.spotify.com/v1/tracks/2XW4DbS6NddZ...</td>\n",
       "      <td>audio_features</td>\n",
       "      <td>spotify:track:2XW4DbS6NddZxRPm5rMCeY</td>\n",
       "      <td>0.344</td>\n",
       "    </tr>\n",
       "    <tr>\n",
       "      <th>1</th>\n",
       "      <td>0.0548</td>\n",
       "      <td>https://api.spotify.com/v1/audio-analysis/2Imq...</td>\n",
       "      <td>0.532</td>\n",
       "      <td>232187</td>\n",
       "      <td>0.642</td>\n",
       "      <td>2Imq77E6CEJR5TPUxlJvTY</td>\n",
       "      <td>0.000246</td>\n",
       "      <td>5</td>\n",
       "      <td>0.0991</td>\n",
       "      <td>-4.891</td>\n",
       "      <td>0</td>\n",
       "      <td>0.1110</td>\n",
       "      <td>193.016</td>\n",
       "      <td>4</td>\n",
       "      <td>https://api.spotify.com/v1/tracks/2Imq77E6CEJR...</td>\n",
       "      <td>audio_features</td>\n",
       "      <td>spotify:track:2Imq77E6CEJR5TPUxlJvTY</td>\n",
       "      <td>0.536</td>\n",
       "    </tr>\n",
       "    <tr>\n",
       "      <th>2</th>\n",
       "      <td>0.0140</td>\n",
       "      <td>https://api.spotify.com/v1/audio-analysis/6tHW...</td>\n",
       "      <td>0.716</td>\n",
       "      <td>133995</td>\n",
       "      <td>0.805</td>\n",
       "      <td>6tHWl8ows5JOZq9Yfaqn3M</td>\n",
       "      <td>0.000003</td>\n",
       "      <td>4</td>\n",
       "      <td>0.2910</td>\n",
       "      <td>-3.839</td>\n",
       "      <td>1</td>\n",
       "      <td>0.0856</td>\n",
       "      <td>142.886</td>\n",
       "      <td>4</td>\n",
       "      <td>https://api.spotify.com/v1/tracks/6tHWl8ows5JO...</td>\n",
       "      <td>audio_features</td>\n",
       "      <td>spotify:track:6tHWl8ows5JOZq9Yfaqn3M</td>\n",
       "      <td>0.719</td>\n",
       "    </tr>\n",
       "  </tbody>\n",
       "</table>\n",
       "</div>"
      ],
      "text/plain": [
       "   acousticness                                       analysis_url  \\\n",
       "0        0.0244  https://api.spotify.com/v1/audio-analysis/2XW4...   \n",
       "1        0.0548  https://api.spotify.com/v1/audio-analysis/2Imq...   \n",
       "2        0.0140  https://api.spotify.com/v1/audio-analysis/6tHW...   \n",
       "\n",
       "   danceability  duration_ms  energy                      id  \\\n",
       "0         0.753       198960   0.454  2XW4DbS6NddZxRPm5rMCeY   \n",
       "1         0.532       232187   0.642  2Imq77E6CEJR5TPUxlJvTY   \n",
       "2         0.716       133995   0.805  6tHWl8ows5JOZq9Yfaqn3M   \n",
       "\n",
       "   instrumentalness  key  liveness  loudness  mode  speechiness    tempo  \\\n",
       "0          0.000056    7    0.4980    -9.488     1       0.0963   77.170   \n",
       "1          0.000246    5    0.0991    -4.891     0       0.1110  193.016   \n",
       "2          0.000003    4    0.2910    -3.839     1       0.0856  142.886   \n",
       "\n",
       "   time_signature                                         track_href  \\\n",
       "0               4  https://api.spotify.com/v1/tracks/2XW4DbS6NddZ...   \n",
       "1               4  https://api.spotify.com/v1/tracks/2Imq77E6CEJR...   \n",
       "2               4  https://api.spotify.com/v1/tracks/6tHWl8ows5JO...   \n",
       "\n",
       "             type                                   uri  valence  \n",
       "0  audio_features  spotify:track:2XW4DbS6NddZxRPm5rMCeY    0.344  \n",
       "1  audio_features  spotify:track:2Imq77E6CEJR5TPUxlJvTY    0.536  \n",
       "2  audio_features  spotify:track:6tHWl8ows5JOZq9Yfaqn3M    0.719  "
      ]
     },
     "execution_count": 12,
     "metadata": {},
     "output_type": "execute_result"
    }
   ],
   "source": [
    "df_0_50.head(3)"
   ]
  },
  {
   "cell_type": "code",
   "execution_count": 13,
   "metadata": {
    "colab": {
     "autoexec": {
      "startup": false,
      "wait_interval": 0
     }
    },
    "colab_type": "code",
    "id": "jzCnRAbO0QUl"
   },
   "outputs": [],
   "source": [
    "df_0_50.to_csv('dat_0_50.csv')\n",
    "df_50_100.to_csv('dat_50_100.csv')\n",
    "df_100_150.to_csv('dat_100_150.csv')\n",
    "df_150_200.to_csv('dat_150_200.csv')"
   ]
  },
  {
   "cell_type": "code",
   "execution_count": null,
   "metadata": {},
   "outputs": [],
   "source": []
  }
 ],
 "metadata": {
  "colab": {
   "default_view": {},
   "name": "spotify_data_scrape.ipynb",
   "provenance": [],
   "version": "0.3.2",
   "views": {}
  },
  "kernelspec": {
   "display_name": "Python 3",
   "language": "python",
   "name": "python3"
  },
  "language_info": {
   "codemirror_mode": {
    "name": "ipython",
    "version": 3
   },
   "file_extension": ".py",
   "mimetype": "text/x-python",
   "name": "python",
   "nbconvert_exporter": "python",
   "pygments_lexer": "ipython3",
   "version": "3.6.3"
  }
 },
 "nbformat": 4,
 "nbformat_minor": 2
}
