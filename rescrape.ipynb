{
 "cells": [
  {
   "cell_type": "code",
   "execution_count": 1,
   "metadata": {},
   "outputs": [],
   "source": [
    "import spotipy\n",
    "import spotipy.oauth2\n",
    "import spotipy.util as util\n",
    "import pandas as pd\n",
    "import numpy as np"
   ]
  },
  {
   "cell_type": "code",
   "execution_count": 2,
   "metadata": {},
   "outputs": [],
   "source": [
    "import os\n",
    "from json.decoder import JSONDecodeError\n",
    "#username = 'rickypan'\n",
    "#client_id = '23888f5deee6452db5d78bd2d1091da5'\n",
    "#client_secret = '3913dc71d36b410699ce56ca2b66b9d2'\n",
    "#redirect_uri = 'http://localhost:8080/callback/'\n",
    "#scope = None"
   ]
  },
  {
   "cell_type": "code",
   "execution_count": 3,
   "metadata": {},
   "outputs": [],
   "source": [
    "def get_songs(playlists):\n",
    "    song_ids = []\n",
    "    for j in spotify.user_playlist('spotify', playlists)['tracks']['items']:\n",
    "        song_ids.append(j['track']['id'])\n",
    "    return(song_ids)"
   ]
  },
  {
   "cell_type": "code",
   "execution_count": 4,
   "metadata": {},
   "outputs": [],
   "source": [
    "#credentials = spotipy.oauth2.SpotifyClientCredentials(\n",
    "#        client_id='23888f5deee6452db5d78bd2d1091da5',\n",
    "#        client_secret='f6ecea7a89d24b02b2c969745b88a9db')\n",
    "\n",
    "#token = credentials.get_access_token()"
   ]
  },
  {
   "cell_type": "code",
   "execution_count": 5,
   "metadata": {},
   "outputs": [],
   "source": [
    "username = 'rickypan'\n",
    "scope = \"user-read-currently-playing\"\n",
    "redirect_uri = 'http://localhost/callback'\n",
    "CLIENT_ID = '23888f5deee6452db5d78bd2d1091da5'\n",
    "CLIENT_SECRET = 'f6ecea7a89d24b02b2c969745b88a9db'"
   ]
  },
  {
   "cell_type": "code",
   "execution_count": 66,
   "metadata": {},
   "outputs": [
    {
     "name": "stdout",
     "output_type": "stream",
     "text": [
      "\n",
      "\n",
      "            User authentication requires interaction with your\n",
      "            web browser. Once you enter your credentials and\n",
      "            give authorization, you will be redirected to\n",
      "            a url.  Paste that url you were directed to to\n",
      "            complete the authorization.\n",
      "\n",
      "        \n",
      "Opened https://accounts.spotify.com/authorize?client_id=23888f5deee6452db5d78bd2d1091da5&response_type=code&redirect_uri=http%3A%2F%2Flocalhost%2Fcallback&scope=user-read-currently-playing in your browser\n",
      "\n",
      "\n",
      "\n",
      "\n"
     ]
    }
   ],
   "source": [
    "token = util.prompt_for_user_token(username, scope, CLIENT_ID, CLIENT_SECRET, redirect_uri)"
   ]
  },
  {
   "cell_type": "code",
   "execution_count": 67,
   "metadata": {},
   "outputs": [],
   "source": [
    "spotify = spotipy.Spotify(auth=token)"
   ]
  },
  {
   "cell_type": "code",
   "execution_count": 68,
   "metadata": {},
   "outputs": [],
   "source": [
    "playlist = 'spotify:user:1221028518:playlist:2YRe7HRKNRvXdJBp9nXFza'\n",
    "username = '1221028518'"
   ]
  },
  {
   "cell_type": "code",
   "execution_count": 9,
   "metadata": {},
   "outputs": [],
   "source": [
    "def get_playlist_tracks(username,playlist_id):\n",
    "    results = spotify.user_playlist_tracks(username,playlist_id)\n",
    "    tracks = results['items']\n",
    "    while results['next']:\n",
    "        results = spotify.next(results)\n",
    "        tracks.extend(results['items'])\n",
    "    return tracks"
   ]
  },
  {
   "cell_type": "code",
   "execution_count": 10,
   "metadata": {},
   "outputs": [
    {
     "data": {
      "text/plain": [
       "92"
      ]
     },
     "execution_count": 10,
     "metadata": {},
     "output_type": "execute_result"
    }
   ],
   "source": [
    "get_playlist_tracks('1221028518', playlist)[0]['track']['popularity'] #testing"
   ]
  },
  {
   "cell_type": "code",
   "execution_count": 11,
   "metadata": {},
   "outputs": [
    {
     "data": {
      "text/plain": [
       "'spotify:track:7qiZfU4dY1lWllzX7mPBI3'"
      ]
     },
     "execution_count": 11,
     "metadata": {},
     "output_type": "execute_result"
    }
   ],
   "source": [
    "get_playlist_tracks('1221028518', playlist)[0]['track']['uri'] #testing"
   ]
  },
  {
   "cell_type": "code",
   "execution_count": 12,
   "metadata": {},
   "outputs": [
    {
     "data": {
      "text/plain": [
       "'Shape of You'"
      ]
     },
     "execution_count": 12,
     "metadata": {},
     "output_type": "execute_result"
    }
   ],
   "source": [
    "get_playlist_tracks('1221028518', playlist)[0]['track']['name'] #testing"
   ]
  },
  {
   "cell_type": "code",
   "execution_count": 13,
   "metadata": {},
   "outputs": [
    {
     "data": {
      "text/plain": [
       "'Ed Sheeran'"
      ]
     },
     "execution_count": 13,
     "metadata": {},
     "output_type": "execute_result"
    }
   ],
   "source": [
    "get_playlist_tracks('1221028518', playlist)[0]['track']['artists'][0]['name'] #testing"
   ]
  },
  {
   "cell_type": "code",
   "execution_count": 14,
   "metadata": {},
   "outputs": [],
   "source": [
    "playlist_songs = get_playlist_tracks('1221028518', playlist) "
   ]
  },
  {
   "cell_type": "code",
   "execution_count": 15,
   "metadata": {},
   "outputs": [
    {
     "data": {
      "text/plain": [
       "['pop', 'tropical house']"
      ]
     },
     "execution_count": 15,
     "metadata": {},
     "output_type": "execute_result"
    }
   ],
   "source": [
    "spotify.artist(playlist_songs[2]['track']['artists'][0]['uri'])['genres']"
   ]
  },
  {
   "cell_type": "code",
   "execution_count": 16,
   "metadata": {},
   "outputs": [],
   "source": [
    "def get_feats(the_playlist, limit_num, offset_num):\n",
    "    song_uris = []\n",
    "    for i in range(offset_num, offset_num + limit_num):\n",
    "        if i >= len(the_playlist):\n",
    "            break\n",
    "        curr_uri = the_playlist[i]['track']['uri']\n",
    "        song_uris.append(curr_uri)\n",
    "    song_feats = spotify.audio_features(tracks = song_uris)\n",
    "    return(song_feats)"
   ]
  },
  {
   "cell_type": "code",
   "execution_count": 17,
   "metadata": {},
   "outputs": [],
   "source": [
    "top_0_100 = get_feats(playlist_songs, limit_num = 100, offset_num = 0)\n",
    "top_100_200 = get_feats(playlist_songs, limit_num = 100, offset_num = 100)\n",
    "top_200_300 = get_feats(playlist_songs, limit_num = 100, offset_num = 200)\n",
    "top_300_400 = get_feats(playlist_songs, limit_num = 100, offset_num = 300)\n",
    "top_400_500 = get_feats(playlist_songs, limit_num = 100, offset_num = 400)\n",
    "top_500_600 = get_feats(playlist_songs, limit_num = 100, offset_num = 500)"
   ]
  },
  {
   "cell_type": "code",
   "execution_count": 18,
   "metadata": {},
   "outputs": [],
   "source": [
    "df_0_100 = pd.DataFrame.from_dict(top_0_100)\n",
    "df_100_200 = pd.DataFrame.from_dict(top_100_200)\n",
    "df_200_300 = pd.DataFrame.from_dict(top_200_300)\n",
    "df_300_400 = pd.DataFrame.from_dict(top_300_400)\n",
    "df_400_500 = pd.DataFrame.from_dict(top_400_500)\n",
    "df_500_600 = pd.DataFrame.from_dict(top_500_600)"
   ]
  },
  {
   "cell_type": "code",
   "execution_count": 75,
   "metadata": {},
   "outputs": [],
   "source": [
    "dat_all = pd.concat([df_0_100, df_100_200, df_200_300, df_300_400, df_400_500, df_500_600])"
   ]
  },
  {
   "cell_type": "code",
   "execution_count": 76,
   "metadata": {},
   "outputs": [],
   "source": [
    "pop_lst = []\n",
    "artist_name_lst = []\n",
    "song_name_lst = []\n",
    "genre_lst = []\n",
    "\n",
    "for i in range(0, len(dat_all)):\n",
    "    curr_pop = playlist_songs[i]['track']['popularity']\n",
    "    curr_song = playlist_songs[i]['track']['name']\n",
    "    curr_name = playlist_songs[i]['track']['artists'][0]['name']\n",
    "    curr_genre = spotify.artist(playlist_songs[i]['track']['artists'][0]['uri'])['genres']\n",
    "    \n",
    "    pop_lst.append(curr_pop)\n",
    "    song_name_lst.append(curr_song)\n",
    "    artist_name_lst.append(curr_name)\n",
    "    genre_lst.append(curr_genre)\n",
    "\n",
    "    \n",
    "dat_all['popularity'] = pop_lst\n",
    "dat_all['song'] = song_name_lst\n",
    "dat_all['artist'] = artist_name_lst\n",
    "dat_all['genre'] = genre_lst"
   ]
  },
  {
   "cell_type": "code",
   "execution_count": 77,
   "metadata": {},
   "outputs": [],
   "source": [
    "dat_copy = dat_all.copy()"
   ]
  },
  {
   "cell_type": "code",
   "execution_count": 83,
   "metadata": {},
   "outputs": [
    {
     "data": {
      "text/html": [
       "<div>\n",
       "<style>\n",
       "    .dataframe thead tr:only-child th {\n",
       "        text-align: right;\n",
       "    }\n",
       "\n",
       "    .dataframe thead th {\n",
       "        text-align: left;\n",
       "    }\n",
       "\n",
       "    .dataframe tbody tr th {\n",
       "        vertical-align: top;\n",
       "    }\n",
       "</style>\n",
       "<table border=\"1\" class=\"dataframe\">\n",
       "  <thead>\n",
       "    <tr style=\"text-align: right;\">\n",
       "      <th></th>\n",
       "      <th>acousticness</th>\n",
       "      <th>analysis_url</th>\n",
       "      <th>danceability</th>\n",
       "      <th>duration_ms</th>\n",
       "      <th>energy</th>\n",
       "      <th>id</th>\n",
       "      <th>instrumentalness</th>\n",
       "      <th>key</th>\n",
       "      <th>liveness</th>\n",
       "      <th>loudness</th>\n",
       "      <th>...</th>\n",
       "      <th>tempo</th>\n",
       "      <th>time_signature</th>\n",
       "      <th>track_href</th>\n",
       "      <th>type</th>\n",
       "      <th>uri</th>\n",
       "      <th>valence</th>\n",
       "      <th>popularity</th>\n",
       "      <th>song</th>\n",
       "      <th>artist</th>\n",
       "      <th>genre</th>\n",
       "    </tr>\n",
       "  </thead>\n",
       "  <tbody>\n",
       "    <tr>\n",
       "      <th>0</th>\n",
       "      <td>0.58100</td>\n",
       "      <td>https://api.spotify.com/v1/audio-analysis/7qiZ...</td>\n",
       "      <td>0.825</td>\n",
       "      <td>233713</td>\n",
       "      <td>0.652</td>\n",
       "      <td>7qiZfU4dY1lWllzX7mPBI3</td>\n",
       "      <td>0.00000</td>\n",
       "      <td>1</td>\n",
       "      <td>0.0931</td>\n",
       "      <td>-3.183</td>\n",
       "      <td>...</td>\n",
       "      <td>95.977</td>\n",
       "      <td>4</td>\n",
       "      <td>https://api.spotify.com/v1/tracks/7qiZfU4dY1lW...</td>\n",
       "      <td>audio_features</td>\n",
       "      <td>spotify:track:7qiZfU4dY1lWllzX7mPBI3</td>\n",
       "      <td>0.931</td>\n",
       "      <td>92</td>\n",
       "      <td>Shape of You</td>\n",
       "      <td>Ed Sheeran</td>\n",
       "      <td>[pop]</td>\n",
       "    </tr>\n",
       "    <tr>\n",
       "      <th>1</th>\n",
       "      <td>0.00902</td>\n",
       "      <td>https://api.spotify.com/v1/audio-analysis/12VW...</td>\n",
       "      <td>0.785</td>\n",
       "      <td>173987</td>\n",
       "      <td>0.617</td>\n",
       "      <td>12VWzyPDBCc8fqeWCAfNwR</td>\n",
       "      <td>0.00246</td>\n",
       "      <td>1</td>\n",
       "      <td>0.3510</td>\n",
       "      <td>-5.871</td>\n",
       "      <td>...</td>\n",
       "      <td>103.981</td>\n",
       "      <td>4</td>\n",
       "      <td>https://api.spotify.com/v1/tracks/12VWzyPDBCc8...</td>\n",
       "      <td>audio_features</td>\n",
       "      <td>spotify:track:12VWzyPDBCc8fqeWCAfNwR</td>\n",
       "      <td>0.382</td>\n",
       "      <td>74</td>\n",
       "      <td>One Dance</td>\n",
       "      <td>Drake</td>\n",
       "      <td>[canadian pop, hip hop, pop rap, rap]</td>\n",
       "    </tr>\n",
       "    <tr>\n",
       "      <th>2</th>\n",
       "      <td>0.41500</td>\n",
       "      <td>https://api.spotify.com/v1/audio-analysis/7crM...</td>\n",
       "      <td>0.736</td>\n",
       "      <td>245507</td>\n",
       "      <td>0.541</td>\n",
       "      <td>7crMiinWx373rNBZBaVske</td>\n",
       "      <td>0.00000</td>\n",
       "      <td>8</td>\n",
       "      <td>0.1100</td>\n",
       "      <td>-5.597</td>\n",
       "      <td>...</td>\n",
       "      <td>94.962</td>\n",
       "      <td>4</td>\n",
       "      <td>https://api.spotify.com/v1/tracks/7crMiinWx373...</td>\n",
       "      <td>audio_features</td>\n",
       "      <td>spotify:track:7crMiinWx373rNBZBaVske</td>\n",
       "      <td>0.662</td>\n",
       "      <td>65</td>\n",
       "      <td>Closer</td>\n",
       "      <td>The Chainsmokers</td>\n",
       "      <td>[pop, tropical house]</td>\n",
       "    </tr>\n",
       "  </tbody>\n",
       "</table>\n",
       "<p>3 rows × 22 columns</p>\n",
       "</div>"
      ],
      "text/plain": [
       "   acousticness                                       analysis_url  \\\n",
       "0       0.58100  https://api.spotify.com/v1/audio-analysis/7qiZ...   \n",
       "1       0.00902  https://api.spotify.com/v1/audio-analysis/12VW...   \n",
       "2       0.41500  https://api.spotify.com/v1/audio-analysis/7crM...   \n",
       "\n",
       "   danceability  duration_ms  energy                      id  \\\n",
       "0         0.825       233713   0.652  7qiZfU4dY1lWllzX7mPBI3   \n",
       "1         0.785       173987   0.617  12VWzyPDBCc8fqeWCAfNwR   \n",
       "2         0.736       245507   0.541  7crMiinWx373rNBZBaVske   \n",
       "\n",
       "   instrumentalness  key  liveness  loudness  \\\n",
       "0           0.00000    1    0.0931    -3.183   \n",
       "1           0.00246    1    0.3510    -5.871   \n",
       "2           0.00000    8    0.1100    -5.597   \n",
       "\n",
       "                   ...                      tempo  time_signature  \\\n",
       "0                  ...                     95.977               4   \n",
       "1                  ...                    103.981               4   \n",
       "2                  ...                     94.962               4   \n",
       "\n",
       "                                          track_href            type  \\\n",
       "0  https://api.spotify.com/v1/tracks/7qiZfU4dY1lW...  audio_features   \n",
       "1  https://api.spotify.com/v1/tracks/12VWzyPDBCc8...  audio_features   \n",
       "2  https://api.spotify.com/v1/tracks/7crMiinWx373...  audio_features   \n",
       "\n",
       "                                    uri valence popularity          song  \\\n",
       "0  spotify:track:7qiZfU4dY1lWllzX7mPBI3   0.931         92  Shape of You   \n",
       "1  spotify:track:12VWzyPDBCc8fqeWCAfNwR   0.382         74     One Dance   \n",
       "2  spotify:track:7crMiinWx373rNBZBaVske   0.662         65        Closer   \n",
       "\n",
       "             artist                                  genre  \n",
       "0        Ed Sheeran                                  [pop]  \n",
       "1             Drake  [canadian pop, hip hop, pop rap, rap]  \n",
       "2  The Chainsmokers                  [pop, tropical house]  \n",
       "\n",
       "[3 rows x 22 columns]"
      ]
     },
     "execution_count": 83,
     "metadata": {},
     "output_type": "execute_result"
    }
   ],
   "source": [
    "dat_copy.head(3)"
   ]
  },
  {
   "cell_type": "code",
   "execution_count": 84,
   "metadata": {},
   "outputs": [],
   "source": [
    "dat_all = dat_copy"
   ]
  },
  {
   "cell_type": "code",
   "execution_count": 86,
   "metadata": {},
   "outputs": [
    {
     "name": "stderr",
     "output_type": "stream",
     "text": [
      "/home/ricky/anaconda3/lib/python3.6/site-packages/pandas/core/indexing.py:179: SettingWithCopyWarning: \n",
      "A value is trying to be set on a copy of a slice from a DataFrame\n",
      "\n",
      "See the caveats in the documentation: http://pandas.pydata.org/pandas-docs/stable/indexing.html#indexing-view-versus-copy\n",
      "  self._setitem_with_indexer(indexer, value)\n"
     ]
    }
   ],
   "source": [
    "for i in range(0, len(dat_all)):\n",
    "    \n",
    "    if (not dat_all['genre'].iloc[i]) or (dat_all['genre'].iloc[i] == []) or (dat_all['genre'].iloc[i] == None): #if empty list then missing genre \n",
    "        dat_all['genre'].iloc[i] = 'Unknown'\n",
    "        \n",
    "    elif ('latino' in dat_all['genre'].iloc[i]) or ('trap latino' in dat_all['genre'].iloc[i]) or ('latin' in dat_all['genre'].iloc[i]) or ('hispanic' in dat_all['genre'].iloc[i]) or ('latin pop' in dat_all['genre'].iloc[i]):\n",
    "        dat_all['genre'].iloc[i] = 'latino'  \n",
    "    elif ('french rock' in dat_all['genre'].iloc[i]) or ('french indie pop' in dat_all['genre'].iloc[i]):\n",
    "        dat_all['genre'].iloc[i] = 'French'\n",
    "    elif ('k-hop' in dat_all['genre'].iloc[i]) or ('k-pop' in dat_all['genre'].iloc[i]):\n",
    "        dat_all['genre'].iloc[i] = 'Korean'\n",
    "    elif 'german pop' in dat_all['genre'].iloc[i]:\n",
    "        dat_all['genre'].iloc[i] = 'German'\n",
    "    elif ('edm' in dat_all['genre'].iloc[i]) or ('electro' in dat_all['genre'].iloc[i]) or ('electronic' in dat_all['genre'].iloc[i]):\n",
    "        dat_all['genre'].iloc[i] = 'electronic'  \n",
    "    elif ('deep house' in dat_all['genre'].iloc[i]) or ('swedish house' in dat_all['genre'].iloc[i]) or ('progressive electro house' in dat_all['genre'].iloc[i]) or ('deep tropical house' in dat_all['genre'].iloc[i]) or ('tropical house' in dat_all['genre'].iloc[i]):\n",
    "        dat_all['genre'].iloc[i] = 'house'\n",
    "    elif ('folk-pop' in dat_all['genre'].iloc[i]) or ('folk' in dat_all['genre'].iloc[i]):\n",
    "        dat_all['genre'].iloc[i] = 'folk'  \n",
    "    elif ('indie' in dat_all['genre'].iloc[i]) or ('indie pop' in dat_all['genre'].iloc[i]) or ('indie optimism' in dat_all['genre'].iloc[i]) or ('indietronica' in dat_all['genre'].iloc[i]) or ('indie folk' in dat_all['genre'].iloc[i]) or ('la indie' in dat_all['genre'].iloc[i]):\n",
    "        dat_all['genre'].iloc[i] = 'indie'\n",
    "    elif ('alternative metal' in dat_all['genre'].iloc[i]) or ('nu metal' in dat_all['genre'].iloc[i]) or ('rap metal' in dat_all['genre'].iloc[i]):\n",
    "        dat_all['genre'].iloc[i] = 'metal'\n",
    "    elif 'hip hop' in dat_all['genre'].iloc[i]:\n",
    "        dat_all['genre'].iloc[i] = 'hip hop'\n",
    "    elif ('rap' in dat_all['genre'].iloc[i]) or ('pop rap' in dat_all['genre'].iloc[i]):\n",
    "        dat_all['genre'].iloc[i] = 'rap'\n",
    "    elif ('pop punk' in dat_all['genre'].iloc[i]) or ('punk' in dat_all['genre'].iloc[i]):\n",
    "        dat_all['genre'].iloc[i] = 'punk'\n",
    "    elif ('rock' in dat_all['genre'].iloc[i]) or ('modern rock' in dat_all['genre'].iloc[i]) or ('australian alternative rock' in dat_all['genre'].iloc[i]):\n",
    "        dat_all['genre'].iloc[i] = 'rock'\n",
    "    elif ('alternative r&b' in dat_all['genre'].iloc[i]) or ('r&b' in dat_all['genre'].iloc[i]) or ('indie r&b' in dat_all['genre'].iloc[i]):\n",
    "        dat_all['genre'].iloc[i] = 'r&b'\n",
    "    elif 'emo' in dat_all['genre'].iloc[i]:\n",
    "        dat_all['genre'].iloc[i] = 'emo'\n",
    "        \n",
    "    elif 'pop' or 'pop rock' in dat_all['genre'].iloc[i]:\n",
    "        dat_all['genre'].iloc[i] = 'pop' #big catch all\n",
    "    \n",
    "    elif len(dat_all['genre'].iloc[i]) == 1:\n",
    "        dat_all['genre'].iloc[i] = dat_all['genre'].iloc[i][0] #if 1 genre keep genre"
   ]
  },
  {
   "cell_type": "code",
   "execution_count": 87,
   "metadata": {},
   "outputs": [
    {
     "data": {
      "text/plain": [
       "array(['French', 'German', 'Korean', 'Unknown', 'electronic', 'folk',\n",
       "       'hip hop', 'house', 'indie', 'latino', 'metal', 'pop', 'punk',\n",
       "       'r&b', 'rap', 'rock'], dtype=object)"
      ]
     },
     "execution_count": 87,
     "metadata": {},
     "output_type": "execute_result"
    }
   ],
   "source": [
    "np.unique(dat_all.genre)"
   ]
  },
  {
   "cell_type": "code",
   "execution_count": 93,
   "metadata": {},
   "outputs": [],
   "source": [
    "#only run this to output csv\n",
    "dat_all.to_csv('top_all_time.csv')"
   ]
  }
 ],
 "metadata": {
  "kernelspec": {
   "display_name": "Python 3",
   "language": "python",
   "name": "python3"
  },
  "language_info": {
   "codemirror_mode": {
    "name": "ipython",
    "version": 3
   },
   "file_extension": ".py",
   "mimetype": "text/x-python",
   "name": "python",
   "nbconvert_exporter": "python",
   "pygments_lexer": "ipython3",
   "version": "3.6.3"
  }
 },
 "nbformat": 4,
 "nbformat_minor": 2
}
